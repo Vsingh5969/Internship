{
 "cells": [
  {
   "cell_type": "code",
   "execution_count": 176,
   "id": "1135a698",
   "metadata": {},
   "outputs": [],
   "source": [
    "import pandas as pd \n",
    "import numpy as np \n",
    "import requests\n",
    "from bs4 import BeautifulSoup"
   ]
  },
  {
   "cell_type": "code",
   "execution_count": 177,
   "id": "f96c10cb",
   "metadata": {},
   "outputs": [],
   "source": [
    "url=\"https://www.icc-cricket.com/rankings/womens/team-rankings/odi\""
   ]
  },
  {
   "cell_type": "code",
   "execution_count": 178,
   "id": "c9cee405",
   "metadata": {},
   "outputs": [],
   "source": [
    "respons=requests.get(url)"
   ]
  },
  {
   "cell_type": "code",
   "execution_count": 179,
   "id": "4fd4d3e0",
   "metadata": {},
   "outputs": [
    {
     "data": {
      "text/plain": [
       "<Response [200]>"
      ]
     },
     "execution_count": 179,
     "metadata": {},
     "output_type": "execute_result"
    }
   ],
   "source": [
    "respons"
   ]
  },
  {
   "cell_type": "code",
   "execution_count": 180,
   "id": "cfb22b75",
   "metadata": {},
   "outputs": [],
   "source": [
    "soup=BeautifulSoup(respons.content,'html.parser')\n",
    " "
   ]
  },
  {
   "cell_type": "code",
   "execution_count": 181,
   "id": "f34a6085",
   "metadata": {},
   "outputs": [],
   "source": [
    "team=[]\n",
    "for t in soup.find_all('span',class_=\"u-hide-phablet\"):\n",
    "    v=t.text\n",
    "    teams.append(v)\n",
    "    \n"
   ]
  },
  {
   "cell_type": "code",
   "execution_count": 182,
   "id": "d77b2148",
   "metadata": {},
   "outputs": [
    {
     "data": {
      "text/plain": [
       "['Australia',\n",
       " 'South Africa',\n",
       " 'England',\n",
       " 'India',\n",
       " 'New Zealand',\n",
       " 'West Indies',\n",
       " 'Bangladesh',\n",
       " 'Pakistan',\n",
       " 'Sri Lanka',\n",
       " 'Ireland',\n",
       " 'Zimbabwe']"
      ]
     },
     "execution_count": 182,
     "metadata": {},
     "output_type": "execute_result"
    }
   ],
   "source": [
    "team=teams[0:11]\n",
    "team"
   ]
  },
  {
   "cell_type": "code",
   "execution_count": 183,
   "id": "ecfcd8d6",
   "metadata": {},
   "outputs": [],
   "source": [
    "match=[]\n",
    "\n",
    "for t in soup.find_all('td',class_=\"rankings-block__banner--matches\"):\n",
    "    k=t.text\n",
    "    match.append(k)"
   ]
  },
  {
   "cell_type": "code",
   "execution_count": 184,
   "id": "b6848e5a",
   "metadata": {},
   "outputs": [],
   "source": [
    "fin=[]\n",
    "\n",
    "for p in soup.find_all('td',class_=\"table-body__cell u-center-text\"):\n",
    "    e=p.text\n",
    "    fin.append(e)\n"
   ]
  },
  {
   "cell_type": "code",
   "execution_count": 185,
   "id": "d46e42fe",
   "metadata": {},
   "outputs": [],
   "source": [
    "matches=fin[::2]"
   ]
  },
  {
   "cell_type": "code",
   "execution_count": 186,
   "id": "62334105",
   "metadata": {},
   "outputs": [],
   "source": [
    "matche=match+matches"
   ]
  },
  {
   "cell_type": "code",
   "execution_count": 187,
   "id": "13d8fba4",
   "metadata": {},
   "outputs": [],
   "source": [
    "point001=[]\n",
    "for c in soup.find_all('td',class_=\"rankings-block__banner--points\"):\n",
    "    y=c.text\n",
    "    point001.append(y)"
   ]
  },
  {
   "cell_type": "code",
   "execution_count": 188,
   "id": "171ad69b",
   "metadata": {},
   "outputs": [],
   "source": [
    "k=fin[1::2]\n",
    "points=point001+k"
   ]
  },
  {
   "cell_type": "code",
   "execution_count": 189,
   "id": "9934830b",
   "metadata": {},
   "outputs": [],
   "source": [
    "rating=[]\n",
    "\n",
    "for w in soup.find_all('td',class_=\"rankings-block__banner--rating u-text-right\"):\n",
    "    y=w.text.replace('\\n','').replace('  ','')\n",
    "    rating.append(y)\n",
    "    "
   ]
  },
  {
   "cell_type": "code",
   "execution_count": 190,
   "id": "19682b6b",
   "metadata": {},
   "outputs": [],
   "source": [
    "for y in soup.find_all('td',class_=\"table-body__cell u-text-right rating\"):\n",
    "    i=y.text\n",
    "    rating.append(i)"
   ]
  },
  {
   "cell_type": "code",
   "execution_count": 191,
   "id": "c527de57",
   "metadata": {},
   "outputs": [
    {
     "data": {
      "text/html": [
       "<div>\n",
       "<style scoped>\n",
       "    .dataframe tbody tr th:only-of-type {\n",
       "        vertical-align: middle;\n",
       "    }\n",
       "\n",
       "    .dataframe tbody tr th {\n",
       "        vertical-align: top;\n",
       "    }\n",
       "\n",
       "    .dataframe thead th {\n",
       "        text-align: right;\n",
       "    }\n",
       "</style>\n",
       "<table border=\"1\" class=\"dataframe\">\n",
       "  <thead>\n",
       "    <tr style=\"text-align: right;\">\n",
       "      <th></th>\n",
       "      <th>team</th>\n",
       "      <th>matches</th>\n",
       "      <th>points</th>\n",
       "      <th>rating</th>\n",
       "    </tr>\n",
       "  </thead>\n",
       "  <tbody>\n",
       "    <tr>\n",
       "      <th>0</th>\n",
       "      <td>Australia</td>\n",
       "      <td>29</td>\n",
       "      <td>4,837</td>\n",
       "      <td>167</td>\n",
       "    </tr>\n",
       "    <tr>\n",
       "      <th>1</th>\n",
       "      <td>South Africa</td>\n",
       "      <td>32</td>\n",
       "      <td>3,949</td>\n",
       "      <td>123</td>\n",
       "    </tr>\n",
       "    <tr>\n",
       "      <th>2</th>\n",
       "      <td>England</td>\n",
       "      <td>30</td>\n",
       "      <td>3,531</td>\n",
       "      <td>118</td>\n",
       "    </tr>\n",
       "    <tr>\n",
       "      <th>3</th>\n",
       "      <td>India</td>\n",
       "      <td>29</td>\n",
       "      <td>2,889</td>\n",
       "      <td>100</td>\n",
       "    </tr>\n",
       "    <tr>\n",
       "      <th>4</th>\n",
       "      <td>New Zealand</td>\n",
       "      <td>31</td>\n",
       "      <td>3,019</td>\n",
       "      <td>97</td>\n",
       "    </tr>\n",
       "    <tr>\n",
       "      <th>5</th>\n",
       "      <td>West Indies</td>\n",
       "      <td>30</td>\n",
       "      <td>2,768</td>\n",
       "      <td>92</td>\n",
       "    </tr>\n",
       "    <tr>\n",
       "      <th>6</th>\n",
       "      <td>Bangladesh</td>\n",
       "      <td>12</td>\n",
       "      <td>930</td>\n",
       "      <td>78</td>\n",
       "    </tr>\n",
       "    <tr>\n",
       "      <th>7</th>\n",
       "      <td>Pakistan</td>\n",
       "      <td>30</td>\n",
       "      <td>1,962</td>\n",
       "      <td>65</td>\n",
       "    </tr>\n",
       "    <tr>\n",
       "      <th>8</th>\n",
       "      <td>Sri Lanka</td>\n",
       "      <td>8</td>\n",
       "      <td>384</td>\n",
       "      <td>48</td>\n",
       "    </tr>\n",
       "    <tr>\n",
       "      <th>9</th>\n",
       "      <td>Ireland</td>\n",
       "      <td>8</td>\n",
       "      <td>351</td>\n",
       "      <td>44</td>\n",
       "    </tr>\n",
       "    <tr>\n",
       "      <th>10</th>\n",
       "      <td>Zimbabwe</td>\n",
       "      <td>8</td>\n",
       "      <td>0</td>\n",
       "      <td>0</td>\n",
       "    </tr>\n",
       "  </tbody>\n",
       "</table>\n",
       "</div>"
      ],
      "text/plain": [
       "            team matches points rating\n",
       "0      Australia      29  4,837    167\n",
       "1   South Africa      32  3,949    123\n",
       "2        England      30  3,531    118\n",
       "3          India      29  2,889    100\n",
       "4    New Zealand      31  3,019     97\n",
       "5    West Indies      30  2,768     92\n",
       "6     Bangladesh      12    930     78\n",
       "7       Pakistan      30  1,962     65\n",
       "8      Sri Lanka       8    384     48\n",
       "9        Ireland       8    351     44\n",
       "10      Zimbabwe       8      0      0"
      ]
     },
     "execution_count": 191,
     "metadata": {},
     "output_type": "execute_result"
    }
   ],
   "source": [
    "womens_odi_team=pd.DataFrame({'team':team,'matches':matche,'points':points,'rating':rating})\n",
    "womens_odi_team"
   ]
  },
  {
   "cell_type": "code",
   "execution_count": 192,
   "id": "b8c2fbb7",
   "metadata": {},
   "outputs": [],
   "source": [
    "bat=\"https://www.icc-cricket.com/rankings/womens/player-rankings/odi/batting\"\n",
    "res=requests.get(bat)\n",
    "soup1=BeautifulSoup(res.content,'html.parser')"
   ]
  },
  {
   "cell_type": "code",
   "execution_count": 193,
   "id": "d3559dc8",
   "metadata": {},
   "outputs": [],
   "source": [
    "ply_name=[]\n",
    "\n",
    "for y in soup1.find_all('div',class_=\"rankings-block__banner--name-large\"):\n",
    "    k=y.text\n",
    "    ply_name.append(k)\n",
    "    "
   ]
  },
  {
   "cell_type": "code",
   "execution_count": 194,
   "id": "2fd753b3",
   "metadata": {},
   "outputs": [],
   "source": [
    "for r in soup1.find_all('td',class_=\"table-body__cell rankings-table__name name\"):\n",
    "    j=r.text.replace('\\n','')\n",
    "    ply_name.append(j)"
   ]
  },
  {
   "cell_type": "code",
   "execution_count": 199,
   "id": "6ea46dea",
   "metadata": {},
   "outputs": [],
   "source": [
    "bat_team=[]\n",
    "\n",
    "for l in soup1.find_all('div',class_=\"rankings-block__banner--nationality\"):\n",
    "    n=l.text.replace('\\n','')\n",
    "    bat_team.append(n)"
   ]
  },
  {
   "cell_type": "code",
   "execution_count": 200,
   "id": "d3942bae",
   "metadata": {},
   "outputs": [],
   "source": [
    "for k in soup1.find_all('span',class_=\"table-body__logo-text\"):\n",
    "    b=k.text\n",
    "    bat_team.append(b)"
   ]
  },
  {
   "cell_type": "code",
   "execution_count": 205,
   "id": "941b67f1",
   "metadata": {},
   "outputs": [],
   "source": [
    "wm_rating=[]\n",
    "for j in soup1.find_all('div',class_=\"rankings-block__banner--rating\"):\n",
    "    g=j.text\n",
    "    wm_rating.append(g)"
   ]
  },
  {
   "cell_type": "code",
   "execution_count": 214,
   "id": "a8fce9dd",
   "metadata": {},
   "outputs": [],
   "source": [
    "for h in soup1.find_all('td',class_=\"table-body__cell rating\"):\n",
    "    a=h.text\n",
    "    wm_rating.append(a)"
   ]
  },
  {
   "cell_type": "code",
   "execution_count": 226,
   "id": "6ad467db",
   "metadata": {},
   "outputs": [],
   "source": [
    "carrerbest_wm=[]\n",
    "for d in soup1.find_all('span',class_=\"rankings-block__career-best-text\"):\n",
    "    j=d.text.replace('\\n','').replace('  ','')\n",
    "    carrerbest_wm.append(j)\n"
   ]
  },
  {
   "cell_type": "code",
   "execution_count": 234,
   "id": "9e169313",
   "metadata": {},
   "outputs": [],
   "source": [
    "for d in soup1.find_all('td',class_=\"table-body__cell u-text-right u-hide-phablet\"):\n",
    "    n=d.text.replace('\\n','').replace(' ','')\n",
    "    carrerbest_wm.append(n)\n"
   ]
  },
  {
   "cell_type": "code",
   "execution_count": 238,
   "id": "5ca50322",
   "metadata": {},
   "outputs": [],
   "source": [
    "women_batting=pd.DataFrame({'player_name':ply_name,'team':bat_team,'rating':wm_rating,'career_best':carrerbest_wm})"
   ]
  },
  {
   "cell_type": "code",
   "execution_count": 241,
   "id": "5b5d7ade",
   "metadata": {},
   "outputs": [
    {
     "data": {
      "text/html": [
       "<div>\n",
       "<style scoped>\n",
       "    .dataframe tbody tr th:only-of-type {\n",
       "        vertical-align: middle;\n",
       "    }\n",
       "\n",
       "    .dataframe tbody tr th {\n",
       "        vertical-align: top;\n",
       "    }\n",
       "\n",
       "    .dataframe thead th {\n",
       "        text-align: right;\n",
       "    }\n",
       "</style>\n",
       "<table border=\"1\" class=\"dataframe\">\n",
       "  <thead>\n",
       "    <tr style=\"text-align: right;\">\n",
       "      <th></th>\n",
       "      <th>player_name</th>\n",
       "      <th>team</th>\n",
       "      <th>rating</th>\n",
       "      <th>career_best</th>\n",
       "    </tr>\n",
       "  </thead>\n",
       "  <tbody>\n",
       "    <tr>\n",
       "      <th>0</th>\n",
       "      <td>Alyssa Healy</td>\n",
       "      <td>AUS</td>\n",
       "      <td>785</td>\n",
       "      <td>785 v England, 03/04/2022</td>\n",
       "    </tr>\n",
       "    <tr>\n",
       "      <th>1</th>\n",
       "      <td>Natalie Sciver</td>\n",
       "      <td>ENG</td>\n",
       "      <td>750</td>\n",
       "      <td>750vAustralia,03/04/2022</td>\n",
       "    </tr>\n",
       "    <tr>\n",
       "      <th>2</th>\n",
       "      <td>Beth Mooney</td>\n",
       "      <td>AUS</td>\n",
       "      <td>748</td>\n",
       "      <td>748vEngland,03/04/2022</td>\n",
       "    </tr>\n",
       "    <tr>\n",
       "      <th>3</th>\n",
       "      <td>Laura Wolvaardt</td>\n",
       "      <td>SA</td>\n",
       "      <td>713</td>\n",
       "      <td>741vAustralia,22/03/2022</td>\n",
       "    </tr>\n",
       "    <tr>\n",
       "      <th>4</th>\n",
       "      <td>Meg Lanning</td>\n",
       "      <td>AUS</td>\n",
       "      <td>710</td>\n",
       "      <td>834vNewZealand,24/02/2016</td>\n",
       "    </tr>\n",
       "    <tr>\n",
       "      <th>...</th>\n",
       "      <td>...</td>\n",
       "      <td>...</td>\n",
       "      <td>...</td>\n",
       "      <td>...</td>\n",
       "    </tr>\n",
       "    <tr>\n",
       "      <th>95</th>\n",
       "      <td>Eimear Richardson</td>\n",
       "      <td>IRE</td>\n",
       "      <td>211</td>\n",
       "      <td>275vPakistan,19/07/2013</td>\n",
       "    </tr>\n",
       "    <tr>\n",
       "      <th>96</th>\n",
       "      <td>Rajeshwari Gayakwad</td>\n",
       "      <td>IND</td>\n",
       "      <td>209</td>\n",
       "      <td>229vSouthAfrica,14/03/2021</td>\n",
       "    </tr>\n",
       "    <tr>\n",
       "      <th>97</th>\n",
       "      <td>Anushka Sanjeewani</td>\n",
       "      <td>SL</td>\n",
       "      <td>204</td>\n",
       "      <td>222vAustralia,07/10/2019</td>\n",
       "    </tr>\n",
       "    <tr>\n",
       "      <th>98</th>\n",
       "      <td>Hasini Perera</td>\n",
       "      <td>SL</td>\n",
       "      <td>201</td>\n",
       "      <td>250vEngland,02/07/2017</td>\n",
       "    </tr>\n",
       "    <tr>\n",
       "      <th>99</th>\n",
       "      <td>Inoka Ranaweera</td>\n",
       "      <td>SL</td>\n",
       "      <td>197</td>\n",
       "      <td>230vAustralia,29/06/2017</td>\n",
       "    </tr>\n",
       "  </tbody>\n",
       "</table>\n",
       "<p>100 rows × 4 columns</p>\n",
       "</div>"
      ],
      "text/plain": [
       "            player_name team rating                 career_best\n",
       "0          Alyssa Healy  AUS    785   785 v England, 03/04/2022\n",
       "1        Natalie Sciver  ENG    750    750vAustralia,03/04/2022\n",
       "2           Beth Mooney  AUS    748      748vEngland,03/04/2022\n",
       "3       Laura Wolvaardt   SA    713    741vAustralia,22/03/2022\n",
       "4           Meg Lanning  AUS    710   834vNewZealand,24/02/2016\n",
       "..                  ...  ...    ...                         ...\n",
       "95    Eimear Richardson  IRE    211     275vPakistan,19/07/2013\n",
       "96  Rajeshwari Gayakwad  IND    209  229vSouthAfrica,14/03/2021\n",
       "97   Anushka Sanjeewani   SL    204    222vAustralia,07/10/2019\n",
       "98        Hasini Perera   SL    201      250vEngland,02/07/2017\n",
       "99      Inoka Ranaweera   SL    197    230vAustralia,29/06/2017\n",
       "\n",
       "[100 rows x 4 columns]"
      ]
     },
     "execution_count": 241,
     "metadata": {},
     "output_type": "execute_result"
    }
   ],
   "source": [
    "women_batting"
   ]
  },
  {
   "cell_type": "code",
   "execution_count": 243,
   "id": "71e68837",
   "metadata": {},
   "outputs": [
    {
     "data": {
      "text/plain": [
       "<Response [200]>"
      ]
     },
     "execution_count": 243,
     "metadata": {},
     "output_type": "execute_result"
    }
   ],
   "source": [
    "all_rounder=\"https://www.icc-cricket.com/rankings/womens/player-rankings/odi/all-rounder\"\n",
    "res=requests.get(all_rounder)\n"
   ]
  },
  {
   "cell_type": "code",
   "execution_count": 247,
   "id": "b297489f",
   "metadata": {},
   "outputs": [],
   "source": [
    "soup2=BeautifulSoup(res.content,'html.parser')\n"
   ]
  },
  {
   "cell_type": "code",
   "execution_count": 253,
   "id": "90dfdbe6",
   "metadata": {},
   "outputs": [],
   "source": [
    "name_round=[]\n",
    "for y in soup2.find_all('div',class_=\"rankings-block__banner--name-large\"):\n",
    "    s=y.text\n",
    "    name_round.append(s)\n",
    "    "
   ]
  },
  {
   "cell_type": "code",
   "execution_count": 261,
   "id": "40d804a7",
   "metadata": {},
   "outputs": [],
   "source": [
    "for t in soup2.find_all('td',class_=\"table-body__cell rankings-table__name name\"):\n",
    "    r=t.text.replace('\\n','')\n",
    "    name_round.append(r)"
   ]
  },
  {
   "cell_type": "code",
   "execution_count": 273,
   "id": "f052b692",
   "metadata": {},
   "outputs": [],
   "source": [
    "round_team=[]\n",
    "for k in soup2.find_all('div',class_=\"rankings-block__banner--nationality\"):\n",
    "    j=k.text.replace('\\n','')\n",
    "    round_team.append(j)"
   ]
  },
  {
   "cell_type": "code",
   "execution_count": 279,
   "id": "0f9dd382",
   "metadata": {},
   "outputs": [],
   "source": [
    "for t in soup2.find_all('span',class_=\"table-body__logo-text\"):\n",
    "    o=t.text\n",
    "    round_team.append(o)"
   ]
  },
  {
   "cell_type": "code",
   "execution_count": 284,
   "id": "36174f7f",
   "metadata": {},
   "outputs": [],
   "source": [
    "round_rating=[]\n",
    "for n in soup2.find_all('div',class_=\"rankings-block__banner--rating\"):\n",
    "    b=n.text\n",
    "    round_rating.append(b)\n",
    "    "
   ]
  },
  {
   "cell_type": "code",
   "execution_count": 290,
   "id": "3bec638d",
   "metadata": {},
   "outputs": [],
   "source": [
    "for v in soup2.find_all('td',class_=\"table-body__cell rating\"):\n",
    "    d=v.text\n",
    "    round_rating.append(d)"
   ]
  },
  {
   "cell_type": "code",
   "execution_count": 298,
   "id": "c6b9cf50",
   "metadata": {},
   "outputs": [],
   "source": [
    "round_best=[]\n",
    "for b in soup2.find_all('div',class_=\"rankings-block__career-best\"):\n",
    "    v=b.text.replace('\\n','').replace('  ','')\n",
    "    round_best.append(v)"
   ]
  },
  {
   "cell_type": "code",
   "execution_count": 309,
   "id": "c80864c2",
   "metadata": {},
   "outputs": [],
   "source": [
    "for h in soup2.find_all('td',class_=\"table-body__cell u-text-right u-hide-phablet\"):\n",
    "    q=h.text.replace('\\n','').replace('  ','')\n",
    "    round_best.append(q)"
   ]
  },
  {
   "cell_type": "code",
   "execution_count": 313,
   "id": "92f51461",
   "metadata": {},
   "outputs": [],
   "source": [
    "all_rounder_ranking=pd.DataFrame({'player_name':name_round,'team':round_team,'points':round_rating,'career_best':round_best})"
   ]
  },
  {
   "cell_type": "code",
   "execution_count": 315,
   "id": "175a07c3",
   "metadata": {},
   "outputs": [
    {
     "data": {
      "text/html": [
       "<div>\n",
       "<style scoped>\n",
       "    .dataframe tbody tr th:only-of-type {\n",
       "        vertical-align: middle;\n",
       "    }\n",
       "\n",
       "    .dataframe tbody tr th {\n",
       "        vertical-align: top;\n",
       "    }\n",
       "\n",
       "    .dataframe thead th {\n",
       "        text-align: right;\n",
       "    }\n",
       "</style>\n",
       "<table border=\"1\" class=\"dataframe\">\n",
       "  <thead>\n",
       "    <tr style=\"text-align: right;\">\n",
       "      <th></th>\n",
       "      <th>player_name</th>\n",
       "      <th>team</th>\n",
       "      <th>points</th>\n",
       "      <th>career_best</th>\n",
       "    </tr>\n",
       "  </thead>\n",
       "  <tbody>\n",
       "    <tr>\n",
       "      <th>0</th>\n",
       "      <td>Natalie Sciver</td>\n",
       "      <td>ENG</td>\n",
       "      <td>393</td>\n",
       "      <td>393 v Australia, 03/04/2022</td>\n",
       "    </tr>\n",
       "    <tr>\n",
       "      <th>1</th>\n",
       "      <td>Ellyse Perry</td>\n",
       "      <td>AUS</td>\n",
       "      <td>374</td>\n",
       "      <td>548 v West Indies, 11/09/2019</td>\n",
       "    </tr>\n",
       "    <tr>\n",
       "      <th>2</th>\n",
       "      <td>Hayley Matthews</td>\n",
       "      <td>WI</td>\n",
       "      <td>338</td>\n",
       "      <td>365 v India, 12/03/2022</td>\n",
       "    </tr>\n",
       "    <tr>\n",
       "      <th>3</th>\n",
       "      <td>Marizanne Kapp</td>\n",
       "      <td>SA</td>\n",
       "      <td>338</td>\n",
       "      <td>419 v West Indies, 10/09/2021</td>\n",
       "    </tr>\n",
       "    <tr>\n",
       "      <th>4</th>\n",
       "      <td>Amelia Kerr</td>\n",
       "      <td>NZ</td>\n",
       "      <td>335</td>\n",
       "      <td>339 v South Africa, 17/03/2022</td>\n",
       "    </tr>\n",
       "    <tr>\n",
       "      <th>5</th>\n",
       "      <td>Ashleigh Gardner</td>\n",
       "      <td>AUS</td>\n",
       "      <td>269</td>\n",
       "      <td>279 v West Indies, 30/03/2022</td>\n",
       "    </tr>\n",
       "    <tr>\n",
       "      <th>6</th>\n",
       "      <td>Deepti Sharma</td>\n",
       "      <td>IND</td>\n",
       "      <td>249</td>\n",
       "      <td>397 v South Africa, 09/10/2019</td>\n",
       "    </tr>\n",
       "    <tr>\n",
       "      <th>7</th>\n",
       "      <td>Jess Jonassen</td>\n",
       "      <td>AUS</td>\n",
       "      <td>245</td>\n",
       "      <td>308 v West Indies, 11/09/2019</td>\n",
       "    </tr>\n",
       "    <tr>\n",
       "      <th>8</th>\n",
       "      <td>Sune Luus</td>\n",
       "      <td>SA</td>\n",
       "      <td>223</td>\n",
       "      <td>223 v Ireland, 17/06/2022</td>\n",
       "    </tr>\n",
       "    <tr>\n",
       "      <th>9</th>\n",
       "      <td>Katherine Brunt</td>\n",
       "      <td>ENG</td>\n",
       "      <td>221</td>\n",
       "      <td>296 v Australia, 03/02/2022</td>\n",
       "    </tr>\n",
       "    <tr>\n",
       "      <th>10</th>\n",
       "      <td>Jhulan Goswami</td>\n",
       "      <td>IND</td>\n",
       "      <td>217</td>\n",
       "      <td>308 v Australia, 02/02/2016</td>\n",
       "    </tr>\n",
       "    <tr>\n",
       "      <th>11</th>\n",
       "      <td>Sophie Ecclestone</td>\n",
       "      <td>ENG</td>\n",
       "      <td>206</td>\n",
       "      <td>217 v South Africa, 31/03/2022</td>\n",
       "    </tr>\n",
       "    <tr>\n",
       "      <th>12</th>\n",
       "      <td>Stafanie Taylor</td>\n",
       "      <td>WI</td>\n",
       "      <td>205</td>\n",
       "      <td>559 v New Zealand, 10/10/2013</td>\n",
       "    </tr>\n",
       "    <tr>\n",
       "      <th>13</th>\n",
       "      <td>Sophie Devine</td>\n",
       "      <td>NZ</td>\n",
       "      <td>202</td>\n",
       "      <td>305 v Australia, 05/10/2020</td>\n",
       "    </tr>\n",
       "    <tr>\n",
       "      <th>14</th>\n",
       "      <td>Nida Dar</td>\n",
       "      <td>PAK</td>\n",
       "      <td>198</td>\n",
       "      <td>206 v Sri Lanka, 03/06/2022</td>\n",
       "    </tr>\n",
       "    <tr>\n",
       "      <th>15</th>\n",
       "      <td>Rumana Ahmed</td>\n",
       "      <td>BAN</td>\n",
       "      <td>169</td>\n",
       "      <td>198 v South Africa, 05/03/2022</td>\n",
       "    </tr>\n",
       "    <tr>\n",
       "      <th>16</th>\n",
       "      <td>Salma Khatun</td>\n",
       "      <td>BAN</td>\n",
       "      <td>167</td>\n",
       "      <td>170 v Australia, 25/03/2022</td>\n",
       "    </tr>\n",
       "    <tr>\n",
       "      <th>17</th>\n",
       "      <td>Dane van Niekerk</td>\n",
       "      <td>SA</td>\n",
       "      <td>159</td>\n",
       "      <td>421 v Sri Lanka, 11/02/2019</td>\n",
       "    </tr>\n",
       "    <tr>\n",
       "      <th>18</th>\n",
       "      <td>Heather Knight</td>\n",
       "      <td>ENG</td>\n",
       "      <td>156</td>\n",
       "      <td>249 v West Indies, 13/06/2019</td>\n",
       "    </tr>\n",
       "    <tr>\n",
       "      <th>19</th>\n",
       "      <td>Tahlia McGrath</td>\n",
       "      <td>AUS</td>\n",
       "      <td>149</td>\n",
       "      <td>152 v New Zealand, 13/03/2022</td>\n",
       "    </tr>\n",
       "  </tbody>\n",
       "</table>\n",
       "</div>"
      ],
      "text/plain": [
       "          player_name team points                     career_best\n",
       "0      Natalie Sciver  ENG    393     393 v Australia, 03/04/2022\n",
       "1        Ellyse Perry  AUS    374   548 v West Indies, 11/09/2019\n",
       "2     Hayley Matthews   WI    338         365 v India, 12/03/2022\n",
       "3      Marizanne Kapp   SA    338   419 v West Indies, 10/09/2021\n",
       "4         Amelia Kerr   NZ    335  339 v South Africa, 17/03/2022\n",
       "5    Ashleigh Gardner  AUS    269   279 v West Indies, 30/03/2022\n",
       "6       Deepti Sharma  IND    249  397 v South Africa, 09/10/2019\n",
       "7       Jess Jonassen  AUS    245   308 v West Indies, 11/09/2019\n",
       "8           Sune Luus   SA    223       223 v Ireland, 17/06/2022\n",
       "9     Katherine Brunt  ENG    221     296 v Australia, 03/02/2022\n",
       "10     Jhulan Goswami  IND    217     308 v Australia, 02/02/2016\n",
       "11  Sophie Ecclestone  ENG    206  217 v South Africa, 31/03/2022\n",
       "12    Stafanie Taylor   WI    205   559 v New Zealand, 10/10/2013\n",
       "13      Sophie Devine   NZ    202     305 v Australia, 05/10/2020\n",
       "14           Nida Dar  PAK    198     206 v Sri Lanka, 03/06/2022\n",
       "15       Rumana Ahmed  BAN    169  198 v South Africa, 05/03/2022\n",
       "16       Salma Khatun  BAN    167     170 v Australia, 25/03/2022\n",
       "17   Dane van Niekerk   SA    159     421 v Sri Lanka, 11/02/2019\n",
       "18     Heather Knight  ENG    156   249 v West Indies, 13/06/2019\n",
       "19     Tahlia McGrath  AUS    149   152 v New Zealand, 13/03/2022"
      ]
     },
     "execution_count": 315,
     "metadata": {},
     "output_type": "execute_result"
    }
   ],
   "source": [
    "all_rounder_ranking"
   ]
  }
 ],
 "metadata": {
  "kernelspec": {
   "display_name": "Python 3 (ipykernel)",
   "language": "python",
   "name": "python3"
  },
  "language_info": {
   "codemirror_mode": {
    "name": "ipython",
    "version": 3
   },
   "file_extension": ".py",
   "mimetype": "text/x-python",
   "name": "python",
   "nbconvert_exporter": "python",
   "pygments_lexer": "ipython3",
   "version": "3.9.12"
  },
  "varInspector": {
   "cols": {
    "lenName": 16,
    "lenType": 16,
    "lenVar": 40
   },
   "kernels_config": {
    "python": {
     "delete_cmd_postfix": "",
     "delete_cmd_prefix": "del ",
     "library": "var_list.py",
     "varRefreshCmd": "print(var_dic_list())"
    },
    "r": {
     "delete_cmd_postfix": ") ",
     "delete_cmd_prefix": "rm(",
     "library": "var_list.r",
     "varRefreshCmd": "cat(var_dic_list()) "
    }
   },
   "types_to_exclude": [
    "module",
    "function",
    "builtin_function_or_method",
    "instance",
    "_Feature"
   ],
   "window_display": false
  }
 },
 "nbformat": 4,
 "nbformat_minor": 5
}
