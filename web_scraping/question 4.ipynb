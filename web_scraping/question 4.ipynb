{
 "cells": [
  {
   "cell_type": "code",
   "execution_count": 415,
   "id": "e28a2871",
   "metadata": {},
   "outputs": [],
   "source": [
    "import pandas as pd \n",
    "import numpy as np \n",
    "import requests\n",
    "from bs4 import BeautifulSoup"
   ]
  },
  {
   "cell_type": "code",
   "execution_count": 416,
   "id": "6a065d27",
   "metadata": {},
   "outputs": [
    {
     "data": {
      "text/plain": [
       "<Response [200]>"
      ]
     },
     "execution_count": 416,
     "metadata": {},
     "output_type": "execute_result"
    }
   ],
   "source": [
    "url='https://presidentofindia.nic.in/former-presidents.htm'\n",
    "response=requests.get(url)\n",
    "response"
   ]
  },
  {
   "cell_type": "code",
   "execution_count": 417,
   "id": "db55e3cd",
   "metadata": {},
   "outputs": [],
   "source": [
    "soup=BeautifulSoup(response.content,'html.parser')\n",
    "president=soup.find_all('div',class_='presidentListing')"
   ]
  },
  {
   "cell_type": "code",
   "execution_count": 418,
   "id": "34e2e847",
   "metadata": {},
   "outputs": [],
   "source": [
    "Name=[]\n",
    "Tenure=[]"
   ]
  },
  {
   "cell_type": "code",
   "execution_count": 419,
   "id": "34484df6",
   "metadata": {},
   "outputs": [],
   "source": [
    "for store in president:\n",
    "    vam=store.h3.text\n",
    "    Name.append(vam)\n",
    "    \n",
    "    red=store.p.text\n",
    "    Tenure.append(red)"
   ]
  },
  {
   "cell_type": "code",
   "execution_count": 420,
   "id": "87292e42",
   "metadata": {},
   "outputs": [],
   "source": [
    "df=pd.DataFrame({'Name':Name,'Tenure':Tenure})"
   ]
  },
  {
   "cell_type": "code",
   "execution_count": 421,
   "id": "97d24d19",
   "metadata": {},
   "outputs": [
    {
     "data": {
      "text/html": [
       "<div>\n",
       "<style scoped>\n",
       "    .dataframe tbody tr th:only-of-type {\n",
       "        vertical-align: middle;\n",
       "    }\n",
       "\n",
       "    .dataframe tbody tr th {\n",
       "        vertical-align: top;\n",
       "    }\n",
       "\n",
       "    .dataframe thead th {\n",
       "        text-align: right;\n",
       "    }\n",
       "</style>\n",
       "<table border=\"1\" class=\"dataframe\">\n",
       "  <thead>\n",
       "    <tr style=\"text-align: right;\">\n",
       "      <th></th>\n",
       "      <th>Name</th>\n",
       "      <th>Tenure</th>\n",
       "    </tr>\n",
       "  </thead>\n",
       "  <tbody>\n",
       "    <tr>\n",
       "      <th>0</th>\n",
       "      <td>Shri Pranab Mukherjee (1935-2020)</td>\n",
       "      <td>Term of Office: 25 July, 2012 to 25 July, 2017</td>\n",
       "    </tr>\n",
       "    <tr>\n",
       "      <th>1</th>\n",
       "      <td>Smt Pratibha Devisingh Patil (birth - 1934)</td>\n",
       "      <td>Term of Office: 25 July, 2007 to 25 July, 2012</td>\n",
       "    </tr>\n",
       "    <tr>\n",
       "      <th>2</th>\n",
       "      <td>DR. A.P.J. Abdul Kalam (1931-2015)</td>\n",
       "      <td>Term of Office: 25 July, 2002 to 25 July, 2007</td>\n",
       "    </tr>\n",
       "    <tr>\n",
       "      <th>3</th>\n",
       "      <td>Shri K. R. Narayanan (1920 - 2005)</td>\n",
       "      <td>Term of Office: 25 July, 1997 to 25 July, 2002</td>\n",
       "    </tr>\n",
       "    <tr>\n",
       "      <th>4</th>\n",
       "      <td>Dr Shankar Dayal Sharma (1918-1999)</td>\n",
       "      <td>Term of Office: 25 July, 1992 to 25 July, 1997</td>\n",
       "    </tr>\n",
       "    <tr>\n",
       "      <th>5</th>\n",
       "      <td>Shri R Venkataraman (1910-2009)</td>\n",
       "      <td>Term of Office: 25 July, 1987 to 25 July, 1992</td>\n",
       "    </tr>\n",
       "    <tr>\n",
       "      <th>6</th>\n",
       "      <td>Giani Zail Singh (1916-1994)</td>\n",
       "      <td>Term of Office: 25 July, 1982 to 25 July, 1987</td>\n",
       "    </tr>\n",
       "    <tr>\n",
       "      <th>7</th>\n",
       "      <td>Shri Neelam Sanjiva Reddy (1913-1996)</td>\n",
       "      <td>Term of Office: 25 July, 1977 to 25 July, 1982</td>\n",
       "    </tr>\n",
       "    <tr>\n",
       "      <th>8</th>\n",
       "      <td>Dr. Fakhruddin Ali Ahmed (1905-1977)</td>\n",
       "      <td>Term of Office: 24 August, 1974 to 11 February...</td>\n",
       "    </tr>\n",
       "    <tr>\n",
       "      <th>9</th>\n",
       "      <td>Shri Varahagiri Venkata Giri (1894-1980)</td>\n",
       "      <td>Term of Office: 3 May, 1969 to 20 July, 1969 a...</td>\n",
       "    </tr>\n",
       "    <tr>\n",
       "      <th>10</th>\n",
       "      <td>Dr. Zakir Husain (1897-1969)</td>\n",
       "      <td>Term of Office: 13 May, 1967 to 3 May, 1969</td>\n",
       "    </tr>\n",
       "    <tr>\n",
       "      <th>11</th>\n",
       "      <td>Dr. Sarvepalli Radhakrishnan (1888-1975)</td>\n",
       "      <td>Term of Office: 13 May, 1962 to 13 May, 1967</td>\n",
       "    </tr>\n",
       "    <tr>\n",
       "      <th>12</th>\n",
       "      <td>Dr. Rajendra Prasad (1884-1963)</td>\n",
       "      <td>Term of Office: 26 January, 1950 to 13 May, 1962</td>\n",
       "    </tr>\n",
       "  </tbody>\n",
       "</table>\n",
       "</div>"
      ],
      "text/plain": [
       "                                           Name  \\\n",
       "0             Shri Pranab Mukherjee (1935-2020)   \n",
       "1   Smt Pratibha Devisingh Patil (birth - 1934)   \n",
       "2            DR. A.P.J. Abdul Kalam (1931-2015)   \n",
       "3            Shri K. R. Narayanan (1920 - 2005)   \n",
       "4           Dr Shankar Dayal Sharma (1918-1999)   \n",
       "5               Shri R Venkataraman (1910-2009)   \n",
       "6                  Giani Zail Singh (1916-1994)   \n",
       "7         Shri Neelam Sanjiva Reddy (1913-1996)   \n",
       "8          Dr. Fakhruddin Ali Ahmed (1905-1977)   \n",
       "9      Shri Varahagiri Venkata Giri (1894-1980)   \n",
       "10                 Dr. Zakir Husain (1897-1969)   \n",
       "11     Dr. Sarvepalli Radhakrishnan (1888-1975)   \n",
       "12             Dr. Rajendra Prasad (1884-1963)    \n",
       "\n",
       "                                               Tenure  \n",
       "0     Term of Office: 25 July, 2012 to 25 July, 2017   \n",
       "1     Term of Office: 25 July, 2007 to 25 July, 2012   \n",
       "2     Term of Office: 25 July, 2002 to 25 July, 2007   \n",
       "3     Term of Office: 25 July, 1997 to 25 July, 2002   \n",
       "4     Term of Office: 25 July, 1992 to 25 July, 1997   \n",
       "5     Term of Office: 25 July, 1987 to 25 July, 1992   \n",
       "6     Term of Office: 25 July, 1982 to 25 July, 1987   \n",
       "7     Term of Office: 25 July, 1977 to 25 July, 1982   \n",
       "8   Term of Office: 24 August, 1974 to 11 February...  \n",
       "9   Term of Office: 3 May, 1969 to 20 July, 1969 a...  \n",
       "10        Term of Office: 13 May, 1967 to 3 May, 1969  \n",
       "11       Term of Office: 13 May, 1962 to 13 May, 1967  \n",
       "12   Term of Office: 26 January, 1950 to 13 May, 1962  "
      ]
     },
     "execution_count": 421,
     "metadata": {},
     "output_type": "execute_result"
    }
   ],
   "source": [
    "df"
   ]
  },
  {
   "cell_type": "code",
   "execution_count": null,
   "id": "67cae448",
   "metadata": {},
   "outputs": [],
   "source": [
    "\n"
   ]
  }
 ],
 "metadata": {
  "kernelspec": {
   "display_name": "Python 3 (ipykernel)",
   "language": "python",
   "name": "python3"
  },
  "language_info": {
   "codemirror_mode": {
    "name": "ipython",
    "version": 3
   },
   "file_extension": ".py",
   "mimetype": "text/x-python",
   "name": "python",
   "nbconvert_exporter": "python",
   "pygments_lexer": "ipython3",
   "version": "3.9.12"
  },
  "varInspector": {
   "cols": {
    "lenName": 16,
    "lenType": 16,
    "lenVar": 40
   },
   "kernels_config": {
    "python": {
     "delete_cmd_postfix": "",
     "delete_cmd_prefix": "del ",
     "library": "var_list.py",
     "varRefreshCmd": "print(var_dic_list())"
    },
    "r": {
     "delete_cmd_postfix": ") ",
     "delete_cmd_prefix": "rm(",
     "library": "var_list.r",
     "varRefreshCmd": "cat(var_dic_list()) "
    }
   },
   "types_to_exclude": [
    "module",
    "function",
    "builtin_function_or_method",
    "instance",
    "_Feature"
   ],
   "window_display": false
  }
 },
 "nbformat": 4,
 "nbformat_minor": 5
}
