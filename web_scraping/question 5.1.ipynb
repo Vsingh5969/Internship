{
 "cells": [
  {
   "cell_type": "code",
   "execution_count": 396,
   "id": "6b22b0b1",
   "metadata": {},
   "outputs": [],
   "source": [
    "import pandas as pd \n",
    "import numpy as np \n",
    "import requests \n",
    "from bs4 import BeautifulSoup\n"
   ]
  },
  {
   "cell_type": "code",
   "execution_count": 397,
   "id": "9f0b1aca",
   "metadata": {},
   "outputs": [],
   "source": [
    "url=\"https://www.icc-cricket.com/rankings/mens/team-rankings/odi\""
   ]
  },
  {
   "cell_type": "code",
   "execution_count": 398,
   "id": "2f6eac3b",
   "metadata": {},
   "outputs": [
    {
     "data": {
      "text/plain": [
       "<Response [200]>"
      ]
     },
     "execution_count": 398,
     "metadata": {},
     "output_type": "execute_result"
    }
   ],
   "source": [
    "response=requests.get(url)\n",
    "response"
   ]
  },
  {
   "cell_type": "code",
   "execution_count": 399,
   "id": "9bf3e0da",
   "metadata": {},
   "outputs": [],
   "source": [
    "soup=BeautifulSoup(response.content,'html.parser')"
   ]
  },
  {
   "cell_type": "code",
   "execution_count": 400,
   "id": "76e61a04",
   "metadata": {},
   "outputs": [],
   "source": [
    "cin=[]\n",
    "for r in soup.find_all('td',attrs={'class':\"table-body__cell u-center-text\"}):\n",
    "    cin.append(r.text)\n"
   ]
  },
  {
   "cell_type": "code",
   "execution_count": 495,
   "id": "19b69e74",
   "metadata": {},
   "outputs": [],
   "source": [
    "matches=cin[::2]\n"
   ]
  },
  {
   "cell_type": "code",
   "execution_count": 402,
   "id": "cabee2e5",
   "metadata": {},
   "outputs": [],
   "source": [
    "point=cin[1::2]\n",
    "ranked=[]\n",
    "rank_ing=[]"
   ]
  },
  {
   "cell_type": "code",
   "execution_count": 403,
   "id": "704bf547",
   "metadata": {},
   "outputs": [],
   "source": [
    "team_name=[]\n",
    "for i in soup.find_all('span',class_=\"u-hide-phablet\"):\n",
    "    c=i.text\n",
    "    team_name.append(c)\n",
    " "
   ]
  },
  {
   "cell_type": "code",
   "execution_count": 404,
   "id": "0e38473f",
   "metadata": {},
   "outputs": [
    {
     "data": {
      "text/plain": [
       "20"
      ]
     },
     "execution_count": 404,
     "metadata": {},
     "output_type": "execute_result"
    }
   ],
   "source": [
    "teams_name=team_name[0:20]\n",
    "np.count_nonzero(teams_name)"
   ]
  },
  {
   "cell_type": "code",
   "execution_count": 405,
   "id": "81d54a24",
   "metadata": {},
   "outputs": [],
   "source": [
    "f= soup.find('td',class_=\"rankings-block__banner--rating u-text-right\").text.replace('\\n','').replace('    ','')\n",
    "\n",
    "rank_ing=f"
   ]
  },
  {
   "cell_type": "code",
   "execution_count": 406,
   "id": "f1523e0e",
   "metadata": {},
   "outputs": [],
   "source": [
    "rank_point=[]\n",
    "for g in soup.find_all('td',class_=\"table-body__cell u-text-right rating\"):\n",
    "    c=g.text\n",
    "    rank_point.append(c)\n",
    "      "
   ]
  },
  {
   "cell_type": "code",
   "execution_count": 448,
   "id": "d056f767",
   "metadata": {},
   "outputs": [],
   "source": [
    "banner_match=[]\n",
    "## for banner one \n",
    "for t in soup.find('td',class_=\"rankings-block__banner--matches\"):\n",
    "    banner_match.append(t.text)\n"
   ]
  },
  {
   "cell_type": "code",
   "execution_count": 420,
   "id": "f127b59a",
   "metadata": {},
   "outputs": [
    {
     "data": {
      "text/plain": [
       "19"
      ]
     },
     "execution_count": 420,
     "metadata": {},
     "output_type": "execute_result"
    }
   ],
   "source": [
    "np.count_nonzero(point)"
   ]
  },
  {
   "cell_type": "code",
   "execution_count": 467,
   "id": "3b536658",
   "metadata": {},
   "outputs": [],
   "source": [
    "banner_points=[]\n",
    "banner_rates=[]\n",
    "\n",
    "for g in soup.find('td',class_=\"rankings-block__banner--points\"):\n",
    "    banner_points.append(g.text)"
   ]
  },
  {
   "cell_type": "code",
   "execution_count": 468,
   "id": "720be6f8",
   "metadata": {},
   "outputs": [],
   "source": [
    "for r in soup.find_all('td',class_=\"rankings-block__banner--rating u-text-right\"):\n",
    "    c=r.text.replace('\\n','').replace('  ','')\n",
    "    banner_rates.append(c)\n",
    "    "
   ]
  },
  {
   "cell_type": "code",
   "execution_count": 473,
   "id": "e36d58c1",
   "metadata": {},
   "outputs": [],
   "source": [
    "the_matches=banner_match+matches"
   ]
  },
  {
   "cell_type": "code",
   "execution_count": 481,
   "id": "a47c77fb",
   "metadata": {},
   "outputs": [],
   "source": [
    "the_points=banner_points+point"
   ]
  },
  {
   "cell_type": "code",
   "execution_count": 486,
   "id": "a2290b37",
   "metadata": {},
   "outputs": [],
   "source": [
    "the_rank=banner_rates+rank_point"
   ]
  },
  {
   "cell_type": "code",
   "execution_count": 490,
   "id": "e61f5a3b",
   "metadata": {},
   "outputs": [],
   "source": [
    "data_cricketinfo=pd.DataFrame({'team_name':teams_name,'matches':the_matches,'points':the_points,'ranks':the_rank})"
   ]
  },
  {
   "cell_type": "code",
   "execution_count": 494,
   "id": "9351ca01",
   "metadata": {},
   "outputs": [
    {
     "data": {
      "text/html": [
       "<div>\n",
       "<style scoped>\n",
       "    .dataframe tbody tr th:only-of-type {\n",
       "        vertical-align: middle;\n",
       "    }\n",
       "\n",
       "    .dataframe tbody tr th {\n",
       "        vertical-align: top;\n",
       "    }\n",
       "\n",
       "    .dataframe thead th {\n",
       "        text-align: right;\n",
       "    }\n",
       "</style>\n",
       "<table border=\"1\" class=\"dataframe\">\n",
       "  <thead>\n",
       "    <tr style=\"text-align: right;\">\n",
       "      <th></th>\n",
       "      <th>team_name</th>\n",
       "      <th>matches</th>\n",
       "      <th>points</th>\n",
       "      <th>ranks</th>\n",
       "    </tr>\n",
       "  </thead>\n",
       "  <tbody>\n",
       "    <tr>\n",
       "      <th>0</th>\n",
       "      <td>New Zealand</td>\n",
       "      <td>12</td>\n",
       "      <td>1,505</td>\n",
       "      <td>125</td>\n",
       "    </tr>\n",
       "    <tr>\n",
       "      <th>1</th>\n",
       "      <td>England</td>\n",
       "      <td>22</td>\n",
       "      <td>2,756</td>\n",
       "      <td>125</td>\n",
       "    </tr>\n",
       "    <tr>\n",
       "      <th>2</th>\n",
       "      <td>Pakistan</td>\n",
       "      <td>19</td>\n",
       "      <td>2,005</td>\n",
       "      <td>106</td>\n",
       "    </tr>\n",
       "    <tr>\n",
       "      <th>3</th>\n",
       "      <td>India</td>\n",
       "      <td>22</td>\n",
       "      <td>2,304</td>\n",
       "      <td>105</td>\n",
       "    </tr>\n",
       "    <tr>\n",
       "      <th>4</th>\n",
       "      <td>Australia</td>\n",
       "      <td>22</td>\n",
       "      <td>2,182</td>\n",
       "      <td>99</td>\n",
       "    </tr>\n",
       "    <tr>\n",
       "      <th>5</th>\n",
       "      <td>South Africa</td>\n",
       "      <td>19</td>\n",
       "      <td>1,872</td>\n",
       "      <td>99</td>\n",
       "    </tr>\n",
       "    <tr>\n",
       "      <th>6</th>\n",
       "      <td>Bangladesh</td>\n",
       "      <td>24</td>\n",
       "      <td>2,275</td>\n",
       "      <td>95</td>\n",
       "    </tr>\n",
       "    <tr>\n",
       "      <th>7</th>\n",
       "      <td>Sri Lanka</td>\n",
       "      <td>28</td>\n",
       "      <td>2,609</td>\n",
       "      <td>93</td>\n",
       "    </tr>\n",
       "    <tr>\n",
       "      <th>8</th>\n",
       "      <td>West Indies</td>\n",
       "      <td>32</td>\n",
       "      <td>2,306</td>\n",
       "      <td>72</td>\n",
       "    </tr>\n",
       "    <tr>\n",
       "      <th>9</th>\n",
       "      <td>Afghanistan</td>\n",
       "      <td>18</td>\n",
       "      <td>1,238</td>\n",
       "      <td>69</td>\n",
       "    </tr>\n",
       "    <tr>\n",
       "      <th>10</th>\n",
       "      <td>Ireland</td>\n",
       "      <td>20</td>\n",
       "      <td>1,083</td>\n",
       "      <td>54</td>\n",
       "    </tr>\n",
       "    <tr>\n",
       "      <th>11</th>\n",
       "      <td>Scotland</td>\n",
       "      <td>18</td>\n",
       "      <td>814</td>\n",
       "      <td>45</td>\n",
       "    </tr>\n",
       "    <tr>\n",
       "      <th>12</th>\n",
       "      <td>UAE</td>\n",
       "      <td>19</td>\n",
       "      <td>724</td>\n",
       "      <td>38</td>\n",
       "    </tr>\n",
       "    <tr>\n",
       "      <th>13</th>\n",
       "      <td>Netherlands</td>\n",
       "      <td>18</td>\n",
       "      <td>603</td>\n",
       "      <td>34</td>\n",
       "    </tr>\n",
       "    <tr>\n",
       "      <th>14</th>\n",
       "      <td>Zimbabwe</td>\n",
       "      <td>17</td>\n",
       "      <td>539</td>\n",
       "      <td>32</td>\n",
       "    </tr>\n",
       "    <tr>\n",
       "      <th>15</th>\n",
       "      <td>Oman</td>\n",
       "      <td>30</td>\n",
       "      <td>919</td>\n",
       "      <td>31</td>\n",
       "    </tr>\n",
       "    <tr>\n",
       "      <th>16</th>\n",
       "      <td>United States</td>\n",
       "      <td>20</td>\n",
       "      <td>544</td>\n",
       "      <td>27</td>\n",
       "    </tr>\n",
       "    <tr>\n",
       "      <th>17</th>\n",
       "      <td>Namibia</td>\n",
       "      <td>11</td>\n",
       "      <td>246</td>\n",
       "      <td>22</td>\n",
       "    </tr>\n",
       "    <tr>\n",
       "      <th>18</th>\n",
       "      <td>Nepal</td>\n",
       "      <td>18</td>\n",
       "      <td>298</td>\n",
       "      <td>17</td>\n",
       "    </tr>\n",
       "    <tr>\n",
       "      <th>19</th>\n",
       "      <td>Papua New Guinea</td>\n",
       "      <td>22</td>\n",
       "      <td>134</td>\n",
       "      <td>6</td>\n",
       "    </tr>\n",
       "  </tbody>\n",
       "</table>\n",
       "</div>"
      ],
      "text/plain": [
       "           team_name matches points ranks\n",
       "0        New Zealand      12  1,505   125\n",
       "1            England      22  2,756   125\n",
       "2           Pakistan      19  2,005   106\n",
       "3              India      22  2,304   105\n",
       "4          Australia      22  2,182    99\n",
       "5       South Africa      19  1,872    99\n",
       "6         Bangladesh      24  2,275    95\n",
       "7          Sri Lanka      28  2,609    93\n",
       "8        West Indies      32  2,306    72\n",
       "9        Afghanistan      18  1,238    69\n",
       "10           Ireland      20  1,083    54\n",
       "11          Scotland      18    814    45\n",
       "12               UAE      19    724    38\n",
       "13       Netherlands      18    603    34\n",
       "14          Zimbabwe      17    539    32\n",
       "15              Oman      30    919    31\n",
       "16     United States      20    544    27\n",
       "17           Namibia      11    246    22\n",
       "18             Nepal      18    298    17\n",
       "19  Papua New Guinea      22    134     6"
      ]
     },
     "execution_count": 494,
     "metadata": {},
     "output_type": "execute_result"
    }
   ],
   "source": [
    "data_cricketinfo"
   ]
  }
 ],
 "metadata": {
  "kernelspec": {
   "display_name": "Python 3 (ipykernel)",
   "language": "python",
   "name": "python3"
  },
  "language_info": {
   "codemirror_mode": {
    "name": "ipython",
    "version": 3
   },
   "file_extension": ".py",
   "mimetype": "text/x-python",
   "name": "python",
   "nbconvert_exporter": "python",
   "pygments_lexer": "ipython3",
   "version": "3.9.12"
  },
  "varInspector": {
   "cols": {
    "lenName": 16,
    "lenType": 16,
    "lenVar": 40
   },
   "kernels_config": {
    "python": {
     "delete_cmd_postfix": "",
     "delete_cmd_prefix": "del ",
     "library": "var_list.py",
     "varRefreshCmd": "print(var_dic_list())"
    },
    "r": {
     "delete_cmd_postfix": ") ",
     "delete_cmd_prefix": "rm(",
     "library": "var_list.r",
     "varRefreshCmd": "cat(var_dic_list()) "
    }
   },
   "types_to_exclude": [
    "module",
    "function",
    "builtin_function_or_method",
    "instance",
    "_Feature"
   ],
   "window_display": false
  }
 },
 "nbformat": 4,
 "nbformat_minor": 5
}
