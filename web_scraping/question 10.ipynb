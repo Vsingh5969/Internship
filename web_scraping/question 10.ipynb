{
 "cells": [
  {
   "cell_type": "code",
   "execution_count": 59,
   "id": "df5d4d6e",
   "metadata": {},
   "outputs": [],
   "source": [
    "import requests\n",
    "from bs4 import BeautifulSoup\n",
    "import pandas as pd \n"
   ]
  },
  {
   "cell_type": "code",
   "execution_count": 60,
   "id": "61328b86",
   "metadata": {},
   "outputs": [],
   "source": [
    "url=\"https://scholar.google.com/citations?view_op=top_venues&hl=en\"\n",
    "response=requests.get(url)\n"
   ]
  },
  {
   "cell_type": "code",
   "execution_count": 61,
   "id": "0843e7cb",
   "metadata": {},
   "outputs": [],
   "source": [
    "soup=BeautifulSoup(response.content,'html.parser')\n",
    "\n",
    "publi=[]\n",
    "rank=[]\n",
    "h5_index=[]\n",
    "h5_median=[]"
   ]
  },
  {
   "cell_type": "code",
   "execution_count": 62,
   "id": "6da66c83",
   "metadata": {},
   "outputs": [],
   "source": [
    "c=soup.find_all('id',attrs={'id':\"gsc_mvt_table\",'class':\"gsc_mp_table\"})"
   ]
  },
  {
   "cell_type": "code",
   "execution_count": 63,
   "id": "e2d91755",
   "metadata": {},
   "outputs": [],
   "source": [
    "d=soup.find_all('td',class_=\"gsc_mvt_t\")\n",
    "for f in d:\n",
    "    c=f.text\n",
    "    publi.append(c)"
   ]
  },
  {
   "cell_type": "code",
   "execution_count": 64,
   "id": "30b3342b",
   "metadata": {},
   "outputs": [],
   "source": [
    "m=soup.find_all('td',class_=\"gsc_mvt_p\")\n",
    "for g in m:\n",
    "    j=g.text\n",
    "    rank.append(j)"
   ]
  },
  {
   "cell_type": "code",
   "execution_count": 65,
   "id": "55cafe00",
   "metadata": {},
   "outputs": [],
   "source": [
    "u=soup.find_all('a',class_=\"gs_ibl gsc_mp_anchor\")\n",
    "for r in u:\n",
    "    m=r.text\n",
    "    h5_index.append(m)\n",
    "    "
   ]
  },
  {
   "cell_type": "code",
   "execution_count": 66,
   "id": "1580209f",
   "metadata": {},
   "outputs": [],
   "source": [
    "o=soup.find_all('span',class_=\"gs_ibl gsc_mp_anchor\")\n",
    "for t in o:\n",
    "    g=t.text\n",
    "    h5_median.append(g)"
   ]
  },
  {
   "cell_type": "code",
   "execution_count": 70,
   "id": "4a2be2c3",
   "metadata": {},
   "outputs": [],
   "source": [
    "Data_schlor=pd.DataFrame({'rank':rank,'publication':publi,'h5_index':h5_index,'h5_median':h5_median})"
   ]
  },
  {
   "cell_type": "code",
   "execution_count": 71,
   "id": "188c5f09",
   "metadata": {},
   "outputs": [
    {
     "data": {
      "text/html": [
       "<div>\n",
       "<style scoped>\n",
       "    .dataframe tbody tr th:only-of-type {\n",
       "        vertical-align: middle;\n",
       "    }\n",
       "\n",
       "    .dataframe tbody tr th {\n",
       "        vertical-align: top;\n",
       "    }\n",
       "\n",
       "    .dataframe thead th {\n",
       "        text-align: right;\n",
       "    }\n",
       "</style>\n",
       "<table border=\"1\" class=\"dataframe\">\n",
       "  <thead>\n",
       "    <tr style=\"text-align: right;\">\n",
       "      <th></th>\n",
       "      <th>rank</th>\n",
       "      <th>publication</th>\n",
       "      <th>h5_index</th>\n",
       "      <th>h5_median</th>\n",
       "    </tr>\n",
       "  </thead>\n",
       "  <tbody>\n",
       "    <tr>\n",
       "      <th>0</th>\n",
       "      <td>1.</td>\n",
       "      <td>Nature</td>\n",
       "      <td>414</td>\n",
       "      <td>607</td>\n",
       "    </tr>\n",
       "    <tr>\n",
       "      <th>1</th>\n",
       "      <td>2.</td>\n",
       "      <td>The New England Journal of Medicine</td>\n",
       "      <td>410</td>\n",
       "      <td>704</td>\n",
       "    </tr>\n",
       "    <tr>\n",
       "      <th>2</th>\n",
       "      <td>3.</td>\n",
       "      <td>Science</td>\n",
       "      <td>391</td>\n",
       "      <td>564</td>\n",
       "    </tr>\n",
       "    <tr>\n",
       "      <th>3</th>\n",
       "      <td>4.</td>\n",
       "      <td>IEEE/CVF Conference on Computer Vision and Pat...</td>\n",
       "      <td>356</td>\n",
       "      <td>583</td>\n",
       "    </tr>\n",
       "    <tr>\n",
       "      <th>4</th>\n",
       "      <td>5.</td>\n",
       "      <td>The Lancet</td>\n",
       "      <td>345</td>\n",
       "      <td>600</td>\n",
       "    </tr>\n",
       "    <tr>\n",
       "      <th>...</th>\n",
       "      <td>...</td>\n",
       "      <td>...</td>\n",
       "      <td>...</td>\n",
       "      <td>...</td>\n",
       "    </tr>\n",
       "    <tr>\n",
       "      <th>95</th>\n",
       "      <td>96.</td>\n",
       "      <td>Frontiers in Immunology</td>\n",
       "      <td>134</td>\n",
       "      <td>177</td>\n",
       "    </tr>\n",
       "    <tr>\n",
       "      <th>96</th>\n",
       "      <td>97.</td>\n",
       "      <td>Small</td>\n",
       "      <td>134</td>\n",
       "      <td>173</td>\n",
       "    </tr>\n",
       "    <tr>\n",
       "      <th>97</th>\n",
       "      <td>98.</td>\n",
       "      <td>Nature Immunology</td>\n",
       "      <td>133</td>\n",
       "      <td>210</td>\n",
       "    </tr>\n",
       "    <tr>\n",
       "      <th>98</th>\n",
       "      <td>99.</td>\n",
       "      <td>JAMA Oncology</td>\n",
       "      <td>133</td>\n",
       "      <td>202</td>\n",
       "    </tr>\n",
       "    <tr>\n",
       "      <th>99</th>\n",
       "      <td>100.</td>\n",
       "      <td>The Lancet Neurology</td>\n",
       "      <td>133</td>\n",
       "      <td>200</td>\n",
       "    </tr>\n",
       "  </tbody>\n",
       "</table>\n",
       "<p>100 rows × 4 columns</p>\n",
       "</div>"
      ],
      "text/plain": [
       "    rank                                        publication h5_index h5_median\n",
       "0     1.                                             Nature      414       607\n",
       "1     2.                The New England Journal of Medicine      410       704\n",
       "2     3.                                            Science      391       564\n",
       "3     4.  IEEE/CVF Conference on Computer Vision and Pat...      356       583\n",
       "4     5.                                         The Lancet      345       600\n",
       "..   ...                                                ...      ...       ...\n",
       "95   96.                            Frontiers in Immunology      134       177\n",
       "96   97.                                              Small      134       173\n",
       "97   98.                                  Nature Immunology      133       210\n",
       "98   99.                                      JAMA Oncology      133       202\n",
       "99  100.                               The Lancet Neurology      133       200\n",
       "\n",
       "[100 rows x 4 columns]"
      ]
     },
     "execution_count": 71,
     "metadata": {},
     "output_type": "execute_result"
    }
   ],
   "source": [
    "Data_schlor"
   ]
  }
 ],
 "metadata": {
  "kernelspec": {
   "display_name": "Python 3 (ipykernel)",
   "language": "python",
   "name": "python3"
  },
  "language_info": {
   "codemirror_mode": {
    "name": "ipython",
    "version": 3
   },
   "file_extension": ".py",
   "mimetype": "text/x-python",
   "name": "python",
   "nbconvert_exporter": "python",
   "pygments_lexer": "ipython3",
   "version": "3.9.12"
  },
  "varInspector": {
   "cols": {
    "lenName": 16,
    "lenType": 16,
    "lenVar": 40
   },
   "kernels_config": {
    "python": {
     "delete_cmd_postfix": "",
     "delete_cmd_prefix": "del ",
     "library": "var_list.py",
     "varRefreshCmd": "print(var_dic_list())"
    },
    "r": {
     "delete_cmd_postfix": ") ",
     "delete_cmd_prefix": "rm(",
     "library": "var_list.r",
     "varRefreshCmd": "cat(var_dic_list()) "
    }
   },
   "types_to_exclude": [
    "module",
    "function",
    "builtin_function_or_method",
    "instance",
    "_Feature"
   ],
   "window_display": false
  }
 },
 "nbformat": 4,
 "nbformat_minor": 5
}
