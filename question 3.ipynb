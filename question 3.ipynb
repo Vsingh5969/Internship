{
 "cells": [
  {
   "cell_type": "code",
   "execution_count": 95,
   "id": "9f9d3fdd",
   "metadata": {},
   "outputs": [],
   "source": [
    "#Write a python program to display IMDB’s Top rated 100 Indian movies’ data (i.e. name, rating, year of release) and make data frame.\n",
    "\n",
    "import pandas as pd \n",
    "import numpy as np \n",
    "import requests\n",
    "from bs4 import BeautifulSoup"
   ]
  },
  {
   "cell_type": "code",
   "execution_count": 88,
   "id": "590765af",
   "metadata": {},
   "outputs": [],
   "source": [
    "url='https://www.imdb.com/list/ls063915608/'\n",
    "response=requests.get(url)\n",
    "soup=BeautifulSoup(response.content,'html.parser')\n"
   ]
  },
  {
   "cell_type": "code",
   "execution_count": 89,
   "id": "5247d069",
   "metadata": {},
   "outputs": [],
   "source": [
    "Name=[]\n",
    "Year=[]\n",
    "Time_tt=[]\n",
    "Rating=[]"
   ]
  },
  {
   "cell_type": "code",
   "execution_count": 90,
   "id": "1f1457bc",
   "metadata": {},
   "outputs": [],
   "source": [
    "movie_data=soup.find_all('div',attrs={'class':'lister-item-content'})"
   ]
  },
  {
   "cell_type": "code",
   "execution_count": 91,
   "id": "b593abae",
   "metadata": {},
   "outputs": [],
   "source": [
    "for store in movie_data:\n",
    "    num=store.h3.a.text\n",
    "    Name.append(num)\n",
    "    \n",
    "    year=store.find('span',class_='lister-item-year text-muted unbold').text.replace('(','').replace(')','')\n",
    "    Year.append(year)\n",
    "    \n",
    "    time=store.p.find('span',class_='runtime').text.replace('min','').replace(' ','')\n",
    "    Time_tt.append(time)\n",
    "    \n",
    "    rating=store.find('span',class_='ipl-rating-star__rating').text if store.find('span',class_='ipl-rating-star__rating') else '^^^^'\n",
    "    Rating.append(rating)"
   ]
  },
  {
   "cell_type": "code",
   "execution_count": 93,
   "id": "6f3c4e95",
   "metadata": {},
   "outputs": [],
   "source": [
    "indian_movies=pd.DataFrame({'NAME':Name,'YEAR':Year,'TIME':Time_tt,'RATING':Rating})"
   ]
  },
  {
   "cell_type": "code",
   "execution_count": 94,
   "id": "67f18a0a",
   "metadata": {},
   "outputs": [
    {
     "data": {
      "text/html": [
       "<div>\n",
       "<style scoped>\n",
       "    .dataframe tbody tr th:only-of-type {\n",
       "        vertical-align: middle;\n",
       "    }\n",
       "\n",
       "    .dataframe tbody tr th {\n",
       "        vertical-align: top;\n",
       "    }\n",
       "\n",
       "    .dataframe thead th {\n",
       "        text-align: right;\n",
       "    }\n",
       "</style>\n",
       "<table border=\"1\" class=\"dataframe\">\n",
       "  <thead>\n",
       "    <tr style=\"text-align: right;\">\n",
       "      <th></th>\n",
       "      <th>NAME</th>\n",
       "      <th>YEAR</th>\n",
       "      <th>TIME</th>\n",
       "      <th>RATING</th>\n",
       "    </tr>\n",
       "  </thead>\n",
       "  <tbody>\n",
       "    <tr>\n",
       "      <th>0</th>\n",
       "      <td>Rang De Basanti</td>\n",
       "      <td>2006</td>\n",
       "      <td>167</td>\n",
       "      <td>8.1</td>\n",
       "    </tr>\n",
       "    <tr>\n",
       "      <th>1</th>\n",
       "      <td>Lagaan: Once Upon a Time in India</td>\n",
       "      <td>2001</td>\n",
       "      <td>224</td>\n",
       "      <td>8.1</td>\n",
       "    </tr>\n",
       "    <tr>\n",
       "      <th>2</th>\n",
       "      <td>Dil Chahta Hai</td>\n",
       "      <td>2001</td>\n",
       "      <td>183</td>\n",
       "      <td>8.1</td>\n",
       "    </tr>\n",
       "    <tr>\n",
       "      <th>3</th>\n",
       "      <td>Gangs of Wasseypur</td>\n",
       "      <td>2012</td>\n",
       "      <td>321</td>\n",
       "      <td>8.2</td>\n",
       "    </tr>\n",
       "    <tr>\n",
       "      <th>4</th>\n",
       "      <td>Zindagi Na Milegi Dobara</td>\n",
       "      <td>2011</td>\n",
       "      <td>155</td>\n",
       "      <td>8.1</td>\n",
       "    </tr>\n",
       "    <tr>\n",
       "      <th>...</th>\n",
       "      <td>...</td>\n",
       "      <td>...</td>\n",
       "      <td>...</td>\n",
       "      <td>...</td>\n",
       "    </tr>\n",
       "    <tr>\n",
       "      <th>95</th>\n",
       "      <td>Dhamaal</td>\n",
       "      <td>2007</td>\n",
       "      <td>136</td>\n",
       "      <td>7.4</td>\n",
       "    </tr>\n",
       "    <tr>\n",
       "      <th>96</th>\n",
       "      <td>Golmaal: Fun Unlimited</td>\n",
       "      <td>2006</td>\n",
       "      <td>150</td>\n",
       "      <td>7.4</td>\n",
       "    </tr>\n",
       "    <tr>\n",
       "      <th>97</th>\n",
       "      <td>Aligarh</td>\n",
       "      <td>2015</td>\n",
       "      <td>114</td>\n",
       "      <td>7.8</td>\n",
       "    </tr>\n",
       "    <tr>\n",
       "      <th>98</th>\n",
       "      <td>Earth</td>\n",
       "      <td>1999</td>\n",
       "      <td>110</td>\n",
       "      <td>7.6</td>\n",
       "    </tr>\n",
       "    <tr>\n",
       "      <th>99</th>\n",
       "      <td>Kapoor &amp; Sons</td>\n",
       "      <td>2016</td>\n",
       "      <td>132</td>\n",
       "      <td>7.7</td>\n",
       "    </tr>\n",
       "  </tbody>\n",
       "</table>\n",
       "<p>100 rows × 4 columns</p>\n",
       "</div>"
      ],
      "text/plain": [
       "                                 NAME  YEAR TIME RATING\n",
       "0                     Rang De Basanti  2006  167    8.1\n",
       "1   Lagaan: Once Upon a Time in India  2001  224    8.1\n",
       "2                      Dil Chahta Hai  2001  183    8.1\n",
       "3                  Gangs of Wasseypur  2012  321    8.2\n",
       "4            Zindagi Na Milegi Dobara  2011  155    8.1\n",
       "..                                ...   ...  ...    ...\n",
       "95                            Dhamaal  2007  136    7.4\n",
       "96             Golmaal: Fun Unlimited  2006  150    7.4\n",
       "97                            Aligarh  2015  114    7.8\n",
       "98                              Earth  1999  110    7.6\n",
       "99                      Kapoor & Sons  2016  132    7.7\n",
       "\n",
       "[100 rows x 4 columns]"
      ]
     },
     "execution_count": 94,
     "metadata": {},
     "output_type": "execute_result"
    }
   ],
   "source": [
    "indian_movies"
   ]
  }
 ],
 "metadata": {
  "kernelspec": {
   "display_name": "Python 3 (ipykernel)",
   "language": "python",
   "name": "python3"
  },
  "language_info": {
   "codemirror_mode": {
    "name": "ipython",
    "version": 3
   },
   "file_extension": ".py",
   "mimetype": "text/x-python",
   "name": "python",
   "nbconvert_exporter": "python",
   "pygments_lexer": "ipython3",
   "version": "3.9.12"
  },
  "varInspector": {
   "cols": {
    "lenName": 16,
    "lenType": 16,
    "lenVar": 40
   },
   "kernels_config": {
    "python": {
     "delete_cmd_postfix": "",
     "delete_cmd_prefix": "del ",
     "library": "var_list.py",
     "varRefreshCmd": "print(var_dic_list())"
    },
    "r": {
     "delete_cmd_postfix": ") ",
     "delete_cmd_prefix": "rm(",
     "library": "var_list.r",
     "varRefreshCmd": "cat(var_dic_list()) "
    }
   },
   "types_to_exclude": [
    "module",
    "function",
    "builtin_function_or_method",
    "instance",
    "_Feature"
   ],
   "window_display": false
  }
 },
 "nbformat": 4,
 "nbformat_minor": 5
}
