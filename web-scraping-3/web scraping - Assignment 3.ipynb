{
 "cells": [
  {
   "cell_type": "code",
   "execution_count": 419,
   "id": "dddf985c",
   "metadata": {},
   "outputs": [],
   "source": [
    "import selenium\n",
    "import pandas as pd \n",
    "from bs4 import BeautifulSoup\n",
    "import time\n",
    "\n",
    "\n",
    "from selenium import webdriver\n",
    "from selenium.common.exceptions import NoSuchElementException,StaleElementReferenceException\n",
    "import requests\n",
    "import re\n",
    "from selenium.webdriver.common.by import By"
   ]
  },
  {
   "cell_type": "markdown",
   "id": "b376eb38",
   "metadata": {},
   "source": [
    "# question 1 & 2"
   ]
  },
  {
   "cell_type": "code",
   "execution_count": 38,
   "id": "46d99dc0",
   "metadata": {},
   "outputs": [
    {
     "name": "stderr",
     "output_type": "stream",
     "text": [
      "<ipython-input-38-d99fcd935258>:1: DeprecationWarning: executable_path has been deprecated, please pass in a Service object\n",
      "  driver= webdriver.Chrome('chromedriver.exe')\n"
     ]
    }
   ],
   "source": [
    "driver= webdriver.Chrome('chromedriver.exe')"
   ]
  },
  {
   "cell_type": "code",
   "execution_count": 39,
   "id": "e974d2e5",
   "metadata": {},
   "outputs": [],
   "source": [
    "driver.get('https://www.amazon.com/')"
   ]
  },
  {
   "cell_type": "code",
   "execution_count": 40,
   "id": "c22635a0",
   "metadata": {},
   "outputs": [],
   "source": [
    "search_item=driver.find_element(By.XPATH,'/html/body/div[1]/header/div/div[1]/div[2]/div/form/div[2]/div[1]/input')\n",
    "search_item.send_keys('guitar')\n",
    "\n",
    "search_button=driver.find_element(By.XPATH,'/html/body/div[1]/header/div/div[1]/div[2]/div/form/div[3]/div/span/input')\n",
    "search_button.click()"
   ]
  },
  {
   "cell_type": "code",
   "execution_count": 41,
   "id": "e4cf028c",
   "metadata": {},
   "outputs": [],
   "source": [
    "url=[]\n",
    "start=0\n",
    "end=2\n",
    "for page in range(start,end):\n",
    "    Link=driver.find_elements(By.XPATH,'//a[@class=\"a-link-normal s-underline-text s-underline-link-text s-link-style a-text-normal\"]')\n",
    "\n",
    "    for i in Link:\n",
    "        c=i.text\n",
    "        url.append(i.get_attribute('href'))\n",
    "    next_button=driver.find_elements(By.XPATH,'/html/body/div[1]/div[2]/div[1]/div[1]/div/span[3]/div[2]/div[67]/div/div/span/a[3]')"
   ]
  },
  {
   "cell_type": "code",
   "execution_count": 42,
   "id": "7f238893",
   "metadata": {},
   "outputs": [
    {
     "data": {
      "text/plain": [
       "128"
      ]
     },
     "execution_count": 42,
     "metadata": {},
     "output_type": "execute_result"
    }
   ],
   "source": [
    "len(url)\n"
   ]
  },
  {
   "cell_type": "code",
   "execution_count": 75,
   "id": "4b792dff",
   "metadata": {},
   "outputs": [
    {
     "data": {
      "text/plain": [
       "127"
      ]
     },
     "execution_count": 75,
     "metadata": {},
     "output_type": "execute_result"
    }
   ],
   "source": [
    "len(descpt)"
   ]
  },
  {
   "cell_type": "code",
   "execution_count": 78,
   "id": "048fca2f",
   "metadata": {},
   "outputs": [
    {
     "data": {
      "text/plain": [
       "129"
      ]
     },
     "execution_count": 78,
     "metadata": {},
     "output_type": "execute_result"
    }
   ],
   "source": [
    "len(descpt)"
   ]
  },
  {
   "cell_type": "code",
   "execution_count": 167,
   "id": "6c5c2e78",
   "metadata": {},
   "outputs": [],
   "source": [
    "desc=descpt[0:127]"
   ]
  },
  {
   "cell_type": "code",
   "execution_count": 168,
   "id": "7b8c4798",
   "metadata": {},
   "outputs": [
    {
     "data": {
      "text/plain": [
       "127"
      ]
     },
     "execution_count": 168,
     "metadata": {},
     "output_type": "execute_result"
    }
   ],
   "source": [
    "len(desc)"
   ]
  },
  {
   "cell_type": "code",
   "execution_count": 85,
   "id": "114475e8",
   "metadata": {},
   "outputs": [],
   "source": [
    "price=[]"
   ]
  },
  {
   "cell_type": "code",
   "execution_count": 110,
   "id": "be1d3fbf",
   "metadata": {},
   "outputs": [],
   "source": [
    "for i in url[127:129]:\n",
    "    driver.get(i)\n",
    "    time.sleep(4)\n",
    "    try :\n",
    "        Pricelink=driver.find_element(By.XPATH,'/html/body/div[1]/div[2]/div[7]/div[6]/div[1]/div[4]/div/div/div/div/form/div/div/div/div/div[2]/div[1]/div')\n",
    "        price.append(Pricelink.text)\n",
    "    except NoSuchElementException :\n",
    "        price.append('not present')"
   ]
  },
  {
   "cell_type": "code",
   "execution_count": 111,
   "id": "df54609a",
   "metadata": {},
   "outputs": [
    {
     "data": {
      "text/plain": [
       "127"
      ]
     },
     "execution_count": 111,
     "metadata": {},
     "output_type": "execute_result"
    }
   ],
   "source": [
    "len(price)"
   ]
  },
  {
   "cell_type": "code",
   "execution_count": null,
   "id": "50896fda",
   "metadata": {},
   "outputs": [],
   "source": []
  },
  {
   "cell_type": "code",
   "execution_count": 112,
   "id": "1c5d49f3",
   "metadata": {},
   "outputs": [],
   "source": [
    "item_deliverystatus=[]"
   ]
  },
  {
   "cell_type": "code",
   "execution_count": 135,
   "id": "164f0cc1",
   "metadata": {},
   "outputs": [],
   "source": [
    "for i in url[127:129]:\n",
    "    driver.get(i)\n",
    "    time.sleep(4)\n",
    "    try:\n",
    "        delivery=driver.find_element(By.XPATH,'/html/body/div[1]/div[2]/div[7]/div[6]/div[1]/div[4]/div/div/div/div/form/div/div/div/div/div[3]/div/div[2]/div[8]/div[1]/div/div/div[2]/span')\n",
    "        item_deliverystatus.append(delivery.text)\n",
    "    except NoSuchElementException:\n",
    "        item_deliverystatus.append('not present')"
   ]
  },
  {
   "cell_type": "code",
   "execution_count": 136,
   "id": "d770ac44",
   "metadata": {},
   "outputs": [
    {
     "data": {
      "text/plain": [
       "127"
      ]
     },
     "execution_count": 136,
     "metadata": {},
     "output_type": "execute_result"
    }
   ],
   "source": [
    "len(item_deliverystatus)\n"
   ]
  },
  {
   "cell_type": "code",
   "execution_count": null,
   "id": "a1a47435",
   "metadata": {},
   "outputs": [],
   "source": []
  },
  {
   "cell_type": "code",
   "execution_count": null,
   "id": "3d3f86f1",
   "metadata": {},
   "outputs": [],
   "source": []
  },
  {
   "cell_type": "code",
   "execution_count": 137,
   "id": "0ddca1f5",
   "metadata": {},
   "outputs": [],
   "source": [
    "stock_status=[]\n",
    "brand_name=[]"
   ]
  },
  {
   "cell_type": "code",
   "execution_count": 162,
   "id": "e87e0256",
   "metadata": {},
   "outputs": [],
   "source": [
    "for i in url[127:129]:\n",
    "    driver.get(i)\n",
    "    time.sleep(4)\n",
    "    try:\n",
    "        delivery=driver.find_element(By.XPATH,'/html/body/div[1]/div[2]/div[7]/div[6]/div[1]/div[4]/div/div/div/div/form/div/div/div/div/div[3]/div/div[5]/div/div[1]/span')\n",
    "        Brand_link=driver.find_element(By.XPATH,'/html/body/div[1]/div[2]/div[7]/div[6]/div[4]/div[2]')\n",
    "        stock_status.append(delivery.text)\n",
    "        brand_name.append(Brand_link.text)\n",
    "    except NoSuchElementException:\n",
    "        stock_status.append('not present')\n",
    "        brand_name.append('not present')"
   ]
  },
  {
   "cell_type": "code",
   "execution_count": 170,
   "id": "4b788445",
   "metadata": {},
   "outputs": [
    {
     "data": {
      "text/plain": [
       "(127, 127, 127, 127, 127)"
      ]
     },
     "execution_count": 170,
     "metadata": {},
     "output_type": "execute_result"
    }
   ],
   "source": [
    "len(stock_status) ,len(brand_name),len(price),len(item_deliverystatus),len(desc)"
   ]
  },
  {
   "cell_type": "code",
   "execution_count": 171,
   "id": "48e091a2",
   "metadata": {},
   "outputs": [],
   "source": [
    "guitar=pd.DataFrame({'Brand name':brand_name,'Description':desc,'Delivery status':item_deliverystatus,'stock':stock_status,'price':price})"
   ]
  },
  {
   "cell_type": "code",
   "execution_count": 183,
   "id": "7a7ef09d",
   "metadata": {},
   "outputs": [],
   "source": [
    "guitar.to_csv(r'C:\\Users\\Baibhav kumar Singh\\Desktop\\guitar.csv')"
   ]
  },
  {
   "cell_type": "code",
   "execution_count": null,
   "id": "b837cb98",
   "metadata": {},
   "outputs": [],
   "source": []
  },
  {
   "cell_type": "markdown",
   "id": "916d243d",
   "metadata": {},
   "source": [
    "# question 4"
   ]
  },
  {
   "cell_type": "code",
   "execution_count": 184,
   "id": "d719bc05",
   "metadata": {},
   "outputs": [
    {
     "name": "stderr",
     "output_type": "stream",
     "text": [
      "<ipython-input-184-d99fcd935258>:1: DeprecationWarning: executable_path has been deprecated, please pass in a Service object\n",
      "  driver= webdriver.Chrome('chromedriver.exe')\n"
     ]
    }
   ],
   "source": [
    "driver= webdriver.Chrome('chromedriver.exe')"
   ]
  },
  {
   "cell_type": "code",
   "execution_count": 185,
   "id": "68b69117",
   "metadata": {},
   "outputs": [],
   "source": [
    "driver.get('https://www.flipkart.com/')"
   ]
  },
  {
   "cell_type": "code",
   "execution_count": 186,
   "id": "ce443c90",
   "metadata": {},
   "outputs": [],
   "source": [
    "search_item=driver.find_element(By.XPATH,'/html/body/div[1]/div/div[1]/div[1]/div[2]/div[2]/form/div/div/input')\n",
    "search_item.send_keys('smartphone')\n",
    "\n",
    "search_button=driver.find_element(By.XPATH,'/html/body/div[1]/div/div[1]/div[1]/div[2]/div[2]/form/div/button')\n",
    "search_button.click()"
   ]
  },
  {
   "cell_type": "code",
   "execution_count": 194,
   "id": "beb86784",
   "metadata": {},
   "outputs": [],
   "source": [
    "url=[]"
   ]
  },
  {
   "cell_type": "code",
   "execution_count": 195,
   "id": "55ebafa4",
   "metadata": {},
   "outputs": [],
   "source": [
    "start=0\n",
    "end=2\n",
    "for page in range(start,end):\n",
    "    Link=driver.find_elements(By.XPATH,'//a[@class=\"_1fQZEK\"]')\n",
    "\n",
    "    for i in Link:\n",
    "        c=i.text\n",
    "        url.append(i.get_attribute('href'))\n",
    "    next_button=driver.find_elements(By.XPATH,'/html/body/div[1]/div/div[3]/div[1]/div[2]/div[26]/div/div/nav/a[11]')"
   ]
  },
  {
   "cell_type": "code",
   "execution_count": 196,
   "id": "4b03ba18",
   "metadata": {},
   "outputs": [
    {
     "data": {
      "text/plain": [
       "48"
      ]
     },
     "execution_count": 196,
     "metadata": {},
     "output_type": "execute_result"
    }
   ],
   "source": [
    "len(url)"
   ]
  },
  {
   "cell_type": "code",
   "execution_count": 234,
   "id": "e4f4347e",
   "metadata": {},
   "outputs": [],
   "source": [
    "Brand=[]\n",
    "Storage=[]\n",
    "Camera=[]\n",
    "Display=[]\n",
    "Battery=[]\n",
    "Price=[]\n",
    "URL=[]"
   ]
  },
  {
   "cell_type": "code",
   "execution_count": null,
   "id": "a0c17fbc",
   "metadata": {},
   "outputs": [],
   "source": []
  },
  {
   "cell_type": "code",
   "execution_count": 235,
   "id": "6d4809d0",
   "metadata": {},
   "outputs": [],
   "source": [
    "for i in url:\n",
    "    driver.get(i)\n",
    "    time.sleep(4)\n",
    "    try:\n",
    "        storage_link=driver.find_element(By.XPATH,'/html/body/div[1]/div/div[3]/div[1]/div[2]/div[6]/div/div[2]')\n",
    "        Brand_link=driver.find_element(By.XPATH,'/html/body/div[1]/div/div[3]/div[1]/div[2]/div[2]/div/div[1]')\n",
    "       \n",
    "        \n",
    "    \n",
    "        Storage.append(storage_link.text)\n",
    "        Brand.append(Brand_link.text)\n",
    "        \n",
    "    except NoSuchElementException:\n",
    "        Storage.append('not present')\n",
    "        Brand.append('not present')\n",
    "     "
   ]
  },
  {
   "cell_type": "code",
   "execution_count": 238,
   "id": "42aa78d6",
   "metadata": {},
   "outputs": [
    {
     "data": {
      "text/plain": [
       "(48, 48)"
      ]
     },
     "execution_count": 238,
     "metadata": {},
     "output_type": "execute_result"
    }
   ],
   "source": [
    "len(Brand),len(Storage) \n"
   ]
  },
  {
   "cell_type": "code",
   "execution_count": 240,
   "id": "fd5575ca",
   "metadata": {},
   "outputs": [],
   "source": [
    "for i in url:\n",
    "    driver.get(i)\n",
    "    time.sleep(4)\n",
    "    try:\n",
    "        camera_link=driver.find_element(By.XPATH,'/html/body/div[1]/div/div[3]/div[1]/div[2]/div[8]/div[1]/div/div[2]/ul/li[3]')\n",
    "        display_link=driver.find_element(By.XPATH,'/html/body/div[1]/div/div[3]/div[1]/div[2]/div[8]/div[1]/div/div[2]/ul/li[2]')\n",
    "        battry_link=driver.find_element(By.XPATH,'/html/body/div[1]/div/div[3]/div[1]/div[2]/div[8]/div[1]/div/div[2]/ul/li[4]')\n",
    "        price_link=driver.find_element(By.XPATH,'/html/body/div[1]/div/div[3]/div[1]/div[2]/div[2]/div/div[4]/div[1]/div/div[1]')\n",
    "\n",
    "        Camera.append(camera_link.text)\n",
    "        Display.append(display_link.text)\n",
    "        Battery.append(battry_link.text)\n",
    "        Price.append(price_link.text)\n",
    "    except NoSuchElementException:\n",
    "        Camera.append('not present')\n",
    "        Display.append('not present')\n",
    "        Battery.append('not present')\n",
    "        Price.append('not present')"
   ]
  },
  {
   "cell_type": "code",
   "execution_count": 241,
   "id": "24f0574a",
   "metadata": {},
   "outputs": [
    {
     "data": {
      "text/plain": [
       "(48, 48, 48, 48)"
      ]
     },
     "execution_count": 241,
     "metadata": {},
     "output_type": "execute_result"
    }
   ],
   "source": [
    "len(Camera),len(Display),len(Battery) ,len(Price)"
   ]
  },
  {
   "cell_type": "code",
   "execution_count": 247,
   "id": "9b3a0fe9",
   "metadata": {},
   "outputs": [],
   "source": [
    "data={'Brand':Brand,'Storage':Storage,'Display':Display,'Camera':Camera,'Battery':Battery,'Price':Price}"
   ]
  },
  {
   "cell_type": "code",
   "execution_count": 250,
   "id": "e958c2f0",
   "metadata": {},
   "outputs": [],
   "source": [
    "mobile_info=pd.DataFrame(data)\n",
    "mobile_info.to_csv(r'C:\\Users\\Baibhav kumar Singh\\Desktop\\mobile_info.csv')"
   ]
  },
  {
   "cell_type": "code",
   "execution_count": null,
   "id": "a62ac814",
   "metadata": {},
   "outputs": [],
   "source": []
  },
  {
   "cell_type": "code",
   "execution_count": null,
   "id": "6c4e7d6c",
   "metadata": {},
   "outputs": [],
   "source": []
  },
  {
   "cell_type": "markdown",
   "id": "f68239da",
   "metadata": {},
   "source": [
    "# question 3"
   ]
  },
  {
   "cell_type": "code",
   "execution_count": 164,
   "id": "c0c071f4",
   "metadata": {},
   "outputs": [],
   "source": [
    "import urllib.request"
   ]
  },
  {
   "cell_type": "code",
   "execution_count": 253,
   "id": "3b185915",
   "metadata": {},
   "outputs": [
    {
     "name": "stderr",
     "output_type": "stream",
     "text": [
      "<ipython-input-253-0214d34901b8>:1: DeprecationWarning: executable_path has been deprecated, please pass in a Service object\n",
      "  driver= webdriver.Chrome('chromedriver.exe')\n"
     ]
    }
   ],
   "source": [
    "driver= webdriver.Chrome('chromedriver.exe')\n",
    "driver.get('https://images.google.com/')"
   ]
  },
  {
   "cell_type": "code",
   "execution_count": 255,
   "id": "ff7fb7ac",
   "metadata": {},
   "outputs": [],
   "source": [
    "search_image=driver.find_element(By.XPATH,'/html/body/div[1]/div[3]/form/div[1]/div[1]/div[1]/div/div[2]/input')\n",
    "search_image.send_keys('cake')\n",
    "search_button=driver.find_element(By.XPATH,'/html/body/div[1]/div[3]/form/div[1]/div[1]/div[1]/button')\n",
    "search_button.click()"
   ]
  },
  {
   "cell_type": "code",
   "execution_count": 206,
   "id": "bab7ff1b",
   "metadata": {},
   "outputs": [],
   "source": [
    "####  fruits.......\n",
    "\n",
    "image_Link=driver.find_elements(By.XPATH,'//img[@class=\"rg_i Q4LuWd\"]')\n",
    "\n",
    "for i in image_Link:\n",
    "    if i.get_attribute('src') and 'https' in i.get_attribute('src'):\n",
    "                img_url.append(i.get_attribute('src'))"
   ]
  },
  {
   "cell_type": "code",
   "execution_count": 207,
   "id": "e750b62e",
   "metadata": {},
   "outputs": [],
   "source": [
    "for i in range(len(img_url)):\n",
    "    name=r\"C:/Users/Baibhav kumar Singh/fruit/fruits\"+str(i)+'.jpeg'\n",
    "    urllib.request.urlretrieve(img_url[i],name)"
   ]
  },
  {
   "cell_type": "code",
   "execution_count": null,
   "id": "9f700724",
   "metadata": {},
   "outputs": [],
   "source": []
  },
  {
   "cell_type": "code",
   "execution_count": 200,
   "id": "22e9795e",
   "metadata": {},
   "outputs": [],
   "source": [
    "##### cars....\n",
    "car=[]\n",
    "\n",
    "image_car=driver.find_elements(By.XPATH,'//img[@class=\"rg_i Q4LuWd\"]')\n",
    "for i in image_car:\n",
    "    \n",
    "    if i.get_attribute('src') and 'https' in i.get_attribute('src'):\n",
    "                car.append(i.get_attribute('src'))\n"
   ]
  },
  {
   "cell_type": "code",
   "execution_count": 205,
   "id": "115fe8e3",
   "metadata": {},
   "outputs": [],
   "source": [
    "for i in range(len(car)):\n",
    "    name=r\"B:/guiter/cars\"+str(i)+'.jpeg'\n",
    "    urllib.request.urlretrieve(car[i],name)"
   ]
  },
  {
   "cell_type": "code",
   "execution_count": null,
   "id": "37aec411",
   "metadata": {},
   "outputs": [],
   "source": []
  },
  {
   "cell_type": "code",
   "execution_count": 237,
   "id": "52720f34",
   "metadata": {},
   "outputs": [],
   "source": [
    "#### maching learning\n",
    "ml=[]\n",
    "image_ml1=driver.find_elements(By.XPATH,'//img[@class=\"rg_i Q4LuWd\"]')\n",
    "for i in image_ml1:\n",
    "    \n",
    "    if i.get_attribute('src') and 'https' in i.get_attribute('src'):\n",
    "                ml.append(i.get_attribute('src'))\n"
   ]
  },
  {
   "cell_type": "code",
   "execution_count": 240,
   "id": "5584c49b",
   "metadata": {},
   "outputs": [],
   "source": [
    "for i in range(len(ml)):\n",
    "    name=r\"B:/machine/ma\"+str(i)+'.jpeg'\n",
    "    urllib.request.urlretrieve(ml[i],name)"
   ]
  },
  {
   "cell_type": "code",
   "execution_count": 250,
   "id": "0ceaadf9",
   "metadata": {},
   "outputs": [],
   "source": [
    "### guitar..........\n",
    "guitar=[]\n",
    "image_guitar1=driver.find_elements(By.XPATH,'//img[@class=\"rg_i Q4LuWd\"]')\n",
    "for i in image_guitar1:\n",
    "    \n",
    "    if i.get_attribute('src') and 'https' in i.get_attribute('src'):\n",
    "                guitar.append(i.get_attribute('src'))\n"
   ]
  },
  {
   "cell_type": "code",
   "execution_count": 252,
   "id": "64e6c1cf",
   "metadata": {},
   "outputs": [],
   "source": [
    "for i in range(len(guitar)):\n",
    "    name=r\"B:/guiter/g1\"+str(i)+'.jpeg'\n",
    "    urllib.request.urlretrieve(guitar[i],name)"
   ]
  },
  {
   "cell_type": "code",
   "execution_count": null,
   "id": "dfb945d3",
   "metadata": {},
   "outputs": [],
   "source": []
  },
  {
   "cell_type": "code",
   "execution_count": 264,
   "id": "16d34bbc",
   "metadata": {},
   "outputs": [],
   "source": [
    "## cake.........\n",
    "\n",
    "cake_link=driver.find_elements(By.XPATH,'//img[@class=\"rg_i Q4LuWd\"]')\n",
    "for i in image_cake2:                       \n",
    "    \n",
    "    if i.get_attribute('src') and 'https' in i.get_attribute('src'):\n",
    "        \n",
    "        cake_img.append(i.get_attribute('src'))"
   ]
  },
  {
   "cell_type": "code",
   "execution_count": 268,
   "id": "4c861761",
   "metadata": {},
   "outputs": [],
   "source": [
    "for i in range(len(cake_img)):\n",
    "    name=r\"B:/guiter/cake\"+str(i)+'.jpeg'\n",
    "    urllib.request.urlretrieve(cake_img[i],name)\n",
    "\n"
   ]
  },
  {
   "cell_type": "markdown",
   "id": "8873bed8",
   "metadata": {},
   "source": [
    "# question 5"
   ]
  },
  {
   "cell_type": "code",
   "execution_count": 271,
   "id": "a794ef4f",
   "metadata": {},
   "outputs": [
    {
     "name": "stderr",
     "output_type": "stream",
     "text": [
      "<ipython-input-271-7e557c6e106f>:1: DeprecationWarning: executable_path has been deprecated, please pass in a Service object\n",
      "  driver= webdriver.Chrome('chromedriver.exe')\n"
     ]
    }
   ],
   "source": [
    "driver= webdriver.Chrome('chromedriver.exe')\n",
    "driver.get('https://trak.in/india-startup-funding-investment-2015/')"
   ]
  },
  {
   "cell_type": "code",
   "execution_count": 411,
   "id": "7d7b93b9",
   "metadata": {},
   "outputs": [
    {
     "data": {
      "text/plain": [
       "[\"Sr. No. Date (dd/mm/yyyy) Startup Name Industry / Vertical Sub-Vertical City / Location Investors' Name Investment Type Amount (In USD)\",\n",
       " '1 04/03/2021 DealShare E-commerce Online shopping platform Jaipur, Rajasthan Innoven Capital Debt Financing 250,000,000',\n",
       " '2 31/03/2021 Uniphore Technology Conversational Service Automation (CSA) Palo Alto Sorenson Capital Partners Series D 140,000,000',\n",
       " '3 30/03/2021 Dunzo E-commerce Hyper-local delivery app Bengaluru Krishtal Advisors Pte Ltd Series E 8,000,000',\n",
       " '4 30/03/2021 BYJU’S Edu-tech Online tutoring Bengaluru MC Global Edtech, B Capital, Baron, others Series F 460,000,000',\n",
       " '5 23/03/2021 SkilloVilla Edu-tech Career and job-oriented upskilling. Bengaluru Titan Capital, others Seed 300,000,000',\n",
       " '6 25/03/2021 CityMall E-commerce Social ecommerce and online grocery platform Gurgaon Accel Partners Series A 11,000,000',\n",
       " '7 26/03/2021 DotPe FinTech Commerce and payments platform to offline enterprise businesses. Gurgaon PayU Series A 27,500,000']"
      ]
     },
     "execution_count": 411,
     "metadata": {},
     "output_type": "execute_result"
    }
   ],
   "source": [
    "march_link=driver.find_element(By.ID,\"tablepress-56_wrapper\")\n",
    "march=march_link.text.split('\\n')[7:-2]\n",
    "march"
   ]
  },
  {
   "cell_type": "code",
   "execution_count": 410,
   "id": "f7af8dc4",
   "metadata": {},
   "outputs": [
    {
     "data": {
      "text/plain": [
       "[\"Sr. No. Date (dd/mm/yyyy) Startup Name Industry / Vertical Sub-Vertical City / Location Investors' Name Investment Type Amount (In USD)\",\n",
       " '1 11/02/2021 Doubtnut Edu Tech E-Learning Platform Gurgaon SIG Global, Sequoia Capital, WaterBridge Ventures and ON Mauritius Series B 2,500,000',\n",
       " '2 22/02/2021 Zomato Hospitality Online Food Delivery Platform Gurgaon Tiger Global, Kora Venture 250,000,000',\n",
       " '3 19/02/2021 Fingerlix Hospitality Semi-cooked food delivery app Mumbai Rhodium Trust, Accel Partners and Swiggy Series C 2,747,045.20',\n",
       " '4 17/02/2021 Zolve FinTech Global Neobank Venture Mumbai Accel Partners and Lightspeed Venture Partners Seed 1,50,00,000',\n",
       " '5 15/02/2021 KreditBee Finance Digital lending platform Bengaluru Azim Premji’s PremjiInvest and South Korea’s Mirae Asset Venture Series C 75,000,000',\n",
       " '6 12/02/2021 Pepperfry E-commerce Multi-brand furniture brand Mumbai InnoVen Capital Debt Financing 4,773,958',\n",
       " '7 12/02/2021 Grofers E-Commerce Online supermarket Gurgaon SoftBank Vision Fund (SVF) Unspecified 55,000,000',\n",
       " '8 09/02/2021 Nothing Technology Consumer Technology Venture London GV Series A 15,000,000',\n",
       " '9 09/02/2021 SplashLearn EdTech Game-based learning programme Gurgaon Owl Ventures Series C 18,000,000']"
      ]
     },
     "execution_count": 410,
     "metadata": {},
     "output_type": "execute_result"
    }
   ],
   "source": [
    "feb_link=driver.find_element(By.ID,\"tablepress-55_wrapper\")\n",
    "feb=feb_link.text.split('\\n')[7:-2]\n",
    "feb"
   ]
  },
  {
   "cell_type": "code",
   "execution_count": 413,
   "id": "dfe8ef06",
   "metadata": {},
   "outputs": [
    {
     "data": {
      "text/plain": [
       "[\"Sr. No. Date (dd/mm/yyyy) Startup Name Industry / Vertical Sub-Vertical City / Location Investors' Name Investment Type Amount (In USD)\",\n",
       " '1 15/01/2021 Digit Insurance Financial Services Insurance Services Bengaluru A91 Partners, Faering Capital, TVS Capital Funds Venture 1,80,00,000',\n",
       " '2 28/01/2021 Bombay Shaving Company Consumer Goods Company Shave care, beard care, and skincare products New Delhi Reckitt Benckiser Venture 6,172,258.50',\n",
       " '3 19/01/2021 DeHaat AgriTech Startup online marketplace for farm products and services Patna Prosus Ventures Series C 30,000,000',\n",
       " '4 19/01/2021 Darwinbox SaaS HR Tech Mumbai Salesforce Ventures Seed 15,000,000',\n",
       " '5 18/01/2021 mfine Health Tech Startup AI-powered telemedicine mobile app Bengaluru Heritas Capital Management Venture Round 16,000,000',\n",
       " '6 18/01/2021 Udayy EdTech Online learning platform for kids in class 1-5 Gurgaon Sequoia Capital Seed Funding 15,000,000',\n",
       " '7 11/01/2021 True Elements Food Startup Whole Food plant based Nashta Pune SIDBI Venture Capital Series 100,000,000',\n",
       " '8 13/01/2021 Saveo B2B E-commerce Pharmacies Bengaluru Matrix Partners India, RTP Global, others Seed 4,000,000']"
      ]
     },
     "execution_count": 413,
     "metadata": {},
     "output_type": "execute_result"
    }
   ],
   "source": [
    "jan_link=driver.find_element(By.ID,\"tablepress-54_wrapper\")\n",
    "data=jan_link.text.split('\\n')[7:-2]\n",
    "data"
   ]
  },
  {
   "cell_type": "code",
   "execution_count": 416,
   "id": "4006b440",
   "metadata": {},
   "outputs": [],
   "source": [
    "data.extend(feb)\n",
    "data.extend(march)"
   ]
  },
  {
   "cell_type": "code",
   "execution_count": 417,
   "id": "11efd374",
   "metadata": {},
   "outputs": [
    {
     "data": {
      "text/plain": [
       "[\"Sr. No. Date (dd/mm/yyyy) Startup Name Industry / Vertical Sub-Vertical City / Location Investors' Name Investment Type Amount (In USD)\",\n",
       " '1 15/01/2021 Digit Insurance Financial Services Insurance Services Bengaluru A91 Partners, Faering Capital, TVS Capital Funds Venture 1,80,00,000',\n",
       " '2 28/01/2021 Bombay Shaving Company Consumer Goods Company Shave care, beard care, and skincare products New Delhi Reckitt Benckiser Venture 6,172,258.50',\n",
       " '3 19/01/2021 DeHaat AgriTech Startup online marketplace for farm products and services Patna Prosus Ventures Series C 30,000,000',\n",
       " '4 19/01/2021 Darwinbox SaaS HR Tech Mumbai Salesforce Ventures Seed 15,000,000',\n",
       " '5 18/01/2021 mfine Health Tech Startup AI-powered telemedicine mobile app Bengaluru Heritas Capital Management Venture Round 16,000,000',\n",
       " '6 18/01/2021 Udayy EdTech Online learning platform for kids in class 1-5 Gurgaon Sequoia Capital Seed Funding 15,000,000',\n",
       " '7 11/01/2021 True Elements Food Startup Whole Food plant based Nashta Pune SIDBI Venture Capital Series 100,000,000',\n",
       " '8 13/01/2021 Saveo B2B E-commerce Pharmacies Bengaluru Matrix Partners India, RTP Global, others Seed 4,000,000',\n",
       " \"Sr. No. Date (dd/mm/yyyy) Startup Name Industry / Vertical Sub-Vertical City / Location Investors' Name Investment Type Amount (In USD)\",\n",
       " '1 11/02/2021 Doubtnut Edu Tech E-Learning Platform Gurgaon SIG Global, Sequoia Capital, WaterBridge Ventures and ON Mauritius Series B 2,500,000',\n",
       " '2 22/02/2021 Zomato Hospitality Online Food Delivery Platform Gurgaon Tiger Global, Kora Venture 250,000,000',\n",
       " '3 19/02/2021 Fingerlix Hospitality Semi-cooked food delivery app Mumbai Rhodium Trust, Accel Partners and Swiggy Series C 2,747,045.20',\n",
       " '4 17/02/2021 Zolve FinTech Global Neobank Venture Mumbai Accel Partners and Lightspeed Venture Partners Seed 1,50,00,000',\n",
       " '5 15/02/2021 KreditBee Finance Digital lending platform Bengaluru Azim Premji’s PremjiInvest and South Korea’s Mirae Asset Venture Series C 75,000,000',\n",
       " '6 12/02/2021 Pepperfry E-commerce Multi-brand furniture brand Mumbai InnoVen Capital Debt Financing 4,773,958',\n",
       " '7 12/02/2021 Grofers E-Commerce Online supermarket Gurgaon SoftBank Vision Fund (SVF) Unspecified 55,000,000',\n",
       " '8 09/02/2021 Nothing Technology Consumer Technology Venture London GV Series A 15,000,000',\n",
       " '9 09/02/2021 SplashLearn EdTech Game-based learning programme Gurgaon Owl Ventures Series C 18,000,000',\n",
       " \"Sr. No. Date (dd/mm/yyyy) Startup Name Industry / Vertical Sub-Vertical City / Location Investors' Name Investment Type Amount (In USD)\",\n",
       " '1 11/02/2021 Doubtnut Edu Tech E-Learning Platform Gurgaon SIG Global, Sequoia Capital, WaterBridge Ventures and ON Mauritius Series B 2,500,000',\n",
       " '2 22/02/2021 Zomato Hospitality Online Food Delivery Platform Gurgaon Tiger Global, Kora Venture 250,000,000',\n",
       " '3 19/02/2021 Fingerlix Hospitality Semi-cooked food delivery app Mumbai Rhodium Trust, Accel Partners and Swiggy Series C 2,747,045.20',\n",
       " '4 17/02/2021 Zolve FinTech Global Neobank Venture Mumbai Accel Partners and Lightspeed Venture Partners Seed 1,50,00,000',\n",
       " '5 15/02/2021 KreditBee Finance Digital lending platform Bengaluru Azim Premji’s PremjiInvest and South Korea’s Mirae Asset Venture Series C 75,000,000',\n",
       " '6 12/02/2021 Pepperfry E-commerce Multi-brand furniture brand Mumbai InnoVen Capital Debt Financing 4,773,958',\n",
       " '7 12/02/2021 Grofers E-Commerce Online supermarket Gurgaon SoftBank Vision Fund (SVF) Unspecified 55,000,000',\n",
       " '8 09/02/2021 Nothing Technology Consumer Technology Venture London GV Series A 15,000,000',\n",
       " '9 09/02/2021 SplashLearn EdTech Game-based learning programme Gurgaon Owl Ventures Series C 18,000,000',\n",
       " \"Sr. No. Date (dd/mm/yyyy) Startup Name Industry / Vertical Sub-Vertical City / Location Investors' Name Investment Type Amount (In USD)\",\n",
       " '1 11/02/2021 Doubtnut Edu Tech E-Learning Platform Gurgaon SIG Global, Sequoia Capital, WaterBridge Ventures and ON Mauritius Series B 2,500,000',\n",
       " '2 22/02/2021 Zomato Hospitality Online Food Delivery Platform Gurgaon Tiger Global, Kora Venture 250,000,000',\n",
       " '3 19/02/2021 Fingerlix Hospitality Semi-cooked food delivery app Mumbai Rhodium Trust, Accel Partners and Swiggy Series C 2,747,045.20',\n",
       " '4 17/02/2021 Zolve FinTech Global Neobank Venture Mumbai Accel Partners and Lightspeed Venture Partners Seed 1,50,00,000',\n",
       " '5 15/02/2021 KreditBee Finance Digital lending platform Bengaluru Azim Premji’s PremjiInvest and South Korea’s Mirae Asset Venture Series C 75,000,000',\n",
       " '6 12/02/2021 Pepperfry E-commerce Multi-brand furniture brand Mumbai InnoVen Capital Debt Financing 4,773,958',\n",
       " '7 12/02/2021 Grofers E-Commerce Online supermarket Gurgaon SoftBank Vision Fund (SVF) Unspecified 55,000,000',\n",
       " '8 09/02/2021 Nothing Technology Consumer Technology Venture London GV Series A 15,000,000',\n",
       " '9 09/02/2021 SplashLearn EdTech Game-based learning programme Gurgaon Owl Ventures Series C 18,000,000',\n",
       " \"Sr. No. Date (dd/mm/yyyy) Startup Name Industry / Vertical Sub-Vertical City / Location Investors' Name Investment Type Amount (In USD)\",\n",
       " '1 04/03/2021 DealShare E-commerce Online shopping platform Jaipur, Rajasthan Innoven Capital Debt Financing 250,000,000',\n",
       " '2 31/03/2021 Uniphore Technology Conversational Service Automation (CSA) Palo Alto Sorenson Capital Partners Series D 140,000,000',\n",
       " '3 30/03/2021 Dunzo E-commerce Hyper-local delivery app Bengaluru Krishtal Advisors Pte Ltd Series E 8,000,000',\n",
       " '4 30/03/2021 BYJU’S Edu-tech Online tutoring Bengaluru MC Global Edtech, B Capital, Baron, others Series F 460,000,000',\n",
       " '5 23/03/2021 SkilloVilla Edu-tech Career and job-oriented upskilling. Bengaluru Titan Capital, others Seed 300,000,000',\n",
       " '6 25/03/2021 CityMall E-commerce Social ecommerce and online grocery platform Gurgaon Accel Partners Series A 11,000,000',\n",
       " '7 26/03/2021 DotPe FinTech Commerce and payments platform to offline enterprise businesses. Gurgaon PayU Series A 27,500,000']"
      ]
     },
     "execution_count": 417,
     "metadata": {},
     "output_type": "execute_result"
    }
   ],
   "source": [
    "data"
   ]
  },
  {
   "cell_type": "markdown",
   "id": "7b0e2151",
   "metadata": {},
   "source": [
    "# question 7"
   ]
  },
  {
   "cell_type": "code",
   "execution_count": null,
   "id": "2dcaf4b5",
   "metadata": {},
   "outputs": [],
   "source": []
  },
  {
   "cell_type": "code",
   "execution_count": 418,
   "id": "8603a59a",
   "metadata": {},
   "outputs": [
    {
     "name": "stderr",
     "output_type": "stream",
     "text": [
      "<ipython-input-418-4f4de4847880>:1: DeprecationWarning: executable_path has been deprecated, please pass in a Service object\n",
      "  driver= webdriver.Chrome('chromedriver.exe')\n"
     ]
    }
   ],
   "source": [
    "driver= webdriver.Chrome('chromedriver.exe')\n",
    "driver.get('https://www.digit.in/')"
   ]
  },
  {
   "cell_type": "code",
   "execution_count": 508,
   "id": "17fbdb06",
   "metadata": {},
   "outputs": [],
   "source": [
    "\n",
    "price=[]\n"
   ]
  },
  {
   "cell_type": "code",
   "execution_count": 453,
   "id": "3e486bb7",
   "metadata": {},
   "outputs": [],
   "source": [
    "gaming=driver.find_elements(By.XPATH,'//div[@class=\"article_row big-image\"]')"
   ]
  },
  {
   "cell_type": "code",
   "execution_count": 509,
   "id": "9d1b1c02",
   "metadata": {},
   "outputs": [],
   "source": [
    "for g in gaming:\n",
    "    try:\n",
    "        c=g.text.split('\\n')\n",
    "        price.append(c[-2])\n",
    "    except NotADirectoryError as e:\n",
    "        price.append('none')\n",
    "    "
   ]
  },
  {
   "cell_type": "code",
   "execution_count": 530,
   "id": "72e5ad35",
   "metadata": {},
   "outputs": [],
   "source": [
    "g_name=[]\n",
    "g_price=[]"
   ]
  },
  {
   "cell_type": "code",
   "execution_count": 531,
   "id": "009d1008",
   "metadata": {},
   "outputs": [],
   "source": [
    "name_link=driver.find_elements(By.XPATH,'//h3[@class=\"ga-fired\"]')\n",
    "for n in name_link:\n",
    "    g_name.append(n.get_attribute('data-label'))"
   ]
  },
  {
   "cell_type": "code",
   "execution_count": 534,
   "id": "0cc6326b",
   "metadata": {},
   "outputs": [],
   "source": [
    "name_link=driver.find_elements(By.XPATH,'// span[@class=\"price\"]')    \n",
    "for v in name_link:\n",
    "    c=v.text\n",
    "    g_price.append(c)"
   ]
  },
  {
   "cell_type": "code",
   "execution_count": 543,
   "id": "368d63c7",
   "metadata": {},
   "outputs": [],
   "source": [
    "df={'Laptop':g_name,'Price':price,'Specification':specification}\n",
    "Gaming_laptop=pd.DataFrame(df)"
   ]
  },
  {
   "cell_type": "code",
   "execution_count": 549,
   "id": "1a57eba1",
   "metadata": {},
   "outputs": [],
   "source": [
    "Gaming_laptop.replace('FULL SPECS','None',inplace=True)"
   ]
  },
  {
   "cell_type": "code",
   "execution_count": 554,
   "id": "13b15a6c",
   "metadata": {},
   "outputs": [],
   "source": [
    "Gaming_laptop.to_csv(r'C:\\Users\\Baibhav kumar Singh\\Desktop\\gaming_laptop\\top-laptop.csv')"
   ]
  },
  {
   "cell_type": "markdown",
   "id": "b6999c5d",
   "metadata": {},
   "source": [
    "# question 8"
   ]
  },
  {
   "cell_type": "code",
   "execution_count": 560,
   "id": "42c1280c",
   "metadata": {},
   "outputs": [
    {
     "name": "stderr",
     "output_type": "stream",
     "text": [
      "<ipython-input-560-5be54b116c28>:1: DeprecationWarning: executable_path has been deprecated, please pass in a Service object\n",
      "  driver= webdriver.Chrome('chromedriver.exe')\n"
     ]
    }
   ],
   "source": [
    "driver= webdriver.Chrome('chromedriver.exe')\n",
    "driver.get('https://www.forbes.com/sites/chasewithorn/2022/04/05/forbes-36th-annual-worlds-billionaires-list-facts-and-figures-2022/?sh=5d1145047e30')"
   ]
  },
  {
   "cell_type": "code",
   "execution_count": 561,
   "id": "0d12982b",
   "metadata": {},
   "outputs": [],
   "source": [
    "name_link=driver.find_elements(By.XPATH,'//h3[@class=\"subhead3-embed color-body bg-base font-accent font-size text-align\"]')"
   ]
  },
  {
   "cell_type": "code",
   "execution_count": 568,
   "id": "2e5a9b00",
   "metadata": {},
   "outputs": [],
   "source": [
    "b_name=[]\n",
    "for i in name_link:\n",
    "    c=i.text\n",
    "    b_name.append(c)"
   ]
  },
  {
   "cell_type": "code",
   "execution_count": 576,
   "id": "81538d69",
   "metadata": {},
   "outputs": [],
   "source": [
    "billinor_name=b_name[2: :2]"
   ]
  },
  {
   "cell_type": "code",
   "execution_count": 586,
   "id": "4d101eb0",
   "metadata": {},
   "outputs": [],
   "source": [
    "l=driver.find_elements(By.XPATH,'//h4[@class=\"subhead4-embed color-body bg-base font-accent font-size text-align\"]')\n",
    "net_worth=[]"
   ]
  },
  {
   "cell_type": "code",
   "execution_count": 618,
   "id": "69b17941",
   "metadata": {},
   "outputs": [],
   "source": [
    "for i in l:\n",
    "    c=i.text\n",
    "    residence.append(c)"
   ]
  },
  {
   "cell_type": "code",
   "execution_count": 602,
   "id": "a50fb44b",
   "metadata": {},
   "outputs": [],
   "source": [
    "net_worth=net_worth[5:-1:3]"
   ]
  },
  {
   "cell_type": "code",
   "execution_count": 617,
   "id": "3770cb1b",
   "metadata": {},
   "outputs": [],
   "source": [
    "residence=[]"
   ]
  },
  {
   "cell_type": "code",
   "execution_count": 616,
   "id": "d5cf1e6f",
   "metadata": {},
   "outputs": [],
   "source": [
    "sources=source[6:-1:3]"
   ]
  },
  {
   "cell_type": "code",
   "execution_count": 653,
   "id": "3abdcc35",
   "metadata": {},
   "outputs": [],
   "source": [
    "residence=residence[7:-1:3]"
   ]
  },
  {
   "cell_type": "code",
   "execution_count": 624,
   "id": "1a02370b",
   "metadata": {},
   "outputs": [],
   "source": [
    "billinor={'Name':billinor_name,'Net_worth':net_worth,'Sources':sources,'residence':residence}"
   ]
  },
  {
   "cell_type": "code",
   "execution_count": 626,
   "id": "d0ebb903",
   "metadata": {},
   "outputs": [],
   "source": [
    "top_10_billinor=pd.DataFrame(billinor)"
   ]
  },
  {
   "cell_type": "code",
   "execution_count": 651,
   "id": "29b42ed6",
   "metadata": {},
   "outputs": [],
   "source": [
    "top_10_billinor['Sources']=top_10_billinor['Sources'].map(lambda x:x.strip('e of wealth:'))\n",
    "top_10_billinor['Net_worth']=top_10_billinor['Net_worth'].map(lambda x:x.strip('orth:'))\n",
    "top_10_billinor['residence']=top_10_billinor['residence'].map(lambda x:x.strip('Residence:'))"
   ]
  },
  {
   "cell_type": "code",
   "execution_count": 657,
   "id": "a4130a3c",
   "metadata": {},
   "outputs": [],
   "source": [
    "top_10_billinor.to_csv(r'C:\\Users\\Baibhav kumar Singh\\Desktop\\billinor\\top_10_billonaiers.csv')"
   ]
  },
  {
   "cell_type": "code",
   "execution_count": null,
   "id": "6e83ee45",
   "metadata": {},
   "outputs": [],
   "source": []
  },
  {
   "cell_type": "markdown",
   "id": "dbe4d507",
   "metadata": {},
   "source": [
    "# question 9"
   ]
  },
  {
   "cell_type": "code",
   "execution_count": 658,
   "id": "b8ee5535",
   "metadata": {},
   "outputs": [
    {
     "name": "stderr",
     "output_type": "stream",
     "text": [
      "<ipython-input-658-6ff0fab0c703>:1: DeprecationWarning: executable_path has been deprecated, please pass in a Service object\n",
      "  driver= webdriver.Chrome('chromedriver.exe')\n"
     ]
    }
   ],
   "source": [
    "driver= webdriver.Chrome('chromedriver.exe')\n",
    "driver.get('https://www.youtube.com/')"
   ]
  },
  {
   "cell_type": "code",
   "execution_count": 686,
   "id": "8da6f715",
   "metadata": {},
   "outputs": [],
   "source": [
    "l=driver.find_elements(By.ID,'content-text')\n",
    "for i in l:\n",
    "    c=i.text\n",
    "    comm.append(c)"
   ]
  },
  {
   "cell_type": "code",
   "execution_count": 728,
   "id": "158e7eaf",
   "metadata": {},
   "outputs": [
    {
     "data": {
      "text/plain": [
       "500"
      ]
     },
     "execution_count": 728,
     "metadata": {},
     "output_type": "execute_result"
    }
   ],
   "source": [
    "comment=comm[:500]\n",
    "len(comment)"
   ]
  },
  {
   "cell_type": "code",
   "execution_count": 723,
   "id": "ccf99352",
   "metadata": {},
   "outputs": [],
   "source": [
    "l=driver.find_elements(By.XPATH,'//a[@class=\"yt-simple-endpoint style-scope yt-formatted-string\"]')\n",
    "for i in l:\n",
    "    c=i.text\n",
    "    time.append(c)"
   ]
  },
  {
   "cell_type": "code",
   "execution_count": 726,
   "id": "6a9f6a4c",
   "metadata": {},
   "outputs": [
    {
     "data": {
      "text/plain": [
       "500"
      ]
     },
     "execution_count": 726,
     "metadata": {},
     "output_type": "execute_result"
    }
   ],
   "source": [
    "time_comment=time[21:521]\n",
    "len(time_comment)"
   ]
  },
  {
   "cell_type": "code",
   "execution_count": 715,
   "id": "e44ecaa5",
   "metadata": {},
   "outputs": [],
   "source": [
    "l=driver.find_elements(By.ID,'vote-count-middle')\n",
    "for i in l:\n",
    "    c=i.text\n",
    "    up_vote.append(c)"
   ]
  },
  {
   "cell_type": "code",
   "execution_count": 727,
   "id": "e6b9dad5",
   "metadata": {},
   "outputs": [
    {
     "data": {
      "text/plain": [
       "500"
      ]
     },
     "execution_count": 727,
     "metadata": {},
     "output_type": "execute_result"
    }
   ],
   "source": [
    "up_vote=up_vote[0:500]\n",
    "len(up_vote)"
   ]
  },
  {
   "cell_type": "code",
   "execution_count": 729,
   "id": "f0599562",
   "metadata": {},
   "outputs": [],
   "source": [
    "youtube_comment={'comment':comment,'time':time_comment,'up vote':up_vote}"
   ]
  },
  {
   "cell_type": "code",
   "execution_count": 734,
   "id": "b787e63e",
   "metadata": {},
   "outputs": [],
   "source": [
    "data_yt=pd.DataFrame(youtube_comment)\n",
    "data_yt.to_csv(r'C:\\Users\\Baibhav kumar Singh\\Desktop\\scrap_data\\datayt.csv')"
   ]
  },
  {
   "cell_type": "code",
   "execution_count": null,
   "id": "ff5a1f53",
   "metadata": {},
   "outputs": [],
   "source": []
  },
  {
   "cell_type": "markdown",
   "id": "4f039f8a",
   "metadata": {},
   "source": [
    "# question 10"
   ]
  },
  {
   "cell_type": "code",
   "execution_count": 735,
   "id": "8d7c20c3",
   "metadata": {},
   "outputs": [
    {
     "name": "stderr",
     "output_type": "stream",
     "text": [
      "<ipython-input-735-a2a595e17037>:1: DeprecationWarning: executable_path has been deprecated, please pass in a Service object\n",
      "  driver= webdriver.Chrome('chromedriver.exe')\n"
     ]
    }
   ],
   "source": [
    "driver= webdriver.Chrome('chromedriver.exe')\n",
    "driver.get('https://www.hostelworld.com/')"
   ]
  },
  {
   "cell_type": "code",
   "execution_count": 801,
   "id": "dcfb036c",
   "metadata": {},
   "outputs": [],
   "source": [
    "name=[]"
   ]
  },
  {
   "cell_type": "code",
   "execution_count": 803,
   "id": "8667cee8",
   "metadata": {},
   "outputs": [],
   "source": [
    "for page in range(0,3):\n",
    "    Link=driver.find_elements(By.XPATH,'//h2[@class=\"title title-6\"]')\n",
    "\n",
    "    for i in Link:\n",
    "        c=i.text\n",
    "        name.append(c)\n",
    "    next_button=driver.find_elements(By.XPATH,'/html/body/div[3]/div/div/div[1]/div[4]/div/div/div[33]/div[6]')"
   ]
  },
  {
   "cell_type": "code",
   "execution_count": 797,
   "id": "7949740d",
   "metadata": {},
   "outputs": [],
   "source": [
    "km_from_citycenter=[]\n",
    "for page in range(0,3):\n",
    "    Link=driver.find_elements(By.XPATH,'//span[@class=\"description\"]')\n",
    "\n",
    "    for i in Link:\n",
    "        c=i.text\n",
    "        km_from_citycenter.append(c)\n",
    "    next_button=driver.find_elements(By.XPATH,'/html/body/div[3]/div/div/div[1]/div[4]/div/div/div[33]/div[6]')"
   ]
  },
  {
   "cell_type": "code",
   "execution_count": 804,
   "id": "84727140",
   "metadata": {},
   "outputs": [
    {
     "data": {
      "text/plain": [
       "(90, 90)"
      ]
     },
     "execution_count": 804,
     "metadata": {},
     "output_type": "execute_result"
    }
   ],
   "source": [
    "overall_review=[]\n",
    "for page in range(0,3):\n",
    "    Link=driver.find_elements(By.XPATH,'//div[@class=\"keyword\"]')\n",
    "\n",
    "    for i in Link:\n",
    "        c=i.text\n",
    "        km_from_citycenter.append(c)\n",
    "    next_button=driver.find_elements(By.XPATH,'/html/body/div[3]/div/div/div[1]/div[4]/div/div/div[33]/div[6]')"
   ]
  },
  {
   "cell_type": "code",
   "execution_count": 840,
   "id": "dc5591d7",
   "metadata": {},
   "outputs": [],
   "source": [
    "\n",
    "for i in range(0,3):\n",
    "    try :\n",
    "        Des=driver.find_elements(By.XPATH,'//div[@class=\"keyword\"]')\n",
    "        rak=driver.find_elements(By.XPATH,'//div[@class=\"reviews\"]')\n",
    "        rate=driver.find_elements(By.XPATH,'//div[@class=\"score orange big\"]')\n",
    "        for d in Des:\n",
    "            c=d.text\n",
    "            o_comment.append(c)\n",
    "            \n",
    "        for r in rak:\n",
    "            d=r.text\n",
    "            total_review.append(d)\n",
    "            \n",
    "        for t in rate:\n",
    "            o=t.text\n",
    "            rating.append(o)\n",
    "            \n",
    "    except NoSuchElementException :\n",
    "        o_comment.append('not present')\n",
    "        total_review.append('not present')\n",
    "        rating.append('not present')\n",
    "      \n",
    "    next_button=driver.find_elements(By.XPATH,'/html/body/div[3]/div/div/div[1]/div[4]/div/div/div[33]/div[6]')"
   ]
  },
  {
   "cell_type": "code",
   "execution_count": 830,
   "id": "90f72615",
   "metadata": {},
   "outputs": [],
   "source": [
    "\n"
   ]
  },
  {
   "cell_type": "code",
   "execution_count": 842,
   "id": "fa710a1f",
   "metadata": {},
   "outputs": [
    {
     "data": {
      "text/plain": [
       "(99, 90, 90, 90, 90)"
      ]
     },
     "execution_count": 842,
     "metadata": {},
     "output_type": "execute_result"
    }
   ],
   "source": [
    "len(o_comment),len(total_review),len(rating),len(name),len(km_from_citycenter)"
   ]
  },
  {
   "cell_type": "code",
   "execution_count": 845,
   "id": "9533a6bf",
   "metadata": {},
   "outputs": [
    {
     "data": {
      "text/plain": [
       "90"
      ]
     },
     "execution_count": 845,
     "metadata": {},
     "output_type": "execute_result"
    }
   ],
   "source": [
    "comment=o_comment[0:90]\n",
    "len(comment)"
   ]
  },
  {
   "cell_type": "code",
   "execution_count": 847,
   "id": "7af5f7c8",
   "metadata": {},
   "outputs": [],
   "source": [
    "data={'name':name,'distance from citycenter':km_from_citycenter,'total review':total_review,'overall comment':comment,'rating':rating}"
   ]
  },
  {
   "cell_type": "code",
   "execution_count": 850,
   "id": "f560ac39",
   "metadata": {},
   "outputs": [],
   "source": [
    "data_hostel=pd.DataFrame(data)\n",
    "data_hostel.to_csv(r'C:\\Users\\Baibhav kumar Singh\\Desktop\\scrap_data\\data_hostel.csv')"
   ]
  }
 ],
 "metadata": {
  "kernelspec": {
   "display_name": "Python 3",
   "language": "python",
   "name": "python3"
  },
  "language_info": {
   "codemirror_mode": {
    "name": "ipython",
    "version": 3
   },
   "file_extension": ".py",
   "mimetype": "text/x-python",
   "name": "python",
   "nbconvert_exporter": "python",
   "pygments_lexer": "ipython3",
   "version": "3.8.8"
  },
  "varInspector": {
   "cols": {
    "lenName": 16,
    "lenType": 16,
    "lenVar": 40
   },
   "kernels_config": {
    "python": {
     "delete_cmd_postfix": "",
     "delete_cmd_prefix": "del ",
     "library": "var_list.py",
     "varRefreshCmd": "print(var_dic_list())"
    },
    "r": {
     "delete_cmd_postfix": ") ",
     "delete_cmd_prefix": "rm(",
     "library": "var_list.r",
     "varRefreshCmd": "cat(var_dic_list()) "
    }
   },
   "types_to_exclude": [
    "module",
    "function",
    "builtin_function_or_method",
    "instance",
    "_Feature"
   ],
   "window_display": false
  }
 },
 "nbformat": 4,
 "nbformat_minor": 5
}
