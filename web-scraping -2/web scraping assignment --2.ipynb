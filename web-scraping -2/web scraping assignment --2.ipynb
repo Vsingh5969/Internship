{
 "cells": [
  {
   "cell_type": "code",
   "execution_count": 187,
   "id": "212bd4ec",
   "metadata": {},
   "outputs": [],
   "source": [
    "import selenium\n",
    "from selenium import webdriver\n",
    "from selenium.webdriver.common.keys import Keys\n",
    "import pandas as pd \n",
    "import numpy as np \n",
    "from selenium.webdriver.common.by import By"
   ]
  },
  {
   "cell_type": "markdown",
   "id": "def4e2bf",
   "metadata": {},
   "source": [
    "# 1.scraping data for “Data Analyst” Job position in “Bangalore” location"
   ]
  },
  {
   "cell_type": "code",
   "execution_count": 194,
   "id": "8b0480b9",
   "metadata": {},
   "outputs": [
    {
     "name": "stderr",
     "output_type": "stream",
     "text": [
      "<ipython-input-194-66340e07b883>:3: DeprecationWarning: executable_path has been deprecated, please pass in a Service object\n",
      "  driver= webdriver.Chrome('chromedriver.exe')\n"
     ]
    }
   ],
   "source": [
    "# connecting to webdriver.\n",
    "\n",
    "driver= webdriver.Chrome('chromedriver.exe')\n",
    "url=\"https://www.naukri.com/\"\n",
    "driver.get(url)"
   ]
  },
  {
   "cell_type": "code",
   "execution_count": 10,
   "id": "613960b2",
   "metadata": {},
   "outputs": [
    {
     "data": {
      "text/plain": [
       "<selenium.webdriver.remote.webelement.WebElement (session=\"9d09c6ccb6fe52056815d02188647a42\", element=\"64be2d3d-1920-4ad9-9d74-69909b711430\")>"
      ]
     },
     "execution_count": 10,
     "metadata": {},
     "output_type": "execute_result"
    }
   ],
   "source": [
    "## search elements from the search bars.\n",
    "search_jobs=driver.find_element(By.XPATH,'/html/body/div[1]/div[2]/div[3]/div/div/div[1]/div/div/div/input')\n",
    "search_jobs"
   ]
  },
  {
   "cell_type": "code",
   "execution_count": 11,
   "id": "135771a0",
   "metadata": {},
   "outputs": [],
   "source": [
    "# search for data analyst\n",
    "search_jobs.send_keys(\"Data Analyst\")"
   ]
  },
  {
   "cell_type": "code",
   "execution_count": 13,
   "id": "6f74653a",
   "metadata": {},
   "outputs": [
    {
     "data": {
      "text/plain": [
       "<selenium.webdriver.remote.webelement.WebElement (session=\"9d09c6ccb6fe52056815d02188647a42\", element=\"966dfa14-468c-465b-bb32-e0ef3870cf37\")>"
      ]
     },
     "execution_count": 13,
     "metadata": {},
     "output_type": "execute_result"
    }
   ],
   "source": [
    "#search for location as per question it is bangalore\n",
    "search_locations=driver.find_element(By.XPATH,'/html/body/div[1]/div[2]/div[3]/div/div/div[5]/div/div/div/input')\n",
    "search_locations"
   ]
  },
  {
   "cell_type": "code",
   "execution_count": 14,
   "id": "8c14cafa",
   "metadata": {},
   "outputs": [],
   "source": [
    "#search for the location\n",
    "search_locations.send_keys(\"Bangalore\")"
   ]
  },
  {
   "cell_type": "code",
   "execution_count": 16,
   "id": "a07725e1",
   "metadata": {},
   "outputs": [],
   "source": [
    "#now we search from here buy click in search button through coding \n",
    "search_button=driver.find_element(By.XPATH,'/html/body/div[1]/div[2]/div[3]/div/div/div[6]')\n",
    "search_button.click()"
   ]
  },
  {
   "cell_type": "code",
   "execution_count": 20,
   "id": "7dabcd64",
   "metadata": {},
   "outputs": [
    {
     "data": {
      "text/plain": [
       "10"
      ]
     },
     "execution_count": 20,
     "metadata": {},
     "output_type": "execute_result"
    }
   ],
   "source": [
    "## now we scrape data one by one \n",
    "\n",
    "### scraping all 10 job titles from the website\n",
    "title_tag1=driver.find_elements(By.XPATH,'//a[@class=\"title fw500 ellipsis\"]')\n",
    "len(title_tag1[0:10])"
   ]
  },
  {
   "cell_type": "code",
   "execution_count": 23,
   "id": "57bd513e",
   "metadata": {},
   "outputs": [],
   "source": [
    "job_title1=[]\n",
    "for t in title_tag1[0:10]:\n",
    "    job_title1.append(t.text)"
   ]
  },
  {
   "cell_type": "code",
   "execution_count": 28,
   "id": "62bba96c",
   "metadata": {},
   "outputs": [
    {
     "data": {
      "text/plain": [
       "10"
      ]
     },
     "execution_count": 28,
     "metadata": {},
     "output_type": "execute_result"
    }
   ],
   "source": [
    "## scraping the all 10 location data from the website \n",
    "location_tag1=driver.find_elements(By.XPATH,'//li[@class=\"fleft grey-text br2 placeHolderLi location\"]')\n",
    "len(location_tag1[0:10])"
   ]
  },
  {
   "cell_type": "code",
   "execution_count": 30,
   "id": "6e4deaa1",
   "metadata": {},
   "outputs": [],
   "source": [
    "job_location1=[]\n",
    "for c in location_tag1[0:10]:\n",
    "    job_location1.append(c.text)"
   ]
  },
  {
   "cell_type": "code",
   "execution_count": 36,
   "id": "fbbe1a04",
   "metadata": {},
   "outputs": [
    {
     "data": {
      "text/plain": [
       "10"
      ]
     },
     "execution_count": 36,
     "metadata": {},
     "output_type": "execute_result"
    }
   ],
   "source": [
    "## now we scraping the experience\n",
    "experience_tag1=driver.find_elements(By.XPATH,'//li[@class=\"fleft grey-text br2 placeHolderLi experience\"]')\n",
    "len(experience_tag1[0:10])"
   ]
  },
  {
   "cell_type": "code",
   "execution_count": 38,
   "id": "fdafbb15",
   "metadata": {},
   "outputs": [],
   "source": [
    "experience1=[]\n",
    "for e in experience_tag1[0:10]:\n",
    "    experience1.append(e.text)\n"
   ]
  },
  {
   "cell_type": "code",
   "execution_count": 42,
   "id": "2229e30b",
   "metadata": {},
   "outputs": [
    {
     "data": {
      "text/plain": [
       "10"
      ]
     },
     "execution_count": 42,
     "metadata": {},
     "output_type": "execute_result"
    }
   ],
   "source": [
    "#scraping the company name.\n",
    "company_tag1=driver.find_elements(By.XPATH,'//a[@class=\"subTitle ellipsis fleft\"]')\n",
    "len(company_tag1[0:10])"
   ]
  },
  {
   "cell_type": "code",
   "execution_count": 45,
   "id": "569ea498",
   "metadata": {},
   "outputs": [],
   "source": [
    "company1=[]\n",
    "for c in company_tag1[0:10]:\n",
    "    company1.append(c.text)"
   ]
  },
  {
   "cell_type": "code",
   "execution_count": 49,
   "id": "3041eec8",
   "metadata": {},
   "outputs": [
    {
     "data": {
      "text/plain": [
       "(10, 10, 10, 10)"
      ]
     },
     "execution_count": 49,
     "metadata": {},
     "output_type": "execute_result"
    }
   ],
   "source": [
    "## all the list have same length\n",
    "len(job_title1) ,len(job_location1) ,len(experience1) ,len(company1)"
   ]
  },
  {
   "cell_type": "code",
   "execution_count": 52,
   "id": "0a13b938",
   "metadata": {},
   "outputs": [
    {
     "data": {
      "text/html": [
       "<div>\n",
       "<style scoped>\n",
       "    .dataframe tbody tr th:only-of-type {\n",
       "        vertical-align: middle;\n",
       "    }\n",
       "\n",
       "    .dataframe tbody tr th {\n",
       "        vertical-align: top;\n",
       "    }\n",
       "\n",
       "    .dataframe thead th {\n",
       "        text-align: right;\n",
       "    }\n",
       "</style>\n",
       "<table border=\"1\" class=\"dataframe\">\n",
       "  <thead>\n",
       "    <tr style=\"text-align: right;\">\n",
       "      <th></th>\n",
       "      <th>jo_title</th>\n",
       "      <th>company_name</th>\n",
       "      <th>location</th>\n",
       "      <th>experience</th>\n",
       "    </tr>\n",
       "  </thead>\n",
       "  <tbody>\n",
       "    <tr>\n",
       "      <th>0</th>\n",
       "      <td>Data Analyst/Senior Data Analyst</td>\n",
       "      <td>Meesho</td>\n",
       "      <td>Bangalore/Bengaluru</td>\n",
       "      <td>3-6 Yrs</td>\n",
       "    </tr>\n",
       "    <tr>\n",
       "      <th>1</th>\n",
       "      <td>Senior Data Analyst II</td>\n",
       "      <td>Flipkart</td>\n",
       "      <td>Bangalore/Bengaluru</td>\n",
       "      <td>3-6 Yrs</td>\n",
       "    </tr>\n",
       "    <tr>\n",
       "      <th>2</th>\n",
       "      <td>Data Analyst</td>\n",
       "      <td>BYJUS</td>\n",
       "      <td>Bangalore/Bengaluru</td>\n",
       "      <td>2-5 Yrs</td>\n",
       "    </tr>\n",
       "    <tr>\n",
       "      <th>3</th>\n",
       "      <td>Senior Business Analyst, Data Analytics &amp; Engi...</td>\n",
       "      <td>Artech Infosystems Pvt. Ltd.</td>\n",
       "      <td>Bangalore/Bengaluru\\n(WFH during Covid)</td>\n",
       "      <td>4-8 Yrs</td>\n",
       "    </tr>\n",
       "    <tr>\n",
       "      <th>4</th>\n",
       "      <td>Clinical Data Analyst</td>\n",
       "      <td>Navitas LLP</td>\n",
       "      <td>Bangalore/Bengaluru, Chennai</td>\n",
       "      <td>3-8 Yrs</td>\n",
       "    </tr>\n",
       "    <tr>\n",
       "      <th>5</th>\n",
       "      <td>Senior Data Analyst</td>\n",
       "      <td>Walmart</td>\n",
       "      <td>Bangalore/Bengaluru</td>\n",
       "      <td>4-7 Yrs</td>\n",
       "    </tr>\n",
       "    <tr>\n",
       "      <th>6</th>\n",
       "      <td>Senior Data Management Analyst</td>\n",
       "      <td>Wells Fargo</td>\n",
       "      <td>Bangalore/Bengaluru, Serilingampally</td>\n",
       "      <td>7-12 Yrs</td>\n",
       "    </tr>\n",
       "    <tr>\n",
       "      <th>7</th>\n",
       "      <td>Senior Data Management Analyst</td>\n",
       "      <td>Wells Fargo</td>\n",
       "      <td>Bangalore/Bengaluru</td>\n",
       "      <td>8-13 Yrs</td>\n",
       "    </tr>\n",
       "    <tr>\n",
       "      <th>8</th>\n",
       "      <td>Business Analyst/Data Analyst</td>\n",
       "      <td>cliqhr.com</td>\n",
       "      <td>Bangalore/Bengaluru, Mumbai, Hyderabad/Secunde...</td>\n",
       "      <td>5-10 Yrs</td>\n",
       "    </tr>\n",
       "    <tr>\n",
       "      <th>9</th>\n",
       "      <td>Senior Data Analyst</td>\n",
       "      <td>manoramaONLINE</td>\n",
       "      <td>Bangalore/Bengaluru, Chennai, kerala</td>\n",
       "      <td>5-10 Yrs</td>\n",
       "    </tr>\n",
       "  </tbody>\n",
       "</table>\n",
       "</div>"
      ],
      "text/plain": [
       "                                            jo_title  \\\n",
       "0                   Data Analyst/Senior Data Analyst   \n",
       "1                             Senior Data Analyst II   \n",
       "2                                       Data Analyst   \n",
       "3  Senior Business Analyst, Data Analytics & Engi...   \n",
       "4                              Clinical Data Analyst   \n",
       "5                                Senior Data Analyst   \n",
       "6                     Senior Data Management Analyst   \n",
       "7                     Senior Data Management Analyst   \n",
       "8                      Business Analyst/Data Analyst   \n",
       "9                                Senior Data Analyst   \n",
       "\n",
       "                   company_name  \\\n",
       "0                        Meesho   \n",
       "1                      Flipkart   \n",
       "2                         BYJUS   \n",
       "3  Artech Infosystems Pvt. Ltd.   \n",
       "4                   Navitas LLP   \n",
       "5                       Walmart   \n",
       "6                   Wells Fargo   \n",
       "7                   Wells Fargo   \n",
       "8                    cliqhr.com   \n",
       "9                manoramaONLINE   \n",
       "\n",
       "                                            location experience  \n",
       "0                                Bangalore/Bengaluru    3-6 Yrs  \n",
       "1                                Bangalore/Bengaluru    3-6 Yrs  \n",
       "2                                Bangalore/Bengaluru    2-5 Yrs  \n",
       "3            Bangalore/Bengaluru\\n(WFH during Covid)    4-8 Yrs  \n",
       "4                       Bangalore/Bengaluru, Chennai    3-8 Yrs  \n",
       "5                                Bangalore/Bengaluru    4-7 Yrs  \n",
       "6               Bangalore/Bengaluru, Serilingampally   7-12 Yrs  \n",
       "7                                Bangalore/Bengaluru   8-13 Yrs  \n",
       "8  Bangalore/Bengaluru, Mumbai, Hyderabad/Secunde...   5-10 Yrs  \n",
       "9               Bangalore/Bengaluru, Chennai, kerala   5-10 Yrs  "
      ]
     },
     "execution_count": 52,
     "metadata": {},
     "output_type": "execute_result"
    }
   ],
   "source": [
    "## 10 elements as per question in dataframe\n",
    "Data_1=pd.DataFrame({'jo_title':job_title1,'company_name':company1,'location':job_location1,'experience':experience1,})\n",
    "Data_1"
   ]
  },
  {
   "cell_type": "code",
   "execution_count": null,
   "id": "74063087",
   "metadata": {},
   "outputs": [],
   "source": []
  },
  {
   "cell_type": "markdown",
   "id": "081c0cfa",
   "metadata": {},
   "source": [
    "# 2.scraping data for “Data Scientist” Job position in “Bangalore” location"
   ]
  },
  {
   "cell_type": "code",
   "execution_count": 62,
   "id": "8477733c",
   "metadata": {},
   "outputs": [
    {
     "data": {
      "text/plain": [
       "<selenium.webdriver.remote.webelement.WebElement (session=\"9d09c6ccb6fe52056815d02188647a42\", element=\"b1d4ce9b-9ac0-483a-94b8-da53ed68082c\")>"
      ]
     },
     "execution_count": 62,
     "metadata": {},
     "output_type": "execute_result"
    }
   ],
   "source": [
    "#search the jobs in search bar\n",
    "search_jobs=driver.find_element(By.XPATH,'/html/body/div[1]/div[2]/div[3]/div/div/div[1]/div/div/div/input')\n",
    "search_jobs"
   ]
  },
  {
   "cell_type": "code",
   "execution_count": 63,
   "id": "1df58044",
   "metadata": {},
   "outputs": [],
   "source": [
    "search_jobs.send_keys('Data scientist')"
   ]
  },
  {
   "cell_type": "code",
   "execution_count": 64,
   "id": "36c155a2",
   "metadata": {},
   "outputs": [
    {
     "data": {
      "text/plain": [
       "<selenium.webdriver.remote.webelement.WebElement (session=\"9d09c6ccb6fe52056815d02188647a42\", element=\"dd13b5fc-9878-430f-81f6-c1099836f8fb\")>"
      ]
     },
     "execution_count": 64,
     "metadata": {},
     "output_type": "execute_result"
    }
   ],
   "source": [
    "# search location in search bar\n",
    "search_locations=driver.find_element(By.XPATH,'/html/body/div[1]/div[2]/div[3]/div/div/div[5]/div/div/div/input')\n",
    "search_locations"
   ]
  },
  {
   "cell_type": "code",
   "execution_count": 65,
   "id": "50ed9eeb",
   "metadata": {},
   "outputs": [],
   "source": [
    "search_locations.send_keys('Bangalore')"
   ]
  },
  {
   "cell_type": "code",
   "execution_count": 67,
   "id": "8026638e",
   "metadata": {},
   "outputs": [],
   "source": [
    "## giving the command for search\n",
    "search_button=driver.find_element(By.XPATH,'/html/body/div[1]/div[2]/div[3]/div/div/div[6]')\n",
    "search_button.click()"
   ]
  },
  {
   "cell_type": "code",
   "execution_count": 71,
   "id": "40d31638",
   "metadata": {},
   "outputs": [
    {
     "data": {
      "text/plain": [
       "10"
      ]
     },
     "execution_count": 71,
     "metadata": {},
     "output_type": "execute_result"
    }
   ],
   "source": [
    "## now we scrape the job title from the website\n",
    "title_tag2=driver.find_elements(By.XPATH,'//a[@class=\"title fw500 ellipsis\"]')\n",
    "len(title_tag2[0:10])"
   ]
  },
  {
   "cell_type": "code",
   "execution_count": 74,
   "id": "fd24f861",
   "metadata": {},
   "outputs": [],
   "source": [
    "title2=[]\n",
    "for t in title_tag2[0:10]:\n",
    "    title2.append(t.text)"
   ]
  },
  {
   "cell_type": "code",
   "execution_count": 79,
   "id": "e92fb097",
   "metadata": {},
   "outputs": [
    {
     "data": {
      "text/plain": [
       "10"
      ]
     },
     "execution_count": 79,
     "metadata": {},
     "output_type": "execute_result"
    }
   ],
   "source": [
    "# here we scrape the location from website\n",
    "location_tag2=driver.find_elements(By.XPATH,'//li[@class=\"fleft grey-text br2 placeHolderLi location\"]')\n",
    "len(location_tag2[0:10])"
   ]
  },
  {
   "cell_type": "code",
   "execution_count": 80,
   "id": "cb313e4f",
   "metadata": {},
   "outputs": [],
   "source": [
    "job_location2=[]\n",
    "for j in location_tag2[0:10]:\n",
    "    job_location2.append(j.text)"
   ]
  },
  {
   "cell_type": "code",
   "execution_count": 86,
   "id": "4bfcc5d6",
   "metadata": {},
   "outputs": [],
   "source": [
    "# here we scrape the company name \n",
    "company_tag2=driver.find_elements(By.XPATH,'//a[@class=\"subTitle ellipsis fleft\"]')\n",
    "company2=[]\n",
    "for c in company_tag2[0:10]:\n",
    "    company2.append(c.text)"
   ]
  },
  {
   "cell_type": "code",
   "execution_count": 88,
   "id": "a0f27a17",
   "metadata": {},
   "outputs": [
    {
     "data": {
      "text/plain": [
       "(10, 10, 10)"
      ]
     },
     "execution_count": 88,
     "metadata": {},
     "output_type": "execute_result"
    }
   ],
   "source": [
    "len(job_location2),len(company2),len(title2)"
   ]
  },
  {
   "cell_type": "code",
   "execution_count": 91,
   "id": "5e224611",
   "metadata": {},
   "outputs": [
    {
     "data": {
      "text/html": [
       "<div>\n",
       "<style scoped>\n",
       "    .dataframe tbody tr th:only-of-type {\n",
       "        vertical-align: middle;\n",
       "    }\n",
       "\n",
       "    .dataframe tbody tr th {\n",
       "        vertical-align: top;\n",
       "    }\n",
       "\n",
       "    .dataframe thead th {\n",
       "        text-align: right;\n",
       "    }\n",
       "</style>\n",
       "<table border=\"1\" class=\"dataframe\">\n",
       "  <thead>\n",
       "    <tr style=\"text-align: right;\">\n",
       "      <th></th>\n",
       "      <th>title</th>\n",
       "      <th>location</th>\n",
       "      <th>company</th>\n",
       "    </tr>\n",
       "  </thead>\n",
       "  <tbody>\n",
       "    <tr>\n",
       "      <th>0</th>\n",
       "      <td>Urgent Job Opening For AI Practitioner - Data ...</td>\n",
       "      <td>Bangalore/Bengaluru, Kochi/Cochin, New Delhi, ...</td>\n",
       "      <td>Wipro</td>\n",
       "    </tr>\n",
       "    <tr>\n",
       "      <th>1</th>\n",
       "      <td>Opportunity For Data Scientist - Female Candid...</td>\n",
       "      <td>Bangalore/Bengaluru, Gurgaon/Gurugram, Mumbai ...</td>\n",
       "      <td>PayU</td>\n",
       "    </tr>\n",
       "    <tr>\n",
       "      <th>2</th>\n",
       "      <td>Research and Development -AI/ML -(PhD )</td>\n",
       "      <td>Bangalore/Bengaluru, Noida, Hyderabad/Secunder...</td>\n",
       "      <td>EXL</td>\n",
       "    </tr>\n",
       "    <tr>\n",
       "      <th>3</th>\n",
       "      <td>Data Scientist: Artificial Intelligence</td>\n",
       "      <td>Bangalore/Bengaluru</td>\n",
       "      <td>IBM</td>\n",
       "    </tr>\n",
       "    <tr>\n",
       "      <th>4</th>\n",
       "      <td>Senior Data Scientist, Personalization</td>\n",
       "      <td>Bangalore/Bengaluru</td>\n",
       "      <td>Walmart</td>\n",
       "    </tr>\n",
       "    <tr>\n",
       "      <th>5</th>\n",
       "      <td>Data Scientist</td>\n",
       "      <td>Bangalore/Bengaluru</td>\n",
       "      <td>Schneider Electric</td>\n",
       "    </tr>\n",
       "    <tr>\n",
       "      <th>6</th>\n",
       "      <td>DigitalBCG GAMMA Data Scientist</td>\n",
       "      <td>Bangalore/Bengaluru, New Delhi</td>\n",
       "      <td>Boston Consulting Group</td>\n",
       "    </tr>\n",
       "    <tr>\n",
       "      <th>7</th>\n",
       "      <td>Senior Data Science Engineer</td>\n",
       "      <td>Bangalore/Bengaluru, Gurgaon/Gurugram, Mumbai ...</td>\n",
       "      <td>Fractal Analytics</td>\n",
       "    </tr>\n",
       "    <tr>\n",
       "      <th>8</th>\n",
       "      <td>Senior Data Scientist</td>\n",
       "      <td>Bangalore/Bengaluru, Mumbai</td>\n",
       "      <td>Baker Hughes</td>\n",
       "    </tr>\n",
       "    <tr>\n",
       "      <th>9</th>\n",
       "      <td>Data Science - Engineering Manager</td>\n",
       "      <td>Bangalore/Bengaluru, Noida, Mumbai</td>\n",
       "      <td>Paytm</td>\n",
       "    </tr>\n",
       "  </tbody>\n",
       "</table>\n",
       "</div>"
      ],
      "text/plain": [
       "                                               title  \\\n",
       "0  Urgent Job Opening For AI Practitioner - Data ...   \n",
       "1  Opportunity For Data Scientist - Female Candid...   \n",
       "2            Research and Development -AI/ML -(PhD )   \n",
       "3            Data Scientist: Artificial Intelligence   \n",
       "4             Senior Data Scientist, Personalization   \n",
       "5                                     Data Scientist   \n",
       "6                    DigitalBCG GAMMA Data Scientist   \n",
       "7                       Senior Data Science Engineer   \n",
       "8                              Senior Data Scientist   \n",
       "9                 Data Science - Engineering Manager   \n",
       "\n",
       "                                            location                  company  \n",
       "0  Bangalore/Bengaluru, Kochi/Cochin, New Delhi, ...                    Wipro  \n",
       "1  Bangalore/Bengaluru, Gurgaon/Gurugram, Mumbai ...                     PayU  \n",
       "2  Bangalore/Bengaluru, Noida, Hyderabad/Secunder...                      EXL  \n",
       "3                                Bangalore/Bengaluru                      IBM  \n",
       "4                                Bangalore/Bengaluru                  Walmart  \n",
       "5                                Bangalore/Bengaluru       Schneider Electric  \n",
       "6                     Bangalore/Bengaluru, New Delhi  Boston Consulting Group  \n",
       "7  Bangalore/Bengaluru, Gurgaon/Gurugram, Mumbai ...        Fractal Analytics  \n",
       "8                        Bangalore/Bengaluru, Mumbai             Baker Hughes  \n",
       "9                 Bangalore/Bengaluru, Noida, Mumbai                    Paytm  "
      ]
     },
     "execution_count": 91,
     "metadata": {},
     "output_type": "execute_result"
    }
   ],
   "source": [
    "## now we keep all scrapeed into dataframe \n",
    "\n",
    "Data_2=pd.DataFrame({'title':title2,'location':job_location2,'company':company2})\n",
    "Data_2"
   ]
  },
  {
   "cell_type": "code",
   "execution_count": null,
   "id": "15738fbe",
   "metadata": {},
   "outputs": [],
   "source": []
  },
  {
   "cell_type": "code",
   "execution_count": null,
   "id": "8a2e0ba4",
   "metadata": {},
   "outputs": [],
   "source": []
  },
  {
   "cell_type": "markdown",
   "id": "b96730c4",
   "metadata": {},
   "source": [
    "# 3.scraping data using the filters available on the webpage"
   ]
  },
  {
   "cell_type": "code",
   "execution_count": null,
   "id": "d99a974d",
   "metadata": {},
   "outputs": [],
   "source": []
  },
  {
   "cell_type": "code",
   "execution_count": 221,
   "id": "24a40c32",
   "metadata": {},
   "outputs": [
    {
     "data": {
      "text/plain": [
       "<selenium.webdriver.remote.webelement.WebElement (session=\"b1ce40d5bb3a8fbaf3f0bbb466091e66\", element=\"3d02632f-0af3-4505-bf8d-b7c0b3e1f5f1\")>"
      ]
     },
     "execution_count": 221,
     "metadata": {},
     "output_type": "execute_result"
    }
   ],
   "source": [
    "# search job for data scientist as per question\n",
    "search_jobs=driver.find_element(By.XPATH,'/html/body/div[1]/div[2]/div[3]/div/div/div[1]/div/div/div/input')\n",
    "search_jobs"
   ]
  },
  {
   "cell_type": "code",
   "execution_count": 222,
   "id": "0c9bb34d",
   "metadata": {},
   "outputs": [],
   "source": [
    "search_jobs.send_keys('Data scientist')"
   ]
  },
  {
   "cell_type": "code",
   "execution_count": 223,
   "id": "95a33146",
   "metadata": {},
   "outputs": [
    {
     "data": {
      "text/plain": [
       "<selenium.webdriver.remote.webelement.WebElement (session=\"b1ce40d5bb3a8fbaf3f0bbb466091e66\", element=\"0c5b2162-08a8-47ac-88e6-ff1fbbbb36ee\")>"
      ]
     },
     "execution_count": 223,
     "metadata": {},
     "output_type": "execute_result"
    }
   ],
   "source": [
    "#search for location of jobs Delhi/ NCR as per question\n",
    "search_locations=driver.find_element(By.XPATH,'/html/body/div[1]/div[2]/div[3]/div/div/div[5]/div/div/div/input')\n",
    "search_locations"
   ]
  },
  {
   "cell_type": "code",
   "execution_count": 224,
   "id": "29454714",
   "metadata": {},
   "outputs": [],
   "source": [
    "search_locations.send_keys('Delhi/NCR')"
   ]
  },
  {
   "cell_type": "code",
   "execution_count": 225,
   "id": "9d3bd653",
   "metadata": {},
   "outputs": [],
   "source": [
    "# search by command for serch button\n",
    "search_button=driver.find_element(By.XPATH,'/html/body/div[1]/div[2]/div[3]/div/div/div[6]')\n",
    "search_button.click()"
   ]
  },
  {
   "cell_type": "code",
   "execution_count": 226,
   "id": "bac119a1",
   "metadata": {},
   "outputs": [
    {
     "data": {
      "text/plain": [
       "<selenium.webdriver.remote.webelement.WebElement (session=\"b1ce40d5bb3a8fbaf3f0bbb466091e66\", element=\"58ff040c-f1d6-4eeb-9dca-4b99044158b2\")>"
      ]
     },
     "execution_count": 226,
     "metadata": {},
     "output_type": "execute_result"
    }
   ],
   "source": [
    "# select salary filter to be used is “3-6” lakhs\n",
    "salary_filter=driver.find_element(By.XPATH,'/html/body/div[1]/div[3]/div[2]/section[1]/div[2]/div[5]/div[2]/div[1]/label/p')\n",
    "salary_filter"
   ]
  },
  {
   "cell_type": "code",
   "execution_count": 227,
   "id": "3a78ecb3",
   "metadata": {},
   "outputs": [],
   "source": [
    "salary_filter.click()"
   ]
  },
  {
   "cell_type": "code",
   "execution_count": null,
   "id": "c7745e70",
   "metadata": {},
   "outputs": [],
   "source": [
    "##scraping the data for first 10 job result"
   ]
  },
  {
   "cell_type": "code",
   "execution_count": 214,
   "id": "3c7700d8",
   "metadata": {},
   "outputs": [
    {
     "data": {
      "text/plain": [
       "18"
      ]
     },
     "execution_count": 214,
     "metadata": {},
     "output_type": "execute_result"
    }
   ],
   "source": [
    "title_tag3=driver.find_elements(By.XPATH,'//a[@class=\"title fw500 ellipsis\"]')\n",
    "len(title_tag3)"
   ]
  },
  {
   "cell_type": "code",
   "execution_count": 215,
   "id": "599ebf50",
   "metadata": {},
   "outputs": [
    {
     "data": {
      "text/plain": [
       "['Data Scientist',\n",
       " 'Research Analyst',\n",
       " 'Data Scientist',\n",
       " 'Hiring For Data Science Intern- DataTrained Education',\n",
       " 'Data Scientist SME',\n",
       " 'Research Associate - Data Science',\n",
       " 'Process Trainer',\n",
       " 'Hiring For Python Developer',\n",
       " 'Data Scientist - Experienced/fresher | Kolkata',\n",
       " 'Data Scientist']"
      ]
     },
     "execution_count": 215,
     "metadata": {},
     "output_type": "execute_result"
    }
   ],
   "source": [
    "tittle_3=[]\n",
    "for t in title_tag3[0:10]:\n",
    "    tittle_3.append(t.text)\n",
    "tittle_3\n"
   ]
  },
  {
   "cell_type": "code",
   "execution_count": 233,
   "id": "ccfb6ec4",
   "metadata": {},
   "outputs": [
    {
     "data": {
      "text/plain": [
       "10"
      ]
     },
     "execution_count": 233,
     "metadata": {},
     "output_type": "execute_result"
    }
   ],
   "source": [
    "location_tag3=driver.find_elements(By.XPATH,'//li[@class=\"fleft grey-text br2 placeHolderLi location\"]')\n",
    "len(job_location3[0:10])"
   ]
  },
  {
   "cell_type": "code",
   "execution_count": 235,
   "id": "32ee5360",
   "metadata": {},
   "outputs": [],
   "source": [
    "job_location_3=[]\n",
    "for j in location_tag3[0:10]:\n",
    "    job_location_3.append(j.text)"
   ]
  },
  {
   "cell_type": "code",
   "execution_count": 236,
   "id": "d9fa6799",
   "metadata": {},
   "outputs": [
    {
     "data": {
      "text/plain": [
       "['Bangalore/Bengaluru',\n",
       " 'Bangalore/Bengaluru(Mathikere +11)',\n",
       " 'Pune(Koregaon Park), Bangalore/Bengaluru(Bellandur)',\n",
       " 'Gurgaon/Gurugram, Bangalore/Bengaluru, Delhi / NCR',\n",
       " 'Chennai, Bangalore/Bengaluru\\n(WFH during Covid)',\n",
       " 'Hyderabad/Secunderabad',\n",
       " 'Tirunelveli, Chennai, Bangalore/Bengaluru(Vidyaranyapura), Vellore',\n",
       " 'Hyderabad/Secunderabad, Ahmedabad',\n",
       " 'Kolkata',\n",
       " 'Bangalore/Bengaluru']"
      ]
     },
     "execution_count": 236,
     "metadata": {},
     "output_type": "execute_result"
    }
   ],
   "source": [
    "job_location_3"
   ]
  },
  {
   "cell_type": "code",
   "execution_count": null,
   "id": "e3b298e0",
   "metadata": {},
   "outputs": [],
   "source": []
  },
  {
   "cell_type": "code",
   "execution_count": 239,
   "id": "0d6b0b98",
   "metadata": {},
   "outputs": [
    {
     "data": {
      "text/plain": [
       "18"
      ]
     },
     "execution_count": 239,
     "metadata": {},
     "output_type": "execute_result"
    }
   ],
   "source": [
    "company_tag3=driver.find_elements(By.XPATH,'//a[@class=\"subTitle ellipsis fleft\"]')\n",
    "len(company_tag3)"
   ]
  },
  {
   "cell_type": "code",
   "execution_count": 240,
   "id": "7f108193",
   "metadata": {},
   "outputs": [],
   "source": [
    "company3=[]\n",
    "for c in company_tag3[0:10]:\n",
    "    company3.append(c.text)"
   ]
  },
  {
   "cell_type": "code",
   "execution_count": 244,
   "id": "66522fb4",
   "metadata": {},
   "outputs": [],
   "source": [
    "experience_tag3=driver.find_elements(By.XPATH,'//li[@class=\"fleft grey-text br2 placeHolderLi experience\"]')\n",
    "\n",
    "experience3=[]\n",
    "for e in experience_tag3[0:10]:\n",
    "    experience3.append(e.text)"
   ]
  },
  {
   "cell_type": "code",
   "execution_count": 247,
   "id": "a45706c1",
   "metadata": {},
   "outputs": [
    {
     "data": {
      "text/plain": [
       "(10, 10, 10, 10)"
      ]
     },
     "execution_count": 247,
     "metadata": {},
     "output_type": "execute_result"
    }
   ],
   "source": [
    "len(tittle_3),len(job_location_3),len(experience3),len(company3)"
   ]
  },
  {
   "cell_type": "code",
   "execution_count": 250,
   "id": "f595e78c",
   "metadata": {},
   "outputs": [
    {
     "data": {
      "text/html": [
       "<div>\n",
       "<style scoped>\n",
       "    .dataframe tbody tr th:only-of-type {\n",
       "        vertical-align: middle;\n",
       "    }\n",
       "\n",
       "    .dataframe tbody tr th {\n",
       "        vertical-align: top;\n",
       "    }\n",
       "\n",
       "    .dataframe thead th {\n",
       "        text-align: right;\n",
       "    }\n",
       "</style>\n",
       "<table border=\"1\" class=\"dataframe\">\n",
       "  <thead>\n",
       "    <tr style=\"text-align: right;\">\n",
       "      <th></th>\n",
       "      <th>job_title</th>\n",
       "      <th>company</th>\n",
       "      <th>experience</th>\n",
       "      <th>location</th>\n",
       "    </tr>\n",
       "  </thead>\n",
       "  <tbody>\n",
       "    <tr>\n",
       "      <th>0</th>\n",
       "      <td>Data Scientist</td>\n",
       "      <td>Genpact</td>\n",
       "      <td>7-12 Yrs</td>\n",
       "      <td>Bangalore/Bengaluru</td>\n",
       "    </tr>\n",
       "    <tr>\n",
       "      <th>1</th>\n",
       "      <td>Research Analyst</td>\n",
       "      <td>Xsys Software Technologies</td>\n",
       "      <td>0-5 Yrs</td>\n",
       "      <td>Bangalore/Bengaluru(Mathikere +11)</td>\n",
       "    </tr>\n",
       "    <tr>\n",
       "      <th>2</th>\n",
       "      <td>Data Scientist</td>\n",
       "      <td>Eversana</td>\n",
       "      <td>3-7 Yrs</td>\n",
       "      <td>Pune(Koregaon Park), Bangalore/Bengaluru(Bella...</td>\n",
       "    </tr>\n",
       "    <tr>\n",
       "      <th>3</th>\n",
       "      <td>Hiring For Data Science Intern- DataTrained Ed...</td>\n",
       "      <td>DataTrained</td>\n",
       "      <td>0-2 Yrs</td>\n",
       "      <td>Gurgaon/Gurugram, Bangalore/Bengaluru, Delhi /...</td>\n",
       "    </tr>\n",
       "    <tr>\n",
       "      <th>4</th>\n",
       "      <td>Data Scientist SME</td>\n",
       "      <td>AMSI TECHNOLOGIES PVT LIMITED</td>\n",
       "      <td>4-9 Yrs</td>\n",
       "      <td>Chennai, Bangalore/Bengaluru\\n(WFH during Covid)</td>\n",
       "    </tr>\n",
       "    <tr>\n",
       "      <th>5</th>\n",
       "      <td>Research Associate - Data Science</td>\n",
       "      <td>Recodeminds Pvt Ltd</td>\n",
       "      <td>1-3 Yrs</td>\n",
       "      <td>Hyderabad/Secunderabad</td>\n",
       "    </tr>\n",
       "    <tr>\n",
       "      <th>6</th>\n",
       "      <td>Process Trainer</td>\n",
       "      <td>IB Business Services</td>\n",
       "      <td>2-5 Yrs</td>\n",
       "      <td>Tirunelveli, Chennai, Bangalore/Bengaluru(Vidy...</td>\n",
       "    </tr>\n",
       "    <tr>\n",
       "      <th>7</th>\n",
       "      <td>Hiring For Python Developer</td>\n",
       "      <td>ANBLICKS CLOUD DATA ENGG PRIVATE LIMITED</td>\n",
       "      <td>3-6 Yrs</td>\n",
       "      <td>Hyderabad/Secunderabad, Ahmedabad</td>\n",
       "    </tr>\n",
       "    <tr>\n",
       "      <th>8</th>\n",
       "      <td>Data Scientist - Experienced/fresher | Kolkata</td>\n",
       "      <td>SIBIA Analytics and Consulting Services Pvt Ltd</td>\n",
       "      <td>0-4 Yrs</td>\n",
       "      <td>Kolkata</td>\n",
       "    </tr>\n",
       "    <tr>\n",
       "      <th>9</th>\n",
       "      <td>Data Scientist</td>\n",
       "      <td>cliqhr.com</td>\n",
       "      <td>5-8 Yrs</td>\n",
       "      <td>Bangalore/Bengaluru</td>\n",
       "    </tr>\n",
       "  </tbody>\n",
       "</table>\n",
       "</div>"
      ],
      "text/plain": [
       "                                           job_title  \\\n",
       "0                                     Data Scientist   \n",
       "1                                   Research Analyst   \n",
       "2                                     Data Scientist   \n",
       "3  Hiring For Data Science Intern- DataTrained Ed...   \n",
       "4                                 Data Scientist SME   \n",
       "5                  Research Associate - Data Science   \n",
       "6                                    Process Trainer   \n",
       "7                        Hiring For Python Developer   \n",
       "8     Data Scientist - Experienced/fresher | Kolkata   \n",
       "9                                     Data Scientist   \n",
       "\n",
       "                                           company experience  \\\n",
       "0                                          Genpact   7-12 Yrs   \n",
       "1                       Xsys Software Technologies    0-5 Yrs   \n",
       "2                                         Eversana    3-7 Yrs   \n",
       "3                                      DataTrained    0-2 Yrs   \n",
       "4                    AMSI TECHNOLOGIES PVT LIMITED    4-9 Yrs   \n",
       "5                              Recodeminds Pvt Ltd    1-3 Yrs   \n",
       "6                             IB Business Services    2-5 Yrs   \n",
       "7         ANBLICKS CLOUD DATA ENGG PRIVATE LIMITED    3-6 Yrs   \n",
       "8  SIBIA Analytics and Consulting Services Pvt Ltd    0-4 Yrs   \n",
       "9                                       cliqhr.com    5-8 Yrs   \n",
       "\n",
       "                                            location  \n",
       "0                                Bangalore/Bengaluru  \n",
       "1                 Bangalore/Bengaluru(Mathikere +11)  \n",
       "2  Pune(Koregaon Park), Bangalore/Bengaluru(Bella...  \n",
       "3  Gurgaon/Gurugram, Bangalore/Bengaluru, Delhi /...  \n",
       "4   Chennai, Bangalore/Bengaluru\\n(WFH during Covid)  \n",
       "5                             Hyderabad/Secunderabad  \n",
       "6  Tirunelveli, Chennai, Bangalore/Bengaluru(Vidy...  \n",
       "7                  Hyderabad/Secunderabad, Ahmedabad  \n",
       "8                                            Kolkata  \n",
       "9                                Bangalore/Bengaluru  "
      ]
     },
     "execution_count": 250,
     "metadata": {},
     "output_type": "execute_result"
    }
   ],
   "source": [
    "Data_3=pd.DataFrame({'job_title':tittle_3,'company':company3,'experience':experience3,'location':job_location_3})\n",
    "Data_3"
   ]
  },
  {
   "cell_type": "code",
   "execution_count": null,
   "id": "65a6e69c",
   "metadata": {},
   "outputs": [],
   "source": []
  },
  {
   "cell_type": "markdown",
   "id": "7145762a",
   "metadata": {},
   "source": [
    "# 4.Scraping data of first 100 sunglasses listings on flipkart.com"
   ]
  },
  {
   "cell_type": "code",
   "execution_count": 251,
   "id": "75fac124",
   "metadata": {},
   "outputs": [
    {
     "name": "stderr",
     "output_type": "stream",
     "text": [
      "<ipython-input-251-c808167d5a73>:1: DeprecationWarning: executable_path has been deprecated, please pass in a Service object\n",
      "  driver= webdriver.Chrome('chromedriver.exe')\n"
     ]
    }
   ],
   "source": [
    "## connecting to webdriver\n",
    "driver= webdriver.Chrome('chromedriver.exe')\n",
    "link=\"https://www.flipkart.com/\"\n",
    "\n",
    "driver.get(link)"
   ]
  },
  {
   "cell_type": "code",
   "execution_count": 253,
   "id": "e91578a5",
   "metadata": {},
   "outputs": [
    {
     "data": {
      "text/plain": [
       "<selenium.webdriver.remote.webelement.WebElement (session=\"ab3abec443b0b07d26f5076de3455017\", element=\"e2e37819-5541-44f6-a9ab-066ad655e038\")>"
      ]
     },
     "execution_count": 253,
     "metadata": {},
     "output_type": "execute_result"
    }
   ],
   "source": [
    "#searching for the sunglasses\n",
    "search_sunglasses=driver.find_element(By.XPATH,\"/html/body/div[1]/div/div[1]/div[1]/div[2]/div[2]/form/div/div/input\")\n",
    "search_sunglasses"
   ]
  },
  {
   "cell_type": "code",
   "execution_count": 254,
   "id": "0bddab2a",
   "metadata": {},
   "outputs": [],
   "source": [
    "search_sunglasses.send_keys('sunglasses')"
   ]
  },
  {
   "cell_type": "code",
   "execution_count": 259,
   "id": "2c44fd47",
   "metadata": {},
   "outputs": [],
   "source": [
    "## command to serach button \n",
    "search_button=driver.find_element(By.XPATH,'/html/body/div[1]/div/div[1]/div[1]/div[2]/div[2]/form/div/button')\n",
    "search_button.click()"
   ]
  },
  {
   "cell_type": "code",
   "execution_count": 264,
   "id": "df35f4c4",
   "metadata": {},
   "outputs": [],
   "source": [
    "# scraping brand of sunglasses\n",
    "brand_tag=driver.find_elements(By.XPATH,'//div[@class=\"_2WkVRV\"]')\n",
    "brand=[]\n",
    "for b in brand_tag:\n",
    "    brand.append(b.text)\n",
    "    "
   ]
  },
  {
   "cell_type": "code",
   "execution_count": 268,
   "id": "1f9b3b61",
   "metadata": {},
   "outputs": [],
   "source": [
    "# scraping product description\n",
    "product_description_tag=driver.find_elements(By.XPATH,'//a[@class=\"IRpwTa\"]')\n",
    "product_description=[]\n",
    "for p in product_description_tag:\n",
    "    product_description.append(p.text)"
   ]
  },
  {
   "cell_type": "code",
   "execution_count": 271,
   "id": "256c9c69",
   "metadata": {},
   "outputs": [],
   "source": [
    "##scraping price\n",
    "price_tag=driver.find_elements(By.XPATH,'//div[@class=\"_30jeq3\"]')\n",
    "price=[]\n",
    "for p in price_tag:\n",
    "    price.append(p.text)"
   ]
  },
  {
   "cell_type": "code",
   "execution_count": 283,
   "id": "cff2c913",
   "metadata": {},
   "outputs": [],
   "source": [
    "# scraping from next page--page2\n",
    "next_page=driver.find_element(By.XPATH,'/html/body/div[1]/div/div[3]/div[1]/div[2]/div[12]/div/div/nav/a[11]')\n",
    "next_page.click()"
   ]
  },
  {
   "cell_type": "code",
   "execution_count": 286,
   "id": "7658ee00",
   "metadata": {},
   "outputs": [],
   "source": [
    "# scraping brand \n",
    "brand_tag=driver.find_elements(By.XPATH,'//div[@class=\"_2WkVRV\"]')\n",
    "for b in brand_tag:\n",
    "    brand.append(b.text)"
   ]
  },
  {
   "cell_type": "code",
   "execution_count": 290,
   "id": "815be5cf",
   "metadata": {},
   "outputs": [],
   "source": [
    "# scraping product discription\n",
    "product_description_tag=driver.find_elements(By.XPATH,'//a[@class=\"IRpwTa\"]')\n",
    "for p in product_description_tag:\n",
    "    product_description.append(p.text)"
   ]
  },
  {
   "cell_type": "code",
   "execution_count": 294,
   "id": "ec22c98d",
   "metadata": {},
   "outputs": [],
   "source": [
    "# scraping price\n",
    "price_tag=driver.find_elements(By.XPATH,'//div[@class=\"_30jeq3\"]')\n",
    "for p in price_tag:\n",
    "    price.append(p.text)\n"
   ]
  },
  {
   "cell_type": "code",
   "execution_count": 299,
   "id": "c7d302bc",
   "metadata": {},
   "outputs": [],
   "source": [
    "# scraping from next page--page3 \n",
    "next_page=driver.find_element(By.XPATH,'/html/body/div[1]/div/div[3]/div[1]/div[2]/div[12]/div/div/nav/a[12]/span')\n",
    "next_page.click()"
   ]
  },
  {
   "cell_type": "code",
   "execution_count": 302,
   "id": "af952ed3",
   "metadata": {},
   "outputs": [],
   "source": [
    "brand_tag=driver.find_elements(By.XPATH,'//div[@class=\"_2WkVRV\"]')\n",
    "for b in brand_tag[0:20]:\n",
    "    brand.append(b.text)"
   ]
  },
  {
   "cell_type": "code",
   "execution_count": 304,
   "id": "b7ca0df1",
   "metadata": {},
   "outputs": [],
   "source": [
    "product_description_tag=driver.find_elements(By.XPATH,'//a[@class=\"IRpwTa\"]')\n",
    "for p in product_description_tag[0:20]:\n",
    "    product_description.append(p.text)"
   ]
  },
  {
   "cell_type": "code",
   "execution_count": 308,
   "id": "bdd4c26a",
   "metadata": {},
   "outputs": [],
   "source": [
    "price_tag=driver.find_elements(By.XPATH,'//div[@class=\"_30jeq3\"]')\n",
    "for p in price_tag[10:20]:\n",
    "    price.append(p.text)"
   ]
  },
  {
   "cell_type": "code",
   "execution_count": 311,
   "id": "7da57a58",
   "metadata": {},
   "outputs": [
    {
     "data": {
      "text/html": [
       "<div>\n",
       "<style scoped>\n",
       "    .dataframe tbody tr th:only-of-type {\n",
       "        vertical-align: middle;\n",
       "    }\n",
       "\n",
       "    .dataframe tbody tr th {\n",
       "        vertical-align: top;\n",
       "    }\n",
       "\n",
       "    .dataframe thead th {\n",
       "        text-align: right;\n",
       "    }\n",
       "</style>\n",
       "<table border=\"1\" class=\"dataframe\">\n",
       "  <thead>\n",
       "    <tr style=\"text-align: right;\">\n",
       "      <th></th>\n",
       "      <th>Brand</th>\n",
       "      <th>Product_description</th>\n",
       "      <th>Price</th>\n",
       "    </tr>\n",
       "  </thead>\n",
       "  <tbody>\n",
       "    <tr>\n",
       "      <th>0</th>\n",
       "      <td>VINCENT CHASE</td>\n",
       "      <td>by Lenskart Polarized, UV Protection Cat-eye S...</td>\n",
       "      <td>₹799</td>\n",
       "    </tr>\n",
       "    <tr>\n",
       "      <th>1</th>\n",
       "      <td>VINCENT CHASE</td>\n",
       "      <td>by Lenskart Polarized, UV Protection Rectangul...</td>\n",
       "      <td>₹749</td>\n",
       "    </tr>\n",
       "    <tr>\n",
       "      <th>2</th>\n",
       "      <td>Elligator</td>\n",
       "      <td>UV Protection Round Sunglasses (54)</td>\n",
       "      <td>₹315</td>\n",
       "    </tr>\n",
       "    <tr>\n",
       "      <th>3</th>\n",
       "      <td>Fastrack</td>\n",
       "      <td>UV Protection Rectangular Sunglasses (Free Size)</td>\n",
       "      <td>₹639</td>\n",
       "    </tr>\n",
       "    <tr>\n",
       "      <th>4</th>\n",
       "      <td>New Specs</td>\n",
       "      <td>UV Protection Rectangular Sunglasses (Free Size)</td>\n",
       "      <td>₹264</td>\n",
       "    </tr>\n",
       "    <tr>\n",
       "      <th>...</th>\n",
       "      <td>...</td>\n",
       "      <td>...</td>\n",
       "      <td>...</td>\n",
       "    </tr>\n",
       "    <tr>\n",
       "      <th>95</th>\n",
       "      <td>AISLIN</td>\n",
       "      <td>UV Protection, Gradient Oval Sunglasses (58)</td>\n",
       "      <td>₹498</td>\n",
       "    </tr>\n",
       "    <tr>\n",
       "      <th>96</th>\n",
       "      <td>LIZA ANGEL</td>\n",
       "      <td>Riding Glasses, Night Vision Retro Square Sung...</td>\n",
       "      <td>₹179</td>\n",
       "    </tr>\n",
       "    <tr>\n",
       "      <th>97</th>\n",
       "      <td>VINCENT CHASE</td>\n",
       "      <td>by Lenskart Polarized, UV Protection Wayfarer ...</td>\n",
       "      <td>₹949</td>\n",
       "    </tr>\n",
       "    <tr>\n",
       "      <th>98</th>\n",
       "      <td>Singco India</td>\n",
       "      <td>Gradient, Toughened Glass Lens, UV Protection ...</td>\n",
       "      <td>₹664</td>\n",
       "    </tr>\n",
       "    <tr>\n",
       "      <th>99</th>\n",
       "      <td>DEIXELS</td>\n",
       "      <td>UV Protection Wayfarer Sunglasses (Free Size)</td>\n",
       "      <td>₹249</td>\n",
       "    </tr>\n",
       "  </tbody>\n",
       "</table>\n",
       "<p>100 rows × 3 columns</p>\n",
       "</div>"
      ],
      "text/plain": [
       "            Brand                                Product_description Price\n",
       "0   VINCENT CHASE  by Lenskart Polarized, UV Protection Cat-eye S...  ₹799\n",
       "1   VINCENT CHASE  by Lenskart Polarized, UV Protection Rectangul...  ₹749\n",
       "2       Elligator                UV Protection Round Sunglasses (54)  ₹315\n",
       "3        Fastrack   UV Protection Rectangular Sunglasses (Free Size)  ₹639\n",
       "4       New Specs   UV Protection Rectangular Sunglasses (Free Size)  ₹264\n",
       "..            ...                                                ...   ...\n",
       "95         AISLIN       UV Protection, Gradient Oval Sunglasses (58)  ₹498\n",
       "96     LIZA ANGEL  Riding Glasses, Night Vision Retro Square Sung...  ₹179\n",
       "97  VINCENT CHASE  by Lenskart Polarized, UV Protection Wayfarer ...  ₹949\n",
       "98   Singco India  Gradient, Toughened Glass Lens, UV Protection ...  ₹664\n",
       "99        DEIXELS      UV Protection Wayfarer Sunglasses (Free Size)  ₹249\n",
       "\n",
       "[100 rows x 3 columns]"
      ]
     },
     "execution_count": 311,
     "metadata": {},
     "output_type": "execute_result"
    }
   ],
   "source": [
    "# Data scraped from website \n",
    "Data_4=pd.DataFrame({'Brand':brand,'Product_description':product_description,'Price':price})\n",
    "Data_4"
   ]
  },
  {
   "cell_type": "code",
   "execution_count": null,
   "id": "56551f2a",
   "metadata": {},
   "outputs": [],
   "source": []
  },
  {
   "cell_type": "markdown",
   "id": "4e198a09",
   "metadata": {},
   "source": [
    "# 5.Scraping 100 reviews data from flipkart.com for iphone11 phone"
   ]
  },
  {
   "cell_type": "code",
   "execution_count": 211,
   "id": "b133efc9",
   "metadata": {},
   "outputs": [
    {
     "name": "stderr",
     "output_type": "stream",
     "text": [
      "<ipython-input-211-a466dcc04477>:2: DeprecationWarning: executable_path has been deprecated, please pass in a Service object\n",
      "  driver= webdriver.Chrome('chromedriver.exe')\n"
     ]
    }
   ],
   "source": [
    "## connecting to webdriver\n",
    "driver= webdriver.Chrome('chromedriver.exe')\n",
    "link=\"https://www.flipkart.com/\"\n",
    "\n",
    "driver.get(link)"
   ]
  },
  {
   "cell_type": "code",
   "execution_count": 212,
   "id": "153bfa58",
   "metadata": {},
   "outputs": [
    {
     "data": {
      "text/plain": [
       "<selenium.webdriver.remote.webelement.WebElement (session=\"ada7fb28cca7813fff6c3b4f49e8a2e1\", element=\"3a5d2454-f9f9-4548-978d-09de2f4fb6ff\")>"
      ]
     },
     "execution_count": 212,
     "metadata": {},
     "output_type": "execute_result"
    }
   ],
   "source": [
    "#searching for the iphone11 phone\n",
    "search_iphone11=driver.find_element(By.XPATH,\"/html/body/div[1]/div/div[1]/div[1]/div[2]/div[2]/form/div/div/input\")\n",
    "search_iphone11"
   ]
  },
  {
   "cell_type": "code",
   "execution_count": 213,
   "id": "aafb197a",
   "metadata": {},
   "outputs": [],
   "source": [
    "search_iphone11.send_keys('iphone11')"
   ]
  },
  {
   "cell_type": "code",
   "execution_count": 214,
   "id": "00d300a6",
   "metadata": {},
   "outputs": [],
   "source": [
    "## command to serach button \n",
    "search_button=driver.find_element(By.XPATH,'/html/body/div[1]/div/div[1]/div[1]/div[2]/div[2]/form/div/button')\n",
    "search_button.click()"
   ]
  },
  {
   "cell_type": "code",
   "execution_count": 215,
   "id": "5d4ec4cf",
   "metadata": {},
   "outputs": [],
   "source": [
    "iphone11_open=driver.find_element(By.XPATH,'/html/body/div[1]/div/div[3]/div[1]/div[2]/div[2]/div/div/div/a/div[2]/div[1]/div[1]')\n",
    "iphone11_open.click()"
   ]
  },
  {
   "cell_type": "code",
   "execution_count": 170,
   "id": "e20c58c0",
   "metadata": {},
   "outputs": [],
   "source": [
    "review=driver.find_elements(By.XPATH,'//div[@class=\"_3LWZlK _1BLPMq\"]')\n",
    "for r in review:\n",
    "    j=r.text\n",
    "    rating_iphone.append(j)"
   ]
  },
  {
   "cell_type": "code",
   "execution_count": 171,
   "id": "dfc12d39",
   "metadata": {},
   "outputs": [
    {
     "data": {
      "text/plain": [
       "['5', '5', '5', '5', '5', '5', '4', '4', '5', '5']"
      ]
     },
     "execution_count": 171,
     "metadata": {},
     "output_type": "execute_result"
    }
   ],
   "source": [
    "rating_iphone\n"
   ]
  },
  {
   "cell_type": "code",
   "execution_count": 184,
   "id": "5ffd0a8e",
   "metadata": {},
   "outputs": [],
   "source": [
    "summary_iphone=[]\n",
    "summary_tag=driver.find_elements(By.XPATH,'//p[@class=\"_2-N8zT\"]')"
   ]
  },
  {
   "cell_type": "code",
   "execution_count": 185,
   "id": "cf33eed9",
   "metadata": {},
   "outputs": [],
   "source": [
    "for s in summary_tag:\n",
    "    c=s.text\n",
    "    summary_iphone.append(c)"
   ]
  },
  {
   "cell_type": "code",
   "execution_count": 186,
   "id": "77fb4f33",
   "metadata": {},
   "outputs": [
    {
     "data": {
      "text/plain": [
       "['Great product',\n",
       " 'Super!',\n",
       " 'Highly recommended',\n",
       " 'Must buy!',\n",
       " 'Best in the market!',\n",
       " 'Best in the market!',\n",
       " 'Really Nice',\n",
       " 'Really Nice',\n",
       " 'Best in the market!',\n",
       " 'Highly recommended']"
      ]
     },
     "execution_count": 186,
     "metadata": {},
     "output_type": "execute_result"
    }
   ],
   "source": [
    "summary_iphone"
   ]
  },
  {
   "cell_type": "code",
   "execution_count": 194,
   "id": "418708b9",
   "metadata": {},
   "outputs": [],
   "source": [
    "full_review=driver.find_elements(By.XPATH,'//div[@class=\"t-ZTKy\"]')\n",
    "review_iphone=[]\n",
    "for f in full_review:\n",
    "    c=f.text\n",
    "    review_iphone.append(c)"
   ]
  },
  {
   "cell_type": "code",
   "execution_count": 197,
   "id": "f2ed055e",
   "metadata": {},
   "outputs": [
    {
     "data": {
      "text/plain": [
       "['Ordered it for Iphone 11 and well i ll like to say it works perfectly fine with it.\\nThe phone gets hot if you push it to 100 percent battery and if you dont ...\\nRead full review',\n",
       " 'Fast charging, Original Product',\n",
       " 'Very Good glass looks very attractive and flexible also i have never seen this type of glass long lasting, Try at least once .😍',\n",
       " 'Nice product worth of money',\n",
       " 'Perfect fit clean look',\n",
       " 'Perfect fit clean look',\n",
       " 'If you are looking for an fast and good build iPhone adapter .... Go for it without any hesitation ...it’s worth at this prize segment ...quick and fast char...\\nRead full review',\n",
       " 'iPhone 11 charged 35 mint to 65% good charge',\n",
       " 'its durable and quite good quality.. i like the product at affordable price...',\n",
       " 'Very going and genuine Back cover']"
      ]
     },
     "execution_count": 197,
     "metadata": {},
     "output_type": "execute_result"
    }
   ],
   "source": [
    "review_iphone"
   ]
  },
  {
   "cell_type": "code",
   "execution_count": 210,
   "id": "9b20aebb",
   "metadata": {},
   "outputs": [
    {
     "data": {
      "text/plain": [
       "[]"
      ]
     },
     "execution_count": 210,
     "metadata": {},
     "output_type": "execute_result"
    }
   ],
   "source": [
    "more_review=driver.find_elements(By.XPATH,'/html/body/div[1]/div/div[3]/div[1]/div[2]/div[9]/div[6]/div/a/div')\n",
    "more_review"
   ]
  },
  {
   "cell_type": "code",
   "execution_count": null,
   "id": "8ba1b44e",
   "metadata": {},
   "outputs": [],
   "source": []
  },
  {
   "cell_type": "markdown",
   "id": "2b3a8103",
   "metadata": {},
   "source": [
    "# 6. Scrape data for first 100 sneakers"
   ]
  },
  {
   "cell_type": "code",
   "execution_count": 4,
   "id": "c7eb03c5",
   "metadata": {},
   "outputs": [
    {
     "name": "stderr",
     "output_type": "stream",
     "text": [
      "<ipython-input-4-c808167d5a73>:1: DeprecationWarning: executable_path has been deprecated, please pass in a Service object\n",
      "  driver= webdriver.Chrome('chromedriver.exe')\n"
     ]
    }
   ],
   "source": [
    "driver= webdriver.Chrome('chromedriver.exe')\n",
    "link=\"https://www.flipkart.com/\"\n",
    "\n",
    "driver.get(link)"
   ]
  },
  {
   "cell_type": "code",
   "execution_count": 5,
   "id": "34c9187d",
   "metadata": {},
   "outputs": [
    {
     "data": {
      "text/plain": [
       "<selenium.webdriver.remote.webelement.WebElement (session=\"2438117dee19a52acd2ec25ecb9993ae\", element=\"c4df2258-9c60-49c7-82c7-a4b8a1d86bcd\")>"
      ]
     },
     "execution_count": 5,
     "metadata": {},
     "output_type": "execute_result"
    }
   ],
   "source": [
    "search_sneaker=driver.find_element(By.XPATH,\"/html/body/div[1]/div/div[1]/div[1]/div[2]/div[2]/form/div/div/input\")\n",
    "search_sneaker"
   ]
  },
  {
   "cell_type": "code",
   "execution_count": 6,
   "id": "07b2cac0",
   "metadata": {},
   "outputs": [],
   "source": [
    "search_sneaker.send_keys('sneaker')"
   ]
  },
  {
   "cell_type": "code",
   "execution_count": 7,
   "id": "8073d2ef",
   "metadata": {},
   "outputs": [],
   "source": [
    "search_button=driver.find_element(By.XPATH,'/html/body/div[1]/div/div[1]/div[1]/div[2]/div[2]/form/div/button')\n",
    "search_button.click()"
   ]
  },
  {
   "cell_type": "code",
   "execution_count": 30,
   "id": "67228002",
   "metadata": {},
   "outputs": [],
   "source": []
  },
  {
   "cell_type": "code",
   "execution_count": 53,
   "id": "79319d96",
   "metadata": {},
   "outputs": [],
   "source": [
    "p=[]\n",
    "desc_tag=driver.find_elements(By.XPATH,'//div[@class=\"_2B099V\"]')\n",
    "for d in desc_tag:\n",
    "    c=d.text.split('\\n')\n",
    "    p.append(c)"
   ]
  },
  {
   "cell_type": "code",
   "execution_count": 57,
   "id": "aec1c7a0",
   "metadata": {},
   "outputs": [
    {
     "data": {
      "text/html": [
       "<div>\n",
       "<style scoped>\n",
       "    .dataframe tbody tr th:only-of-type {\n",
       "        vertical-align: middle;\n",
       "    }\n",
       "\n",
       "    .dataframe tbody tr th {\n",
       "        vertical-align: top;\n",
       "    }\n",
       "\n",
       "    .dataframe thead th {\n",
       "        text-align: right;\n",
       "    }\n",
       "</style>\n",
       "<table border=\"1\" class=\"dataframe\">\n",
       "  <thead>\n",
       "    <tr style=\"text-align: right;\">\n",
       "      <th></th>\n",
       "      <th>0</th>\n",
       "      <th>1</th>\n",
       "      <th>2</th>\n",
       "      <th>3</th>\n",
       "      <th>4</th>\n",
       "    </tr>\n",
       "  </thead>\n",
       "  <tbody>\n",
       "    <tr>\n",
       "      <th>0</th>\n",
       "      <td>RapidBox</td>\n",
       "      <td>Sneakers For Men</td>\n",
       "      <td>₹630₹99936% off</td>\n",
       "      <td>Size 6, 7, 8, 9, 10, 11</td>\n",
       "      <td>None</td>\n",
       "    </tr>\n",
       "    <tr>\n",
       "      <th>1</th>\n",
       "      <td>STRANGER BROTHERS</td>\n",
       "      <td>White &amp; Black Sneakers For Men Casual Shoes Fo...</td>\n",
       "      <td>₹496₹1,49966% off</td>\n",
       "      <td>Size 6, 7, 8, 9, 10</td>\n",
       "      <td>None</td>\n",
       "    </tr>\n",
       "    <tr>\n",
       "      <th>2</th>\n",
       "      <td>WOODLAND</td>\n",
       "      <td>Sneakers For Men</td>\n",
       "      <td>₹2,096₹2,99530% off</td>\n",
       "      <td>EOSS</td>\n",
       "      <td>None</td>\n",
       "    </tr>\n",
       "    <tr>\n",
       "      <th>3</th>\n",
       "      <td>BRUTON</td>\n",
       "      <td>Modern Trendy Sneakers Shoes Sneakers For Men</td>\n",
       "      <td>₹269₹1,29979% off</td>\n",
       "      <td>Deal of the Day</td>\n",
       "      <td>Size 6, 7, 8, 9, 10</td>\n",
       "    </tr>\n",
       "    <tr>\n",
       "      <th>4</th>\n",
       "      <td>BRUTON</td>\n",
       "      <td>Modern Trendy Sneakers Shoes Sneakers For Men</td>\n",
       "      <td>₹299₹1,29976% off</td>\n",
       "      <td>Deal of the Day</td>\n",
       "      <td>None</td>\n",
       "    </tr>\n",
       "    <tr>\n",
       "      <th>5</th>\n",
       "      <td>Magnolia</td>\n",
       "      <td>Sneakers For Men</td>\n",
       "      <td>₹449₹99955% off</td>\n",
       "      <td>Deal of the Day</td>\n",
       "      <td>None</td>\n",
       "    </tr>\n",
       "    <tr>\n",
       "      <th>6</th>\n",
       "      <td>URBANBOX</td>\n",
       "      <td>Sneakers Sneakers For Men</td>\n",
       "      <td>₹198₹99980% off</td>\n",
       "      <td>Size 6, 7, 8, 9, 10</td>\n",
       "      <td>None</td>\n",
       "    </tr>\n",
       "    <tr>\n",
       "      <th>7</th>\n",
       "      <td>RapidBox</td>\n",
       "      <td>Stylish &amp; Trendy Sneakers For Men</td>\n",
       "      <td>₹610₹99938% off</td>\n",
       "      <td>None</td>\n",
       "      <td>None</td>\n",
       "    </tr>\n",
       "    <tr>\n",
       "      <th>8</th>\n",
       "      <td>Labbin</td>\n",
       "      <td>Sneakers For Men</td>\n",
       "      <td>₹499₹99950% off</td>\n",
       "      <td>Free delivery</td>\n",
       "      <td>None</td>\n",
       "    </tr>\n",
       "    <tr>\n",
       "      <th>9</th>\n",
       "      <td>BIRDE</td>\n",
       "      <td>Stylish Comfortable Lightweight, Breathable Wa...</td>\n",
       "      <td>₹378₹99962% off</td>\n",
       "      <td>Free delivery</td>\n",
       "      <td>Deal of the Day</td>\n",
       "    </tr>\n",
       "    <tr>\n",
       "      <th>10</th>\n",
       "      <td>aadi</td>\n",
       "      <td>Sneakers For Men</td>\n",
       "      <td>₹319₹99968% off</td>\n",
       "      <td>Deal of the Day</td>\n",
       "      <td>Size 6, 7, 8, 9, 10</td>\n",
       "    </tr>\n",
       "    <tr>\n",
       "      <th>11</th>\n",
       "      <td>HRX by Hrithik Roshan</td>\n",
       "      <td>Sneakers For Men</td>\n",
       "      <td>₹2,182₹2,99927% off</td>\n",
       "      <td>Free delivery</td>\n",
       "      <td>None</td>\n",
       "    </tr>\n",
       "    <tr>\n",
       "      <th>12</th>\n",
       "      <td>BIRDE</td>\n",
       "      <td>Stylish Comfortable Lightweight, Breathable Wa...</td>\n",
       "      <td>₹335₹99966% off</td>\n",
       "      <td>Free delivery</td>\n",
       "      <td>Deal of the Day</td>\n",
       "    </tr>\n",
       "    <tr>\n",
       "      <th>13</th>\n",
       "      <td>ONECENTRE</td>\n",
       "      <td>STR2 Sneakers For Men</td>\n",
       "      <td>₹299₹60050% off</td>\n",
       "      <td>Free delivery</td>\n",
       "      <td>None</td>\n",
       "    </tr>\n",
       "    <tr>\n",
       "      <th>14</th>\n",
       "      <td>PUMA</td>\n",
       "      <td>Puma Smash v2 L Sneakers For Men</td>\n",
       "      <td>₹1,763₹3,49949% off</td>\n",
       "      <td>Free delivery</td>\n",
       "      <td>EOSS</td>\n",
       "    </tr>\n",
       "    <tr>\n",
       "      <th>15</th>\n",
       "      <td>pollachief</td>\n",
       "      <td>Casual Sneaker for Men Sneakers For Men</td>\n",
       "      <td>₹559₹99944% off</td>\n",
       "      <td>Free delivery</td>\n",
       "      <td>None</td>\n",
       "    </tr>\n",
       "    <tr>\n",
       "      <th>16</th>\n",
       "      <td>PUMA</td>\n",
       "      <td>Smash v2 L Sneakers For Men</td>\n",
       "      <td>₹2,099₹3,49940% off</td>\n",
       "      <td>Free delivery</td>\n",
       "      <td>EOSS</td>\n",
       "    </tr>\n",
       "    <tr>\n",
       "      <th>17</th>\n",
       "      <td>SFR</td>\n",
       "      <td>Sneakers For Men</td>\n",
       "      <td>₹289₹99971% off</td>\n",
       "      <td>Free delivery</td>\n",
       "      <td>None</td>\n",
       "    </tr>\n",
       "    <tr>\n",
       "      <th>18</th>\n",
       "      <td>HOTSTYLE</td>\n",
       "      <td>Sneakers For Men</td>\n",
       "      <td>₹258₹99874% off</td>\n",
       "      <td>Free delivery</td>\n",
       "      <td>Deal of the Day</td>\n",
       "    </tr>\n",
       "    <tr>\n",
       "      <th>19</th>\n",
       "      <td>Roadster</td>\n",
       "      <td>Sneakers For Men</td>\n",
       "      <td>₹1,353₹2,89953% off</td>\n",
       "      <td>Size 7, 9, 10, 11</td>\n",
       "      <td>None</td>\n",
       "    </tr>\n",
       "    <tr>\n",
       "      <th>20</th>\n",
       "      <td>corsac</td>\n",
       "      <td>STYLISH MENS BLACK SNEAKER Sneakers For Men</td>\n",
       "      <td>₹499₹1,49966% off</td>\n",
       "      <td>Free delivery</td>\n",
       "      <td>None</td>\n",
       "    </tr>\n",
       "    <tr>\n",
       "      <th>21</th>\n",
       "      <td>ASTEROID</td>\n",
       "      <td>Original Luxury Branded Fashionable Men's Casu...</td>\n",
       "      <td>₹474₹1,99976% off</td>\n",
       "      <td>Free delivery</td>\n",
       "      <td>Deal of the Day</td>\n",
       "    </tr>\n",
       "    <tr>\n",
       "      <th>22</th>\n",
       "      <td>CLYMB</td>\n",
       "      <td>Sneakers For Men</td>\n",
       "      <td>₹616₹1,49958% off</td>\n",
       "      <td>Free delivery</td>\n",
       "      <td>Deal of the Day</td>\n",
       "    </tr>\n",
       "    <tr>\n",
       "      <th>23</th>\n",
       "      <td>Scull Wings</td>\n",
       "      <td>White &amp; Black Sneakers For Men Casual Shoes Fo...</td>\n",
       "      <td>₹496₹1,29961% off</td>\n",
       "      <td>Free delivery</td>\n",
       "      <td>None</td>\n",
       "    </tr>\n",
       "    <tr>\n",
       "      <th>24</th>\n",
       "      <td>KWIK FIT</td>\n",
       "      <td>Kwik FIT casual sneaker shoes and partywear sh...</td>\n",
       "      <td>₹397₹1,99980% off</td>\n",
       "      <td>Free delivery</td>\n",
       "      <td>None</td>\n",
       "    </tr>\n",
       "    <tr>\n",
       "      <th>25</th>\n",
       "      <td>Chevit</td>\n",
       "      <td>Super Stylish &amp; Trendy Combo Pack of 02 Pairs ...</td>\n",
       "      <td>₹649₹1,89865% off</td>\n",
       "      <td>Free delivery</td>\n",
       "      <td>Deal of the Day</td>\n",
       "    </tr>\n",
       "    <tr>\n",
       "      <th>26</th>\n",
       "      <td>PUMA</td>\n",
       "      <td>Puma Smash v2 L Sneakers For Men</td>\n",
       "      <td>₹1,877₹3,49946% off</td>\n",
       "      <td>Free delivery</td>\n",
       "      <td>EOSS</td>\n",
       "    </tr>\n",
       "    <tr>\n",
       "      <th>27</th>\n",
       "      <td>HOTSTYLE</td>\n",
       "      <td>Sneakers For Men</td>\n",
       "      <td>₹195₹49960% off</td>\n",
       "      <td>Size 6, 7, 8, 9, 10</td>\n",
       "      <td>None</td>\n",
       "    </tr>\n",
       "    <tr>\n",
       "      <th>28</th>\n",
       "      <td>BRUTON</td>\n",
       "      <td>Sneaker Sneakers For Men</td>\n",
       "      <td>₹269₹1,29979% off</td>\n",
       "      <td>Free delivery</td>\n",
       "      <td>Deal of the Day</td>\n",
       "    </tr>\n",
       "    <tr>\n",
       "      <th>29</th>\n",
       "      <td>BIRDE</td>\n",
       "      <td>Stylish Comfortable Lightweight, Breathable Ca...</td>\n",
       "      <td>₹335₹99966% off</td>\n",
       "      <td>Free delivery</td>\n",
       "      <td>Deal of the Day</td>\n",
       "    </tr>\n",
       "    <tr>\n",
       "      <th>30</th>\n",
       "      <td>SCATCHITE</td>\n",
       "      <td>Sneakers Sneakers For Men</td>\n",
       "      <td>₹399₹99960% off</td>\n",
       "      <td>Free delivery</td>\n",
       "      <td>None</td>\n",
       "    </tr>\n",
       "    <tr>\n",
       "      <th>31</th>\n",
       "      <td>Kelwin</td>\n",
       "      <td>Sneakers Casual blue shoes Sneakers For Men</td>\n",
       "      <td>₹449₹99955% off</td>\n",
       "      <td>Free delivery</td>\n",
       "      <td>Deal of the Day</td>\n",
       "    </tr>\n",
       "    <tr>\n",
       "      <th>32</th>\n",
       "      <td>PEXLO</td>\n",
       "      <td>Combo Pack of 3 Casual Shoes, Sneakers For Men</td>\n",
       "      <td>₹561₹2,39776% off</td>\n",
       "      <td>Free delivery</td>\n",
       "      <td>Deal of the Day</td>\n",
       "    </tr>\n",
       "    <tr>\n",
       "      <th>33</th>\n",
       "      <td>Kraasa</td>\n",
       "      <td>Shark-41 Sneakers For Men</td>\n",
       "      <td>₹479₹99952% off</td>\n",
       "      <td>Free delivery</td>\n",
       "      <td>Deal of the Day</td>\n",
       "    </tr>\n",
       "    <tr>\n",
       "      <th>34</th>\n",
       "      <td>Kraasa</td>\n",
       "      <td>Casuals, Canvas, Partywear Sneakers For Men</td>\n",
       "      <td>₹479₹99952% off</td>\n",
       "      <td>Free delivery</td>\n",
       "      <td>Deal of the Day</td>\n",
       "    </tr>\n",
       "    <tr>\n",
       "      <th>35</th>\n",
       "      <td>RapidBox</td>\n",
       "      <td>Sneakers For Men</td>\n",
       "      <td>₹630₹99936% off</td>\n",
       "      <td>None</td>\n",
       "      <td>None</td>\n",
       "    </tr>\n",
       "    <tr>\n",
       "      <th>36</th>\n",
       "      <td>Kraasa</td>\n",
       "      <td>Series 7 Sneakers For Men</td>\n",
       "      <td>₹479₹99952% off</td>\n",
       "      <td>Free delivery</td>\n",
       "      <td>Deal of the Day</td>\n",
       "    </tr>\n",
       "    <tr>\n",
       "      <th>37</th>\n",
       "      <td>Robbie jones</td>\n",
       "      <td>Casual Sneakers Canvas Shoes For Men Sneakers ...</td>\n",
       "      <td>₹499₹99950% off</td>\n",
       "      <td>Free delivery</td>\n",
       "      <td>None</td>\n",
       "    </tr>\n",
       "    <tr>\n",
       "      <th>38</th>\n",
       "      <td>Kzaara</td>\n",
       "      <td>Sneakers For Men</td>\n",
       "      <td>₹259₹99974% off</td>\n",
       "      <td>Free delivery</td>\n",
       "      <td>None</td>\n",
       "    </tr>\n",
       "    <tr>\n",
       "      <th>39</th>\n",
       "      <td>sixXplus</td>\n",
       "      <td>Casual For Men (Blue 07) Sneakers For Men (Blu...</td>\n",
       "      <td>₹526₹99947% off</td>\n",
       "      <td>Free delivery</td>\n",
       "      <td>None</td>\n",
       "    </tr>\n",
       "  </tbody>\n",
       "</table>\n",
       "</div>"
      ],
      "text/plain": [
       "                        0                                                  1  \\\n",
       "0                RapidBox                                   Sneakers For Men   \n",
       "1       STRANGER BROTHERS  White & Black Sneakers For Men Casual Shoes Fo...   \n",
       "2                WOODLAND                                   Sneakers For Men   \n",
       "3                  BRUTON      Modern Trendy Sneakers Shoes Sneakers For Men   \n",
       "4                  BRUTON      Modern Trendy Sneakers Shoes Sneakers For Men   \n",
       "5                Magnolia                                   Sneakers For Men   \n",
       "6                URBANBOX                          Sneakers Sneakers For Men   \n",
       "7                RapidBox                  Stylish & Trendy Sneakers For Men   \n",
       "8                  Labbin                                   Sneakers For Men   \n",
       "9                   BIRDE  Stylish Comfortable Lightweight, Breathable Wa...   \n",
       "10                   aadi                                   Sneakers For Men   \n",
       "11  HRX by Hrithik Roshan                                   Sneakers For Men   \n",
       "12                  BIRDE  Stylish Comfortable Lightweight, Breathable Wa...   \n",
       "13              ONECENTRE                              STR2 Sneakers For Men   \n",
       "14                   PUMA                   Puma Smash v2 L Sneakers For Men   \n",
       "15             pollachief            Casual Sneaker for Men Sneakers For Men   \n",
       "16                   PUMA                        Smash v2 L Sneakers For Men   \n",
       "17                    SFR                                   Sneakers For Men   \n",
       "18               HOTSTYLE                                   Sneakers For Men   \n",
       "19               Roadster                                   Sneakers For Men   \n",
       "20                 corsac        STYLISH MENS BLACK SNEAKER Sneakers For Men   \n",
       "21               ASTEROID  Original Luxury Branded Fashionable Men's Casu...   \n",
       "22                  CLYMB                                   Sneakers For Men   \n",
       "23            Scull Wings  White & Black Sneakers For Men Casual Shoes Fo...   \n",
       "24               KWIK FIT  Kwik FIT casual sneaker shoes and partywear sh...   \n",
       "25                 Chevit  Super Stylish & Trendy Combo Pack of 02 Pairs ...   \n",
       "26                   PUMA                   Puma Smash v2 L Sneakers For Men   \n",
       "27               HOTSTYLE                                   Sneakers For Men   \n",
       "28                 BRUTON                           Sneaker Sneakers For Men   \n",
       "29                  BIRDE  Stylish Comfortable Lightweight, Breathable Ca...   \n",
       "30              SCATCHITE                          Sneakers Sneakers For Men   \n",
       "31                 Kelwin        Sneakers Casual blue shoes Sneakers For Men   \n",
       "32                  PEXLO     Combo Pack of 3 Casual Shoes, Sneakers For Men   \n",
       "33                 Kraasa                          Shark-41 Sneakers For Men   \n",
       "34                 Kraasa        Casuals, Canvas, Partywear Sneakers For Men   \n",
       "35               RapidBox                                   Sneakers For Men   \n",
       "36                 Kraasa                          Series 7 Sneakers For Men   \n",
       "37           Robbie jones  Casual Sneakers Canvas Shoes For Men Sneakers ...   \n",
       "38                 Kzaara                                   Sneakers For Men   \n",
       "39               sixXplus  Casual For Men (Blue 07) Sneakers For Men (Blu...   \n",
       "\n",
       "                      2                        3                    4  \n",
       "0       ₹630₹99936% off  Size 6, 7, 8, 9, 10, 11                 None  \n",
       "1     ₹496₹1,49966% off      Size 6, 7, 8, 9, 10                 None  \n",
       "2   ₹2,096₹2,99530% off                     EOSS                 None  \n",
       "3     ₹269₹1,29979% off          Deal of the Day  Size 6, 7, 8, 9, 10  \n",
       "4     ₹299₹1,29976% off          Deal of the Day                 None  \n",
       "5       ₹449₹99955% off          Deal of the Day                 None  \n",
       "6       ₹198₹99980% off      Size 6, 7, 8, 9, 10                 None  \n",
       "7       ₹610₹99938% off                     None                 None  \n",
       "8       ₹499₹99950% off            Free delivery                 None  \n",
       "9       ₹378₹99962% off            Free delivery      Deal of the Day  \n",
       "10      ₹319₹99968% off          Deal of the Day  Size 6, 7, 8, 9, 10  \n",
       "11  ₹2,182₹2,99927% off            Free delivery                 None  \n",
       "12      ₹335₹99966% off            Free delivery      Deal of the Day  \n",
       "13      ₹299₹60050% off            Free delivery                 None  \n",
       "14  ₹1,763₹3,49949% off            Free delivery                 EOSS  \n",
       "15      ₹559₹99944% off            Free delivery                 None  \n",
       "16  ₹2,099₹3,49940% off            Free delivery                 EOSS  \n",
       "17      ₹289₹99971% off            Free delivery                 None  \n",
       "18      ₹258₹99874% off            Free delivery      Deal of the Day  \n",
       "19  ₹1,353₹2,89953% off        Size 7, 9, 10, 11                 None  \n",
       "20    ₹499₹1,49966% off            Free delivery                 None  \n",
       "21    ₹474₹1,99976% off            Free delivery      Deal of the Day  \n",
       "22    ₹616₹1,49958% off            Free delivery      Deal of the Day  \n",
       "23    ₹496₹1,29961% off            Free delivery                 None  \n",
       "24    ₹397₹1,99980% off            Free delivery                 None  \n",
       "25    ₹649₹1,89865% off            Free delivery      Deal of the Day  \n",
       "26  ₹1,877₹3,49946% off            Free delivery                 EOSS  \n",
       "27      ₹195₹49960% off      Size 6, 7, 8, 9, 10                 None  \n",
       "28    ₹269₹1,29979% off            Free delivery      Deal of the Day  \n",
       "29      ₹335₹99966% off            Free delivery      Deal of the Day  \n",
       "30      ₹399₹99960% off            Free delivery                 None  \n",
       "31      ₹449₹99955% off            Free delivery      Deal of the Day  \n",
       "32    ₹561₹2,39776% off            Free delivery      Deal of the Day  \n",
       "33      ₹479₹99952% off            Free delivery      Deal of the Day  \n",
       "34      ₹479₹99952% off            Free delivery      Deal of the Day  \n",
       "35      ₹630₹99936% off                     None                 None  \n",
       "36      ₹479₹99952% off            Free delivery      Deal of the Day  \n",
       "37      ₹499₹99950% off            Free delivery                 None  \n",
       "38      ₹259₹99974% off            Free delivery                 None  \n",
       "39      ₹526₹99947% off            Free delivery                 None  "
      ]
     },
     "execution_count": 57,
     "metadata": {},
     "output_type": "execute_result"
    }
   ],
   "source": [
    "g=pd.DataFrame(p)\n",
    "g"
   ]
  },
  {
   "cell_type": "code",
   "execution_count": 61,
   "id": "04e91b30",
   "metadata": {},
   "outputs": [],
   "source": [
    "next_button=driver.find_element(By.XPATH,'/html/body/div[1]/div/div[3]/div[1]/div[2]/div[12]/div/div/nav/a[11]/span')\n",
    "next_button.click()"
   ]
  },
  {
   "cell_type": "code",
   "execution_count": 71,
   "id": "6caefa16",
   "metadata": {},
   "outputs": [],
   "source": [
    "desc_tag=driver.find_elements(By.XPATH,'//div[@class=\"_2B099V\"]')\n",
    "for d in desc_tag:\n",
    "    c=d.text.split('\\n')\n",
    "    p.append(c)"
   ]
  },
  {
   "cell_type": "code",
   "execution_count": 78,
   "id": "8f96e36a",
   "metadata": {},
   "outputs": [],
   "source": [
    "search_button=driver.find_element(By.XPATH,'//*[@id=\"container\"]/div/div[3]/div[1]/div[2]/div[12]/div/div/nav/a[12]/span')\n",
    "search_button.click()"
   ]
  },
  {
   "cell_type": "code",
   "execution_count": 87,
   "id": "4ff1c6ed",
   "metadata": {},
   "outputs": [],
   "source": [
    "desc_tag=driver.find_elements(By.XPATH,'//div[@class=\"_2B099V\"]')\n",
    "for d in desc_tag:\n",
    "    c=d.text.split('\\n')\n",
    "    p.append(c)"
   ]
  },
  {
   "cell_type": "code",
   "execution_count": 95,
   "id": "625d1f32",
   "metadata": {},
   "outputs": [],
   "source": [
    "data_sneaker=pd.DataFrame(p)\n",
    "data_sneaker.columns=['brand','product_description','price','unnnamed1','unnamed2']\n",
    "Data6=data_sneaker.drop(columns=['unnnamed1','unnamed2'],axis=1)"
   ]
  },
  {
   "cell_type": "code",
   "execution_count": 99,
   "id": "aaeb86ee",
   "metadata": {
    "scrolled": true
   },
   "outputs": [
    {
     "data": {
      "text/html": [
       "<div>\n",
       "<style scoped>\n",
       "    .dataframe tbody tr th:only-of-type {\n",
       "        vertical-align: middle;\n",
       "    }\n",
       "\n",
       "    .dataframe tbody tr th {\n",
       "        vertical-align: top;\n",
       "    }\n",
       "\n",
       "    .dataframe thead th {\n",
       "        text-align: right;\n",
       "    }\n",
       "</style>\n",
       "<table border=\"1\" class=\"dataframe\">\n",
       "  <thead>\n",
       "    <tr style=\"text-align: right;\">\n",
       "      <th></th>\n",
       "      <th>brand</th>\n",
       "      <th>product_description</th>\n",
       "      <th>price</th>\n",
       "    </tr>\n",
       "  </thead>\n",
       "  <tbody>\n",
       "    <tr>\n",
       "      <th>0</th>\n",
       "      <td>RapidBox</td>\n",
       "      <td>Sneakers For Men</td>\n",
       "      <td>₹630₹99936% off</td>\n",
       "    </tr>\n",
       "    <tr>\n",
       "      <th>1</th>\n",
       "      <td>STRANGER BROTHERS</td>\n",
       "      <td>White &amp; Black Sneakers For Men Casual Shoes Fo...</td>\n",
       "      <td>₹496₹1,49966% off</td>\n",
       "    </tr>\n",
       "    <tr>\n",
       "      <th>2</th>\n",
       "      <td>WOODLAND</td>\n",
       "      <td>Sneakers For Men</td>\n",
       "      <td>₹2,096₹2,99530% off</td>\n",
       "    </tr>\n",
       "    <tr>\n",
       "      <th>3</th>\n",
       "      <td>BRUTON</td>\n",
       "      <td>Modern Trendy Sneakers Shoes Sneakers For Men</td>\n",
       "      <td>₹269₹1,29979% off</td>\n",
       "    </tr>\n",
       "    <tr>\n",
       "      <th>4</th>\n",
       "      <td>BRUTON</td>\n",
       "      <td>Modern Trendy Sneakers Shoes Sneakers For Men</td>\n",
       "      <td>₹299₹1,29976% off</td>\n",
       "    </tr>\n",
       "    <tr>\n",
       "      <th>...</th>\n",
       "      <td>...</td>\n",
       "      <td>...</td>\n",
       "      <td>...</td>\n",
       "    </tr>\n",
       "    <tr>\n",
       "      <th>95</th>\n",
       "      <td>pollachief</td>\n",
       "      <td>Casual Sneaker for Men Sneakers For Men</td>\n",
       "      <td>₹559₹99944% off</td>\n",
       "    </tr>\n",
       "    <tr>\n",
       "      <th>96</th>\n",
       "      <td>RapidBox</td>\n",
       "      <td>Sneakers For Men</td>\n",
       "      <td>₹630₹99936% off</td>\n",
       "    </tr>\n",
       "    <tr>\n",
       "      <th>97</th>\n",
       "      <td>ZF Klub</td>\n",
       "      <td>Sneakers For Men</td>\n",
       "      <td>₹399₹99960% off</td>\n",
       "    </tr>\n",
       "    <tr>\n",
       "      <th>98</th>\n",
       "      <td>Chevit</td>\n",
       "      <td>Men's Combo Pack of 02 Shoes for Men Casual Sn...</td>\n",
       "      <td>₹589₹1,79867% off</td>\n",
       "    </tr>\n",
       "    <tr>\n",
       "      <th>99</th>\n",
       "      <td>HOTSTYLE</td>\n",
       "      <td>Sneakers For Men</td>\n",
       "      <td>₹195₹49960% off</td>\n",
       "    </tr>\n",
       "  </tbody>\n",
       "</table>\n",
       "<p>100 rows × 3 columns</p>\n",
       "</div>"
      ],
      "text/plain": [
       "                brand                                product_description  \\\n",
       "0            RapidBox                                   Sneakers For Men   \n",
       "1   STRANGER BROTHERS  White & Black Sneakers For Men Casual Shoes Fo...   \n",
       "2            WOODLAND                                   Sneakers For Men   \n",
       "3              BRUTON      Modern Trendy Sneakers Shoes Sneakers For Men   \n",
       "4              BRUTON      Modern Trendy Sneakers Shoes Sneakers For Men   \n",
       "..                ...                                                ...   \n",
       "95         pollachief            Casual Sneaker for Men Sneakers For Men   \n",
       "96           RapidBox                                   Sneakers For Men   \n",
       "97            ZF Klub                                   Sneakers For Men   \n",
       "98             Chevit  Men's Combo Pack of 02 Shoes for Men Casual Sn...   \n",
       "99           HOTSTYLE                                   Sneakers For Men   \n",
       "\n",
       "                  price  \n",
       "0       ₹630₹99936% off  \n",
       "1     ₹496₹1,49966% off  \n",
       "2   ₹2,096₹2,99530% off  \n",
       "3     ₹269₹1,29979% off  \n",
       "4     ₹299₹1,29976% off  \n",
       "..                  ...  \n",
       "95      ₹559₹99944% off  \n",
       "96      ₹630₹99936% off  \n",
       "97      ₹399₹99960% off  \n",
       "98    ₹589₹1,79867% off  \n",
       "99      ₹195₹49960% off  \n",
       "\n",
       "[100 rows x 3 columns]"
      ]
     },
     "execution_count": 99,
     "metadata": {},
     "output_type": "execute_result"
    }
   ],
   "source": [
    "DATA6=Data6[0:100]\n",
    "DATA6"
   ]
  },
  {
   "cell_type": "code",
   "execution_count": null,
   "id": "b4d48b2b",
   "metadata": {},
   "outputs": [],
   "source": []
  },
  {
   "cell_type": "code",
   "execution_count": null,
   "id": "3fba832e",
   "metadata": {},
   "outputs": [],
   "source": []
  },
  {
   "cell_type": "markdown",
   "id": "3adee421",
   "metadata": {},
   "source": [
    "# 7."
   ]
  },
  {
   "cell_type": "code",
   "execution_count": 125,
   "id": "68bc99d7",
   "metadata": {},
   "outputs": [
    {
     "name": "stderr",
     "output_type": "stream",
     "text": [
      "<ipython-input-125-c207b1b0260e>:1: DeprecationWarning: executable_path has been deprecated, please pass in a Service object\n",
      "  driver= webdriver.Chrome('chromedriver.exe')\n"
     ]
    }
   ],
   "source": [
    "driver= webdriver.Chrome('chromedriver.exe')\n",
    "link=\"https://www.myntra.com/sheos\"\n",
    "\n",
    "driver.get(link)\n",
    "\n"
   ]
  },
  {
   "cell_type": "code",
   "execution_count": null,
   "id": "489084b9",
   "metadata": {},
   "outputs": [],
   "source": []
  },
  {
   "cell_type": "code",
   "execution_count": null,
   "id": "f5c8e03e",
   "metadata": {},
   "outputs": [],
   "source": []
  },
  {
   "cell_type": "code",
   "execution_count": null,
   "id": "57bc0258",
   "metadata": {},
   "outputs": [],
   "source": []
  },
  {
   "cell_type": "code",
   "execution_count": null,
   "id": "30b9d353",
   "metadata": {},
   "outputs": [],
   "source": []
  },
  {
   "cell_type": "markdown",
   "id": "7f1829ac",
   "metadata": {},
   "source": [
    "# 8 scrape first 10 laptops data."
   ]
  },
  {
   "cell_type": "code",
   "execution_count": 126,
   "id": "ef1fb687",
   "metadata": {},
   "outputs": [
    {
     "name": "stderr",
     "output_type": "stream",
     "text": [
      "<ipython-input-126-bd68e39546e9>:1: DeprecationWarning: executable_path has been deprecated, please pass in a Service object\n",
      "  driver= webdriver.Chrome('chromedriver.exe')\n"
     ]
    }
   ],
   "source": [
    "driver= webdriver.Chrome('chromedriver.exe')\n",
    "link=\"https://www.amazon.in/\"\n",
    "\n",
    "driver.get(link)\n"
   ]
  },
  {
   "cell_type": "code",
   "execution_count": 127,
   "id": "acad997f",
   "metadata": {},
   "outputs": [],
   "source": [
    "search_button=driver.find_element(By.XPATH,'/html/body/div[1]/header/div/div[1]/div[2]/div/form/div[2]/div[1]/input')\n"
   ]
  },
  {
   "cell_type": "code",
   "execution_count": 128,
   "id": "b17d477f",
   "metadata": {},
   "outputs": [],
   "source": [
    "search_button.send_keys('Laptop')"
   ]
  },
  {
   "cell_type": "code",
   "execution_count": 130,
   "id": "a4696bbd",
   "metadata": {},
   "outputs": [],
   "source": [
    "search=driver.find_element(By.XPATH,'/html/body/div[1]/header/div/div[1]/div[2]/div/form/div[3]/div')\n",
    "search.click()"
   ]
  },
  {
   "cell_type": "code",
   "execution_count": 131,
   "id": "4a19ab3f",
   "metadata": {},
   "outputs": [],
   "source": [
    "search_filter=driver.find_element(By.XPATH,'/html/body/div[1]/div[2]/div[1]/div[2]/div/div[3]/span/div[1]/div/div/div[5]/ul[2]/li[13]/span/a/span')\n",
    "search_filter.click()"
   ]
  },
  {
   "cell_type": "code",
   "execution_count": 314,
   "id": "e216d8be",
   "metadata": {},
   "outputs": [],
   "source": [
    "title8_1=[]\n",
    "title8=driver.find_elements(By.XPATH,'//span[@class=\"a-size-medium a-color-base a-text-normal\"]')\n",
    "for t in title8:\n",
    "    c=t.text\n",
    "    title8_1.append(c)"
   ]
  },
  {
   "cell_type": "code",
   "execution_count": 329,
   "id": "87d3f277",
   "metadata": {},
   "outputs": [],
   "source": [
    "price8_1=[]\n",
    "price8_1_tag=driver.find_elements(By.XPATH,'//span[@class=\"a-price-whole\"]')\n",
    "for p in price8_1_tag:\n",
    "    c=p.text\n",
    "    price8_1.append(c)"
   ]
  },
  {
   "cell_type": "code",
   "execution_count": 381,
   "id": "68070839",
   "metadata": {},
   "outputs": [],
   "source": [
    "rate8_1=[]\n",
    "rate_tag=driver.find_elements(By.XPATH,'//div[@class=\"a-row a-size-small\"]')\n",
    "\n"
   ]
  },
  {
   "cell_type": "code",
   "execution_count": 384,
   "id": "16caf4c5",
   "metadata": {},
   "outputs": [],
   "source": [
    "rate_01=[]\n",
    "for r in rate_tag:\n",
    "    c=r.text\n",
    "    rate_01.append(c)"
   ]
  },
  {
   "cell_type": "code",
   "execution_count": 389,
   "id": "bceef50d",
   "metadata": {},
   "outputs": [
    {
     "data": {
      "text/plain": [
       "['60', '21', '161', '9', '5', '13', '17', '1', '49', '15']"
      ]
     },
     "execution_count": 389,
     "metadata": {},
     "output_type": "execute_result"
    }
   ],
   "source": [
    "rate_01[:10]"
   ]
  },
  {
   "cell_type": "code",
   "execution_count": 393,
   "id": "da6ca62a",
   "metadata": {},
   "outputs": [
    {
     "data": {
      "text/html": [
       "<div>\n",
       "<style scoped>\n",
       "    .dataframe tbody tr th:only-of-type {\n",
       "        vertical-align: middle;\n",
       "    }\n",
       "\n",
       "    .dataframe tbody tr th {\n",
       "        vertical-align: top;\n",
       "    }\n",
       "\n",
       "    .dataframe thead th {\n",
       "        text-align: right;\n",
       "    }\n",
       "</style>\n",
       "<table border=\"1\" class=\"dataframe\">\n",
       "  <thead>\n",
       "    <tr style=\"text-align: right;\">\n",
       "      <th></th>\n",
       "      <th>title</th>\n",
       "      <th>price</th>\n",
       "      <th>rating</th>\n",
       "    </tr>\n",
       "  </thead>\n",
       "  <tbody>\n",
       "    <tr>\n",
       "      <th>0</th>\n",
       "      <td>Fujitsu UH-X 11th Gen Intel Core i7 13.3” FHD ...</td>\n",
       "      <td>84,990</td>\n",
       "      <td>60</td>\n",
       "    </tr>\n",
       "    <tr>\n",
       "      <th>1</th>\n",
       "      <td>Lenovo IdeaPad Gaming 3 Intel Core i7 10th Gen...</td>\n",
       "      <td>72,095</td>\n",
       "      <td>21</td>\n",
       "    </tr>\n",
       "    <tr>\n",
       "      <th>2</th>\n",
       "      <td>ASUS Vivobook 15, 15.6-inch (39.62 cms) FHD, I...</td>\n",
       "      <td>57,890</td>\n",
       "      <td>161</td>\n",
       "    </tr>\n",
       "    <tr>\n",
       "      <th>3</th>\n",
       "      <td>Lenovo IdeaPad Slim 5 Pro Intel Core i7 11th G...</td>\n",
       "      <td>75,990</td>\n",
       "      <td>9</td>\n",
       "    </tr>\n",
       "    <tr>\n",
       "      <th>4</th>\n",
       "      <td>Hp Pavilion 15 12Th Gen Intel Core I7 16Gb Sdr...</td>\n",
       "      <td>87,920</td>\n",
       "      <td>5</td>\n",
       "    </tr>\n",
       "    <tr>\n",
       "      <th>5</th>\n",
       "      <td>Hp Pavilion X360 11Th Gen Intel Core I7 14 Inc...</td>\n",
       "      <td>83,603</td>\n",
       "      <td>13</td>\n",
       "    </tr>\n",
       "    <tr>\n",
       "      <th>6</th>\n",
       "      <td>ASUS TUF Gaming F15 (2022), 15.6-inch (39.62 c...</td>\n",
       "      <td>1,12,990</td>\n",
       "      <td>17</td>\n",
       "    </tr>\n",
       "    <tr>\n",
       "      <th>7</th>\n",
       "      <td>ASUS TUF Dash F15 (2022), 15.6-inch (39.62 cms...</td>\n",
       "      <td>1,64,990</td>\n",
       "      <td>1</td>\n",
       "    </tr>\n",
       "    <tr>\n",
       "      <th>8</th>\n",
       "      <td>Lenovo ThinkBook 15 Intel 11th Gen Core i7 15....</td>\n",
       "      <td>86,990</td>\n",
       "      <td>49</td>\n",
       "    </tr>\n",
       "    <tr>\n",
       "      <th>9</th>\n",
       "      <td>Samsung Galaxy Book2 Intel 12th Gen core i7 39...</td>\n",
       "      <td>79,990</td>\n",
       "      <td>15</td>\n",
       "    </tr>\n",
       "  </tbody>\n",
       "</table>\n",
       "</div>"
      ],
      "text/plain": [
       "                                               title     price rating\n",
       "0  Fujitsu UH-X 11th Gen Intel Core i7 13.3” FHD ...    84,990     60\n",
       "1  Lenovo IdeaPad Gaming 3 Intel Core i7 10th Gen...    72,095     21\n",
       "2  ASUS Vivobook 15, 15.6-inch (39.62 cms) FHD, I...    57,890    161\n",
       "3  Lenovo IdeaPad Slim 5 Pro Intel Core i7 11th G...    75,990      9\n",
       "4  Hp Pavilion 15 12Th Gen Intel Core I7 16Gb Sdr...    87,920      5\n",
       "5  Hp Pavilion X360 11Th Gen Intel Core I7 14 Inc...    83,603     13\n",
       "6  ASUS TUF Gaming F15 (2022), 15.6-inch (39.62 c...  1,12,990     17\n",
       "7  ASUS TUF Dash F15 (2022), 15.6-inch (39.62 cms...  1,64,990      1\n",
       "8  Lenovo ThinkBook 15 Intel 11th Gen Core i7 15....    86,990     49\n",
       "9  Samsung Galaxy Book2 Intel 12th Gen core i7 39...    79,990     15"
      ]
     },
     "execution_count": 393,
     "metadata": {},
     "output_type": "execute_result"
    }
   ],
   "source": [
    "Data8=pd.DataFrame({'title':title8_1[0:10],'price':price8_1[0:10],'rating':rate_01[0:10]})\n",
    "Data8"
   ]
  },
  {
   "cell_type": "code",
   "execution_count": null,
   "id": "75067834",
   "metadata": {},
   "outputs": [],
   "source": []
  },
  {
   "cell_type": "markdown",
   "id": "71c791c1",
   "metadata": {},
   "source": [
    "# 9 Write a python program to scrape data for first 10 job results for Data Scientist Designation in Noida"
   ]
  },
  {
   "cell_type": "code",
   "execution_count": 398,
   "id": "96005c42",
   "metadata": {},
   "outputs": [
    {
     "name": "stderr",
     "output_type": "stream",
     "text": [
      "<ipython-input-398-924da942d587>:1: DeprecationWarning: executable_path has been deprecated, please pass in a Service object\n",
      "  driver=webdriver.Chrome('chromedriver.exe')\n"
     ]
    }
   ],
   "source": [
    "driver=webdriver.Chrome('chromedriver.exe')\n",
    "link='https://www.ambitionbox.com/'\n",
    "driver.get(link)"
   ]
  },
  {
   "cell_type": "code",
   "execution_count": 406,
   "id": "777f0016",
   "metadata": {},
   "outputs": [],
   "source": [
    "search=driver.find_element(By.XPATH,'/html/body/div/div/div/div[2]/div[1]/div[1]/div/div/div/div/span/input')\n",
    "search.send_keys('Data Scientist')"
   ]
  },
  {
   "cell_type": "code",
   "execution_count": 407,
   "id": "c015459c",
   "metadata": {},
   "outputs": [],
   "source": [
    "search_button=driver.find_element(By.XPATH,'/html/body/div/div/div/div[2]/div[1]/div[1]/div/div/div/button')\n",
    "search_button.click()"
   ]
  },
  {
   "cell_type": "code",
   "execution_count": 465,
   "id": "14493f1f",
   "metadata": {},
   "outputs": [],
   "source": [
    "tag=driver.find_elements(By.XPATH,'//div[@class=\"company-info\"]')\n"
   ]
  },
  {
   "cell_type": "code",
   "execution_count": 471,
   "id": "4f085792",
   "metadata": {},
   "outputs": [],
   "source": [
    "rate9=[]\n",
    "for t in tag:\n",
    "    b=t.text.split('\\n')[-2]\n",
    "    rate9.append(b)"
   ]
  },
  {
   "cell_type": "code",
   "execution_count": 473,
   "id": "697164b9",
   "metadata": {},
   "outputs": [
    {
     "data": {
      "text/plain": [
       "['4.1', '4.1', '4.0', '4.0', '3.9', '4.3', '3.9', '3.9', '4.5', '3.8', '3.9']"
      ]
     },
     "execution_count": 473,
     "metadata": {},
     "output_type": "execute_result"
    }
   ],
   "source": [
    "rate9"
   ]
  },
  {
   "cell_type": "code",
   "execution_count": 483,
   "id": "8c90bda9",
   "metadata": {},
   "outputs": [],
   "source": [
    "tag=driver.find_elements(By.XPATH,'//div[@class=\"company-info\"]')"
   ]
  },
  {
   "cell_type": "code",
   "execution_count": 486,
   "id": "bdac3915",
   "metadata": {},
   "outputs": [],
   "source": [
    "company_na=[]\n",
    "for t in tag:\n",
    "    r=t.text\n",
    "    "
   ]
  },
  {
   "cell_type": "code",
   "execution_count": 490,
   "id": "a553e534",
   "metadata": {},
   "outputs": [
    {
     "data": {
      "text/plain": [
       "['7d ago·via naukri.com',\n",
       " '14d ago·via naukri.com',\n",
       " '1mon ago·via naukri.com',\n",
       " '12d ago·via hirist.com',\n",
       " '5d ago·via hirist.com',\n",
       " '13d ago·via hirist.com',\n",
       " '13d ago·via hirist.com',\n",
       " '13d ago·via hirist.com',\n",
       " '11hr ago·via naukri.com',\n",
       " '27d ago·via iimjobs.com']"
      ]
     },
     "execution_count": 490,
     "metadata": {},
     "output_type": "execute_result"
    }
   ],
   "source": [
    "job_date"
   ]
  },
  {
   "cell_type": "code",
   "execution_count": 503,
   "id": "d7c7a312",
   "metadata": {},
   "outputs": [],
   "source": [
    "name_company=[]"
   ]
  },
  {
   "cell_type": "code",
   "execution_count": 504,
   "id": "aa2e38b0",
   "metadata": {},
   "outputs": [],
   "source": [
    "tag=driver.find_elements(By.XPATH,'//p[@class=\"company body-medium\"]')\n",
    "for t in tag:\n",
    "    f=t.text\n",
    "    name_company.append(f)"
   ]
  },
  {
   "cell_type": "code",
   "execution_count": 513,
   "id": "6ed5d240",
   "metadata": {},
   "outputs": [
    {
     "data": {
      "text/html": [
       "<div>\n",
       "<style scoped>\n",
       "    .dataframe tbody tr th:only-of-type {\n",
       "        vertical-align: middle;\n",
       "    }\n",
       "\n",
       "    .dataframe tbody tr th {\n",
       "        vertical-align: top;\n",
       "    }\n",
       "\n",
       "    .dataframe thead th {\n",
       "        text-align: right;\n",
       "    }\n",
       "</style>\n",
       "<table border=\"1\" class=\"dataframe\">\n",
       "  <thead>\n",
       "    <tr style=\"text-align: right;\">\n",
       "      <th></th>\n",
       "      <th>company</th>\n",
       "      <th>job posted</th>\n",
       "      <th>rating</th>\n",
       "    </tr>\n",
       "  </thead>\n",
       "  <tbody>\n",
       "    <tr>\n",
       "      <th>0</th>\n",
       "      <td>Optum Global Solutions (India) Private Limited</td>\n",
       "      <td>7d ago·via naukri.com</td>\n",
       "      <td>4.1</td>\n",
       "    </tr>\n",
       "    <tr>\n",
       "      <th>1</th>\n",
       "      <td>GENPACT India Private Limited</td>\n",
       "      <td>14d ago·via naukri.com</td>\n",
       "      <td>4.1</td>\n",
       "    </tr>\n",
       "    <tr>\n",
       "      <th>2</th>\n",
       "      <td>GENPACT India Private Limited</td>\n",
       "      <td>1mon ago·via naukri.com</td>\n",
       "      <td>4.0</td>\n",
       "    </tr>\n",
       "    <tr>\n",
       "      <th>3</th>\n",
       "      <td>InfoEdge India Ltd.</td>\n",
       "      <td>12d ago·via hirist.com</td>\n",
       "      <td>4.0</td>\n",
       "    </tr>\n",
       "    <tr>\n",
       "      <th>4</th>\n",
       "      <td>Dew Solutions Pvt. Ltd.</td>\n",
       "      <td>5d ago·via hirist.com</td>\n",
       "      <td>3.9</td>\n",
       "    </tr>\n",
       "    <tr>\n",
       "      <th>5</th>\n",
       "      <td>Info Edge India Limited</td>\n",
       "      <td>13d ago·via hirist.com</td>\n",
       "      <td>4.3</td>\n",
       "    </tr>\n",
       "    <tr>\n",
       "      <th>6</th>\n",
       "      <td>Info Edge India Limited</td>\n",
       "      <td>13d ago·via hirist.com</td>\n",
       "      <td>3.9</td>\n",
       "    </tr>\n",
       "    <tr>\n",
       "      <th>7</th>\n",
       "      <td>Latent bridge</td>\n",
       "      <td>13d ago·via hirist.com</td>\n",
       "      <td>3.9</td>\n",
       "    </tr>\n",
       "    <tr>\n",
       "      <th>8</th>\n",
       "      <td>Careerera</td>\n",
       "      <td>11hr ago·via naukri.com</td>\n",
       "      <td>4.5</td>\n",
       "    </tr>\n",
       "    <tr>\n",
       "      <th>9</th>\n",
       "      <td>Careernet Consulting</td>\n",
       "      <td>27d ago·via iimjobs.com</td>\n",
       "      <td>3.8</td>\n",
       "    </tr>\n",
       "  </tbody>\n",
       "</table>\n",
       "</div>"
      ],
      "text/plain": [
       "                                          company               job posted  \\\n",
       "0  Optum Global Solutions (India) Private Limited    7d ago·via naukri.com   \n",
       "1                   GENPACT India Private Limited   14d ago·via naukri.com   \n",
       "2                   GENPACT India Private Limited  1mon ago·via naukri.com   \n",
       "3                             InfoEdge India Ltd.   12d ago·via hirist.com   \n",
       "4                         Dew Solutions Pvt. Ltd.    5d ago·via hirist.com   \n",
       "5                         Info Edge India Limited   13d ago·via hirist.com   \n",
       "6                         Info Edge India Limited   13d ago·via hirist.com   \n",
       "7                                   Latent bridge   13d ago·via hirist.com   \n",
       "8                                       Careerera  11hr ago·via naukri.com   \n",
       "9                            Careernet Consulting  27d ago·via iimjobs.com   \n",
       "\n",
       "  rating  \n",
       "0    4.1  \n",
       "1    4.1  \n",
       "2    4.0  \n",
       "3    4.0  \n",
       "4    3.9  \n",
       "5    4.3  \n",
       "6    3.9  \n",
       "7    3.9  \n",
       "8    4.5  \n",
       "9    3.8  "
      ]
     },
     "execution_count": 513,
     "metadata": {},
     "output_type": "execute_result"
    }
   ],
   "source": [
    "name_company\n",
    "data9=pd.DataFrame({'company':name_company,'job posted':job_date,'rating':rate9[0:10]})\n",
    "data9"
   ]
  },
  {
   "cell_type": "markdown",
   "id": "8bda98f8",
   "metadata": {},
   "source": [
    "# 10 Write a python program to scrape the salary data for Data Scientist designation"
   ]
  },
  {
   "cell_type": "code",
   "execution_count": null,
   "id": "f7c87d91",
   "metadata": {},
   "outputs": [],
   "source": [
    "driver=webdriver.Chrome('chromedriver.exe')\n",
    "link='https://www.ambitionbox.com/'\n",
    "driver.get(link)\n"
   ]
  },
  {
   "cell_type": "code",
   "execution_count": 10,
   "id": "0f34653c",
   "metadata": {},
   "outputs": [],
   "source": [
    "salary10=[]\n",
    "tag_salary=driver.find_elements(By.XPATH,'//div[@class=\"salary-range-wrapper\"]')\n",
    "for t in tag_salary:\n",
    "    r=t.text.split('\\n')\n",
    "    salary10.append(r)"
   ]
  },
  {
   "cell_type": "code",
   "execution_count": 11,
   "id": "27c28a0a",
   "metadata": {},
   "outputs": [
    {
     "data": {
      "text/plain": [
       "[['₹ 30.6L', '₹ 25.0L', '₹ 36.0L'],\n",
       " ['₹ 20.8L', '₹ 15.0L', '₹ 26.2L'],\n",
       " ['₹ 16.7L', '₹ 11.0L', '₹ 22.0L'],\n",
       " ['₹ 15.9L', '₹ 11.0L', '₹ 22.5L'],\n",
       " ['₹ 15.7L', '₹ 5.6L', '₹ 26.2L'],\n",
       " ['₹ 15.5L', '₹ 10.0L', '₹ 23.0L'],\n",
       " ['₹ 14.8L', '₹ 9.0L', '₹ 20.0L'],\n",
       " ['₹ 14.0L', '₹ 8.3L', '₹ 21.1L'],\n",
       " ['₹ 13.2L', '₹ 7.6L', '₹ 21.0L'],\n",
       " ['₹ 12.8L', '₹ 7.0L', '₹ 25.0L']]"
      ]
     },
     "execution_count": 11,
     "metadata": {},
     "output_type": "execute_result"
    }
   ],
   "source": [
    "salary10"
   ]
  },
  {
   "cell_type": "code",
   "execution_count": 56,
   "id": "f846a201",
   "metadata": {},
   "outputs": [],
   "source": [
    "exp_plus_total_salary=[]\n",
    "tag_com=driver.find_elements(By.XPATH,'//div[@class=\"company-info-wrapper\"]')\n",
    "for t in tag_com:\n",
    "    g=t.text.split('\\n')[-1]\n",
    "    exp_plus_total_salary.append(g)"
   ]
  },
  {
   "cell_type": "code",
   "execution_count": 59,
   "id": "a8ef30bb",
   "metadata": {},
   "outputs": [
    {
     "data": {
      "text/plain": [
       "(10, 10, 10)"
      ]
     },
     "execution_count": 59,
     "metadata": {},
     "output_type": "execute_result"
    }
   ],
   "source": [
    "len(com_name),len(salary10),len(exp_plus_total_salary)"
   ]
  },
  {
   "cell_type": "code",
   "execution_count": 128,
   "id": "ca8ccef0",
   "metadata": {},
   "outputs": [],
   "source": [
    "df=pd.DataFrame({'company':com_name,'exp and total salary':exp_plus_total_salary})"
   ]
  },
  {
   "cell_type": "code",
   "execution_count": 129,
   "id": "f79d3e06",
   "metadata": {},
   "outputs": [],
   "source": [
    "salary=pd.DataFrame(salary10)\n",
    "salary.columns=['average','minimum','maximum']\n"
   ]
  },
  {
   "cell_type": "code",
   "execution_count": 130,
   "id": "d99c87b3",
   "metadata": {},
   "outputs": [
    {
     "data": {
      "text/html": [
       "<div>\n",
       "<style scoped>\n",
       "    .dataframe tbody tr th:only-of-type {\n",
       "        vertical-align: middle;\n",
       "    }\n",
       "\n",
       "    .dataframe tbody tr th {\n",
       "        vertical-align: top;\n",
       "    }\n",
       "\n",
       "    .dataframe thead th {\n",
       "        text-align: right;\n",
       "    }\n",
       "</style>\n",
       "<table border=\"1\" class=\"dataframe\">\n",
       "  <thead>\n",
       "    <tr style=\"text-align: right;\">\n",
       "      <th></th>\n",
       "      <th>company</th>\n",
       "      <th>exp and total salary</th>\n",
       "      <th>average</th>\n",
       "      <th>minimum</th>\n",
       "      <th>maximum</th>\n",
       "    </tr>\n",
       "  </thead>\n",
       "  <tbody>\n",
       "    <tr>\n",
       "      <th>0</th>\n",
       "      <td>Walmart</td>\n",
       "      <td>3 yrs experience (based on 12 salaries)</td>\n",
       "      <td>₹ 30.6L</td>\n",
       "      <td>₹ 25.0L</td>\n",
       "      <td>₹ 36.0L</td>\n",
       "    </tr>\n",
       "    <tr>\n",
       "      <th>1</th>\n",
       "      <td>Ab Inbev</td>\n",
       "      <td>3-4 yrs experience (based on 33 salaries)</td>\n",
       "      <td>₹ 20.8L</td>\n",
       "      <td>₹ 15.0L</td>\n",
       "      <td>₹ 26.2L</td>\n",
       "    </tr>\n",
       "    <tr>\n",
       "      <th>2</th>\n",
       "      <td>ZS</td>\n",
       "      <td>2 yrs experience (based on 15 salaries)</td>\n",
       "      <td>₹ 16.7L</td>\n",
       "      <td>₹ 11.0L</td>\n",
       "      <td>₹ 22.0L</td>\n",
       "    </tr>\n",
       "    <tr>\n",
       "      <th>3</th>\n",
       "      <td>Optum</td>\n",
       "      <td>3-4 yrs experience (based on 32 salaries)</td>\n",
       "      <td>₹ 15.9L</td>\n",
       "      <td>₹ 11.0L</td>\n",
       "      <td>₹ 22.5L</td>\n",
       "    </tr>\n",
       "    <tr>\n",
       "      <th>4</th>\n",
       "      <td>Reliance Jio</td>\n",
       "      <td>3-4 yrs experience (based on 21 salaries)</td>\n",
       "      <td>₹ 15.7L</td>\n",
       "      <td>₹ 5.6L</td>\n",
       "      <td>₹ 26.2L</td>\n",
       "    </tr>\n",
       "    <tr>\n",
       "      <th>5</th>\n",
       "      <td>Fractal Analytics</td>\n",
       "      <td>2-4 yrs experience (based on 89 salaries)</td>\n",
       "      <td>₹ 15.5L</td>\n",
       "      <td>₹ 10.0L</td>\n",
       "      <td>₹ 23.0L</td>\n",
       "    </tr>\n",
       "    <tr>\n",
       "      <th>6</th>\n",
       "      <td>Tiger Analytics</td>\n",
       "      <td>2-4 yrs experience (based on 51 salaries)</td>\n",
       "      <td>₹ 14.8L</td>\n",
       "      <td>₹ 9.0L</td>\n",
       "      <td>₹ 20.0L</td>\n",
       "    </tr>\n",
       "    <tr>\n",
       "      <th>7</th>\n",
       "      <td>UnitedHealth</td>\n",
       "      <td>2-4 yrs experience (based on 57 salaries)</td>\n",
       "      <td>₹ 14.0L</td>\n",
       "      <td>₹ 8.3L</td>\n",
       "      <td>₹ 21.1L</td>\n",
       "    </tr>\n",
       "    <tr>\n",
       "      <th>8</th>\n",
       "      <td>EXL Service</td>\n",
       "      <td>3-4 yrs experience (based on 21 salaries)</td>\n",
       "      <td>₹ 13.2L</td>\n",
       "      <td>₹ 7.6L</td>\n",
       "      <td>₹ 21.0L</td>\n",
       "    </tr>\n",
       "    <tr>\n",
       "      <th>9</th>\n",
       "      <td>Deloitte</td>\n",
       "      <td>2-4 yrs experience (based on 69 salaries)</td>\n",
       "      <td>₹ 12.8L</td>\n",
       "      <td>₹ 7.0L</td>\n",
       "      <td>₹ 25.0L</td>\n",
       "    </tr>\n",
       "  </tbody>\n",
       "</table>\n",
       "</div>"
      ],
      "text/plain": [
       "             company                       exp and total salary  average  \\\n",
       "0            Walmart    3 yrs experience (based on 12 salaries)  ₹ 30.6L   \n",
       "1           Ab Inbev  3-4 yrs experience (based on 33 salaries)  ₹ 20.8L   \n",
       "2                 ZS    2 yrs experience (based on 15 salaries)  ₹ 16.7L   \n",
       "3              Optum  3-4 yrs experience (based on 32 salaries)  ₹ 15.9L   \n",
       "4       Reliance Jio  3-4 yrs experience (based on 21 salaries)  ₹ 15.7L   \n",
       "5  Fractal Analytics  2-4 yrs experience (based on 89 salaries)  ₹ 15.5L   \n",
       "6    Tiger Analytics  2-4 yrs experience (based on 51 salaries)  ₹ 14.8L   \n",
       "7       UnitedHealth  2-4 yrs experience (based on 57 salaries)  ₹ 14.0L   \n",
       "8        EXL Service  3-4 yrs experience (based on 21 salaries)  ₹ 13.2L   \n",
       "9           Deloitte  2-4 yrs experience (based on 69 salaries)  ₹ 12.8L   \n",
       "\n",
       "   minimum  maximum  \n",
       "0  ₹ 25.0L  ₹ 36.0L  \n",
       "1  ₹ 15.0L  ₹ 26.2L  \n",
       "2  ₹ 11.0L  ₹ 22.0L  \n",
       "3  ₹ 11.0L  ₹ 22.5L  \n",
       "4   ₹ 5.6L  ₹ 26.2L  \n",
       "5  ₹ 10.0L  ₹ 23.0L  \n",
       "6   ₹ 9.0L  ₹ 20.0L  \n",
       "7   ₹ 8.3L  ₹ 21.1L  \n",
       "8   ₹ 7.6L  ₹ 21.0L  \n",
       "9   ₹ 7.0L  ₹ 25.0L  "
      ]
     },
     "execution_count": 130,
     "metadata": {},
     "output_type": "execute_result"
    }
   ],
   "source": [
    "Data10=pd.concat([df,salary],axis=1)\n",
    "Data10"
   ]
  }
 ],
 "metadata": {
  "kernelspec": {
   "display_name": "Python 3",
   "language": "python",
   "name": "python3"
  },
  "language_info": {
   "codemirror_mode": {
    "name": "ipython",
    "version": 3
   },
   "file_extension": ".py",
   "mimetype": "text/x-python",
   "name": "python",
   "nbconvert_exporter": "python",
   "pygments_lexer": "ipython3",
   "version": "3.8.8"
  },
  "varInspector": {
   "cols": {
    "lenName": 16,
    "lenType": 16,
    "lenVar": 40
   },
   "kernels_config": {
    "python": {
     "delete_cmd_postfix": "",
     "delete_cmd_prefix": "del ",
     "library": "var_list.py",
     "varRefreshCmd": "print(var_dic_list())"
    },
    "r": {
     "delete_cmd_postfix": ") ",
     "delete_cmd_prefix": "rm(",
     "library": "var_list.r",
     "varRefreshCmd": "cat(var_dic_list()) "
    }
   },
   "types_to_exclude": [
    "module",
    "function",
    "builtin_function_or_method",
    "instance",
    "_Feature"
   ],
   "window_display": false
  }
 },
 "nbformat": 4,
 "nbformat_minor": 5
}
