{
 "cells": [
  {
   "cell_type": "code",
   "execution_count": 2,
   "id": "f713c641",
   "metadata": {},
   "outputs": [],
   "source": [
    "import pandas as pd\n",
    "import numpy as np \n",
    "import requests\n",
    "from bs4 import BeautifulSoup"
   ]
  },
  {
   "cell_type": "code",
   "execution_count": 6,
   "id": "ae20cf8f",
   "metadata": {},
   "outputs": [],
   "source": [
    "url=\"https://www.icc-cricket.com/rankings/mens/player-rankings/odi/batting\"\n",
    "response=requests.get(url)"
   ]
  },
  {
   "cell_type": "code",
   "execution_count": 8,
   "id": "7b8be205",
   "metadata": {},
   "outputs": [
    {
     "data": {
      "text/plain": [
       "<Response [200]>"
      ]
     },
     "execution_count": 8,
     "metadata": {},
     "output_type": "execute_result"
    }
   ],
   "source": [
    "response"
   ]
  },
  {
   "cell_type": "code",
   "execution_count": 11,
   "id": "7871db36",
   "metadata": {},
   "outputs": [],
   "source": [
    "soup=BeautifulSoup(response.content,'html.parser')"
   ]
  },
  {
   "cell_type": "code",
   "execution_count": 19,
   "id": "da98962b",
   "metadata": {},
   "outputs": [],
   "source": [
    "banner_name=[]\n",
    "for t in soup.find_all('div',class_=\"rankings-block__banner--name-large\"):\n",
    "    c=t.text\n",
    "    banner_name.append(c)\n"
   ]
  },
  {
   "cell_type": "code",
   "execution_count": 28,
   "id": "b9f9d89d",
   "metadata": {},
   "outputs": [],
   "source": [
    "table_name=[]\n",
    "\n",
    "for y in soup.find_all('td',class_=\"table-body__cell rankings-table__name name\"):\n",
    "    g=y.text.replace('\\n','')\n",
    "    table_name.append(g)"
   ]
  },
  {
   "cell_type": "code",
   "execution_count": 133,
   "id": "6e43acd1",
   "metadata": {},
   "outputs": [
    {
     "data": {
      "text/plain": [
       "100"
      ]
     },
     "execution_count": 133,
     "metadata": {},
     "output_type": "execute_result"
    }
   ],
   "source": [
    "player_name=banner_name+table_name\n",
    "len(player_name)"
   ]
  },
  {
   "cell_type": "code",
   "execution_count": 63,
   "id": "fbbe01c3",
   "metadata": {},
   "outputs": [],
   "source": [
    "banner_team=[]\n",
    "for t in soup.find_all('div',class_=\"rankings-block__banner--nationality\"):\n",
    "    v=t.text.replace('\\n','')\n",
    "    banner_team.append(v)"
   ]
  },
  {
   "cell_type": "code",
   "execution_count": 72,
   "id": "5f5fd18d",
   "metadata": {},
   "outputs": [],
   "source": [
    "table_team=[]\n",
    "\n",
    "for v in soup.find_all('span',class_=\"table-body__logo-text\"):\n",
    "    c=v.text\n",
    "    table_team.append(c)"
   ]
  },
  {
   "cell_type": "code",
   "execution_count": 132,
   "id": "1317171b",
   "metadata": {},
   "outputs": [
    {
     "data": {
      "text/plain": [
       "100"
      ]
     },
     "execution_count": 132,
     "metadata": {},
     "output_type": "execute_result"
    }
   ],
   "source": [
    "teams=banner_team+table_team\n"
   ]
  },
  {
   "cell_type": "code",
   "execution_count": 165,
   "id": "b951826e",
   "metadata": {},
   "outputs": [
    {
     "data": {
      "text/plain": [
       "['892']"
      ]
     },
     "execution_count": 165,
     "metadata": {},
     "output_type": "execute_result"
    }
   ],
   "source": [
    "ratings=[]\n",
    "\n",
    "for g in soup.find_all('div',class_=\"rankings-block__banner--rating\"):\n",
    "    v=g.text\n",
    "    ratings.append(v)\n",
    "    \n",
    "    \n",
    "\n"
   ]
  },
  {
   "cell_type": "code",
   "execution_count": 168,
   "id": "61829503",
   "metadata": {},
   "outputs": [],
   "source": [
    "for d in soup.find_all('td',class_=\"table-body__cell rating\"):\n",
    "    c=d.text\n",
    "    ratings.append(c)\n",
    "    \n",
    "ratings"
   ]
  },
  {
   "cell_type": "code",
   "execution_count": null,
   "id": "07e4371d",
   "metadata": {},
   "outputs": [],
   "source": []
  },
  {
   "cell_type": "code",
   "execution_count": 153,
   "id": "1773df27",
   "metadata": {},
   "outputs": [],
   "source": [
    "banner_career_bests=[]\n",
    "for y in soup.find_all('span',class_=\"rankings-block__career-best-text\"):\n",
    "    x=y.text.replace('\\n','').replace('  ','')\n",
    "    banner_career_bests.append(x)\n",
    "\n"
   ]
  },
  {
   "cell_type": "code",
   "execution_count": 162,
   "id": "222d83f5",
   "metadata": {},
   "outputs": [],
   "source": [
    "for t in soup.find_all('td',class_=\"table-body__cell u-text-right u-hide-phablet\"):\n",
    "    f=t.text.replace('\\n','').replace('  ','')\n",
    "    banner_career_bests.append(f)\n",
    "\n"
   ]
  },
  {
   "cell_type": "code",
   "execution_count": 177,
   "id": "55916b4e",
   "metadata": {},
   "outputs": [],
   "source": [
    "mens_odi_bating_ranking=pd.DataFrame({'names_of_players':player_name,'team':teams,'ratings':ratings,'career_best':banner_career_bests,})"
   ]
  },
  {
   "cell_type": "code",
   "execution_count": 179,
   "id": "34d61ade",
   "metadata": {},
   "outputs": [],
   "source": [
    "mens_odi_bating_ranking.to_csv(r'C:\\Users\\Baibhav kumar Singh\\Desktop\\my python\\mens_bat_ranking.csv')"
   ]
  },
  {
   "cell_type": "code",
   "execution_count": null,
   "id": "bb37912d",
   "metadata": {},
   "outputs": [],
   "source": []
  },
  {
   "cell_type": "code",
   "execution_count": 183,
   "id": "9d956496",
   "metadata": {},
   "outputs": [],
   "source": [
    "link=\"https://www.icc-cricket.com/rankings/mens/player-rankings/odi/bowling\"\n",
    "ponse=requests.get(link)"
   ]
  },
  {
   "cell_type": "code",
   "execution_count": 185,
   "id": "fcda6b59",
   "metadata": {},
   "outputs": [
    {
     "data": {
      "text/plain": [
       "<Response [200]>"
      ]
     },
     "execution_count": 185,
     "metadata": {},
     "output_type": "execute_result"
    }
   ],
   "source": [
    "ponse"
   ]
  },
  {
   "cell_type": "code",
   "execution_count": 187,
   "id": "63d911e8",
   "metadata": {},
   "outputs": [],
   "source": [
    "soup2=BeautifulSoup(ponse.content,'html.parser')"
   ]
  },
  {
   "cell_type": "code",
   "execution_count": 192,
   "id": "d730daa4",
   "metadata": {},
   "outputs": [],
   "source": [
    "bowler_name=[]\n",
    "for u in soup2.find_all('div',class_=\"rankings-block__banner--name-large\"):\n",
    "    v=u.text\n",
    "    bowler_name.append(v)"
   ]
  },
  {
   "cell_type": "code",
   "execution_count": 198,
   "id": "d38dd497",
   "metadata": {},
   "outputs": [],
   "source": [
    "for g in soup2.find_all('td',class_=\"table-body__cell rankings-table__name name\"):\n",
    "    f=g.text.replace('\\n','')\n",
    "    bowler_name.append(f)"
   ]
  },
  {
   "cell_type": "code",
   "execution_count": 209,
   "id": "8ae3f2f6",
   "metadata": {},
   "outputs": [],
   "source": [
    "bowler_team=[]\n",
    "for d in soup2.find_all('div',class_=\"rankings-block__banner--nationality\"):\n",
    "    f=d.text.replace('\\n','')\n",
    "    bowler_team.append(f)"
   ]
  },
  {
   "cell_type": "code",
   "execution_count": 215,
   "id": "e348113e",
   "metadata": {},
   "outputs": [],
   "source": [
    "for f in soup2.find_all('span',class_=\"table-body__logo-text\"):\n",
    "    g=f.text\n",
    "    bowler_team.append(g)"
   ]
  },
  {
   "cell_type": "code",
   "execution_count": 230,
   "id": "a4910d0f",
   "metadata": {},
   "outputs": [],
   "source": [
    "bol_rating=[]\n",
    "for c in soup2.find_all('div',class_=\"rankings-block__banner--rating\"):\n",
    "    u=c.text\n",
    "    bol_rating.append(u)"
   ]
  },
  {
   "cell_type": "code",
   "execution_count": 246,
   "id": "4c0ca368",
   "metadata": {},
   "outputs": [],
   "source": [
    "for z in soup2.find_all('td',class_=\"table-body__cell rating\"):\n",
    "    f=z.text\n",
    "    bol_rating.append(f)\n",
    "    "
   ]
  },
  {
   "cell_type": "code",
   "execution_count": 257,
   "id": "6cec9b26",
   "metadata": {},
   "outputs": [],
   "source": [
    "careeer_best=[]\n",
    "for i in soup2.find_all('span',class_=\"rankings-block__career-best-text\"):\n",
    "    g=i.text.replace('\\n',' ').replace('   ','')\n",
    "    careeer_best.append(g)\n"
   ]
  },
  {
   "cell_type": "code",
   "execution_count": 264,
   "id": "3770cd89",
   "metadata": {},
   "outputs": [],
   "source": [
    "for t in soup2.find_all('td',class_=\"table-body__cell u-text-right u-hide-phablet\"):\n",
    "    h=t.text.replace('\\n','').replace('  ','')\n",
    "    careeer_best.append(h)\n"
   ]
  },
  {
   "cell_type": "code",
   "execution_count": 269,
   "id": "c330c739",
   "metadata": {},
   "outputs": [],
   "source": [
    "bowling_data=pd.DataFrame({'player_name':bowler_name,'player_team':bowler_team,'rating':bol_rating,'career_best':careeer_best})"
   ]
  },
  {
   "cell_type": "code",
   "execution_count": 270,
   "id": "c6b727d9",
   "metadata": {},
   "outputs": [
    {
     "data": {
      "text/html": [
       "<div>\n",
       "<style scoped>\n",
       "    .dataframe tbody tr th:only-of-type {\n",
       "        vertical-align: middle;\n",
       "    }\n",
       "\n",
       "    .dataframe tbody tr th {\n",
       "        vertical-align: top;\n",
       "    }\n",
       "\n",
       "    .dataframe thead th {\n",
       "        text-align: right;\n",
       "    }\n",
       "</style>\n",
       "<table border=\"1\" class=\"dataframe\">\n",
       "  <thead>\n",
       "    <tr style=\"text-align: right;\">\n",
       "      <th></th>\n",
       "      <th>player_name</th>\n",
       "      <th>player_team</th>\n",
       "      <th>rating</th>\n",
       "      <th>career_best</th>\n",
       "    </tr>\n",
       "  </thead>\n",
       "  <tbody>\n",
       "    <tr>\n",
       "      <th>0</th>\n",
       "      <td>Trent Boult</td>\n",
       "      <td>NZ</td>\n",
       "      <td>726</td>\n",
       "      <td>770 v West Indies, 22/06/2019</td>\n",
       "    </tr>\n",
       "    <tr>\n",
       "      <th>1</th>\n",
       "      <td>Chris Woakes</td>\n",
       "      <td>ENG</td>\n",
       "      <td>686</td>\n",
       "      <td>711 v Sri Lanka, 04/07/2021</td>\n",
       "    </tr>\n",
       "    <tr>\n",
       "      <th>2</th>\n",
       "      <td>Matt Henry</td>\n",
       "      <td>NZ</td>\n",
       "      <td>683</td>\n",
       "      <td>691 v Bangladesh, 26/03/2021</td>\n",
       "    </tr>\n",
       "    <tr>\n",
       "      <th>3</th>\n",
       "      <td>Shaheen Afridi</td>\n",
       "      <td>PAK</td>\n",
       "      <td>681</td>\n",
       "      <td>688 v West Indies, 10/06/2022</td>\n",
       "    </tr>\n",
       "    <tr>\n",
       "      <th>4</th>\n",
       "      <td>Jasprit Bumrah</td>\n",
       "      <td>IND</td>\n",
       "      <td>679</td>\n",
       "      <td>841 v West Indies, 01/11/2018</td>\n",
       "    </tr>\n",
       "    <tr>\n",
       "      <th>...</th>\n",
       "      <td>...</td>\n",
       "      <td>...</td>\n",
       "      <td>...</td>\n",
       "      <td>...</td>\n",
       "    </tr>\n",
       "    <tr>\n",
       "      <th>95</th>\n",
       "      <td>Hardik Pandya</td>\n",
       "      <td>IND</td>\n",
       "      <td>382</td>\n",
       "      <td>552 v South Africa, 16/02/2018</td>\n",
       "    </tr>\n",
       "    <tr>\n",
       "      <th>96</th>\n",
       "      <td>Ravichandran Ashwin</td>\n",
       "      <td>IND</td>\n",
       "      <td>381</td>\n",
       "      <td>691 v Sri Lanka, 24/07/2012</td>\n",
       "    </tr>\n",
       "    <tr>\n",
       "      <th>97</th>\n",
       "      <td>Barry McCarthy</td>\n",
       "      <td>IRE</td>\n",
       "      <td>379</td>\n",
       "      <td>448 v West Indies, 09/01/2020</td>\n",
       "    </tr>\n",
       "    <tr>\n",
       "      <th>98</th>\n",
       "      <td>Hayden Walsh</td>\n",
       "      <td>WI</td>\n",
       "      <td>378</td>\n",
       "      <td>383 v Netherlands, 04/06/2022</td>\n",
       "    </tr>\n",
       "    <tr>\n",
       "      <th>99</th>\n",
       "      <td>Kemar Roach</td>\n",
       "      <td>WI</td>\n",
       "      <td>378</td>\n",
       "      <td>650 v Pakistan, 19/07/2013</td>\n",
       "    </tr>\n",
       "  </tbody>\n",
       "</table>\n",
       "<p>100 rows × 4 columns</p>\n",
       "</div>"
      ],
      "text/plain": [
       "            player_name player_team rating                     career_best\n",
       "0           Trent Boult          NZ    726  770 v West Indies, 22/06/2019 \n",
       "1          Chris Woakes         ENG    686     711 v Sri Lanka, 04/07/2021\n",
       "2            Matt Henry          NZ    683    691 v Bangladesh, 26/03/2021\n",
       "3        Shaheen Afridi         PAK    681   688 v West Indies, 10/06/2022\n",
       "4        Jasprit Bumrah         IND    679   841 v West Indies, 01/11/2018\n",
       "..                  ...         ...    ...                             ...\n",
       "95        Hardik Pandya         IND    382  552 v South Africa, 16/02/2018\n",
       "96  Ravichandran Ashwin         IND    381     691 v Sri Lanka, 24/07/2012\n",
       "97       Barry McCarthy         IRE    379   448 v West Indies, 09/01/2020\n",
       "98         Hayden Walsh          WI    378   383 v Netherlands, 04/06/2022\n",
       "99          Kemar Roach          WI    378      650 v Pakistan, 19/07/2013\n",
       "\n",
       "[100 rows x 4 columns]"
      ]
     },
     "execution_count": 270,
     "metadata": {},
     "output_type": "execute_result"
    }
   ],
   "source": [
    "bowling_data"
   ]
  }
 ],
 "metadata": {
  "kernelspec": {
   "display_name": "Python 3 (ipykernel)",
   "language": "python",
   "name": "python3"
  },
  "language_info": {
   "codemirror_mode": {
    "name": "ipython",
    "version": 3
   },
   "file_extension": ".py",
   "mimetype": "text/x-python",
   "name": "python",
   "nbconvert_exporter": "python",
   "pygments_lexer": "ipython3",
   "version": "3.9.12"
  },
  "varInspector": {
   "cols": {
    "lenName": 16,
    "lenType": 16,
    "lenVar": 40
   },
   "kernels_config": {
    "python": {
     "delete_cmd_postfix": "",
     "delete_cmd_prefix": "del ",
     "library": "var_list.py",
     "varRefreshCmd": "print(var_dic_list())"
    },
    "r": {
     "delete_cmd_postfix": ") ",
     "delete_cmd_prefix": "rm(",
     "library": "var_list.r",
     "varRefreshCmd": "cat(var_dic_list()) "
    }
   },
   "types_to_exclude": [
    "module",
    "function",
    "builtin_function_or_method",
    "instance",
    "_Feature"
   ],
   "window_display": false
  }
 },
 "nbformat": 4,
 "nbformat_minor": 5
}
