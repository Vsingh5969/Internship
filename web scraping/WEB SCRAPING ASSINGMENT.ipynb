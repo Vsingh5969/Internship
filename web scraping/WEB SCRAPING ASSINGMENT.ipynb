{
 "cells": [
  {
   "cell_type": "code",
   "execution_count": 771,
   "id": "a7d6c185",
   "metadata": {},
   "outputs": [],
   "source": [
    "import requests \n",
    "from bs4 import BeautifulSoup\n",
    "import numpy as np \n",
    "import pandas as pd \n"
   ]
  },
  {
   "cell_type": "markdown",
   "id": "9bfe61a7",
   "metadata": {},
   "source": [
    "# Question-1"
   ]
  },
  {
   "cell_type": "code",
   "execution_count": 609,
   "id": "496e4c94",
   "metadata": {},
   "outputs": [],
   "source": [
    "url=\"https://en.wikipedia.org/wiki/Main_Page\"\n",
    "response=requests.get(url)\n"
   ]
  },
  {
   "cell_type": "code",
   "execution_count": 610,
   "id": "c549b45a",
   "metadata": {},
   "outputs": [],
   "source": [
    "response\n",
    "soup=BeautifulSoup(response.content,'html.parser')"
   ]
  },
  {
   "cell_type": "code",
   "execution_count": 611,
   "id": "cdc32cf2",
   "metadata": {},
   "outputs": [
    {
     "data": {
      "text/plain": [
       "[<h1 class=\"firstHeading mw-first-heading\" id=\"firstHeading\" style=\"display: none\">Main Page</h1>,\n",
       " <h1><span class=\"mw-headline\" id=\"Welcome_to_Wikipedia\">Welcome to <a href=\"/wiki/Wikipedia\" title=\"Wikipedia\">Wikipedia</a></span></h1>,\n",
       " <h2 class=\"mp-h2\" id=\"mp-tfa-h2\"><span id=\"From_today.27s_featured_article\"></span><span class=\"mw-headline\" id=\"From_today's_featured_article\">From today's featured article</span></h2>,\n",
       " <h2 class=\"mp-h2\" id=\"mp-dyk-h2\"><span class=\"mw-headline\" id=\"Did_you_know_...\">Did you know ...</span></h2>,\n",
       " <h2 class=\"mp-h2\" id=\"mp-itn-h2\"><span class=\"mw-headline\" id=\"In_the_news\">In the news</span></h2>,\n",
       " <h2 class=\"mp-h2\" id=\"mp-otd-h2\"><span class=\"mw-headline\" id=\"On_this_day\">On this day</span></h2>,\n",
       " <h2 class=\"mp-h2\" id=\"mp-tfp-h2\"><span id=\"Today.27s_featured_picture\"></span><span class=\"mw-headline\" id=\"Today's_featured_picture\">Today's featured picture</span></h2>,\n",
       " <h2 class=\"mp-h2\" id=\"mp-other\"><span class=\"mw-headline\" id=\"Other_areas_of_Wikipedia\">Other areas of Wikipedia</span></h2>,\n",
       " <h2 class=\"mp-h2\" id=\"mp-sister\"><span id=\"Wikipedia.27s_sister_projects\"></span><span class=\"mw-headline\" id=\"Wikipedia's_sister_projects\">Wikipedia's sister projects</span></h2>,\n",
       " <h2 class=\"mp-h2\" id=\"mp-lang\"><span class=\"mw-headline\" id=\"Wikipedia_languages\">Wikipedia languages</span></h2>,\n",
       " <h2>Navigation menu</h2>,\n",
       " <h3 class=\"vector-menu-heading\" id=\"p-personal-label\">\n",
       " <span class=\"vector-menu-heading-label\">Personal tools</span>\n",
       " </h3>,\n",
       " <h3 class=\"vector-menu-heading\" id=\"p-namespaces-label\">\n",
       " <span class=\"vector-menu-heading-label\">Namespaces</span>\n",
       " </h3>,\n",
       " <h3 class=\"vector-menu-heading\" id=\"p-views-label\">\n",
       " <span class=\"vector-menu-heading-label\">Views</span>\n",
       " </h3>,\n",
       " <h3>\n",
       " <label for=\"searchInput\">Search</label>\n",
       " </h3>,\n",
       " <h3 class=\"vector-menu-heading\" id=\"p-navigation-label\">\n",
       " <span class=\"vector-menu-heading-label\">Navigation</span>\n",
       " </h3>,\n",
       " <h3 class=\"vector-menu-heading\" id=\"p-interaction-label\">\n",
       " <span class=\"vector-menu-heading-label\">Contribute</span>\n",
       " </h3>,\n",
       " <h3 class=\"vector-menu-heading\" id=\"p-tb-label\">\n",
       " <span class=\"vector-menu-heading-label\">Tools</span>\n",
       " </h3>,\n",
       " <h3 class=\"vector-menu-heading\" id=\"p-coll-print_export-label\">\n",
       " <span class=\"vector-menu-heading-label\">Print/export</span>\n",
       " </h3>,\n",
       " <h3 class=\"vector-menu-heading\" id=\"p-wikibase-otherprojects-label\">\n",
       " <span class=\"vector-menu-heading-label\">In other projects</span>\n",
       " </h3>,\n",
       " <h3 class=\"vector-menu-heading\" id=\"p-lang-label\">\n",
       " <span class=\"vector-menu-heading-label\">Languages</span>\n",
       " </h3>]"
      ]
     },
     "execution_count": 611,
     "metadata": {},
     "output_type": "execute_result"
    }
   ],
   "source": [
    "head_tag=(['h1','h2','h3'])\n",
    "soup.find_all(head_tag)\n",
    "   \n"
   ]
  },
  {
   "cell_type": "code",
   "execution_count": null,
   "id": "ae23aa39",
   "metadata": {},
   "outputs": [],
   "source": []
  },
  {
   "cell_type": "markdown",
   "id": "4e475116",
   "metadata": {},
   "source": [
    "# Question-2"
   ]
  },
  {
   "cell_type": "code",
   "execution_count": 613,
   "id": "6fc0334c",
   "metadata": {},
   "outputs": [],
   "source": [
    "link2=\"https://www.imdb.com/search/title/?count=100&groups=top_1000&sort=user_rating\"\n",
    "response2=requests.get(link2)\n",
    "soup=BeautifulSoup(response2.content,'html.parser')"
   ]
  },
  {
   "cell_type": "code",
   "execution_count": 614,
   "id": "8dd87d42",
   "metadata": {},
   "outputs": [],
   "source": [
    "name2=[]\n",
    "rating2=[]\n",
    "year2=[]\n",
    "time2=[]\n"
   ]
  },
  {
   "cell_type": "code",
   "execution_count": 615,
   "id": "07da1a67",
   "metadata": {},
   "outputs": [],
   "source": [
    "movie_data=soup.find_all('div',attrs={'class':'lister-item mode-advanced'})"
   ]
  },
  {
   "cell_type": "code",
   "execution_count": 616,
   "id": "431aadce",
   "metadata": {},
   "outputs": [],
   "source": [
    "for store in movie_data:\n",
    "    nam=store.h3.a.text\n",
    "    name2.append(nam)\n",
    "    \n",
    "    \n",
    "    rate=store.find('div',class_='inline-block ratings-imdb-rating').text.replace('\\n','')\n",
    "    rating2.append(rate)\n",
    "    \n",
    "    at_year=store.find('span',class_='lister-item-year text-muted unbold').text.replace('(','').replace(')','')\n",
    "    year2.append(at_year)\n",
    "    \n",
    "    rt_time=store.p.find('span',class_='runtime').text.replace('min','').replace(' ','')\n",
    "    time2.append(rt_time)"
   ]
  },
  {
   "cell_type": "code",
   "execution_count": 617,
   "id": "dd9b8882",
   "metadata": {},
   "outputs": [],
   "source": [
    "idmi_movie_data=pd.DataFrame({'name':name2,'rating':rating2,'year':year2,'time':time2})"
   ]
  },
  {
   "cell_type": "code",
   "execution_count": 618,
   "id": "b002a890",
   "metadata": {},
   "outputs": [
    {
     "data": {
      "text/html": [
       "<div>\n",
       "<style scoped>\n",
       "    .dataframe tbody tr th:only-of-type {\n",
       "        vertical-align: middle;\n",
       "    }\n",
       "\n",
       "    .dataframe tbody tr th {\n",
       "        vertical-align: top;\n",
       "    }\n",
       "\n",
       "    .dataframe thead th {\n",
       "        text-align: right;\n",
       "    }\n",
       "</style>\n",
       "<table border=\"1\" class=\"dataframe\">\n",
       "  <thead>\n",
       "    <tr style=\"text-align: right;\">\n",
       "      <th></th>\n",
       "      <th>name</th>\n",
       "      <th>rating</th>\n",
       "      <th>year</th>\n",
       "      <th>time</th>\n",
       "    </tr>\n",
       "  </thead>\n",
       "  <tbody>\n",
       "    <tr>\n",
       "      <th>0</th>\n",
       "      <td>The Shawshank Redemption</td>\n",
       "      <td>9.3</td>\n",
       "      <td>1994</td>\n",
       "      <td>142</td>\n",
       "    </tr>\n",
       "    <tr>\n",
       "      <th>1</th>\n",
       "      <td>The Godfather</td>\n",
       "      <td>9.2</td>\n",
       "      <td>1972</td>\n",
       "      <td>175</td>\n",
       "    </tr>\n",
       "    <tr>\n",
       "      <th>2</th>\n",
       "      <td>The Dark Knight</td>\n",
       "      <td>9.0</td>\n",
       "      <td>2008</td>\n",
       "      <td>152</td>\n",
       "    </tr>\n",
       "    <tr>\n",
       "      <th>3</th>\n",
       "      <td>The Lord of the Rings: The Return of the King</td>\n",
       "      <td>9.0</td>\n",
       "      <td>2003</td>\n",
       "      <td>201</td>\n",
       "    </tr>\n",
       "    <tr>\n",
       "      <th>4</th>\n",
       "      <td>Schindler's List</td>\n",
       "      <td>9.0</td>\n",
       "      <td>1993</td>\n",
       "      <td>195</td>\n",
       "    </tr>\n",
       "    <tr>\n",
       "      <th>...</th>\n",
       "      <td>...</td>\n",
       "      <td>...</td>\n",
       "      <td>...</td>\n",
       "      <td>...</td>\n",
       "    </tr>\n",
       "    <tr>\n",
       "      <th>95</th>\n",
       "      <td>Dangal</td>\n",
       "      <td>8.3</td>\n",
       "      <td>2016</td>\n",
       "      <td>161</td>\n",
       "    </tr>\n",
       "    <tr>\n",
       "      <th>96</th>\n",
       "      <td>Drishyam</td>\n",
       "      <td>8.3</td>\n",
       "      <td>2013</td>\n",
       "      <td>160</td>\n",
       "    </tr>\n",
       "    <tr>\n",
       "      <th>97</th>\n",
       "      <td>Jagten</td>\n",
       "      <td>8.3</td>\n",
       "      <td>2012</td>\n",
       "      <td>115</td>\n",
       "    </tr>\n",
       "    <tr>\n",
       "      <th>98</th>\n",
       "      <td>Jodaeiye Nader az Simin</td>\n",
       "      <td>8.3</td>\n",
       "      <td>2011</td>\n",
       "      <td>123</td>\n",
       "    </tr>\n",
       "    <tr>\n",
       "      <th>99</th>\n",
       "      <td>Incendies</td>\n",
       "      <td>8.3</td>\n",
       "      <td>2010</td>\n",
       "      <td>131</td>\n",
       "    </tr>\n",
       "  </tbody>\n",
       "</table>\n",
       "<p>100 rows × 4 columns</p>\n",
       "</div>"
      ],
      "text/plain": [
       "                                             name rating  year time\n",
       "0                        The Shawshank Redemption    9.3  1994  142\n",
       "1                                   The Godfather    9.2  1972  175\n",
       "2                                 The Dark Knight    9.0  2008  152\n",
       "3   The Lord of the Rings: The Return of the King    9.0  2003  201\n",
       "4                                Schindler's List    9.0  1993  195\n",
       "..                                            ...    ...   ...  ...\n",
       "95                                         Dangal    8.3  2016  161\n",
       "96                                       Drishyam    8.3  2013  160\n",
       "97                                         Jagten    8.3  2012  115\n",
       "98                        Jodaeiye Nader az Simin    8.3  2011  123\n",
       "99                                      Incendies    8.3  2010  131\n",
       "\n",
       "[100 rows x 4 columns]"
      ]
     },
     "execution_count": 618,
     "metadata": {},
     "output_type": "execute_result"
    }
   ],
   "source": [
    "idmi_movie_data"
   ]
  },
  {
   "cell_type": "markdown",
   "id": "224638de",
   "metadata": {},
   "source": [
    "# Question-3"
   ]
  },
  {
   "cell_type": "code",
   "execution_count": null,
   "id": "a5d87a2d",
   "metadata": {},
   "outputs": [],
   "source": []
  },
  {
   "cell_type": "code",
   "execution_count": 620,
   "id": "d07bffcf",
   "metadata": {},
   "outputs": [],
   "source": [
    "link3='https://www.imdb.com/list/ls063915608/'\n",
    "response3=requests.get(link3)\n",
    "soup3=BeautifulSoup(response3.content,'html.parser')"
   ]
  },
  {
   "cell_type": "code",
   "execution_count": 621,
   "id": "7da439e5",
   "metadata": {},
   "outputs": [],
   "source": [
    "n2=[]\n",
    "y3=[]\n",
    "r3=[]\n",
    "t3=[]"
   ]
  },
  {
   "cell_type": "code",
   "execution_count": 622,
   "id": "4be5fc31",
   "metadata": {},
   "outputs": [],
   "source": [
    "indian_movie_data=soup3.find_all('div',attrs={'class':'lister-item-content'})"
   ]
  },
  {
   "cell_type": "code",
   "execution_count": 623,
   "id": "ea632410",
   "metadata": {},
   "outputs": [],
   "source": [
    "for store in indian_movie_data:\n",
    "    num=store.h3.a.text\n",
    "    n2.append(num)\n",
    "    \n",
    "    year=store.find('span',class_='lister-item-year text-muted unbold').text.replace('(','').replace(')','')\n",
    "    y3.append(year)\n",
    "    \n",
    "    time=store.p.find('span',class_='runtime').text.replace('min','').replace(' ','')\n",
    "    t3.append(time)\n",
    "    \n",
    "    rating=store.find('span',class_='ipl-rating-star__rating').text if store.find('span',class_='ipl-rating-star__rating') else '^^^^'\n",
    "    r3.append(rating)"
   ]
  },
  {
   "cell_type": "code",
   "execution_count": 624,
   "id": "0b81cb94",
   "metadata": {},
   "outputs": [],
   "source": [
    "indian_movies=pd.DataFrame({'NAME':n2,'YEAR':y3,'TIME':t3,'RATING':r3})"
   ]
  },
  {
   "cell_type": "code",
   "execution_count": 625,
   "id": "f958af87",
   "metadata": {},
   "outputs": [
    {
     "data": {
      "text/html": [
       "<div>\n",
       "<style scoped>\n",
       "    .dataframe tbody tr th:only-of-type {\n",
       "        vertical-align: middle;\n",
       "    }\n",
       "\n",
       "    .dataframe tbody tr th {\n",
       "        vertical-align: top;\n",
       "    }\n",
       "\n",
       "    .dataframe thead th {\n",
       "        text-align: right;\n",
       "    }\n",
       "</style>\n",
       "<table border=\"1\" class=\"dataframe\">\n",
       "  <thead>\n",
       "    <tr style=\"text-align: right;\">\n",
       "      <th></th>\n",
       "      <th>NAME</th>\n",
       "      <th>YEAR</th>\n",
       "      <th>TIME</th>\n",
       "      <th>RATING</th>\n",
       "    </tr>\n",
       "  </thead>\n",
       "  <tbody>\n",
       "    <tr>\n",
       "      <th>0</th>\n",
       "      <td>Rang De Basanti</td>\n",
       "      <td>2006</td>\n",
       "      <td>167</td>\n",
       "      <td>8.1</td>\n",
       "    </tr>\n",
       "    <tr>\n",
       "      <th>1</th>\n",
       "      <td>Lagaan: Once Upon a Time in India</td>\n",
       "      <td>2001</td>\n",
       "      <td>224</td>\n",
       "      <td>8.1</td>\n",
       "    </tr>\n",
       "    <tr>\n",
       "      <th>2</th>\n",
       "      <td>Dil Chahta Hai</td>\n",
       "      <td>2001</td>\n",
       "      <td>183</td>\n",
       "      <td>8.1</td>\n",
       "    </tr>\n",
       "    <tr>\n",
       "      <th>3</th>\n",
       "      <td>Gangs of Wasseypur</td>\n",
       "      <td>2012</td>\n",
       "      <td>321</td>\n",
       "      <td>8.2</td>\n",
       "    </tr>\n",
       "    <tr>\n",
       "      <th>4</th>\n",
       "      <td>Zindagi Na Milegi Dobara</td>\n",
       "      <td>2011</td>\n",
       "      <td>155</td>\n",
       "      <td>8.1</td>\n",
       "    </tr>\n",
       "    <tr>\n",
       "      <th>...</th>\n",
       "      <td>...</td>\n",
       "      <td>...</td>\n",
       "      <td>...</td>\n",
       "      <td>...</td>\n",
       "    </tr>\n",
       "    <tr>\n",
       "      <th>95</th>\n",
       "      <td>Dhamaal</td>\n",
       "      <td>2007</td>\n",
       "      <td>136</td>\n",
       "      <td>7.4</td>\n",
       "    </tr>\n",
       "    <tr>\n",
       "      <th>96</th>\n",
       "      <td>Golmaal: Fun Unlimited</td>\n",
       "      <td>2006</td>\n",
       "      <td>150</td>\n",
       "      <td>7.4</td>\n",
       "    </tr>\n",
       "    <tr>\n",
       "      <th>97</th>\n",
       "      <td>Aligarh</td>\n",
       "      <td>2015</td>\n",
       "      <td>114</td>\n",
       "      <td>7.8</td>\n",
       "    </tr>\n",
       "    <tr>\n",
       "      <th>98</th>\n",
       "      <td>Earth</td>\n",
       "      <td>1999</td>\n",
       "      <td>110</td>\n",
       "      <td>7.6</td>\n",
       "    </tr>\n",
       "    <tr>\n",
       "      <th>99</th>\n",
       "      <td>Kapoor &amp; Sons</td>\n",
       "      <td>2016</td>\n",
       "      <td>132</td>\n",
       "      <td>7.7</td>\n",
       "    </tr>\n",
       "  </tbody>\n",
       "</table>\n",
       "<p>100 rows × 4 columns</p>\n",
       "</div>"
      ],
      "text/plain": [
       "                                 NAME  YEAR TIME RATING\n",
       "0                     Rang De Basanti  2006  167    8.1\n",
       "1   Lagaan: Once Upon a Time in India  2001  224    8.1\n",
       "2                      Dil Chahta Hai  2001  183    8.1\n",
       "3                  Gangs of Wasseypur  2012  321    8.2\n",
       "4            Zindagi Na Milegi Dobara  2011  155    8.1\n",
       "..                                ...   ...  ...    ...\n",
       "95                            Dhamaal  2007  136    7.4\n",
       "96             Golmaal: Fun Unlimited  2006  150    7.4\n",
       "97                            Aligarh  2015  114    7.8\n",
       "98                              Earth  1999  110    7.6\n",
       "99                      Kapoor & Sons  2016  132    7.7\n",
       "\n",
       "[100 rows x 4 columns]"
      ]
     },
     "execution_count": 625,
     "metadata": {},
     "output_type": "execute_result"
    }
   ],
   "source": [
    "indian_movies"
   ]
  },
  {
   "cell_type": "markdown",
   "id": "7b2bed85",
   "metadata": {},
   "source": [
    "# Question-4"
   ]
  },
  {
   "cell_type": "code",
   "execution_count": 627,
   "id": "158a732d",
   "metadata": {},
   "outputs": [],
   "source": [
    "link4='https://presidentofindia.nic.in/former-presidents.htm'\n",
    "response4=requests.get(link4)\n"
   ]
  },
  {
   "cell_type": "code",
   "execution_count": 628,
   "id": "39c8ec27",
   "metadata": {},
   "outputs": [],
   "source": [
    "soup4=BeautifulSoup(response4.content,'html.parser')\n",
    "president=soup4.find_all('div',class_='presidentListing')"
   ]
  },
  {
   "cell_type": "code",
   "execution_count": 629,
   "id": "668f9a23",
   "metadata": {},
   "outputs": [],
   "source": [
    "Name4=[]\n",
    "Tenure4=[]"
   ]
  },
  {
   "cell_type": "code",
   "execution_count": 630,
   "id": "0f594516",
   "metadata": {},
   "outputs": [],
   "source": [
    "for store in president:\n",
    "    vam=store.h3.text\n",
    "    Name4.append(vam)\n",
    "    \n",
    "    red=store.p.text\n",
    "    Tenure4.append(red)"
   ]
  },
  {
   "cell_type": "code",
   "execution_count": 631,
   "id": "4e20b87f",
   "metadata": {},
   "outputs": [],
   "source": [
    "president_of_india=pd.DataFrame({'Name':Name4,'Tenure':Tenure4})"
   ]
  },
  {
   "cell_type": "code",
   "execution_count": 632,
   "id": "267c51bb",
   "metadata": {},
   "outputs": [
    {
     "data": {
      "text/html": [
       "<div>\n",
       "<style scoped>\n",
       "    .dataframe tbody tr th:only-of-type {\n",
       "        vertical-align: middle;\n",
       "    }\n",
       "\n",
       "    .dataframe tbody tr th {\n",
       "        vertical-align: top;\n",
       "    }\n",
       "\n",
       "    .dataframe thead th {\n",
       "        text-align: right;\n",
       "    }\n",
       "</style>\n",
       "<table border=\"1\" class=\"dataframe\">\n",
       "  <thead>\n",
       "    <tr style=\"text-align: right;\">\n",
       "      <th></th>\n",
       "      <th>Name</th>\n",
       "      <th>Tenure</th>\n",
       "    </tr>\n",
       "  </thead>\n",
       "  <tbody>\n",
       "    <tr>\n",
       "      <th>0</th>\n",
       "      <td>Shri Pranab Mukherjee (1935-2020)</td>\n",
       "      <td>Term of Office: 25 July, 2012 to 25 July, 2017</td>\n",
       "    </tr>\n",
       "    <tr>\n",
       "      <th>1</th>\n",
       "      <td>Smt Pratibha Devisingh Patil (birth - 1934)</td>\n",
       "      <td>Term of Office: 25 July, 2007 to 25 July, 2012</td>\n",
       "    </tr>\n",
       "    <tr>\n",
       "      <th>2</th>\n",
       "      <td>DR. A.P.J. Abdul Kalam (1931-2015)</td>\n",
       "      <td>Term of Office: 25 July, 2002 to 25 July, 2007</td>\n",
       "    </tr>\n",
       "    <tr>\n",
       "      <th>3</th>\n",
       "      <td>Shri K. R. Narayanan (1920 - 2005)</td>\n",
       "      <td>Term of Office: 25 July, 1997 to 25 July, 2002</td>\n",
       "    </tr>\n",
       "    <tr>\n",
       "      <th>4</th>\n",
       "      <td>Dr Shankar Dayal Sharma (1918-1999)</td>\n",
       "      <td>Term of Office: 25 July, 1992 to 25 July, 1997</td>\n",
       "    </tr>\n",
       "    <tr>\n",
       "      <th>5</th>\n",
       "      <td>Shri R Venkataraman (1910-2009)</td>\n",
       "      <td>Term of Office: 25 July, 1987 to 25 July, 1992</td>\n",
       "    </tr>\n",
       "    <tr>\n",
       "      <th>6</th>\n",
       "      <td>Giani Zail Singh (1916-1994)</td>\n",
       "      <td>Term of Office: 25 July, 1982 to 25 July, 1987</td>\n",
       "    </tr>\n",
       "    <tr>\n",
       "      <th>7</th>\n",
       "      <td>Shri Neelam Sanjiva Reddy (1913-1996)</td>\n",
       "      <td>Term of Office: 25 July, 1977 to 25 July, 1982</td>\n",
       "    </tr>\n",
       "    <tr>\n",
       "      <th>8</th>\n",
       "      <td>Dr. Fakhruddin Ali Ahmed (1905-1977)</td>\n",
       "      <td>Term of Office: 24 August, 1974 to 11 February...</td>\n",
       "    </tr>\n",
       "    <tr>\n",
       "      <th>9</th>\n",
       "      <td>Shri Varahagiri Venkata Giri (1894-1980)</td>\n",
       "      <td>Term of Office: 3 May, 1969 to 20 July, 1969 a...</td>\n",
       "    </tr>\n",
       "    <tr>\n",
       "      <th>10</th>\n",
       "      <td>Dr. Zakir Husain (1897-1969)</td>\n",
       "      <td>Term of Office: 13 May, 1967 to 3 May, 1969</td>\n",
       "    </tr>\n",
       "    <tr>\n",
       "      <th>11</th>\n",
       "      <td>Dr. Sarvepalli Radhakrishnan (1888-1975)</td>\n",
       "      <td>Term of Office: 13 May, 1962 to 13 May, 1967</td>\n",
       "    </tr>\n",
       "    <tr>\n",
       "      <th>12</th>\n",
       "      <td>Dr. Rajendra Prasad (1884-1963)</td>\n",
       "      <td>Term of Office: 26 January, 1950 to 13 May, 1962</td>\n",
       "    </tr>\n",
       "  </tbody>\n",
       "</table>\n",
       "</div>"
      ],
      "text/plain": [
       "                                           Name  \\\n",
       "0             Shri Pranab Mukherjee (1935-2020)   \n",
       "1   Smt Pratibha Devisingh Patil (birth - 1934)   \n",
       "2            DR. A.P.J. Abdul Kalam (1931-2015)   \n",
       "3            Shri K. R. Narayanan (1920 - 2005)   \n",
       "4           Dr Shankar Dayal Sharma (1918-1999)   \n",
       "5               Shri R Venkataraman (1910-2009)   \n",
       "6                  Giani Zail Singh (1916-1994)   \n",
       "7         Shri Neelam Sanjiva Reddy (1913-1996)   \n",
       "8          Dr. Fakhruddin Ali Ahmed (1905-1977)   \n",
       "9      Shri Varahagiri Venkata Giri (1894-1980)   \n",
       "10                 Dr. Zakir Husain (1897-1969)   \n",
       "11     Dr. Sarvepalli Radhakrishnan (1888-1975)   \n",
       "12             Dr. Rajendra Prasad (1884-1963)    \n",
       "\n",
       "                                               Tenure  \n",
       "0     Term of Office: 25 July, 2012 to 25 July, 2017   \n",
       "1     Term of Office: 25 July, 2007 to 25 July, 2012   \n",
       "2     Term of Office: 25 July, 2002 to 25 July, 2007   \n",
       "3     Term of Office: 25 July, 1997 to 25 July, 2002   \n",
       "4     Term of Office: 25 July, 1992 to 25 July, 1997   \n",
       "5     Term of Office: 25 July, 1987 to 25 July, 1992   \n",
       "6     Term of Office: 25 July, 1982 to 25 July, 1987   \n",
       "7     Term of Office: 25 July, 1977 to 25 July, 1982   \n",
       "8   Term of Office: 24 August, 1974 to 11 February...  \n",
       "9   Term of Office: 3 May, 1969 to 20 July, 1969 a...  \n",
       "10        Term of Office: 13 May, 1967 to 3 May, 1969  \n",
       "11       Term of Office: 13 May, 1962 to 13 May, 1967  \n",
       "12   Term of Office: 26 January, 1950 to 13 May, 1962  "
      ]
     },
     "execution_count": 632,
     "metadata": {},
     "output_type": "execute_result"
    }
   ],
   "source": [
    "president_of_india"
   ]
  },
  {
   "cell_type": "markdown",
   "id": "fb739b91",
   "metadata": {},
   "source": [
    "# Question-5 @ 2"
   ]
  },
  {
   "cell_type": "code",
   "execution_count": 634,
   "id": "93e70ee7",
   "metadata": {},
   "outputs": [],
   "source": [
    "link5=\"https://www.icc-cricket.com/rankings/mens/player-rankings/odi/batting\"\n",
    "response5=requests.get(link5)"
   ]
  },
  {
   "cell_type": "code",
   "execution_count": 635,
   "id": "e66633b3",
   "metadata": {},
   "outputs": [],
   "source": [
    "soup5=BeautifulSoup(response5.content,'html.parser')"
   ]
  },
  {
   "cell_type": "code",
   "execution_count": 636,
   "id": "3fc8d012",
   "metadata": {},
   "outputs": [],
   "source": [
    "player5=[]\n",
    "team5=[]\n",
    "rating5=[]\n",
    "career_best5=[]"
   ]
  },
  {
   "cell_type": "code",
   "execution_count": 637,
   "id": "7b7c1173",
   "metadata": {},
   "outputs": [],
   "source": [
    "for d in soup5.find_all('div',class_=\"u-flex-center u-text-left\"):\n",
    "    c=d.text.replace('\\n','')\n",
    "    player5.append(c)"
   ]
  },
  {
   "cell_type": "code",
   "execution_count": 638,
   "id": "db000d57",
   "metadata": {},
   "outputs": [],
   "source": [
    "for d in soup5.find_all('td',class_=\"table-body__cell rankings-table__name name\"):\n",
    "    c= d.text.replace('\\n','')\n",
    "    player5.append(c)"
   ]
  },
  {
   "cell_type": "code",
   "execution_count": 639,
   "id": "1725e89d",
   "metadata": {},
   "outputs": [],
   "source": [
    "for d in soup5.find_all('div',class_=\"rankings-block__banner--nationality\"):\n",
    "    c=d.text.replace('\\n','')\n",
    "    team5.append(c)"
   ]
  },
  {
   "cell_type": "code",
   "execution_count": 640,
   "id": "5b229968",
   "metadata": {},
   "outputs": [],
   "source": [
    "for d in soup5.find_all('span',class_=\"table-body__logo-text\"):\n",
    "    c=d.text\n",
    "    team5.append(c)"
   ]
  },
  {
   "cell_type": "code",
   "execution_count": 641,
   "id": "dd46ff4e",
   "metadata": {},
   "outputs": [],
   "source": [
    "for d in soup5.find_all('td',class_=\"u-text-right u-hide-phablet u-overflow-hidden\"):\n",
    "    c=d.text.replace('\\n','').replace('  ','')\n",
    "    career_best5.append(c)"
   ]
  },
  {
   "cell_type": "code",
   "execution_count": 642,
   "id": "172dc723",
   "metadata": {},
   "outputs": [],
   "source": [
    "for d in soup5.find_all('td',class_=\"table-body__cell u-text-right u-hide-phablet\"):\n",
    "    c=d.text.replace('\\n','').replace('  ','')\n",
    "    career_best5.append(c)"
   ]
  },
  {
   "cell_type": "code",
   "execution_count": 643,
   "id": "dd971a54",
   "metadata": {},
   "outputs": [],
   "source": [
    "for d in soup5.find_all('td',class_=\"u-text-left\"):\n",
    "    c=d.text.replace('\\n','')\n",
    "    rating5.append(c)"
   ]
  },
  {
   "cell_type": "code",
   "execution_count": 644,
   "id": "9c60587c",
   "metadata": {},
   "outputs": [],
   "source": [
    "for d in soup5.find_all('td',class_=\"table-body__cell rating\"):\n",
    "    c=d.text\n",
    "    rating5.append(c)"
   ]
  },
  {
   "cell_type": "code",
   "execution_count": 645,
   "id": "b52df858",
   "metadata": {},
   "outputs": [],
   "source": [
    "batsman_raking=pd.DataFrame({'player':player5,'team':team5,'rating':rating5 ,'career_best':career_best5})"
   ]
  },
  {
   "cell_type": "code",
   "execution_count": 646,
   "id": "291a41af",
   "metadata": {},
   "outputs": [
    {
     "data": {
      "text/html": [
       "<div>\n",
       "<style scoped>\n",
       "    .dataframe tbody tr th:only-of-type {\n",
       "        vertical-align: middle;\n",
       "    }\n",
       "\n",
       "    .dataframe tbody tr th {\n",
       "        vertical-align: top;\n",
       "    }\n",
       "\n",
       "    .dataframe thead th {\n",
       "        text-align: right;\n",
       "    }\n",
       "</style>\n",
       "<table border=\"1\" class=\"dataframe\">\n",
       "  <thead>\n",
       "    <tr style=\"text-align: right;\">\n",
       "      <th></th>\n",
       "      <th>player</th>\n",
       "      <th>team</th>\n",
       "      <th>rating</th>\n",
       "      <th>career_best</th>\n",
       "    </tr>\n",
       "  </thead>\n",
       "  <tbody>\n",
       "    <tr>\n",
       "      <th>0</th>\n",
       "      <td>Babar Azam</td>\n",
       "      <td>PAK</td>\n",
       "      <td>892</td>\n",
       "      <td>898 v West Indies, 10/06/2022</td>\n",
       "    </tr>\n",
       "    <tr>\n",
       "      <th>1</th>\n",
       "      <td>Imam-ul-Haq</td>\n",
       "      <td>PAK</td>\n",
       "      <td>815</td>\n",
       "      <td>815 v West Indies, 12/06/2022</td>\n",
       "    </tr>\n",
       "    <tr>\n",
       "      <th>2</th>\n",
       "      <td>Virat Kohli</td>\n",
       "      <td>IND</td>\n",
       "      <td>811</td>\n",
       "      <td>911 v England, 12/07/2018</td>\n",
       "    </tr>\n",
       "    <tr>\n",
       "      <th>3</th>\n",
       "      <td>Rohit Sharma</td>\n",
       "      <td>IND</td>\n",
       "      <td>791</td>\n",
       "      <td>885 v Sri Lanka, 06/07/2019</td>\n",
       "    </tr>\n",
       "    <tr>\n",
       "      <th>4</th>\n",
       "      <td>Quinton de Kock</td>\n",
       "      <td>SA</td>\n",
       "      <td>789</td>\n",
       "      <td>813 v Sri Lanka, 10/03/2019</td>\n",
       "    </tr>\n",
       "    <tr>\n",
       "      <th>...</th>\n",
       "      <td>...</td>\n",
       "      <td>...</td>\n",
       "      <td>...</td>\n",
       "      <td>...</td>\n",
       "    </tr>\n",
       "    <tr>\n",
       "      <th>95</th>\n",
       "      <td>Afif Hossain</td>\n",
       "      <td>BAN</td>\n",
       "      <td>429</td>\n",
       "      <td>430 v South Africa, 20/03/2022</td>\n",
       "    </tr>\n",
       "    <tr>\n",
       "      <th>96</th>\n",
       "      <td>Mohammad Rizwan</td>\n",
       "      <td>PAK</td>\n",
       "      <td>429</td>\n",
       "      <td>442 v West Indies, 08/06/2022</td>\n",
       "    </tr>\n",
       "    <tr>\n",
       "      <th>97</th>\n",
       "      <td>Steven Taylor</td>\n",
       "      <td>USA</td>\n",
       "      <td>425</td>\n",
       "      <td>429 v Oman, 12/06/2022</td>\n",
       "    </tr>\n",
       "    <tr>\n",
       "      <th>98</th>\n",
       "      <td>Tony Ura</td>\n",
       "      <td>PNG</td>\n",
       "      <td>424</td>\n",
       "      <td>416 v Namibia, 23/09/2019</td>\n",
       "    </tr>\n",
       "    <tr>\n",
       "      <th>99</th>\n",
       "      <td>Ravindra Jadeja</td>\n",
       "      <td>IND</td>\n",
       "      <td>421</td>\n",
       "      <td>552 v West Indies, 08/10/2014</td>\n",
       "    </tr>\n",
       "  </tbody>\n",
       "</table>\n",
       "<p>100 rows × 4 columns</p>\n",
       "</div>"
      ],
      "text/plain": [
       "             player team rating                     career_best\n",
       "0        Babar Azam  PAK    892   898 v West Indies, 10/06/2022\n",
       "1       Imam-ul-Haq  PAK    815   815 v West Indies, 12/06/2022\n",
       "2       Virat Kohli  IND    811       911 v England, 12/07/2018\n",
       "3      Rohit Sharma  IND    791     885 v Sri Lanka, 06/07/2019\n",
       "4   Quinton de Kock   SA    789     813 v Sri Lanka, 10/03/2019\n",
       "..              ...  ...    ...                             ...\n",
       "95     Afif Hossain  BAN    429  430 v South Africa, 20/03/2022\n",
       "96  Mohammad Rizwan  PAK    429   442 v West Indies, 08/06/2022\n",
       "97    Steven Taylor  USA    425          429 v Oman, 12/06/2022\n",
       "98         Tony Ura  PNG    424       416 v Namibia, 23/09/2019\n",
       "99  Ravindra Jadeja  IND    421   552 v West Indies, 08/10/2014\n",
       "\n",
       "[100 rows x 4 columns]"
      ]
     },
     "execution_count": 646,
     "metadata": {},
     "output_type": "execute_result"
    }
   ],
   "source": [
    "batsman_raking"
   ]
  },
  {
   "cell_type": "markdown",
   "id": "93c1bb9d",
   "metadata": {},
   "source": [
    "# Question- 5@ 1"
   ]
  },
  {
   "cell_type": "code",
   "execution_count": 648,
   "id": "c9b6fc1c",
   "metadata": {},
   "outputs": [],
   "source": [
    "link5_1=\"https://www.icc-cricket.com/rankings/mens/team-rankings/odi\"\n",
    "response5_1=requests.get(link5_1)"
   ]
  },
  {
   "cell_type": "code",
   "execution_count": 649,
   "id": "b7f154f6",
   "metadata": {},
   "outputs": [],
   "source": [
    "response5_1=requests.get(link5_1)"
   ]
  },
  {
   "cell_type": "code",
   "execution_count": 650,
   "id": "1227821e",
   "metadata": {},
   "outputs": [],
   "source": [
    "soup5_1=BeautifulSoup(response5_1.content,'html.parser')\n"
   ]
  },
  {
   "cell_type": "code",
   "execution_count": 651,
   "id": "678ad93d",
   "metadata": {},
   "outputs": [],
   "source": [
    "point5_1=[]\n",
    "team5_1=[]\n",
    "match5_1=[]\n",
    "rating5_1=[]"
   ]
  },
  {
   "cell_type": "code",
   "execution_count": 652,
   "id": "412a3772",
   "metadata": {},
   "outputs": [],
   "source": [
    "for y in soup5_1.find_all('span',class_=\"u-hide-phablet\"):\n",
    "    h=y.text\n",
    "    team5_1.append(h)"
   ]
  },
  {
   "cell_type": "code",
   "execution_count": 653,
   "id": "b13e0672",
   "metadata": {},
   "outputs": [
    {
     "data": {
      "text/plain": [
       "['New Zealand',\n",
       " 'England',\n",
       " 'Pakistan',\n",
       " 'India',\n",
       " 'Australia',\n",
       " 'South Africa',\n",
       " 'Bangladesh',\n",
       " 'Sri Lanka',\n",
       " 'West Indies',\n",
       " 'Afghanistan',\n",
       " 'Ireland',\n",
       " 'Scotland',\n",
       " 'UAE',\n",
       " 'Netherlands',\n",
       " 'Zimbabwe',\n",
       " 'Oman',\n",
       " 'United States',\n",
       " 'Namibia',\n",
       " 'Nepal',\n",
       " 'Papua New Guinea']"
      ]
     },
     "execution_count": 653,
     "metadata": {},
     "output_type": "execute_result"
    }
   ],
   "source": [
    "team5_20"
   ]
  },
  {
   "cell_type": "code",
   "execution_count": 654,
   "id": "45d072c4",
   "metadata": {},
   "outputs": [],
   "source": [
    "match5_200=[]\n",
    "for y in soup5_1.find_all('td',class_=\"rankings-block__banner--matches\"):\n",
    "    t=y.text\n",
    "    match5_200.append(t)\n",
    "   \n"
   ]
  },
  {
   "cell_type": "code",
   "execution_count": 668,
   "id": "42e84cdb",
   "metadata": {},
   "outputs": [
    {
     "data": {
      "text/plain": [
       "['12']"
      ]
     },
     "execution_count": 668,
     "metadata": {},
     "output_type": "execute_result"
    }
   ],
   "source": [
    "match5_200"
   ]
  },
  {
   "cell_type": "markdown",
   "id": "b04f5229",
   "metadata": {},
   "source": []
  },
  {
   "cell_type": "code",
   "execution_count": 655,
   "id": "3918ca80",
   "metadata": {},
   "outputs": [],
   "source": [
    "point_match=[]\n",
    "for y in soup5_1.find_all('td',class_=\"table-body__cell u-center-text\"):\n",
    "    t=y.text\n",
    "    point_match.append(t)"
   ]
  },
  {
   "cell_type": "code",
   "execution_count": 656,
   "id": "1abe612d",
   "metadata": {},
   "outputs": [],
   "source": [
    "point5_00=[]\n",
    "for y in soup5_1.find_all('td',class_=\"rankings-block__banner--points\"):\n",
    "    t=y.text\n",
    "    point5_00.append(t)\n",
    "    \n",
    "\n"
   ]
  },
  {
   "cell_type": "code",
   "execution_count": 669,
   "id": "b3628253",
   "metadata": {},
   "outputs": [
    {
     "data": {
      "text/plain": [
       "['12',\n",
       " '22',\n",
       " '19',\n",
       " '22',\n",
       " '23',\n",
       " '19',\n",
       " '24',\n",
       " '29',\n",
       " '32',\n",
       " '18',\n",
       " '20',\n",
       " '18',\n",
       " '19',\n",
       " '18',\n",
       " '17',\n",
       " '30',\n",
       " '20',\n",
       " '11',\n",
       " '18',\n",
       " '22']"
      ]
     },
     "execution_count": 669,
     "metadata": {},
     "output_type": "execute_result"
    }
   ],
   "source": [
    "mt=point_match[0::2]\n",
    "match5_51=match5_200+mt\n",
    "match5_51"
   ]
  },
  {
   "cell_type": "code",
   "execution_count": 658,
   "id": "6565b01d",
   "metadata": {},
   "outputs": [
    {
     "data": {
      "text/plain": [
       "['1,505',\n",
       " '2,756',\n",
       " '2,005',\n",
       " '2,304',\n",
       " '2,325',\n",
       " '1,872',\n",
       " '2,275',\n",
       " '2,658',\n",
       " '2,306',\n",
       " '1,238',\n",
       " '1,083',\n",
       " '814',\n",
       " '724',\n",
       " '603',\n",
       " '539',\n",
       " '919',\n",
       " '544',\n",
       " '246',\n",
       " '298',\n",
       " '134']"
      ]
     },
     "execution_count": 658,
     "metadata": {},
     "output_type": "execute_result"
    }
   ],
   "source": [
    "pt=point_match[1::2]\n",
    "point500=point5_00+pt\n",
    "point500"
   ]
  },
  {
   "cell_type": "code",
   "execution_count": 659,
   "id": "ca7c98d0",
   "metadata": {},
   "outputs": [],
   "source": [
    "rating500=[]\n",
    "for y in soup5_1.find_all('td',class_=\"rankings-block__banner--rating u-text-right\"):\n",
    "    t=y.text.replace('\\n','').replace('  ','')\n",
    "    rating500.append(t)"
   ]
  },
  {
   "cell_type": "code",
   "execution_count": 660,
   "id": "3252fba7",
   "metadata": {},
   "outputs": [],
   "source": [
    "rating511=[]\n",
    "for y in soup5_1.find_all('td',class_=\"table-body__cell u-text-right rating\"):\n",
    "    t=y.text\n",
    "    rating511.append(t)\n",
    "  \n",
    "\n",
    "\n"
   ]
  },
  {
   "cell_type": "code",
   "execution_count": 673,
   "id": "e2e99b12",
   "metadata": {},
   "outputs": [
    {
     "data": {
      "text/plain": [
       "['125',\n",
       " '125',\n",
       " '106',\n",
       " '105',\n",
       " '101',\n",
       " '99',\n",
       " '95',\n",
       " '92',\n",
       " '72',\n",
       " '69',\n",
       " '54',\n",
       " '45',\n",
       " '38',\n",
       " '34',\n",
       " '32',\n",
       " '31',\n",
       " '27',\n",
       " '22',\n",
       " '17',\n",
       " '6']"
      ]
     },
     "execution_count": 673,
     "metadata": {},
     "output_type": "execute_result"
    }
   ],
   "source": [
    "rating_m=rating500+rating511\n"
   ]
  },
  {
   "cell_type": "code",
   "execution_count": 671,
   "id": "db80abc4",
   "metadata": {},
   "outputs": [
    {
     "name": "stdout",
     "output_type": "stream",
     "text": [
      "19 20 20 20\n"
     ]
    }
   ],
   "source": [
    "print(len(rating511),len(point500),len(match5_51),len(team5_20))"
   ]
  },
  {
   "cell_type": "code",
   "execution_count": 674,
   "id": "2845cf2b",
   "metadata": {},
   "outputs": [],
   "source": [
    "team_ranking=pd.DataFrame({'team_name':team5_20,'matches':match5_51,'points':point500,'rating':rating_m})"
   ]
  },
  {
   "cell_type": "code",
   "execution_count": 675,
   "id": "66995dd6",
   "metadata": {},
   "outputs": [
    {
     "data": {
      "text/html": [
       "<div>\n",
       "<style scoped>\n",
       "    .dataframe tbody tr th:only-of-type {\n",
       "        vertical-align: middle;\n",
       "    }\n",
       "\n",
       "    .dataframe tbody tr th {\n",
       "        vertical-align: top;\n",
       "    }\n",
       "\n",
       "    .dataframe thead th {\n",
       "        text-align: right;\n",
       "    }\n",
       "</style>\n",
       "<table border=\"1\" class=\"dataframe\">\n",
       "  <thead>\n",
       "    <tr style=\"text-align: right;\">\n",
       "      <th></th>\n",
       "      <th>team_name</th>\n",
       "      <th>matches</th>\n",
       "      <th>points</th>\n",
       "      <th>rating</th>\n",
       "    </tr>\n",
       "  </thead>\n",
       "  <tbody>\n",
       "    <tr>\n",
       "      <th>0</th>\n",
       "      <td>New Zealand</td>\n",
       "      <td>12</td>\n",
       "      <td>1,505</td>\n",
       "      <td>125</td>\n",
       "    </tr>\n",
       "    <tr>\n",
       "      <th>1</th>\n",
       "      <td>England</td>\n",
       "      <td>22</td>\n",
       "      <td>2,756</td>\n",
       "      <td>125</td>\n",
       "    </tr>\n",
       "    <tr>\n",
       "      <th>2</th>\n",
       "      <td>Pakistan</td>\n",
       "      <td>19</td>\n",
       "      <td>2,005</td>\n",
       "      <td>106</td>\n",
       "    </tr>\n",
       "    <tr>\n",
       "      <th>3</th>\n",
       "      <td>India</td>\n",
       "      <td>22</td>\n",
       "      <td>2,304</td>\n",
       "      <td>105</td>\n",
       "    </tr>\n",
       "    <tr>\n",
       "      <th>4</th>\n",
       "      <td>Australia</td>\n",
       "      <td>23</td>\n",
       "      <td>2,325</td>\n",
       "      <td>101</td>\n",
       "    </tr>\n",
       "    <tr>\n",
       "      <th>5</th>\n",
       "      <td>South Africa</td>\n",
       "      <td>19</td>\n",
       "      <td>1,872</td>\n",
       "      <td>99</td>\n",
       "    </tr>\n",
       "    <tr>\n",
       "      <th>6</th>\n",
       "      <td>Bangladesh</td>\n",
       "      <td>24</td>\n",
       "      <td>2,275</td>\n",
       "      <td>95</td>\n",
       "    </tr>\n",
       "    <tr>\n",
       "      <th>7</th>\n",
       "      <td>Sri Lanka</td>\n",
       "      <td>29</td>\n",
       "      <td>2,658</td>\n",
       "      <td>92</td>\n",
       "    </tr>\n",
       "    <tr>\n",
       "      <th>8</th>\n",
       "      <td>West Indies</td>\n",
       "      <td>32</td>\n",
       "      <td>2,306</td>\n",
       "      <td>72</td>\n",
       "    </tr>\n",
       "    <tr>\n",
       "      <th>9</th>\n",
       "      <td>Afghanistan</td>\n",
       "      <td>18</td>\n",
       "      <td>1,238</td>\n",
       "      <td>69</td>\n",
       "    </tr>\n",
       "    <tr>\n",
       "      <th>10</th>\n",
       "      <td>Ireland</td>\n",
       "      <td>20</td>\n",
       "      <td>1,083</td>\n",
       "      <td>54</td>\n",
       "    </tr>\n",
       "    <tr>\n",
       "      <th>11</th>\n",
       "      <td>Scotland</td>\n",
       "      <td>18</td>\n",
       "      <td>814</td>\n",
       "      <td>45</td>\n",
       "    </tr>\n",
       "    <tr>\n",
       "      <th>12</th>\n",
       "      <td>UAE</td>\n",
       "      <td>19</td>\n",
       "      <td>724</td>\n",
       "      <td>38</td>\n",
       "    </tr>\n",
       "    <tr>\n",
       "      <th>13</th>\n",
       "      <td>Netherlands</td>\n",
       "      <td>18</td>\n",
       "      <td>603</td>\n",
       "      <td>34</td>\n",
       "    </tr>\n",
       "    <tr>\n",
       "      <th>14</th>\n",
       "      <td>Zimbabwe</td>\n",
       "      <td>17</td>\n",
       "      <td>539</td>\n",
       "      <td>32</td>\n",
       "    </tr>\n",
       "    <tr>\n",
       "      <th>15</th>\n",
       "      <td>Oman</td>\n",
       "      <td>30</td>\n",
       "      <td>919</td>\n",
       "      <td>31</td>\n",
       "    </tr>\n",
       "    <tr>\n",
       "      <th>16</th>\n",
       "      <td>United States</td>\n",
       "      <td>20</td>\n",
       "      <td>544</td>\n",
       "      <td>27</td>\n",
       "    </tr>\n",
       "    <tr>\n",
       "      <th>17</th>\n",
       "      <td>Namibia</td>\n",
       "      <td>11</td>\n",
       "      <td>246</td>\n",
       "      <td>22</td>\n",
       "    </tr>\n",
       "    <tr>\n",
       "      <th>18</th>\n",
       "      <td>Nepal</td>\n",
       "      <td>18</td>\n",
       "      <td>298</td>\n",
       "      <td>17</td>\n",
       "    </tr>\n",
       "    <tr>\n",
       "      <th>19</th>\n",
       "      <td>Papua New Guinea</td>\n",
       "      <td>22</td>\n",
       "      <td>134</td>\n",
       "      <td>6</td>\n",
       "    </tr>\n",
       "  </tbody>\n",
       "</table>\n",
       "</div>"
      ],
      "text/plain": [
       "           team_name matches points rating\n",
       "0        New Zealand      12  1,505    125\n",
       "1            England      22  2,756    125\n",
       "2           Pakistan      19  2,005    106\n",
       "3              India      22  2,304    105\n",
       "4          Australia      23  2,325    101\n",
       "5       South Africa      19  1,872     99\n",
       "6         Bangladesh      24  2,275     95\n",
       "7          Sri Lanka      29  2,658     92\n",
       "8        West Indies      32  2,306     72\n",
       "9        Afghanistan      18  1,238     69\n",
       "10           Ireland      20  1,083     54\n",
       "11          Scotland      18    814     45\n",
       "12               UAE      19    724     38\n",
       "13       Netherlands      18    603     34\n",
       "14          Zimbabwe      17    539     32\n",
       "15              Oman      30    919     31\n",
       "16     United States      20    544     27\n",
       "17           Namibia      11    246     22\n",
       "18             Nepal      18    298     17\n",
       "19  Papua New Guinea      22    134      6"
      ]
     },
     "execution_count": 675,
     "metadata": {},
     "output_type": "execute_result"
    }
   ],
   "source": [
    "team_ranking"
   ]
  },
  {
   "cell_type": "markdown",
   "id": "7561bbeb",
   "metadata": {},
   "source": [
    "# Question-5 @ 3\n"
   ]
  },
  {
   "cell_type": "code",
   "execution_count": 678,
   "id": "8e8371a5",
   "metadata": {},
   "outputs": [],
   "source": [
    "link5_3=\"https://www.icc-cricket.com/rankings/mens/player-rankings/odi/bowling\"\n",
    "response5_3=requests.get(link5_3)\n"
   ]
  },
  {
   "cell_type": "code",
   "execution_count": 679,
   "id": "924e979b",
   "metadata": {},
   "outputs": [],
   "source": [
    "soup5_3=BeautifulSoup(response5_3.content,'html.parser')\n"
   ]
  },
  {
   "cell_type": "code",
   "execution_count": 680,
   "id": "4aa3d256",
   "metadata": {},
   "outputs": [],
   "source": [
    "bol_player=[]\n",
    "for t in soup5_3.find_all('div',class_=\"rankings-block__banner--name-large\"):\n",
    "    k=t.text\n",
    "    bol_player.append(k)"
   ]
  },
  {
   "cell_type": "code",
   "execution_count": 681,
   "id": "05f634c3",
   "metadata": {},
   "outputs": [],
   "source": [
    "for t in soup5_3.find_all('td',class_=\"table-body__cell rankings-table__name name\"):\n",
    "    h=t.text.replace('\\n','')\n",
    "    bol_player.append(h)"
   ]
  },
  {
   "cell_type": "code",
   "execution_count": 682,
   "id": "118b568f",
   "metadata": {},
   "outputs": [],
   "source": [
    "bol_team1=[]\n",
    "for t in soup5_3.find_all('div',class_=\"rankings-block__banner--nationality\"):\n",
    "    c=t.text.replace('\\n','')\n",
    "    bol_team1.append(c)\n"
   ]
  },
  {
   "cell_type": "code",
   "execution_count": 683,
   "id": "9e50ae10",
   "metadata": {},
   "outputs": [],
   "source": [
    "for t in soup5_3.find_all('span',class_=\"table-body__logo-text\"):\n",
    "    r=t.text\n",
    "    bol_team1.append(r)"
   ]
  },
  {
   "cell_type": "code",
   "execution_count": null,
   "id": "93f4e62f",
   "metadata": {},
   "outputs": [],
   "source": []
  },
  {
   "cell_type": "code",
   "execution_count": 685,
   "id": "d486358d",
   "metadata": {},
   "outputs": [],
   "source": [
    "bol_rate=[]\n",
    "for t in soup5_3.find_all('div',class_=\"rankings-block__banner--rating\"):\n",
    "    c=t.text\n",
    "    bol_rate.append(c)"
   ]
  },
  {
   "cell_type": "code",
   "execution_count": 686,
   "id": "c9549ff6",
   "metadata": {},
   "outputs": [],
   "source": [
    "for t in soup5_3.find_all('td',class_=\"table-body__cell rating\"):\n",
    "    c=t.text\n",
    "    bol_rate.append(c)"
   ]
  },
  {
   "cell_type": "code",
   "execution_count": 687,
   "id": "09a8a6ed",
   "metadata": {},
   "outputs": [],
   "source": [
    "bol_best=[]\n",
    "for t in soup5_3.find_all('span',class_=\"rankings-block__career-best-text\"):\n",
    "    c=t.text.replace('\\n','').replace('  ','')\n",
    "    bol_best.append(c)"
   ]
  },
  {
   "cell_type": "code",
   "execution_count": 688,
   "id": "2bb77701",
   "metadata": {},
   "outputs": [],
   "source": [
    "for t in soup5_3.find_all('td',class_=\"table-body__cell u-text-right u-hide-phablet\"):\n",
    "    c=t.text.replace('\\n','').replace('  ','')\n",
    "    bol_best.append(c)\n"
   ]
  },
  {
   "cell_type": "code",
   "execution_count": 689,
   "id": "14472f5b",
   "metadata": {},
   "outputs": [
    {
     "data": {
      "text/html": [
       "<div>\n",
       "<style scoped>\n",
       "    .dataframe tbody tr th:only-of-type {\n",
       "        vertical-align: middle;\n",
       "    }\n",
       "\n",
       "    .dataframe tbody tr th {\n",
       "        vertical-align: top;\n",
       "    }\n",
       "\n",
       "    .dataframe thead th {\n",
       "        text-align: right;\n",
       "    }\n",
       "</style>\n",
       "<table border=\"1\" class=\"dataframe\">\n",
       "  <thead>\n",
       "    <tr style=\"text-align: right;\">\n",
       "      <th></th>\n",
       "      <th>team</th>\n",
       "      <th>player</th>\n",
       "      <th>rating</th>\n",
       "      <th>career_best</th>\n",
       "    </tr>\n",
       "  </thead>\n",
       "  <tbody>\n",
       "    <tr>\n",
       "      <th>0</th>\n",
       "      <td>NZ</td>\n",
       "      <td>Trent Boult</td>\n",
       "      <td>726</td>\n",
       "      <td>770 v West Indies, 22/06/2019</td>\n",
       "    </tr>\n",
       "    <tr>\n",
       "      <th>1</th>\n",
       "      <td>NZ</td>\n",
       "      <td>Matt Henry</td>\n",
       "      <td>683</td>\n",
       "      <td>691 v Bangladesh, 26/03/2021</td>\n",
       "    </tr>\n",
       "    <tr>\n",
       "      <th>2</th>\n",
       "      <td>PAK</td>\n",
       "      <td>Shaheen Afridi</td>\n",
       "      <td>681</td>\n",
       "      <td>688 v West Indies, 10/06/2022</td>\n",
       "    </tr>\n",
       "    <tr>\n",
       "      <th>3</th>\n",
       "      <td>ENG</td>\n",
       "      <td>Chris Woakes</td>\n",
       "      <td>680</td>\n",
       "      <td>711 v Sri Lanka, 04/07/2021</td>\n",
       "    </tr>\n",
       "    <tr>\n",
       "      <th>4</th>\n",
       "      <td>IND</td>\n",
       "      <td>Jasprit Bumrah</td>\n",
       "      <td>679</td>\n",
       "      <td>841 v West Indies, 01/11/2018</td>\n",
       "    </tr>\n",
       "    <tr>\n",
       "      <th>...</th>\n",
       "      <td>...</td>\n",
       "      <td>...</td>\n",
       "      <td>...</td>\n",
       "      <td>...</td>\n",
       "    </tr>\n",
       "    <tr>\n",
       "      <th>95</th>\n",
       "      <td>AUS</td>\n",
       "      <td>Jason Behrendorff</td>\n",
       "      <td>380</td>\n",
       "      <td>439 v England, 11/07/2019</td>\n",
       "    </tr>\n",
       "    <tr>\n",
       "      <th>96</th>\n",
       "      <td>IRE</td>\n",
       "      <td>Barry McCarthy</td>\n",
       "      <td>379</td>\n",
       "      <td>448 v West Indies, 09/01/2020</td>\n",
       "    </tr>\n",
       "    <tr>\n",
       "      <th>97</th>\n",
       "      <td>WI</td>\n",
       "      <td>Hayden Walsh</td>\n",
       "      <td>378</td>\n",
       "      <td>383 v Netherlands, 04/06/2022</td>\n",
       "    </tr>\n",
       "    <tr>\n",
       "      <th>98</th>\n",
       "      <td>NED</td>\n",
       "      <td>Logan van Beek</td>\n",
       "      <td>378</td>\n",
       "      <td>385 v England, 19/06/2022</td>\n",
       "    </tr>\n",
       "    <tr>\n",
       "      <th>99</th>\n",
       "      <td>WI</td>\n",
       "      <td>Kemar Roach</td>\n",
       "      <td>378</td>\n",
       "      <td>650 v Pakistan, 19/07/2013</td>\n",
       "    </tr>\n",
       "  </tbody>\n",
       "</table>\n",
       "<p>100 rows × 4 columns</p>\n",
       "</div>"
      ],
      "text/plain": [
       "   team             player rating                    career_best\n",
       "0    NZ        Trent Boult    726  770 v West Indies, 22/06/2019\n",
       "1    NZ         Matt Henry    683   691 v Bangladesh, 26/03/2021\n",
       "2   PAK     Shaheen Afridi    681  688 v West Indies, 10/06/2022\n",
       "3   ENG       Chris Woakes    680    711 v Sri Lanka, 04/07/2021\n",
       "4   IND     Jasprit Bumrah    679  841 v West Indies, 01/11/2018\n",
       "..  ...                ...    ...                            ...\n",
       "95  AUS  Jason Behrendorff    380      439 v England, 11/07/2019\n",
       "96  IRE     Barry McCarthy    379  448 v West Indies, 09/01/2020\n",
       "97   WI       Hayden Walsh    378  383 v Netherlands, 04/06/2022\n",
       "98  NED     Logan van Beek    378      385 v England, 19/06/2022\n",
       "99   WI        Kemar Roach    378     650 v Pakistan, 19/07/2013\n",
       "\n",
       "[100 rows x 4 columns]"
      ]
     },
     "execution_count": 689,
     "metadata": {},
     "output_type": "execute_result"
    }
   ],
   "source": [
    "bowling_ranking=pd.DataFrame({'team':bol_team1,'player':bol_player,'rating':bol_rate,'career_best':bol_best})\n",
    "bowling_ranking"
   ]
  },
  {
   "cell_type": "markdown",
   "id": "0fe7ec47",
   "metadata": {},
   "source": [
    "# Question 6 @1"
   ]
  },
  {
   "cell_type": "code",
   "execution_count": 691,
   "id": "72f0f869",
   "metadata": {},
   "outputs": [],
   "source": [
    "link6=\"https://www.icc-cricket.com/rankings/womens/team-rankings/odi\""
   ]
  },
  {
   "cell_type": "code",
   "execution_count": 692,
   "id": "3be99c6f",
   "metadata": {},
   "outputs": [
    {
     "data": {
      "text/plain": [
       "<Response [200]>"
      ]
     },
     "execution_count": 692,
     "metadata": {},
     "output_type": "execute_result"
    }
   ],
   "source": [
    "respons6=requests.get(link6)\n",
    "respons6"
   ]
  },
  {
   "cell_type": "code",
   "execution_count": 693,
   "id": "97dbe998",
   "metadata": {},
   "outputs": [],
   "source": [
    "soup6=BeautifulSoup(respons6.content,'html.parser')"
   ]
  },
  {
   "cell_type": "code",
   "execution_count": 694,
   "id": "023b156c",
   "metadata": {},
   "outputs": [
    {
     "data": {
      "text/plain": [
       "['Australia',\n",
       " 'South Africa',\n",
       " 'England',\n",
       " 'India',\n",
       " 'New Zealand',\n",
       " 'West Indies',\n",
       " 'Bangladesh',\n",
       " 'Pakistan',\n",
       " 'Sri Lanka',\n",
       " 'Ireland',\n",
       " 'Zimbabwe',\n",
       " '',\n",
       " '',\n",
       " '',\n",
       " '',\n",
       " '']"
      ]
     },
     "execution_count": 694,
     "metadata": {},
     "output_type": "execute_result"
    }
   ],
   "source": [
    "team6=[]\n",
    "\n",
    "for t in soup6.find_all('span',class_=\"u-hide-phablet\"):\n",
    "    v=t.text\n",
    "    team6.append(v)\n",
    "    \n",
    "team6"
   ]
  },
  {
   "cell_type": "code",
   "execution_count": 695,
   "id": "1a71b00e",
   "metadata": {},
   "outputs": [
    {
     "data": {
      "text/plain": [
       "['Australia',\n",
       " 'South Africa',\n",
       " 'England',\n",
       " 'India',\n",
       " 'New Zealand',\n",
       " 'West Indies',\n",
       " 'Bangladesh',\n",
       " 'Pakistan',\n",
       " 'Sri Lanka',\n",
       " 'Ireland',\n",
       " 'Zimbabwe']"
      ]
     },
     "execution_count": 695,
     "metadata": {},
     "output_type": "execute_result"
    }
   ],
   "source": [
    "team6_1=team6[0:11]\n",
    "team6_1"
   ]
  },
  {
   "cell_type": "code",
   "execution_count": 696,
   "id": "dd106439",
   "metadata": {},
   "outputs": [],
   "source": [
    "match6=[]\n",
    "\n",
    "for t in soup6.find_all('td',class_=\"rankings-block__banner--matches\"):\n",
    "    k=t.text\n",
    "    match6.append(k)\n",
    "    "
   ]
  },
  {
   "cell_type": "code",
   "execution_count": 697,
   "id": "b0509c32",
   "metadata": {},
   "outputs": [],
   "source": [
    "fin=[]\n",
    "\n",
    "for p in soup6.find_all('td',class_=\"table-body__cell u-center-text\"):\n",
    "    e=p.text\n",
    "    fin.append(e)\n"
   ]
  },
  {
   "cell_type": "code",
   "execution_count": 698,
   "id": "3f9b0833",
   "metadata": {},
   "outputs": [],
   "source": [
    "matches6=fin[::2]"
   ]
  },
  {
   "cell_type": "code",
   "execution_count": 699,
   "id": "d1f50ed0",
   "metadata": {},
   "outputs": [
    {
     "data": {
      "text/plain": [
       "['29', '32', '30', '29', '31', '30', '12', '30', '8', '8', '8']"
      ]
     },
     "execution_count": 699,
     "metadata": {},
     "output_type": "execute_result"
    }
   ],
   "source": [
    "matche6=match6+matches6\n",
    "matche6"
   ]
  },
  {
   "cell_type": "code",
   "execution_count": 700,
   "id": "42ef660d",
   "metadata": {},
   "outputs": [],
   "source": [
    "point6=[]\n",
    "for c in soup6.find_all('td',class_=\"rankings-block__banner--points\"):\n",
    "    y=c.text\n",
    "    point6.append(y)"
   ]
  },
  {
   "cell_type": "code",
   "execution_count": 701,
   "id": "e9b06b9f",
   "metadata": {},
   "outputs": [],
   "source": [
    "k=fin[1::2]\n",
    "points6=point6+k"
   ]
  },
  {
   "cell_type": "code",
   "execution_count": 702,
   "id": "3cd4e3ea",
   "metadata": {},
   "outputs": [],
   "source": [
    "rating6=[]\n",
    "\n",
    "for w in soup6.find_all('td',class_=\"rankings-block__banner--rating u-text-right\"):\n",
    "    y=w.text.replace('\\n','').replace('  ','')\n",
    "    rating6.append(y)"
   ]
  },
  {
   "cell_type": "code",
   "execution_count": 703,
   "id": "4a5ba68a",
   "metadata": {},
   "outputs": [],
   "source": [
    "for y in soup6.find_all('td',class_=\"table-body__cell u-text-right rating\"):\n",
    "    i=y.text\n",
    "    rating6.append(i)"
   ]
  },
  {
   "cell_type": "code",
   "execution_count": 704,
   "id": "733d9616",
   "metadata": {},
   "outputs": [
    {
     "data": {
      "text/html": [
       "<div>\n",
       "<style scoped>\n",
       "    .dataframe tbody tr th:only-of-type {\n",
       "        vertical-align: middle;\n",
       "    }\n",
       "\n",
       "    .dataframe tbody tr th {\n",
       "        vertical-align: top;\n",
       "    }\n",
       "\n",
       "    .dataframe thead th {\n",
       "        text-align: right;\n",
       "    }\n",
       "</style>\n",
       "<table border=\"1\" class=\"dataframe\">\n",
       "  <thead>\n",
       "    <tr style=\"text-align: right;\">\n",
       "      <th></th>\n",
       "      <th>team</th>\n",
       "      <th>matches</th>\n",
       "      <th>points</th>\n",
       "      <th>rating</th>\n",
       "    </tr>\n",
       "  </thead>\n",
       "  <tbody>\n",
       "    <tr>\n",
       "      <th>0</th>\n",
       "      <td>Australia</td>\n",
       "      <td>29</td>\n",
       "      <td>4,837</td>\n",
       "      <td>167</td>\n",
       "    </tr>\n",
       "    <tr>\n",
       "      <th>1</th>\n",
       "      <td>South Africa</td>\n",
       "      <td>32</td>\n",
       "      <td>3,949</td>\n",
       "      <td>123</td>\n",
       "    </tr>\n",
       "    <tr>\n",
       "      <th>2</th>\n",
       "      <td>England</td>\n",
       "      <td>30</td>\n",
       "      <td>3,531</td>\n",
       "      <td>118</td>\n",
       "    </tr>\n",
       "    <tr>\n",
       "      <th>3</th>\n",
       "      <td>India</td>\n",
       "      <td>29</td>\n",
       "      <td>2,889</td>\n",
       "      <td>100</td>\n",
       "    </tr>\n",
       "    <tr>\n",
       "      <th>4</th>\n",
       "      <td>New Zealand</td>\n",
       "      <td>31</td>\n",
       "      <td>3,019</td>\n",
       "      <td>97</td>\n",
       "    </tr>\n",
       "    <tr>\n",
       "      <th>5</th>\n",
       "      <td>West Indies</td>\n",
       "      <td>30</td>\n",
       "      <td>2,768</td>\n",
       "      <td>92</td>\n",
       "    </tr>\n",
       "    <tr>\n",
       "      <th>6</th>\n",
       "      <td>Bangladesh</td>\n",
       "      <td>12</td>\n",
       "      <td>930</td>\n",
       "      <td>78</td>\n",
       "    </tr>\n",
       "    <tr>\n",
       "      <th>7</th>\n",
       "      <td>Pakistan</td>\n",
       "      <td>30</td>\n",
       "      <td>1,962</td>\n",
       "      <td>65</td>\n",
       "    </tr>\n",
       "    <tr>\n",
       "      <th>8</th>\n",
       "      <td>Sri Lanka</td>\n",
       "      <td>8</td>\n",
       "      <td>384</td>\n",
       "      <td>48</td>\n",
       "    </tr>\n",
       "    <tr>\n",
       "      <th>9</th>\n",
       "      <td>Ireland</td>\n",
       "      <td>8</td>\n",
       "      <td>351</td>\n",
       "      <td>44</td>\n",
       "    </tr>\n",
       "    <tr>\n",
       "      <th>10</th>\n",
       "      <td>Zimbabwe</td>\n",
       "      <td>8</td>\n",
       "      <td>0</td>\n",
       "      <td>0</td>\n",
       "    </tr>\n",
       "  </tbody>\n",
       "</table>\n",
       "</div>"
      ],
      "text/plain": [
       "            team matches points rating\n",
       "0      Australia      29  4,837    167\n",
       "1   South Africa      32  3,949    123\n",
       "2        England      30  3,531    118\n",
       "3          India      29  2,889    100\n",
       "4    New Zealand      31  3,019     97\n",
       "5    West Indies      30  2,768     92\n",
       "6     Bangladesh      12    930     78\n",
       "7       Pakistan      30  1,962     65\n",
       "8      Sri Lanka       8    384     48\n",
       "9        Ireland       8    351     44\n",
       "10      Zimbabwe       8      0      0"
      ]
     },
     "execution_count": 704,
     "metadata": {},
     "output_type": "execute_result"
    }
   ],
   "source": [
    "womens_odi_team=pd.DataFrame({'team':team6_1,'matches':matche6,'points':points6,'rating':rating6})\n",
    "womens_odi_team"
   ]
  },
  {
   "cell_type": "markdown",
   "id": "80b2720d",
   "metadata": {},
   "source": [
    "# Question 6 @2\n"
   ]
  },
  {
   "cell_type": "code",
   "execution_count": 706,
   "id": "13f381ff",
   "metadata": {},
   "outputs": [],
   "source": [
    "bat=\"https://www.icc-cricket.com/rankings/womens/player-rankings/odi/batting\"\n",
    "res=requests.get(bat)\n",
    "soup62=BeautifulSoup(res.content,'html.parser')"
   ]
  },
  {
   "cell_type": "code",
   "execution_count": 707,
   "id": "b9554aaf",
   "metadata": {},
   "outputs": [],
   "source": [
    "ply_name62=[]\n",
    "\n",
    "for y in soup62.find_all('div',class_=\"rankings-block__banner--name-large\"):\n",
    "    k=y.text\n",
    "    ply_name62.append(k)"
   ]
  },
  {
   "cell_type": "code",
   "execution_count": 708,
   "id": "24ec001e",
   "metadata": {},
   "outputs": [],
   "source": [
    "for r in soup62.find_all('td',class_=\"table-body__cell rankings-table__name name\"):\n",
    "    j=r.text.replace('\\n','')\n",
    "    ply_name62.append(j)"
   ]
  },
  {
   "cell_type": "code",
   "execution_count": 709,
   "id": "023a930b",
   "metadata": {},
   "outputs": [],
   "source": [
    "bat_team62=[]\n",
    "\n",
    "for l in soup62.find_all('div',class_=\"rankings-block__banner--nationality\"):\n",
    "    n=l.text.replace('\\n','')\n",
    "    bat_team62.append(n)"
   ]
  },
  {
   "cell_type": "code",
   "execution_count": 710,
   "id": "cea5f9cb",
   "metadata": {},
   "outputs": [],
   "source": [
    "for k in soup62.find_all('span',class_=\"table-body__logo-text\"):\n",
    "    b=k.text\n",
    "    bat_team62.append(b)"
   ]
  },
  {
   "cell_type": "code",
   "execution_count": 711,
   "id": "e4400d1a",
   "metadata": {},
   "outputs": [],
   "source": [
    "wm_rating62=[]\n",
    "for j in soup62.find_all('div',class_=\"rankings-block__banner--rating\"):\n",
    "    g=j.text\n",
    "    wm_rating62.append(g)"
   ]
  },
  {
   "cell_type": "code",
   "execution_count": 712,
   "id": "130be775",
   "metadata": {},
   "outputs": [],
   "source": [
    "for h in soup62.find_all('td',class_=\"table-body__cell rating\"):\n",
    "    a=h.text\n",
    "    wm_rating62.append(a)"
   ]
  },
  {
   "cell_type": "code",
   "execution_count": 713,
   "id": "10ebd98d",
   "metadata": {},
   "outputs": [],
   "source": [
    "carrerbest_wm62=[]\n",
    "for d in soup62.find_all('span',class_=\"rankings-block__career-best-text\"):\n",
    "    j=d.text.replace('\\n','').replace('  ','')\n",
    "    carrerbest_wm62.append(j)"
   ]
  },
  {
   "cell_type": "code",
   "execution_count": 714,
   "id": "2e7c43a9",
   "metadata": {},
   "outputs": [],
   "source": [
    "for d in soup62.find_all('td',class_=\"table-body__cell u-text-right u-hide-phablet\"):\n",
    "    n=d.text.replace('\\n','').replace(' ','')\n",
    "    carrerbest_wm62.append(n)"
   ]
  },
  {
   "cell_type": "code",
   "execution_count": 715,
   "id": "6b310792",
   "metadata": {},
   "outputs": [
    {
     "data": {
      "text/html": [
       "<div>\n",
       "<style scoped>\n",
       "    .dataframe tbody tr th:only-of-type {\n",
       "        vertical-align: middle;\n",
       "    }\n",
       "\n",
       "    .dataframe tbody tr th {\n",
       "        vertical-align: top;\n",
       "    }\n",
       "\n",
       "    .dataframe thead th {\n",
       "        text-align: right;\n",
       "    }\n",
       "</style>\n",
       "<table border=\"1\" class=\"dataframe\">\n",
       "  <thead>\n",
       "    <tr style=\"text-align: right;\">\n",
       "      <th></th>\n",
       "      <th>player_name</th>\n",
       "      <th>team</th>\n",
       "      <th>rating</th>\n",
       "      <th>career_best</th>\n",
       "    </tr>\n",
       "  </thead>\n",
       "  <tbody>\n",
       "    <tr>\n",
       "      <th>0</th>\n",
       "      <td>Alyssa Healy</td>\n",
       "      <td>AUS</td>\n",
       "      <td>785</td>\n",
       "      <td>785 v England, 03/04/2022</td>\n",
       "    </tr>\n",
       "    <tr>\n",
       "      <th>1</th>\n",
       "      <td>Natalie Sciver</td>\n",
       "      <td>ENG</td>\n",
       "      <td>750</td>\n",
       "      <td>750vAustralia,03/04/2022</td>\n",
       "    </tr>\n",
       "    <tr>\n",
       "      <th>2</th>\n",
       "      <td>Beth Mooney</td>\n",
       "      <td>AUS</td>\n",
       "      <td>748</td>\n",
       "      <td>748vEngland,03/04/2022</td>\n",
       "    </tr>\n",
       "    <tr>\n",
       "      <th>3</th>\n",
       "      <td>Laura Wolvaardt</td>\n",
       "      <td>SA</td>\n",
       "      <td>713</td>\n",
       "      <td>741vAustralia,22/03/2022</td>\n",
       "    </tr>\n",
       "    <tr>\n",
       "      <th>4</th>\n",
       "      <td>Meg Lanning</td>\n",
       "      <td>AUS</td>\n",
       "      <td>710</td>\n",
       "      <td>834vNewZealand,24/02/2016</td>\n",
       "    </tr>\n",
       "    <tr>\n",
       "      <th>...</th>\n",
       "      <td>...</td>\n",
       "      <td>...</td>\n",
       "      <td>...</td>\n",
       "      <td>...</td>\n",
       "    </tr>\n",
       "    <tr>\n",
       "      <th>95</th>\n",
       "      <td>Eimear Richardson</td>\n",
       "      <td>IRE</td>\n",
       "      <td>211</td>\n",
       "      <td>275vPakistan,19/07/2013</td>\n",
       "    </tr>\n",
       "    <tr>\n",
       "      <th>96</th>\n",
       "      <td>Rajeshwari Gayakwad</td>\n",
       "      <td>IND</td>\n",
       "      <td>209</td>\n",
       "      <td>229vSouthAfrica,14/03/2021</td>\n",
       "    </tr>\n",
       "    <tr>\n",
       "      <th>97</th>\n",
       "      <td>Anushka Sanjeewani</td>\n",
       "      <td>SL</td>\n",
       "      <td>204</td>\n",
       "      <td>222vAustralia,07/10/2019</td>\n",
       "    </tr>\n",
       "    <tr>\n",
       "      <th>98</th>\n",
       "      <td>Hasini Perera</td>\n",
       "      <td>SL</td>\n",
       "      <td>201</td>\n",
       "      <td>250vEngland,02/07/2017</td>\n",
       "    </tr>\n",
       "    <tr>\n",
       "      <th>99</th>\n",
       "      <td>Inoka Ranaweera</td>\n",
       "      <td>SL</td>\n",
       "      <td>197</td>\n",
       "      <td>230vAustralia,29/06/2017</td>\n",
       "    </tr>\n",
       "  </tbody>\n",
       "</table>\n",
       "<p>100 rows × 4 columns</p>\n",
       "</div>"
      ],
      "text/plain": [
       "            player_name team rating                 career_best\n",
       "0          Alyssa Healy  AUS    785   785 v England, 03/04/2022\n",
       "1        Natalie Sciver  ENG    750    750vAustralia,03/04/2022\n",
       "2           Beth Mooney  AUS    748      748vEngland,03/04/2022\n",
       "3       Laura Wolvaardt   SA    713    741vAustralia,22/03/2022\n",
       "4           Meg Lanning  AUS    710   834vNewZealand,24/02/2016\n",
       "..                  ...  ...    ...                         ...\n",
       "95    Eimear Richardson  IRE    211     275vPakistan,19/07/2013\n",
       "96  Rajeshwari Gayakwad  IND    209  229vSouthAfrica,14/03/2021\n",
       "97   Anushka Sanjeewani   SL    204    222vAustralia,07/10/2019\n",
       "98        Hasini Perera   SL    201      250vEngland,02/07/2017\n",
       "99      Inoka Ranaweera   SL    197    230vAustralia,29/06/2017\n",
       "\n",
       "[100 rows x 4 columns]"
      ]
     },
     "execution_count": 715,
     "metadata": {},
     "output_type": "execute_result"
    }
   ],
   "source": [
    "women_batting=pd.DataFrame({'player_name':ply_name62,'team':bat_team62,'rating':wm_rating62,'career_best':carrerbest_wm62})\n",
    "women_batting"
   ]
  },
  {
   "cell_type": "markdown",
   "id": "e9206dd5",
   "metadata": {},
   "source": [
    "# Question 6 @ 3"
   ]
  },
  {
   "cell_type": "code",
   "execution_count": 717,
   "id": "bcf6188c",
   "metadata": {},
   "outputs": [],
   "source": [
    "all_rounder=\"https://www.icc-cricket.com/rankings/womens/player-rankings/odi/all-rounder\"\n",
    "resp=requests.get(all_rounder)"
   ]
  },
  {
   "cell_type": "code",
   "execution_count": 718,
   "id": "0382b86d",
   "metadata": {},
   "outputs": [],
   "source": [
    "soup63=BeautifulSoup(resp.content,'html.parser')"
   ]
  },
  {
   "cell_type": "code",
   "execution_count": 719,
   "id": "8b480265",
   "metadata": {},
   "outputs": [],
   "source": [
    "name_round=[]\n",
    "for y in soup63.find_all('div',class_=\"rankings-block__banner--name-large\"):\n",
    "    s=y.text\n",
    "    name_round.append(s)"
   ]
  },
  {
   "cell_type": "code",
   "execution_count": 720,
   "id": "d9da2c15",
   "metadata": {},
   "outputs": [],
   "source": [
    "for t in soup63.find_all('td',class_=\"table-body__cell rankings-table__name name\"):\n",
    "    r=t.text.replace('\\n','')\n",
    "    name_round.append(r)"
   ]
  },
  {
   "cell_type": "code",
   "execution_count": 721,
   "id": "de6ccf7d",
   "metadata": {},
   "outputs": [],
   "source": [
    "round_team=[]\n",
    "for k in soup63.find_all('div',class_=\"rankings-block__banner--nationality\"):\n",
    "    j=k.text.replace('\\n','')\n",
    "    round_team.append(j)"
   ]
  },
  {
   "cell_type": "code",
   "execution_count": 722,
   "id": "7fb2afa4",
   "metadata": {},
   "outputs": [],
   "source": [
    "for t in soup63.find_all('span',class_=\"table-body__logo-text\"):\n",
    "    o=t.text\n",
    "    round_team.append(o)"
   ]
  },
  {
   "cell_type": "code",
   "execution_count": 723,
   "id": "75478a0b",
   "metadata": {},
   "outputs": [],
   "source": [
    "round_rating=[]\n",
    "for n in soup63.find_all('div',class_=\"rankings-block__banner--rating\"):\n",
    "    b=n.text\n",
    "    round_rating.append(b)\n",
    "    "
   ]
  },
  {
   "cell_type": "code",
   "execution_count": 724,
   "id": "e141bde5",
   "metadata": {},
   "outputs": [],
   "source": [
    "for v in soup63.find_all('td',class_=\"table-body__cell rating\"):\n",
    "    d=v.text\n",
    "    round_rating.append(d)"
   ]
  },
  {
   "cell_type": "code",
   "execution_count": 725,
   "id": "0ecfbbbf",
   "metadata": {},
   "outputs": [],
   "source": [
    "round_best=[]\n",
    "for b in soup63.find_all('div',class_=\"rankings-block__career-best\"):\n",
    "    v=b.text.replace('\\n','').replace('  ','')\n",
    "    round_best.append(v)"
   ]
  },
  {
   "cell_type": "code",
   "execution_count": 726,
   "id": "5b093c31",
   "metadata": {},
   "outputs": [],
   "source": [
    "for h in soup63.find_all('td',class_=\"table-body__cell u-text-right u-hide-phablet\"):\n",
    "    q=h.text.replace('\\n','').replace('  ','')\n",
    "    round_best.append(q)"
   ]
  },
  {
   "cell_type": "code",
   "execution_count": 727,
   "id": "6ab12444",
   "metadata": {},
   "outputs": [],
   "source": [
    "all_rounder_ranking=pd.DataFrame({'player_name':name_round,'team':round_team,'points':round_rating,'career_best':round_best})"
   ]
  },
  {
   "cell_type": "code",
   "execution_count": 728,
   "id": "8abdc6ca",
   "metadata": {},
   "outputs": [
    {
     "data": {
      "text/html": [
       "<div>\n",
       "<style scoped>\n",
       "    .dataframe tbody tr th:only-of-type {\n",
       "        vertical-align: middle;\n",
       "    }\n",
       "\n",
       "    .dataframe tbody tr th {\n",
       "        vertical-align: top;\n",
       "    }\n",
       "\n",
       "    .dataframe thead th {\n",
       "        text-align: right;\n",
       "    }\n",
       "</style>\n",
       "<table border=\"1\" class=\"dataframe\">\n",
       "  <thead>\n",
       "    <tr style=\"text-align: right;\">\n",
       "      <th></th>\n",
       "      <th>player_name</th>\n",
       "      <th>team</th>\n",
       "      <th>points</th>\n",
       "      <th>career_best</th>\n",
       "    </tr>\n",
       "  </thead>\n",
       "  <tbody>\n",
       "    <tr>\n",
       "      <th>0</th>\n",
       "      <td>Natalie Sciver</td>\n",
       "      <td>ENG</td>\n",
       "      <td>393</td>\n",
       "      <td>393 v Australia, 03/04/2022</td>\n",
       "    </tr>\n",
       "    <tr>\n",
       "      <th>1</th>\n",
       "      <td>Ellyse Perry</td>\n",
       "      <td>AUS</td>\n",
       "      <td>374</td>\n",
       "      <td>548 v West Indies, 11/09/2019</td>\n",
       "    </tr>\n",
       "    <tr>\n",
       "      <th>2</th>\n",
       "      <td>Hayley Matthews</td>\n",
       "      <td>WI</td>\n",
       "      <td>338</td>\n",
       "      <td>365 v India, 12/03/2022</td>\n",
       "    </tr>\n",
       "    <tr>\n",
       "      <th>3</th>\n",
       "      <td>Marizanne Kapp</td>\n",
       "      <td>SA</td>\n",
       "      <td>338</td>\n",
       "      <td>419 v West Indies, 10/09/2021</td>\n",
       "    </tr>\n",
       "    <tr>\n",
       "      <th>4</th>\n",
       "      <td>Amelia Kerr</td>\n",
       "      <td>NZ</td>\n",
       "      <td>335</td>\n",
       "      <td>339 v South Africa, 17/03/2022</td>\n",
       "    </tr>\n",
       "    <tr>\n",
       "      <th>5</th>\n",
       "      <td>Ashleigh Gardner</td>\n",
       "      <td>AUS</td>\n",
       "      <td>269</td>\n",
       "      <td>279 v West Indies, 30/03/2022</td>\n",
       "    </tr>\n",
       "    <tr>\n",
       "      <th>6</th>\n",
       "      <td>Deepti Sharma</td>\n",
       "      <td>IND</td>\n",
       "      <td>249</td>\n",
       "      <td>397 v South Africa, 09/10/2019</td>\n",
       "    </tr>\n",
       "    <tr>\n",
       "      <th>7</th>\n",
       "      <td>Jess Jonassen</td>\n",
       "      <td>AUS</td>\n",
       "      <td>245</td>\n",
       "      <td>308 v West Indies, 11/09/2019</td>\n",
       "    </tr>\n",
       "    <tr>\n",
       "      <th>8</th>\n",
       "      <td>Sune Luus</td>\n",
       "      <td>SA</td>\n",
       "      <td>223</td>\n",
       "      <td>223 v Ireland, 17/06/2022</td>\n",
       "    </tr>\n",
       "    <tr>\n",
       "      <th>9</th>\n",
       "      <td>Katherine Brunt</td>\n",
       "      <td>ENG</td>\n",
       "      <td>221</td>\n",
       "      <td>296 v Australia, 03/02/2022</td>\n",
       "    </tr>\n",
       "    <tr>\n",
       "      <th>10</th>\n",
       "      <td>Jhulan Goswami</td>\n",
       "      <td>IND</td>\n",
       "      <td>217</td>\n",
       "      <td>308 v Australia, 02/02/2016</td>\n",
       "    </tr>\n",
       "    <tr>\n",
       "      <th>11</th>\n",
       "      <td>Sophie Ecclestone</td>\n",
       "      <td>ENG</td>\n",
       "      <td>206</td>\n",
       "      <td>217 v South Africa, 31/03/2022</td>\n",
       "    </tr>\n",
       "    <tr>\n",
       "      <th>12</th>\n",
       "      <td>Stafanie Taylor</td>\n",
       "      <td>WI</td>\n",
       "      <td>205</td>\n",
       "      <td>559 v New Zealand, 10/10/2013</td>\n",
       "    </tr>\n",
       "    <tr>\n",
       "      <th>13</th>\n",
       "      <td>Sophie Devine</td>\n",
       "      <td>NZ</td>\n",
       "      <td>202</td>\n",
       "      <td>305 v Australia, 05/10/2020</td>\n",
       "    </tr>\n",
       "    <tr>\n",
       "      <th>14</th>\n",
       "      <td>Nida Dar</td>\n",
       "      <td>PAK</td>\n",
       "      <td>198</td>\n",
       "      <td>206 v Sri Lanka, 03/06/2022</td>\n",
       "    </tr>\n",
       "    <tr>\n",
       "      <th>15</th>\n",
       "      <td>Rumana Ahmed</td>\n",
       "      <td>BAN</td>\n",
       "      <td>169</td>\n",
       "      <td>198 v South Africa, 05/03/2022</td>\n",
       "    </tr>\n",
       "    <tr>\n",
       "      <th>16</th>\n",
       "      <td>Salma Khatun</td>\n",
       "      <td>BAN</td>\n",
       "      <td>167</td>\n",
       "      <td>170 v Australia, 25/03/2022</td>\n",
       "    </tr>\n",
       "    <tr>\n",
       "      <th>17</th>\n",
       "      <td>Dane van Niekerk</td>\n",
       "      <td>SA</td>\n",
       "      <td>159</td>\n",
       "      <td>421 v Sri Lanka, 11/02/2019</td>\n",
       "    </tr>\n",
       "    <tr>\n",
       "      <th>18</th>\n",
       "      <td>Heather Knight</td>\n",
       "      <td>ENG</td>\n",
       "      <td>156</td>\n",
       "      <td>249 v West Indies, 13/06/2019</td>\n",
       "    </tr>\n",
       "    <tr>\n",
       "      <th>19</th>\n",
       "      <td>Tahlia McGrath</td>\n",
       "      <td>AUS</td>\n",
       "      <td>149</td>\n",
       "      <td>152 v New Zealand, 13/03/2022</td>\n",
       "    </tr>\n",
       "  </tbody>\n",
       "</table>\n",
       "</div>"
      ],
      "text/plain": [
       "          player_name team points                     career_best\n",
       "0      Natalie Sciver  ENG    393     393 v Australia, 03/04/2022\n",
       "1        Ellyse Perry  AUS    374   548 v West Indies, 11/09/2019\n",
       "2     Hayley Matthews   WI    338         365 v India, 12/03/2022\n",
       "3      Marizanne Kapp   SA    338   419 v West Indies, 10/09/2021\n",
       "4         Amelia Kerr   NZ    335  339 v South Africa, 17/03/2022\n",
       "5    Ashleigh Gardner  AUS    269   279 v West Indies, 30/03/2022\n",
       "6       Deepti Sharma  IND    249  397 v South Africa, 09/10/2019\n",
       "7       Jess Jonassen  AUS    245   308 v West Indies, 11/09/2019\n",
       "8           Sune Luus   SA    223       223 v Ireland, 17/06/2022\n",
       "9     Katherine Brunt  ENG    221     296 v Australia, 03/02/2022\n",
       "10     Jhulan Goswami  IND    217     308 v Australia, 02/02/2016\n",
       "11  Sophie Ecclestone  ENG    206  217 v South Africa, 31/03/2022\n",
       "12    Stafanie Taylor   WI    205   559 v New Zealand, 10/10/2013\n",
       "13      Sophie Devine   NZ    202     305 v Australia, 05/10/2020\n",
       "14           Nida Dar  PAK    198     206 v Sri Lanka, 03/06/2022\n",
       "15       Rumana Ahmed  BAN    169  198 v South Africa, 05/03/2022\n",
       "16       Salma Khatun  BAN    167     170 v Australia, 25/03/2022\n",
       "17   Dane van Niekerk   SA    159     421 v Sri Lanka, 11/02/2019\n",
       "18     Heather Knight  ENG    156   249 v West Indies, 13/06/2019\n",
       "19     Tahlia McGrath  AUS    149   152 v New Zealand, 13/03/2022"
      ]
     },
     "execution_count": 728,
     "metadata": {},
     "output_type": "execute_result"
    }
   ],
   "source": [
    "all_rounder_ranking"
   ]
  },
  {
   "cell_type": "markdown",
   "id": "eea9d19b",
   "metadata": {},
   "source": [
    "# Question-7 "
   ]
  },
  {
   "cell_type": "code",
   "execution_count": 730,
   "id": "dc68e3dc",
   "metadata": {},
   "outputs": [],
   "source": [
    "url7='https://www.cnbc.com/world/?region=world'\n",
    "response7=requests.get(url7)"
   ]
  },
  {
   "cell_type": "code",
   "execution_count": 737,
   "id": "9050c0a6",
   "metadata": {},
   "outputs": [
    {
     "data": {
      "text/plain": [
       "[<div class=\"LatestNews-headlineWrapper\"><span class=\"LatestNews-wrapper\"><time class=\"LatestNews-timestamp\">21 Min Ago</time></span><a class=\"LatestNews-headline\" href=\"https://www.cnbc.com/2022/06/30/stocks-making-the-biggest-moves-premarket-walgreens-constellation-brands-rh-and-others.html\" title=\"Stocks making the biggest moves premarket: Walgreens, Constellation Brands, RH and others\">Stocks making the biggest moves premarket: Walgreens, Constellation Brands, RH and others</a></div>,\n",
       " <div class=\"LatestNews-headlineWrapper\"><span class=\"LatestNews-wrapper\"><time class=\"LatestNews-timestamp\">25 Min Ago</time></span><a class=\"LatestNews-headline\" href=\"https://www.cnbc.com/2022/06/30/5-things-to-know-before-the-stock-market-opens-thursday-june-30.html\" title=\"5 things to know before the stock market opens Thursday\">5 things to know before the stock market opens Thursday</a></div>,\n",
       " <div class=\"LatestNews-headlineWrapper\"><span class=\"LatestNews-wrapper\"><time class=\"LatestNews-timestamp\">1 Hour Ago</time></span><a class=\"ProPill-proPillLink\" data-type=\"pro-button\" href=\"/pro/\"><img alt=\"CNBC Pro\" class=\"LatestNews-proPill ProPill-proPill\" src=\"data:image/svg+xml;base64,PHN2ZyB3aWR0aD0iMzMiIGhlaWdodD0iMTYiIHZpZXdCb3g9IjAgMCAzMyAxNiIgZmlsbD0ibm9uZSIgeG1sbnM9Imh0dHA6Ly93d3cudzMub3JnLzIwMDAvc3ZnIj4KPHBhdGggZD0iTTAgNEMwIDEuNzkwODYgMS43OTA4NiAwIDQgMEgyOUMzMS4yMDkxIDAgMzMgMS43OTA4NiAzMyA0VjEyQzMzIDE0LjIwOTEgMzEuMjA5MSAxNiAyOSAxNkg0QzEuNzkwODYgMTYgMCAxNC4yMDkxIDAgMTJWNFoiIGZpbGw9IiMwMEE4NTciLz4KPHBhdGggZD0iTTQgMTEuOTk2SDYuMDY0VjkuMjg0SDguMDA4QzkuODA4IDkuMjg0IDEwLjc5MiA4LjA5NiAxMC43OTIgNi42NTZDMTAuNzkyIDUuMjA0IDkuODA4IDMuOTkyIDguMDA4IDMuOTkySDRWMTEuOTk2Wk04LjY5MiA2LjY0NEM4LjY5MiA3LjE4NCA4LjI4NCA3LjUzMiA3LjczMiA3LjUzMkg2LjA2NFY1LjczMkg3LjczMkM4LjI4NCA1LjczMiA4LjY5MiA2LjA5MiA4LjY5MiA2LjY0NFoiIGZpbGw9IndoaXRlIi8+CjxwYXRoIGQ9Ik0xNi42NTQ5IDExLjk5NkgxOS4wMTg5TDE3LjM4NjkgOS4wNTZDMTguMTMwOSA4Ljc5MiAxOC45ODI5IDguMDQ4IDE4Ljk4MjkgNi42NTZDMTguOTgyOSA1LjE2OCAxNy45NzQ5IDMuOTkyIDE2LjE5ODkgMy45OTJIMTIuMTkwOVYxMS45OTZIMTQuMjU0OVY5LjI4NEgxNS4zMTA5TDE2LjY1NDkgMTEuOTk2Wk0xNi44ODI5IDYuNjMyQzE2Ljg4MjkgNy4xODQgMTYuNDI2OSA3LjUzMiAxNS44ODY5IDcuNTMySDE0LjI1NDlWNS43MzJIMTUuODg2OUMxNi40MjY5IDUuNzMyIDE2Ljg4MjkgNi4wOCAxNi44ODI5IDYuNjMyWiIgZmlsbD0id2hpdGUiLz4KPHBhdGggZD0iTTIwLjE5NjUgOEMyMC4xOTY1IDEwLjQzNiAyMi4wMzI1IDEyLjE0IDI0LjQ4MDUgMTIuMTRDMjYuOTI4NSAxMi4xNCAyOC43NTI1IDEwLjQzNiAyOC43NTI1IDhDMjguNzUyNSA1LjU2NCAyNi45Mjg1IDMuODYgMjQuNDgwNSAzLjg2QzIyLjAzMjUgMy44NiAyMC4xOTY1IDUuNTY0IDIwLjE5NjUgOFpNMjYuNjUyNSA4QzI2LjY1MjUgOS4yOTYgMjUuODAwNSAxMC4zMTYgMjQuNDgwNSAxMC4zMTZDMjMuMTQ4NSAxMC4zMTYgMjIuMjk2NSA5LjI5NiAyMi4yOTY1IDhDMjIuMjk2NSA2LjY5MiAyMy4xNDg1IDUuNjg0IDI0LjQ4MDUgNS42ODRDMjUuODAwNSA1LjY4NCAyNi42NTI1IDYuNjkyIDI2LjY1MjUgOFoiIGZpbGw9IndoaXRlIi8+Cjwvc3ZnPgo=\"/></a><a class=\"LatestNews-headline\" href=\"https://www.cnbc.com/2022/06/30/bath-and-body-works-can-more-than-double-after-falling-60percent-piper-sandler-says.html\" title=\"Bath and Body Works can more than double after falling 60%, Piper Sandler says\">Bath and Body Works can more than double after falling 60%, Piper Sandler says</a></div>,\n",
       " <div class=\"LatestNews-headlineWrapper\"><span class=\"LatestNews-wrapper\"><time class=\"LatestNews-timestamp\">1 Hour Ago</time></span><a class=\"LatestNews-headline\" href=\"https://www.cnbc.com/2022/06/30/walgreens-wba-q3-2022-earnings-.html\" title=\"Walgreens beats sales expectations as retail growth helps offset steep drop in Covid vaccines\">Walgreens beats sales expectations as retail growth helps offset steep drop in Covid vaccines</a></div>,\n",
       " <div class=\"LatestNews-headlineWrapper\"><span class=\"LatestNews-wrapper\"><time class=\"LatestNews-timestamp\">1 Hour Ago</time></span><a class=\"LatestNews-headline\" href=\"https://www.cnbc.com/2022/06/30/inflation-is-dampening-july-4-fun-how-to-save-on-a-holiday-barbecue.html\" title=\"Inflation is making Fourth of July celebrations more expensive than ever \">Inflation is making Fourth of July celebrations more expensive than ever </a></div>,\n",
       " <div class=\"LatestNews-headlineWrapper\"><span class=\"LatestNews-wrapper\"><time class=\"LatestNews-timestamp\">1 Hour Ago</time></span><a class=\"LatestNews-headline\" href=\"https://www.cnbc.com/2022/06/30/imf-sri-lanka-bailout-talks-end-without-a-deal.html\" title=\"IMF-Sri Lanka bailout talks end without a deal\">IMF-Sri Lanka bailout talks end without a deal</a></div>,\n",
       " <div class=\"LatestNews-headlineWrapper\"><span class=\"LatestNews-wrapper\"><time class=\"LatestNews-timestamp\">2 Hours Ago</time></span><a class=\"ProPill-proPillLink\" data-type=\"pro-button\" href=\"/pro/\"><img alt=\"CNBC Pro\" class=\"LatestNews-proPill ProPill-proPill\" src=\"data:image/svg+xml;base64,PHN2ZyB3aWR0aD0iMzMiIGhlaWdodD0iMTYiIHZpZXdCb3g9IjAgMCAzMyAxNiIgZmlsbD0ibm9uZSIgeG1sbnM9Imh0dHA6Ly93d3cudzMub3JnLzIwMDAvc3ZnIj4KPHBhdGggZD0iTTAgNEMwIDEuNzkwODYgMS43OTA4NiAwIDQgMEgyOUMzMS4yMDkxIDAgMzMgMS43OTA4NiAzMyA0VjEyQzMzIDE0LjIwOTEgMzEuMjA5MSAxNiAyOSAxNkg0QzEuNzkwODYgMTYgMCAxNC4yMDkxIDAgMTJWNFoiIGZpbGw9IiMwMEE4NTciLz4KPHBhdGggZD0iTTQgMTEuOTk2SDYuMDY0VjkuMjg0SDguMDA4QzkuODA4IDkuMjg0IDEwLjc5MiA4LjA5NiAxMC43OTIgNi42NTZDMTAuNzkyIDUuMjA0IDkuODA4IDMuOTkyIDguMDA4IDMuOTkySDRWMTEuOTk2Wk04LjY5MiA2LjY0NEM4LjY5MiA3LjE4NCA4LjI4NCA3LjUzMiA3LjczMiA3LjUzMkg2LjA2NFY1LjczMkg3LjczMkM4LjI4NCA1LjczMiA4LjY5MiA2LjA5MiA4LjY5MiA2LjY0NFoiIGZpbGw9IndoaXRlIi8+CjxwYXRoIGQ9Ik0xNi42NTQ5IDExLjk5NkgxOS4wMTg5TDE3LjM4NjkgOS4wNTZDMTguMTMwOSA4Ljc5MiAxOC45ODI5IDguMDQ4IDE4Ljk4MjkgNi42NTZDMTguOTgyOSA1LjE2OCAxNy45NzQ5IDMuOTkyIDE2LjE5ODkgMy45OTJIMTIuMTkwOVYxMS45OTZIMTQuMjU0OVY5LjI4NEgxNS4zMTA5TDE2LjY1NDkgMTEuOTk2Wk0xNi44ODI5IDYuNjMyQzE2Ljg4MjkgNy4xODQgMTYuNDI2OSA3LjUzMiAxNS44ODY5IDcuNTMySDE0LjI1NDlWNS43MzJIMTUuODg2OUMxNi40MjY5IDUuNzMyIDE2Ljg4MjkgNi4wOCAxNi44ODI5IDYuNjMyWiIgZmlsbD0id2hpdGUiLz4KPHBhdGggZD0iTTIwLjE5NjUgOEMyMC4xOTY1IDEwLjQzNiAyMi4wMzI1IDEyLjE0IDI0LjQ4MDUgMTIuMTRDMjYuOTI4NSAxMi4xNCAyOC43NTI1IDEwLjQzNiAyOC43NTI1IDhDMjguNzUyNSA1LjU2NCAyNi45Mjg1IDMuODYgMjQuNDgwNSAzLjg2QzIyLjAzMjUgMy44NiAyMC4xOTY1IDUuNTY0IDIwLjE5NjUgOFpNMjYuNjUyNSA4QzI2LjY1MjUgOS4yOTYgMjUuODAwNSAxMC4zMTYgMjQuNDgwNSAxMC4zMTZDMjMuMTQ4NSAxMC4zMTYgMjIuMjk2NSA5LjI5NiAyMi4yOTY1IDhDMjIuMjk2NSA2LjY5MiAyMy4xNDg1IDUuNjg0IDI0LjQ4MDUgNS42ODRDMjUuODAwNSA1LjY4NCAyNi42NTI1IDYuNjkyIDI2LjY1MjUgOFoiIGZpbGw9IndoaXRlIi8+Cjwvc3ZnPgo=\"/></a><a class=\"LatestNews-headline\" href=\"https://www.cnbc.com/2022/06/30/nio-can-rebound-in-the-second-half-on-a-strong-product-pipeline-morgan-stanley-says.html\" title=\"Nio can rebound in second half on a strong product pipeline, Morgan Stanley says\">Nio can rebound in second half on a strong product pipeline, Morgan Stanley says</a></div>,\n",
       " <div class=\"LatestNews-headlineWrapper\"><span class=\"LatestNews-wrapper\"><time class=\"LatestNews-timestamp\">2 Hours Ago</time></span><a class=\"LatestNews-headline\" href=\"https://www.cnbc.com/2022/06/30/bitcoin-falls-below-19000-again-as-pressure-mounts-on-crypto-firms.html\" title=\"Bitcoin falls below $19,000 again as pressure mounts on crypto firms\">Bitcoin falls below $19,000 again as pressure mounts on crypto firms</a></div>,\n",
       " <div class=\"LatestNews-headlineWrapper\"><span class=\"LatestNews-wrapper\"><time class=\"LatestNews-timestamp\">2 Hours Ago</time></span><a class=\"ProPill-proPillLink\" data-type=\"pro-button\" href=\"/pro/\"><img alt=\"CNBC Pro\" class=\"LatestNews-proPill ProPill-proPill\" src=\"data:image/svg+xml;base64,PHN2ZyB3aWR0aD0iMzMiIGhlaWdodD0iMTYiIHZpZXdCb3g9IjAgMCAzMyAxNiIgZmlsbD0ibm9uZSIgeG1sbnM9Imh0dHA6Ly93d3cudzMub3JnLzIwMDAvc3ZnIj4KPHBhdGggZD0iTTAgNEMwIDEuNzkwODYgMS43OTA4NiAwIDQgMEgyOUMzMS4yMDkxIDAgMzMgMS43OTA4NiAzMyA0VjEyQzMzIDE0LjIwOTEgMzEuMjA5MSAxNiAyOSAxNkg0QzEuNzkwODYgMTYgMCAxNC4yMDkxIDAgMTJWNFoiIGZpbGw9IiMwMEE4NTciLz4KPHBhdGggZD0iTTQgMTEuOTk2SDYuMDY0VjkuMjg0SDguMDA4QzkuODA4IDkuMjg0IDEwLjc5MiA4LjA5NiAxMC43OTIgNi42NTZDMTAuNzkyIDUuMjA0IDkuODA4IDMuOTkyIDguMDA4IDMuOTkySDRWMTEuOTk2Wk04LjY5MiA2LjY0NEM4LjY5MiA3LjE4NCA4LjI4NCA3LjUzMiA3LjczMiA3LjUzMkg2LjA2NFY1LjczMkg3LjczMkM4LjI4NCA1LjczMiA4LjY5MiA2LjA5MiA4LjY5MiA2LjY0NFoiIGZpbGw9IndoaXRlIi8+CjxwYXRoIGQ9Ik0xNi42NTQ5IDExLjk5NkgxOS4wMTg5TDE3LjM4NjkgOS4wNTZDMTguMTMwOSA4Ljc5MiAxOC45ODI5IDguMDQ4IDE4Ljk4MjkgNi42NTZDMTguOTgyOSA1LjE2OCAxNy45NzQ5IDMuOTkyIDE2LjE5ODkgMy45OTJIMTIuMTkwOVYxMS45OTZIMTQuMjU0OVY5LjI4NEgxNS4zMTA5TDE2LjY1NDkgMTEuOTk2Wk0xNi44ODI5IDYuNjMyQzE2Ljg4MjkgNy4xODQgMTYuNDI2OSA3LjUzMiAxNS44ODY5IDcuNTMySDE0LjI1NDlWNS43MzJIMTUuODg2OUMxNi40MjY5IDUuNzMyIDE2Ljg4MjkgNi4wOCAxNi44ODI5IDYuNjMyWiIgZmlsbD0id2hpdGUiLz4KPHBhdGggZD0iTTIwLjE5NjUgOEMyMC4xOTY1IDEwLjQzNiAyMi4wMzI1IDEyLjE0IDI0LjQ4MDUgMTIuMTRDMjYuOTI4NSAxMi4xNCAyOC43NTI1IDEwLjQzNiAyOC43NTI1IDhDMjguNzUyNSA1LjU2NCAyNi45Mjg1IDMuODYgMjQuNDgwNSAzLjg2QzIyLjAzMjUgMy44NiAyMC4xOTY1IDUuNTY0IDIwLjE5NjUgOFpNMjYuNjUyNSA4QzI2LjY1MjUgOS4yOTYgMjUuODAwNSAxMC4zMTYgMjQuNDgwNSAxMC4zMTZDMjMuMTQ4NSAxMC4zMTYgMjIuMjk2NSA5LjI5NiAyMi4yOTY1IDhDMjIuMjk2NSA2LjY5MiAyMy4xNDg1IDUuNjg0IDI0LjQ4MDUgNS42ODRDMjUuODAwNSA1LjY4NCAyNi42NTI1IDYuNjkyIDI2LjY1MjUgOFoiIGZpbGw9IndoaXRlIi8+Cjwvc3ZnPgo=\"/></a><a class=\"LatestNews-headline\" href=\"https://www.cnbc.com/2022/06/30/buy-the-warner-bros-discovery-dip-as-shares-can-nearly-double-from-here-benchmark-says.html\" title=\"Buy the Warner Bros. Discovery dip as shares can nearly double, Benchmark says\">Buy the Warner Bros. Discovery dip as shares can nearly double, Benchmark says</a></div>,\n",
       " <div class=\"LatestNews-headlineWrapper\"><span class=\"LatestNews-wrapper\"><time class=\"LatestNews-timestamp\">3 Hours Ago</time></span><a class=\"LatestNews-headline\" href=\"https://www.cnbc.com/2022/06/30/north-korea-likely-behind-100-million-horizon-crypto-hack-experts.html\" title=\"North Korea is likely culprit behind $100 million crypto heist, researchers say\">North Korea is likely culprit behind $100 million crypto heist, researchers say</a></div>,\n",
       " <div class=\"LatestNews-headlineWrapper\"><span class=\"LatestNews-wrapper\"><time class=\"LatestNews-timestamp\">4 Hours Ago</time></span><a class=\"LatestNews-headline\" href=\"https://www.cnbc.com/2022/06/30/oil-major-totalenergies-to-provide-fuel-discount-at-highway-stations.html\" title=\"French oil major ramps up discount on gasoline prices for millions of motorists\">French oil major ramps up discount on gasoline prices for millions of motorists</a></div>,\n",
       " <div class=\"LatestNews-headlineWrapper\"><span class=\"LatestNews-wrapper\"><time class=\"LatestNews-timestamp\">4 Hours Ago</time></span><a class=\"LatestNews-headline\" href=\"https://www.cnbc.com/2022/06/30/chinas-xi-arrives-in-hong-kong-in-first-trip-off-mainland-since-pandemic.html\" title=\"China's Xi arrives in Hong Kong in his first trip off the mainland since the onset of the pandemic\">China's Xi arrives in Hong Kong in his first trip off the mainland since the onset of the pandemic</a></div>,\n",
       " <div class=\"LatestNews-headlineWrapper\"><span class=\"LatestNews-wrapper\"><time class=\"LatestNews-timestamp\">5 Hours Ago</time></span><a class=\"LatestNews-headline\" href=\"https://www.cnbc.com/2022/06/30/us-bonds-treasury-yields-in-focus-amid-economic-data-auctions.html\" title=\"Treasury yields nudge lower as market participants track economic data\">Treasury yields nudge lower as market participants track economic data</a></div>,\n",
       " <div class=\"LatestNews-headlineWrapper\"><span class=\"LatestNews-wrapper\"><time class=\"LatestNews-timestamp\">6 Hours Ago</time></span><a class=\"LatestNews-headline\" href=\"https://www.cnbc.com/2022/06/30/singapores-unemployment-close-to-pre-covid-levels-says-minister.html\" title=\"Singapore’s unemployment has dropped close to pre-Covid levels, minister says\">Singapore’s unemployment has dropped close to pre-Covid levels, minister says</a></div>,\n",
       " <div class=\"LatestNews-headlineWrapper\"><span class=\"LatestNews-wrapper\"><time class=\"LatestNews-timestamp\">6 Hours Ago</time></span><img alt=\"watch live\" class=\"LatestNews-watchLivePill LivePill-watchLivePill\" src=\"data:image/svg+xml;base64,PHN2ZyB3aWR0aD0iNDciIGhlaWdodD0iMTYiIHZpZXdCb3g9IjAgMCA0NyAxNiIgZmlsbD0ibm9uZSIgeG1sbnM9Imh0dHA6Ly93d3cudzMub3JnLzIwMDAvc3ZnIj4KPHBhdGggZD0iTTAgNEMwIDEuNzkwODYgMS43OTA4NiAwIDQgMEg0M0M0NS4yMDkxIDAgNDcgMS43OTA4NiA0NyA0VjEyQzQ3IDE0LjIwOTEgNDUuMjA5MSAxNiA0MyAxNkg0QzEuNzkwODYgMTYgMCAxNC4yMDkxIDAgMTJWNFoiIGZpbGw9IiNGRjUwNTMiLz4KPHBhdGggZmlsbC1ydWxlPSJldmVub2RkIiBjbGlwLXJ1bGU9ImV2ZW5vZGQiIGQ9Ik04Ljk5OTczIDEwLjMxOTJDMTAuMjgwNSAxMC4zMTkyIDExLjMxODggOS4yODEwMyAxMS4zMTg4IDguMDAwNDFDMTEuMzE4OCA2LjcxOTc5IDEwLjI4MDUgNS42ODE2NCA4Ljk5OTczIDUuNjgxNjRDNy43MTg5NCA1LjY4MTY0IDYuNjgwNjYgNi43MTk3OSA2LjY4MDY2IDguMDAwNDFDNi42ODA2NiA5LjI4MTAzIDcuNzE4OTQgMTAuMzE5MiA4Ljk5OTczIDEwLjMxOTJaIiBmaWxsPSJ3aGl0ZSIvPgo8cGF0aCBmaWxsLXJ1bGU9ImV2ZW5vZGQiIGNsaXAtcnVsZT0iZXZlbm9kZCIgZD0iTTQgOEM0IDEwLjc2MTYgNi4yMzg3MiAxMyA5IDEzQzExLjc2MTMgMTMgMTQgMTAuNzYxNiAxNCA4QzE0IDUuMjM4NDMgMTEuNzYxMyAzIDkgM0M2LjIzODcyIDMgNCA1LjIzODQzIDQgOFpNMTMuMjc2NiA3Ljk5OTY5QzEzLjI3NjYgMTAuMzYwNiAxMS4zNjIyIDEyLjI3NDggOS4wMDAzNyAxMi4yNzQ4QzYuNjM4NTIgMTIuMjc0OCA0LjcyNDEyIDEwLjM2MDYgNC43MjQxMiA3Ljk5OTY5QzQuNzI0MTIgNS42Mzg3NyA2LjYzODUyIDMuNzI0NjEgOS4wMDAzNyAzLjcyNDYxQzExLjM2MjIgMy43MjQ2MSAxMy4yNzY2IDUuNjM4NzcgMTMuMjc2NiA3Ljk5OTY5WiIgZmlsbD0id2hpdGUiLz4KPHBhdGggZD0iTTE3LjQ2OTIgMTIuMDAySDIyLjc0OTJWMTAuMjAySDE5LjUzMzJWMy45OThIMTcuNDY5MlYxMi4wMDJaIiBmaWxsPSJ3aGl0ZSIvPgo8cGF0aCBkPSJNMjQuMzAwOCAxMi4wMDJIMjYuMzY0OFYzLjk5OEgyNC4zMDA4VjEyLjAwMloiIGZpbGw9IndoaXRlIi8+CjxwYXRoIGQ9Ik0zMC40NDQ3IDEyLjAwMkgzMy4wMzY3TDM2LjA2MDcgMy45OThIMzMuNzIwN0wzMS43NDA3IDkuNzdMMjkuNzcyNyAzLjk5OEgyNy40MzI3TDMwLjQ0NDcgMTIuMDAyWiIgZmlsbD0id2hpdGUiLz4KPHBhdGggZD0iTTM3LjEzMTkgMTIuMDAySDQyLjk5OTlWMTAuMjYySDM5LjE5NTlWOC44MjJINDIuOTE1OVY3LjA3SDM5LjE5NTlWNS43MzhINDIuOTk5OVYzLjk5OEgzNy4xMzE5VjEyLjAwMloiIGZpbGw9IndoaXRlIi8+Cjwvc3ZnPgo=\"/><a class=\"LatestNews-headline\" href=\"https://www.cnbc.com/2022/06/30/russia-ukraine-live-updates.html\" title=\"'Everything was going fine between us' Putin says of NATO expansion; Russian forces withdraw from Snake Island\">'Everything was going fine between us' Putin says of NATO expansion; Russian forces withdraw from Snake Island</a></div>,\n",
       " <div class=\"LatestNews-headlineWrapper\"><span class=\"LatestNews-wrapper\"><time class=\"LatestNews-timestamp\">7 Hours Ago</time></span><a class=\"LatestNews-headline\" href=\"https://www.cnbc.com/2022/06/30/pboc-chinese-plans-to-save-hit-a-record-high-in-q2-job-concerns-rise.html\" title=\"In China, more and more people want to save money as job worries grow\">In China, more and more people want to save money as job worries grow</a></div>,\n",
       " <div class=\"LatestNews-headlineWrapper\"><span class=\"LatestNews-wrapper\"><time class=\"LatestNews-timestamp\">7 Hours Ago</time></span><a class=\"LatestNews-headline\" href=\"https://www.cnbc.com/2022/06/30/coinbase-seeks-europe-licenses-in-bid-to-expand-growth-outside-us.html\" title=\"Coinbase seeks licenses in Europe as it looks to ramp up growth outside the U.S.\">Coinbase seeks licenses in Europe as it looks to ramp up growth outside the U.S.</a></div>,\n",
       " <div class=\"LatestNews-headlineWrapper\"><span class=\"LatestNews-wrapper\"><time class=\"LatestNews-timestamp\">7 Hours Ago</time></span><a class=\"LatestNews-headline\" href=\"https://www.cnbc.com/2022/06/30/heres-whats-hot-and-whats-not-in-fintech-right-now.html\" title=\"Here's what's hot — and what's not — in fintech right now\">Here's what's hot — and what's not — in fintech right now</a></div>,\n",
       " <div class=\"LatestNews-headlineWrapper\"><span class=\"LatestNews-wrapper\"><time class=\"LatestNews-timestamp\">8 Hours Ago</time></span><a class=\"LatestNews-headline\" href=\"https://www.cnbc.com/2022/06/30/european-markets-open-to-close-as-recession-concerns-persist.html\" title=\"Europe markets decline as recession concerns persist; Germany's Uniper down 14%\">Europe markets decline as recession concerns persist; Germany's Uniper down 14%</a></div>,\n",
       " <div class=\"LatestNews-headlineWrapper\"><span class=\"LatestNews-wrapper\"><time class=\"LatestNews-timestamp\">8 Hours Ago</time></span><a class=\"LatestNews-headline\" href=\"https://www.cnbc.com/2022/06/30/grayscale-sues-sec-after-rejected-bid-to-turn-bitcoin-fund-into-etf.html\" title=\"Grayscale sues SEC after rejection of bid to turn largest bitcoin fund into ETF\">Grayscale sues SEC after rejection of bid to turn largest bitcoin fund into ETF</a></div>,\n",
       " <div class=\"LatestNews-headlineWrapper\"><span class=\"LatestNews-wrapper\"><time class=\"LatestNews-timestamp\">11 Hours Ago</time></span><a class=\"LatestNews-headline\" href=\"https://www.cnbc.com/2022/06/30/china-snaps-up-russian-coal-at-deep-discounts-as-ukraine-war-continues.html\" title=\"China continues to snap up Russian coal at steep discounts\">China continues to snap up Russian coal at steep discounts</a></div>,\n",
       " <div class=\"LatestNews-headlineWrapper\"><span class=\"LatestNews-wrapper\"><time class=\"LatestNews-timestamp\">12 Hours Ago</time></span><a class=\"ProPill-proPillLink\" data-type=\"pro-button\" href=\"/pro/\"><img alt=\"CNBC Pro\" class=\"LatestNews-proPill ProPill-proPill\" src=\"data:image/svg+xml;base64,PHN2ZyB3aWR0aD0iMzMiIGhlaWdodD0iMTYiIHZpZXdCb3g9IjAgMCAzMyAxNiIgZmlsbD0ibm9uZSIgeG1sbnM9Imh0dHA6Ly93d3cudzMub3JnLzIwMDAvc3ZnIj4KPHBhdGggZD0iTTAgNEMwIDEuNzkwODYgMS43OTA4NiAwIDQgMEgyOUMzMS4yMDkxIDAgMzMgMS43OTA4NiAzMyA0VjEyQzMzIDE0LjIwOTEgMzEuMjA5MSAxNiAyOSAxNkg0QzEuNzkwODYgMTYgMCAxNC4yMDkxIDAgMTJWNFoiIGZpbGw9IiMwMEE4NTciLz4KPHBhdGggZD0iTTQgMTEuOTk2SDYuMDY0VjkuMjg0SDguMDA4QzkuODA4IDkuMjg0IDEwLjc5MiA4LjA5NiAxMC43OTIgNi42NTZDMTAuNzkyIDUuMjA0IDkuODA4IDMuOTkyIDguMDA4IDMuOTkySDRWMTEuOTk2Wk04LjY5MiA2LjY0NEM4LjY5MiA3LjE4NCA4LjI4NCA3LjUzMiA3LjczMiA3LjUzMkg2LjA2NFY1LjczMkg3LjczMkM4LjI4NCA1LjczMiA4LjY5MiA2LjA5MiA4LjY5MiA2LjY0NFoiIGZpbGw9IndoaXRlIi8+CjxwYXRoIGQ9Ik0xNi42NTQ5IDExLjk5NkgxOS4wMTg5TDE3LjM4NjkgOS4wNTZDMTguMTMwOSA4Ljc5MiAxOC45ODI5IDguMDQ4IDE4Ljk4MjkgNi42NTZDMTguOTgyOSA1LjE2OCAxNy45NzQ5IDMuOTkyIDE2LjE5ODkgMy45OTJIMTIuMTkwOVYxMS45OTZIMTQuMjU0OVY5LjI4NEgxNS4zMTA5TDE2LjY1NDkgMTEuOTk2Wk0xNi44ODI5IDYuNjMyQzE2Ljg4MjkgNy4xODQgMTYuNDI2OSA3LjUzMiAxNS44ODY5IDcuNTMySDE0LjI1NDlWNS43MzJIMTUuODg2OUMxNi40MjY5IDUuNzMyIDE2Ljg4MjkgNi4wOCAxNi44ODI5IDYuNjMyWiIgZmlsbD0id2hpdGUiLz4KPHBhdGggZD0iTTIwLjE5NjUgOEMyMC4xOTY1IDEwLjQzNiAyMi4wMzI1IDEyLjE0IDI0LjQ4MDUgMTIuMTRDMjYuOTI4NSAxMi4xNCAyOC43NTI1IDEwLjQzNiAyOC43NTI1IDhDMjguNzUyNSA1LjU2NCAyNi45Mjg1IDMuODYgMjQuNDgwNSAzLjg2QzIyLjAzMjUgMy44NiAyMC4xOTY1IDUuNTY0IDIwLjE5NjUgOFpNMjYuNjUyNSA4QzI2LjY1MjUgOS4yOTYgMjUuODAwNSAxMC4zMTYgMjQuNDgwNSAxMC4zMTZDMjMuMTQ4NSAxMC4zMTYgMjIuMjk2NSA5LjI5NiAyMi4yOTY1IDhDMjIuMjk2NSA2LjY5MiAyMy4xNDg1IDUuNjg0IDI0LjQ4MDUgNS42ODRDMjUuODAwNSA1LjY4NCAyNi42NTI1IDYuNjkyIDI2LjY1MjUgOFoiIGZpbGw9IndoaXRlIi8+Cjwvc3ZnPgo=\"/></a><a class=\"LatestNews-headline\" href=\"https://www.cnbc.com/2022/06/30/electric-vehicles-goldman-sachs-names-stocks-to-buy-to-tap-growth.html\" title=\"Goldman says buy these global stocks to play a $900 billion EV opportunity\">Goldman says buy these global stocks to play a $900 billion EV opportunity</a></div>,\n",
       " <div class=\"LatestNews-headlineWrapper\"><span class=\"LatestNews-wrapper\"><time class=\"LatestNews-timestamp\">12 Hours Ago</time></span><a class=\"LatestNews-headline\" href=\"https://www.cnbc.com/2022/06/30/asia-markets-china-pmi-data-stocks-currencies-oil.html\" title=\"China Shenzhen stocks rise as data shows factory activity grew; Asia stocks slip\">China Shenzhen stocks rise as data shows factory activity grew; Asia stocks slip</a></div>,\n",
       " <div class=\"LatestNews-headlineWrapper\"><span class=\"LatestNews-wrapper\"><time class=\"LatestNews-timestamp\">13 Hours Ago</time></span><a class=\"LatestNews-headline\" href=\"https://www.cnbc.com/2022/06/29/cramers-lightning-round-i-prefer-deere-over-nutrien-right-here.html\" title=\"Cramer's lightning round: I prefer Deere over Nutrien right here\">Cramer's lightning round: I prefer Deere over Nutrien right here</a></div>,\n",
       " <div class=\"LatestNews-headlineWrapper\"><span class=\"LatestNews-wrapper\"><time class=\"LatestNews-timestamp\">13 Hours Ago</time></span><a class=\"LatestNews-headline\" href=\"https://www.cnbc.com/2022/06/29/cramer-warns-investors-not-to-group-all-stocks-of-the-same-sector-together-no-two-stocks-are-truly-alike.html\" title=\"Cramer warns investors not to group all stocks of the same sector together \">Cramer warns investors not to group all stocks of the same sector together </a></div>,\n",
       " <div class=\"LatestNews-headlineWrapper\"><span class=\"LatestNews-wrapper\"><time class=\"LatestNews-timestamp\">13 Hours Ago</time></span><a class=\"LatestNews-headline\" href=\"https://www.cnbc.com/2022/06/29/cramer-charts-suggest-recent-commodities-boom-will-come-down-long-term.html\" title=\"Cramer: Charts suggest the recent commodities boom 'is not long for the world'\">Cramer: Charts suggest the recent commodities boom 'is not long for the world'</a></div>,\n",
       " <div class=\"LatestNews-headlineWrapper\"><span class=\"LatestNews-wrapper\"><time class=\"LatestNews-timestamp\">13 Hours Ago</time></span><a class=\"LatestNews-headline\" href=\"https://www.cnbc.com/2022/06/29/palantir-ceo-karp-on-fighting-with-peter-thiel-and-progressives.html\" title=\"Palantir CEO Alex Karp on fighting with Peter Thiel and progressives \">Palantir CEO Alex Karp on fighting with Peter Thiel and progressives </a></div>,\n",
       " <div class=\"LatestNews-headlineWrapper\"><span class=\"LatestNews-wrapper\"><time class=\"LatestNews-timestamp\">13 Hours Ago</time></span><a class=\"LatestNews-headline\" href=\"https://www.cnbc.com/2022/06/29/spirit-airlines-delays-shareholder-vote-on-frontier-deal-to-july-8.html\" title=\"Spirit delays merger shareholder vote before meeting to continue deal talks \">Spirit delays merger shareholder vote before meeting to continue deal talks </a></div>,\n",
       " <div class=\"LatestNews-headlineWrapper\"><span class=\"LatestNews-wrapper\"><time class=\"LatestNews-timestamp\">13 Hours Ago</time></span><a class=\"LatestNews-headline\" href=\"https://www.cnbc.com/2022/06/29/pinterest-improving-boards-to-help-people-take-more-action-ceo-says.html\" title=\"Pinterest improving boards to help people ‘take more action,' new CEO Ready says\">Pinterest improving boards to help people ‘take more action,' new CEO Ready says</a></div>,\n",
       " <div class=\"LatestNews-headlineWrapper\"><span class=\"LatestNews-wrapper\"><time class=\"LatestNews-timestamp\">14 Hours Ago</time></span><a class=\"ProPill-proPillLink\" data-type=\"pro-button\" href=\"/pro/\"><img alt=\"CNBC Pro\" class=\"LatestNews-proPill ProPill-proPill\" src=\"data:image/svg+xml;base64,PHN2ZyB3aWR0aD0iMzMiIGhlaWdodD0iMTYiIHZpZXdCb3g9IjAgMCAzMyAxNiIgZmlsbD0ibm9uZSIgeG1sbnM9Imh0dHA6Ly93d3cudzMub3JnLzIwMDAvc3ZnIj4KPHBhdGggZD0iTTAgNEMwIDEuNzkwODYgMS43OTA4NiAwIDQgMEgyOUMzMS4yMDkxIDAgMzMgMS43OTA4NiAzMyA0VjEyQzMzIDE0LjIwOTEgMzEuMjA5MSAxNiAyOSAxNkg0QzEuNzkwODYgMTYgMCAxNC4yMDkxIDAgMTJWNFoiIGZpbGw9IiMwMEE4NTciLz4KPHBhdGggZD0iTTQgMTEuOTk2SDYuMDY0VjkuMjg0SDguMDA4QzkuODA4IDkuMjg0IDEwLjc5MiA4LjA5NiAxMC43OTIgNi42NTZDMTAuNzkyIDUuMjA0IDkuODA4IDMuOTkyIDguMDA4IDMuOTkySDRWMTEuOTk2Wk04LjY5MiA2LjY0NEM4LjY5MiA3LjE4NCA4LjI4NCA3LjUzMiA3LjczMiA3LjUzMkg2LjA2NFY1LjczMkg3LjczMkM4LjI4NCA1LjczMiA4LjY5MiA2LjA5MiA4LjY5MiA2LjY0NFoiIGZpbGw9IndoaXRlIi8+CjxwYXRoIGQ9Ik0xNi42NTQ5IDExLjk5NkgxOS4wMTg5TDE3LjM4NjkgOS4wNTZDMTguMTMwOSA4Ljc5MiAxOC45ODI5IDguMDQ4IDE4Ljk4MjkgNi42NTZDMTguOTgyOSA1LjE2OCAxNy45NzQ5IDMuOTkyIDE2LjE5ODkgMy45OTJIMTIuMTkwOVYxMS45OTZIMTQuMjU0OVY5LjI4NEgxNS4zMTA5TDE2LjY1NDkgMTEuOTk2Wk0xNi44ODI5IDYuNjMyQzE2Ljg4MjkgNy4xODQgMTYuNDI2OSA3LjUzMiAxNS44ODY5IDcuNTMySDE0LjI1NDlWNS43MzJIMTUuODg2OUMxNi40MjY5IDUuNzMyIDE2Ljg4MjkgNi4wOCAxNi44ODI5IDYuNjMyWiIgZmlsbD0id2hpdGUiLz4KPHBhdGggZD0iTTIwLjE5NjUgOEMyMC4xOTY1IDEwLjQzNiAyMi4wMzI1IDEyLjE0IDI0LjQ4MDUgMTIuMTRDMjYuOTI4NSAxMi4xNCAyOC43NTI1IDEwLjQzNiAyOC43NTI1IDhDMjguNzUyNSA1LjU2NCAyNi45Mjg1IDMuODYgMjQuNDgwNSAzLjg2QzIyLjAzMjUgMy44NiAyMC4xOTY1IDUuNTY0IDIwLjE5NjUgOFpNMjYuNjUyNSA4QzI2LjY1MjUgOS4yOTYgMjUuODAwNSAxMC4zMTYgMjQuNDgwNSAxMC4zMTZDMjMuMTQ4NSAxMC4zMTYgMjIuMjk2NSA5LjI5NiAyMi4yOTY1IDhDMjIuMjk2NSA2LjY5MiAyMy4xNDg1IDUuNjg0IDI0LjQ4MDUgNS42ODRDMjUuODAwNSA1LjY4NCAyNi42NTI1IDYuNjkyIDI2LjY1MjUgOFoiIGZpbGw9IndoaXRlIi8+Cjwvc3ZnPgo=\"/></a><a class=\"LatestNews-headline\" href=\"https://www.cnbc.com/2022/06/29/best-trades-on-cnbc-wednesday-pros-load-up-on-megacap-tech.html\" title=\"Best trades on CNBC Wednesday: Find bargains among megacap tech stocks\">Best trades on CNBC Wednesday: Find bargains among megacap tech stocks</a></div>]"
      ]
     },
     "execution_count": 737,
     "metadata": {},
     "output_type": "execute_result"
    }
   ],
   "source": [
    "soup7=BeautifulSoup(response7.content,'html.parser')\n",
    "\n",
    "news=soup7.findAll('div',class_='LatestNews-headlineWrapper')\n"
   ]
  },
  {
   "cell_type": "code",
   "execution_count": 739,
   "id": "3bec5a75",
   "metadata": {},
   "outputs": [],
   "source": [
    "head_name=[]\n",
    "time=[]\n",
    "links_main=[]\n",
    "\n",
    "\n"
   ]
  },
  {
   "cell_type": "code",
   "execution_count": 740,
   "id": "670e3ae1",
   "metadata": {},
   "outputs": [
    {
     "data": {
      "text/plain": [
       "'Best trades on CNBC Wednesday: Find bargains among megacap tech stocks'"
      ]
     },
     "execution_count": 740,
     "metadata": {},
     "output_type": "execute_result"
    }
   ],
   "source": [
    "for store in news:\n",
    "    h=store.find('a',class_='LatestNews-headline').text\n",
    "    head_name.append(h)\n",
    "    \n",
    "    fg=store.find('time',class_='LatestNews-timestamp').text\n",
    "    time.append(fg)\n",
    "    \n",
    "h\n",
    "    \n",
    "     "
   ]
  },
  {
   "cell_type": "code",
   "execution_count": 810,
   "id": "4b9c2704",
   "metadata": {},
   "outputs": [],
   "source": [
    "soup7=BeautifulSoup(response7.text,'html.parser')\n",
    "\n",
    "\n"
   ]
  },
  {
   "cell_type": "code",
   "execution_count": 759,
   "id": "e8f7ae2a",
   "metadata": {},
   "outputs": [
    {
     "data": {
      "text/plain": [
       "[<a class=\"LatestNews-headline\" href=\"https://www.cnbc.com/2022/06/30/stocks-making-the-biggest-moves-premarket-walgreens-constellation-brands-rh-and-others.html\" title=\"Stocks making the biggest moves premarket: Walgreens, Constellation Brands, RH and others\">Stocks making the biggest moves premarket: Walgreens, Constellation Brands, RH and others</a>,\n",
       " <a class=\"LatestNews-headline\" href=\"https://www.cnbc.com/2022/06/30/5-things-to-know-before-the-stock-market-opens-thursday-june-30.html\" title=\"5 things to know before the stock market opens Thursday\">5 things to know before the stock market opens Thursday</a>,\n",
       " <a class=\"LatestNews-headline\" href=\"https://www.cnbc.com/2022/06/30/bath-and-body-works-can-more-than-double-after-falling-60percent-piper-sandler-says.html\" title=\"Bath and Body Works can more than double after falling 60%, Piper Sandler says\">Bath and Body Works can more than double after falling 60%, Piper Sandler says</a>,\n",
       " <a class=\"LatestNews-headline\" href=\"https://www.cnbc.com/2022/06/30/walgreens-wba-q3-2022-earnings-.html\" title=\"Walgreens beats sales expectations as retail growth helps offset steep drop in Covid vaccines\">Walgreens beats sales expectations as retail growth helps offset steep drop in Covid vaccines</a>,\n",
       " <a class=\"LatestNews-headline\" href=\"https://www.cnbc.com/2022/06/30/inflation-is-dampening-july-4-fun-how-to-save-on-a-holiday-barbecue.html\" title=\"Inflation is making Fourth of July celebrations more expensive than ever \">Inflation is making Fourth of July celebrations more expensive than ever </a>,\n",
       " <a class=\"LatestNews-headline\" href=\"https://www.cnbc.com/2022/06/30/imf-sri-lanka-bailout-talks-end-without-a-deal.html\" title=\"IMF-Sri Lanka bailout talks end without a deal\">IMF-Sri Lanka bailout talks end without a deal</a>,\n",
       " <a class=\"LatestNews-headline\" href=\"https://www.cnbc.com/2022/06/30/nio-can-rebound-in-the-second-half-on-a-strong-product-pipeline-morgan-stanley-says.html\" title=\"Nio can rebound in second half on a strong product pipeline, Morgan Stanley says\">Nio can rebound in second half on a strong product pipeline, Morgan Stanley says</a>,\n",
       " <a class=\"LatestNews-headline\" href=\"https://www.cnbc.com/2022/06/30/bitcoin-falls-below-19000-again-as-pressure-mounts-on-crypto-firms.html\" title=\"Bitcoin falls below $19,000 again as pressure mounts on crypto firms\">Bitcoin falls below $19,000 again as pressure mounts on crypto firms</a>,\n",
       " <a class=\"LatestNews-headline\" href=\"https://www.cnbc.com/2022/06/30/buy-the-warner-bros-discovery-dip-as-shares-can-nearly-double-from-here-benchmark-says.html\" title=\"Buy the Warner Bros. Discovery dip as shares can nearly double, Benchmark says\">Buy the Warner Bros. Discovery dip as shares can nearly double, Benchmark says</a>,\n",
       " <a class=\"LatestNews-headline\" href=\"https://www.cnbc.com/2022/06/30/north-korea-likely-behind-100-million-horizon-crypto-hack-experts.html\" title=\"North Korea is likely culprit behind $100 million crypto heist, researchers say\">North Korea is likely culprit behind $100 million crypto heist, researchers say</a>,\n",
       " <a class=\"LatestNews-headline\" href=\"https://www.cnbc.com/2022/06/30/oil-major-totalenergies-to-provide-fuel-discount-at-highway-stations.html\" title=\"French oil major ramps up discount on gasoline prices for millions of motorists\">French oil major ramps up discount on gasoline prices for millions of motorists</a>,\n",
       " <a class=\"LatestNews-headline\" href=\"https://www.cnbc.com/2022/06/30/chinas-xi-arrives-in-hong-kong-in-first-trip-off-mainland-since-pandemic.html\" title=\"China's Xi arrives in Hong Kong in his first trip off the mainland since the onset of the pandemic\">China's Xi arrives in Hong Kong in his first trip off the mainland since the onset of the pandemic</a>,\n",
       " <a class=\"LatestNews-headline\" href=\"https://www.cnbc.com/2022/06/30/us-bonds-treasury-yields-in-focus-amid-economic-data-auctions.html\" title=\"Treasury yields nudge lower as market participants track economic data\">Treasury yields nudge lower as market participants track economic data</a>,\n",
       " <a class=\"LatestNews-headline\" href=\"https://www.cnbc.com/2022/06/30/singapores-unemployment-close-to-pre-covid-levels-says-minister.html\" title=\"Singapore’s unemployment has dropped close to pre-Covid levels, minister says\">Singapore’s unemployment has dropped close to pre-Covid levels, minister says</a>,\n",
       " <a class=\"LatestNews-headline\" href=\"https://www.cnbc.com/2022/06/30/russia-ukraine-live-updates.html\" title=\"'Everything was going fine between us' Putin says of NATO expansion; Russian forces withdraw from Snake Island\">'Everything was going fine between us' Putin says of NATO expansion; Russian forces withdraw from Snake Island</a>,\n",
       " <a class=\"LatestNews-headline\" href=\"https://www.cnbc.com/2022/06/30/pboc-chinese-plans-to-save-hit-a-record-high-in-q2-job-concerns-rise.html\" title=\"In China, more and more people want to save money as job worries grow\">In China, more and more people want to save money as job worries grow</a>,\n",
       " <a class=\"LatestNews-headline\" href=\"https://www.cnbc.com/2022/06/30/coinbase-seeks-europe-licenses-in-bid-to-expand-growth-outside-us.html\" title=\"Coinbase seeks licenses in Europe as it looks to ramp up growth outside the U.S.\">Coinbase seeks licenses in Europe as it looks to ramp up growth outside the U.S.</a>,\n",
       " <a class=\"LatestNews-headline\" href=\"https://www.cnbc.com/2022/06/30/heres-whats-hot-and-whats-not-in-fintech-right-now.html\" title=\"Here's what's hot — and what's not — in fintech right now\">Here's what's hot — and what's not — in fintech right now</a>,\n",
       " <a class=\"LatestNews-headline\" href=\"https://www.cnbc.com/2022/06/30/european-markets-open-to-close-as-recession-concerns-persist.html\" title=\"Europe markets decline as recession concerns persist; Germany's Uniper down 14%\">Europe markets decline as recession concerns persist; Germany's Uniper down 14%</a>,\n",
       " <a class=\"LatestNews-headline\" href=\"https://www.cnbc.com/2022/06/30/grayscale-sues-sec-after-rejected-bid-to-turn-bitcoin-fund-into-etf.html\" title=\"Grayscale sues SEC after rejection of bid to turn largest bitcoin fund into ETF\">Grayscale sues SEC after rejection of bid to turn largest bitcoin fund into ETF</a>,\n",
       " <a class=\"LatestNews-headline\" href=\"https://www.cnbc.com/2022/06/30/china-snaps-up-russian-coal-at-deep-discounts-as-ukraine-war-continues.html\" title=\"China continues to snap up Russian coal at steep discounts\">China continues to snap up Russian coal at steep discounts</a>,\n",
       " <a class=\"LatestNews-headline\" href=\"https://www.cnbc.com/2022/06/30/electric-vehicles-goldman-sachs-names-stocks-to-buy-to-tap-growth.html\" title=\"Goldman says buy these global stocks to play a $900 billion EV opportunity\">Goldman says buy these global stocks to play a $900 billion EV opportunity</a>,\n",
       " <a class=\"LatestNews-headline\" href=\"https://www.cnbc.com/2022/06/30/asia-markets-china-pmi-data-stocks-currencies-oil.html\" title=\"China Shenzhen stocks rise as data shows factory activity grew; Asia stocks slip\">China Shenzhen stocks rise as data shows factory activity grew; Asia stocks slip</a>,\n",
       " <a class=\"LatestNews-headline\" href=\"https://www.cnbc.com/2022/06/29/cramers-lightning-round-i-prefer-deere-over-nutrien-right-here.html\" title=\"Cramer's lightning round: I prefer Deere over Nutrien right here\">Cramer's lightning round: I prefer Deere over Nutrien right here</a>,\n",
       " <a class=\"LatestNews-headline\" href=\"https://www.cnbc.com/2022/06/29/cramer-warns-investors-not-to-group-all-stocks-of-the-same-sector-together-no-two-stocks-are-truly-alike.html\" title=\"Cramer warns investors not to group all stocks of the same sector together \">Cramer warns investors not to group all stocks of the same sector together </a>,\n",
       " <a class=\"LatestNews-headline\" href=\"https://www.cnbc.com/2022/06/29/cramer-charts-suggest-recent-commodities-boom-will-come-down-long-term.html\" title=\"Cramer: Charts suggest the recent commodities boom 'is not long for the world'\">Cramer: Charts suggest the recent commodities boom 'is not long for the world'</a>,\n",
       " <a class=\"LatestNews-headline\" href=\"https://www.cnbc.com/2022/06/29/palantir-ceo-karp-on-fighting-with-peter-thiel-and-progressives.html\" title=\"Palantir CEO Alex Karp on fighting with Peter Thiel and progressives \">Palantir CEO Alex Karp on fighting with Peter Thiel and progressives </a>,\n",
       " <a class=\"LatestNews-headline\" href=\"https://www.cnbc.com/2022/06/29/spirit-airlines-delays-shareholder-vote-on-frontier-deal-to-july-8.html\" title=\"Spirit delays merger shareholder vote before meeting to continue deal talks \">Spirit delays merger shareholder vote before meeting to continue deal talks </a>,\n",
       " <a class=\"LatestNews-headline\" href=\"https://www.cnbc.com/2022/06/29/pinterest-improving-boards-to-help-people-take-more-action-ceo-says.html\" title=\"Pinterest improving boards to help people ‘take more action,' new CEO Ready says\">Pinterest improving boards to help people ‘take more action,' new CEO Ready says</a>,\n",
       " <a class=\"LatestNews-headline\" href=\"https://www.cnbc.com/2022/06/29/best-trades-on-cnbc-wednesday-pros-load-up-on-megacap-tech.html\" title=\"Best trades on CNBC Wednesday: Find bargains among megacap tech stocks\">Best trades on CNBC Wednesday: Find bargains among megacap tech stocks</a>]"
      ]
     },
     "execution_count": 759,
     "metadata": {},
     "output_type": "execute_result"
    }
   ],
   "source": [
    "c=soup7.find_all('a',attrs={'class':\"LatestNews-headline\"})\n",
    "c\n",
    "    \n",
    "\n"
   ]
  },
  {
   "cell_type": "code",
   "execution_count": 768,
   "id": "4268c551",
   "metadata": {},
   "outputs": [
    {
     "data": {
      "text/plain": [
       "30"
      ]
     },
     "execution_count": 768,
     "metadata": {},
     "output_type": "execute_result"
    }
   ],
   "source": [
    "link7=[]\n",
    "for l in c:\n",
    "    link=l['href']\n",
    "    link7.append(link)\n",
    "len(link7)"
   ]
  },
  {
   "cell_type": "code",
   "execution_count": 769,
   "id": "25632340",
   "metadata": {},
   "outputs": [
    {
     "data": {
      "text/html": [
       "<div>\n",
       "<style scoped>\n",
       "    .dataframe tbody tr th:only-of-type {\n",
       "        vertical-align: middle;\n",
       "    }\n",
       "\n",
       "    .dataframe tbody tr th {\n",
       "        vertical-align: top;\n",
       "    }\n",
       "\n",
       "    .dataframe thead th {\n",
       "        text-align: right;\n",
       "    }\n",
       "</style>\n",
       "<table border=\"1\" class=\"dataframe\">\n",
       "  <thead>\n",
       "    <tr style=\"text-align: right;\">\n",
       "      <th></th>\n",
       "      <th>headline</th>\n",
       "      <th>time_of_news</th>\n",
       "      <th>web_links</th>\n",
       "    </tr>\n",
       "  </thead>\n",
       "  <tbody>\n",
       "    <tr>\n",
       "      <th>0</th>\n",
       "      <td>Stocks making the biggest moves premarket: Wal...</td>\n",
       "      <td>21 Min Ago</td>\n",
       "      <td>https://www.cnbc.com/2022/06/30/stocks-making-...</td>\n",
       "    </tr>\n",
       "    <tr>\n",
       "      <th>1</th>\n",
       "      <td>5 things to know before the stock market opens...</td>\n",
       "      <td>25 Min Ago</td>\n",
       "      <td>https://www.cnbc.com/2022/06/30/5-things-to-kn...</td>\n",
       "    </tr>\n",
       "    <tr>\n",
       "      <th>2</th>\n",
       "      <td>Bath and Body Works can more than double after...</td>\n",
       "      <td>1 Hour Ago</td>\n",
       "      <td>https://www.cnbc.com/2022/06/30/bath-and-body-...</td>\n",
       "    </tr>\n",
       "    <tr>\n",
       "      <th>3</th>\n",
       "      <td>Walgreens beats sales expectations as retail g...</td>\n",
       "      <td>1 Hour Ago</td>\n",
       "      <td>https://www.cnbc.com/2022/06/30/walgreens-wba-...</td>\n",
       "    </tr>\n",
       "    <tr>\n",
       "      <th>4</th>\n",
       "      <td>Inflation is making Fourth of July celebration...</td>\n",
       "      <td>1 Hour Ago</td>\n",
       "      <td>https://www.cnbc.com/2022/06/30/inflation-is-d...</td>\n",
       "    </tr>\n",
       "    <tr>\n",
       "      <th>5</th>\n",
       "      <td>IMF-Sri Lanka bailout talks end without a deal</td>\n",
       "      <td>1 Hour Ago</td>\n",
       "      <td>https://www.cnbc.com/2022/06/30/imf-sri-lanka-...</td>\n",
       "    </tr>\n",
       "    <tr>\n",
       "      <th>6</th>\n",
       "      <td>Nio can rebound in second half on a strong pro...</td>\n",
       "      <td>2 Hours Ago</td>\n",
       "      <td>https://www.cnbc.com/2022/06/30/nio-can-reboun...</td>\n",
       "    </tr>\n",
       "    <tr>\n",
       "      <th>7</th>\n",
       "      <td>Bitcoin falls below $19,000 again as pressure ...</td>\n",
       "      <td>2 Hours Ago</td>\n",
       "      <td>https://www.cnbc.com/2022/06/30/bitcoin-falls-...</td>\n",
       "    </tr>\n",
       "    <tr>\n",
       "      <th>8</th>\n",
       "      <td>Buy the Warner Bros. Discovery dip as shares c...</td>\n",
       "      <td>2 Hours Ago</td>\n",
       "      <td>https://www.cnbc.com/2022/06/30/buy-the-warner...</td>\n",
       "    </tr>\n",
       "    <tr>\n",
       "      <th>9</th>\n",
       "      <td>North Korea is likely culprit behind $100 mill...</td>\n",
       "      <td>3 Hours Ago</td>\n",
       "      <td>https://www.cnbc.com/2022/06/30/north-korea-li...</td>\n",
       "    </tr>\n",
       "    <tr>\n",
       "      <th>10</th>\n",
       "      <td>French oil major ramps up discount on gasoline...</td>\n",
       "      <td>4 Hours Ago</td>\n",
       "      <td>https://www.cnbc.com/2022/06/30/oil-major-tota...</td>\n",
       "    </tr>\n",
       "    <tr>\n",
       "      <th>11</th>\n",
       "      <td>China's Xi arrives in Hong Kong in his first t...</td>\n",
       "      <td>4 Hours Ago</td>\n",
       "      <td>https://www.cnbc.com/2022/06/30/chinas-xi-arri...</td>\n",
       "    </tr>\n",
       "    <tr>\n",
       "      <th>12</th>\n",
       "      <td>Treasury yields nudge lower as market particip...</td>\n",
       "      <td>5 Hours Ago</td>\n",
       "      <td>https://www.cnbc.com/2022/06/30/us-bonds-treas...</td>\n",
       "    </tr>\n",
       "    <tr>\n",
       "      <th>13</th>\n",
       "      <td>Singapore’s unemployment has dropped close to ...</td>\n",
       "      <td>6 Hours Ago</td>\n",
       "      <td>https://www.cnbc.com/2022/06/30/singapores-une...</td>\n",
       "    </tr>\n",
       "    <tr>\n",
       "      <th>14</th>\n",
       "      <td>'Everything was going fine between us' Putin s...</td>\n",
       "      <td>6 Hours Ago</td>\n",
       "      <td>https://www.cnbc.com/2022/06/30/russia-ukraine...</td>\n",
       "    </tr>\n",
       "    <tr>\n",
       "      <th>15</th>\n",
       "      <td>In China, more and more people want to save mo...</td>\n",
       "      <td>7 Hours Ago</td>\n",
       "      <td>https://www.cnbc.com/2022/06/30/pboc-chinese-p...</td>\n",
       "    </tr>\n",
       "    <tr>\n",
       "      <th>16</th>\n",
       "      <td>Coinbase seeks licenses in Europe as it looks ...</td>\n",
       "      <td>7 Hours Ago</td>\n",
       "      <td>https://www.cnbc.com/2022/06/30/coinbase-seeks...</td>\n",
       "    </tr>\n",
       "    <tr>\n",
       "      <th>17</th>\n",
       "      <td>Here's what's hot — and what's not — in fintec...</td>\n",
       "      <td>7 Hours Ago</td>\n",
       "      <td>https://www.cnbc.com/2022/06/30/heres-whats-ho...</td>\n",
       "    </tr>\n",
       "    <tr>\n",
       "      <th>18</th>\n",
       "      <td>Europe markets decline as recession concerns p...</td>\n",
       "      <td>8 Hours Ago</td>\n",
       "      <td>https://www.cnbc.com/2022/06/30/european-marke...</td>\n",
       "    </tr>\n",
       "    <tr>\n",
       "      <th>19</th>\n",
       "      <td>Grayscale sues SEC after rejection of bid to t...</td>\n",
       "      <td>8 Hours Ago</td>\n",
       "      <td>https://www.cnbc.com/2022/06/30/grayscale-sues...</td>\n",
       "    </tr>\n",
       "    <tr>\n",
       "      <th>20</th>\n",
       "      <td>China continues to snap up Russian coal at ste...</td>\n",
       "      <td>11 Hours Ago</td>\n",
       "      <td>https://www.cnbc.com/2022/06/30/china-snaps-up...</td>\n",
       "    </tr>\n",
       "    <tr>\n",
       "      <th>21</th>\n",
       "      <td>Goldman says buy these global stocks to play a...</td>\n",
       "      <td>12 Hours Ago</td>\n",
       "      <td>https://www.cnbc.com/2022/06/30/electric-vehic...</td>\n",
       "    </tr>\n",
       "    <tr>\n",
       "      <th>22</th>\n",
       "      <td>China Shenzhen stocks rise as data shows facto...</td>\n",
       "      <td>12 Hours Ago</td>\n",
       "      <td>https://www.cnbc.com/2022/06/30/asia-markets-c...</td>\n",
       "    </tr>\n",
       "    <tr>\n",
       "      <th>23</th>\n",
       "      <td>Cramer's lightning round: I prefer Deere over ...</td>\n",
       "      <td>13 Hours Ago</td>\n",
       "      <td>https://www.cnbc.com/2022/06/29/cramers-lightn...</td>\n",
       "    </tr>\n",
       "    <tr>\n",
       "      <th>24</th>\n",
       "      <td>Cramer warns investors not to group all stocks...</td>\n",
       "      <td>13 Hours Ago</td>\n",
       "      <td>https://www.cnbc.com/2022/06/29/cramer-warns-i...</td>\n",
       "    </tr>\n",
       "    <tr>\n",
       "      <th>25</th>\n",
       "      <td>Cramer: Charts suggest the recent commodities ...</td>\n",
       "      <td>13 Hours Ago</td>\n",
       "      <td>https://www.cnbc.com/2022/06/29/cramer-charts-...</td>\n",
       "    </tr>\n",
       "    <tr>\n",
       "      <th>26</th>\n",
       "      <td>Palantir CEO Alex Karp on fighting with Peter ...</td>\n",
       "      <td>13 Hours Ago</td>\n",
       "      <td>https://www.cnbc.com/2022/06/29/palantir-ceo-k...</td>\n",
       "    </tr>\n",
       "    <tr>\n",
       "      <th>27</th>\n",
       "      <td>Spirit delays merger shareholder vote before m...</td>\n",
       "      <td>13 Hours Ago</td>\n",
       "      <td>https://www.cnbc.com/2022/06/29/spirit-airline...</td>\n",
       "    </tr>\n",
       "    <tr>\n",
       "      <th>28</th>\n",
       "      <td>Pinterest improving boards to help people ‘tak...</td>\n",
       "      <td>13 Hours Ago</td>\n",
       "      <td>https://www.cnbc.com/2022/06/29/pinterest-impr...</td>\n",
       "    </tr>\n",
       "    <tr>\n",
       "      <th>29</th>\n",
       "      <td>Best trades on CNBC Wednesday: Find bargains a...</td>\n",
       "      <td>14 Hours Ago</td>\n",
       "      <td>https://www.cnbc.com/2022/06/29/best-trades-on...</td>\n",
       "    </tr>\n",
       "  </tbody>\n",
       "</table>\n",
       "</div>"
      ],
      "text/plain": [
       "                                             headline  time_of_news  \\\n",
       "0   Stocks making the biggest moves premarket: Wal...    21 Min Ago   \n",
       "1   5 things to know before the stock market opens...    25 Min Ago   \n",
       "2   Bath and Body Works can more than double after...    1 Hour Ago   \n",
       "3   Walgreens beats sales expectations as retail g...    1 Hour Ago   \n",
       "4   Inflation is making Fourth of July celebration...    1 Hour Ago   \n",
       "5      IMF-Sri Lanka bailout talks end without a deal    1 Hour Ago   \n",
       "6   Nio can rebound in second half on a strong pro...   2 Hours Ago   \n",
       "7   Bitcoin falls below $19,000 again as pressure ...   2 Hours Ago   \n",
       "8   Buy the Warner Bros. Discovery dip as shares c...   2 Hours Ago   \n",
       "9   North Korea is likely culprit behind $100 mill...   3 Hours Ago   \n",
       "10  French oil major ramps up discount on gasoline...   4 Hours Ago   \n",
       "11  China's Xi arrives in Hong Kong in his first t...   4 Hours Ago   \n",
       "12  Treasury yields nudge lower as market particip...   5 Hours Ago   \n",
       "13  Singapore’s unemployment has dropped close to ...   6 Hours Ago   \n",
       "14  'Everything was going fine between us' Putin s...   6 Hours Ago   \n",
       "15  In China, more and more people want to save mo...   7 Hours Ago   \n",
       "16  Coinbase seeks licenses in Europe as it looks ...   7 Hours Ago   \n",
       "17  Here's what's hot — and what's not — in fintec...   7 Hours Ago   \n",
       "18  Europe markets decline as recession concerns p...   8 Hours Ago   \n",
       "19  Grayscale sues SEC after rejection of bid to t...   8 Hours Ago   \n",
       "20  China continues to snap up Russian coal at ste...  11 Hours Ago   \n",
       "21  Goldman says buy these global stocks to play a...  12 Hours Ago   \n",
       "22  China Shenzhen stocks rise as data shows facto...  12 Hours Ago   \n",
       "23  Cramer's lightning round: I prefer Deere over ...  13 Hours Ago   \n",
       "24  Cramer warns investors not to group all stocks...  13 Hours Ago   \n",
       "25  Cramer: Charts suggest the recent commodities ...  13 Hours Ago   \n",
       "26  Palantir CEO Alex Karp on fighting with Peter ...  13 Hours Ago   \n",
       "27  Spirit delays merger shareholder vote before m...  13 Hours Ago   \n",
       "28  Pinterest improving boards to help people ‘tak...  13 Hours Ago   \n",
       "29  Best trades on CNBC Wednesday: Find bargains a...  14 Hours Ago   \n",
       "\n",
       "                                            web_links  \n",
       "0   https://www.cnbc.com/2022/06/30/stocks-making-...  \n",
       "1   https://www.cnbc.com/2022/06/30/5-things-to-kn...  \n",
       "2   https://www.cnbc.com/2022/06/30/bath-and-body-...  \n",
       "3   https://www.cnbc.com/2022/06/30/walgreens-wba-...  \n",
       "4   https://www.cnbc.com/2022/06/30/inflation-is-d...  \n",
       "5   https://www.cnbc.com/2022/06/30/imf-sri-lanka-...  \n",
       "6   https://www.cnbc.com/2022/06/30/nio-can-reboun...  \n",
       "7   https://www.cnbc.com/2022/06/30/bitcoin-falls-...  \n",
       "8   https://www.cnbc.com/2022/06/30/buy-the-warner...  \n",
       "9   https://www.cnbc.com/2022/06/30/north-korea-li...  \n",
       "10  https://www.cnbc.com/2022/06/30/oil-major-tota...  \n",
       "11  https://www.cnbc.com/2022/06/30/chinas-xi-arri...  \n",
       "12  https://www.cnbc.com/2022/06/30/us-bonds-treas...  \n",
       "13  https://www.cnbc.com/2022/06/30/singapores-une...  \n",
       "14  https://www.cnbc.com/2022/06/30/russia-ukraine...  \n",
       "15  https://www.cnbc.com/2022/06/30/pboc-chinese-p...  \n",
       "16  https://www.cnbc.com/2022/06/30/coinbase-seeks...  \n",
       "17  https://www.cnbc.com/2022/06/30/heres-whats-ho...  \n",
       "18  https://www.cnbc.com/2022/06/30/european-marke...  \n",
       "19  https://www.cnbc.com/2022/06/30/grayscale-sues...  \n",
       "20  https://www.cnbc.com/2022/06/30/china-snaps-up...  \n",
       "21  https://www.cnbc.com/2022/06/30/electric-vehic...  \n",
       "22  https://www.cnbc.com/2022/06/30/asia-markets-c...  \n",
       "23  https://www.cnbc.com/2022/06/29/cramers-lightn...  \n",
       "24  https://www.cnbc.com/2022/06/29/cramer-warns-i...  \n",
       "25  https://www.cnbc.com/2022/06/29/cramer-charts-...  \n",
       "26  https://www.cnbc.com/2022/06/29/palantir-ceo-k...  \n",
       "27  https://www.cnbc.com/2022/06/29/spirit-airline...  \n",
       "28  https://www.cnbc.com/2022/06/29/pinterest-impr...  \n",
       "29  https://www.cnbc.com/2022/06/29/best-trades-on...  "
      ]
     },
     "execution_count": 769,
     "metadata": {},
     "output_type": "execute_result"
    }
   ],
   "source": [
    "data_news=pd.DataFrame({'headline':head_name,'time_of_news':time,'web_links':link7})\n",
    "data_news"
   ]
  },
  {
   "cell_type": "code",
   "execution_count": null,
   "id": "677a7064",
   "metadata": {},
   "outputs": [],
   "source": [
    "\n",
    "\n",
    "\n"
   ]
  },
  {
   "cell_type": "markdown",
   "id": "6adf3535",
   "metadata": {},
   "source": [
    "# Question-8"
   ]
  },
  {
   "cell_type": "code",
   "execution_count": 772,
   "id": "cab45f91",
   "metadata": {},
   "outputs": [
    {
     "data": {
      "text/plain": [
       "<Response [200]>"
      ]
     },
     "execution_count": 772,
     "metadata": {},
     "output_type": "execute_result"
    }
   ],
   "source": [
    "url8=\"https://www.journals.elsevier.com/artificial-intelligence/most-downloaded-articles\"\n",
    "response8=requests.get(url8)\n",
    "response8"
   ]
  },
  {
   "cell_type": "code",
   "execution_count": 773,
   "id": "98ec8262",
   "metadata": {},
   "outputs": [],
   "source": [
    "soup8=BeautifulSoup(response8.content,'html.parser')"
   ]
  },
  {
   "cell_type": "code",
   "execution_count": 774,
   "id": "078daee0",
   "metadata": {},
   "outputs": [],
   "source": [
    "article_head=[]\n",
    "link8=[]\n",
    "author_name=[]\n",
    "publish_data=[]"
   ]
  },
  {
   "cell_type": "code",
   "execution_count": 775,
   "id": "a8e9d42f",
   "metadata": {},
   "outputs": [],
   "source": [
    "a=soup8.find_all('h2',class_=\"sc-1qrq3sd-1 MKjKb sc-1nmom32-0 sc-1nmom32-1 hqhUYH ebTA-dR\")\n",
    "for s in a :\n",
    "    q=s.text\n",
    "    article_head.append(q)"
   ]
  },
  {
   "cell_type": "code",
   "execution_count": 776,
   "id": "e101444b",
   "metadata": {},
   "outputs": [],
   "source": [
    "c=soup8.find_all('a',class_=\"sc-5smygv-0 nrDZj\")\n",
    "for f in c:\n",
    "    k=f['href']\n",
    "    link8.append(k)"
   ]
  },
  {
   "cell_type": "code",
   "execution_count": 777,
   "id": "f1b8c674",
   "metadata": {},
   "outputs": [],
   "source": [
    "v=soup8.find_all('span',class_=\"sc-1thf9ly-2 bKddwo\")\n",
    "for y in v:\n",
    "    f=y.text\n",
    "    publish_data.append(f)"
   ]
  },
  {
   "cell_type": "code",
   "execution_count": 778,
   "id": "eccf9ef7",
   "metadata": {},
   "outputs": [],
   "source": [
    "g=soup8.find_all('span',class_=\"sc-1w3fpd7-0 pgLAT\")\n",
    "for t in g:\n",
    "    s=t.text\n",
    "    author_name.append(s)"
   ]
  },
  {
   "cell_type": "code",
   "execution_count": 779,
   "id": "88d2d437",
   "metadata": {},
   "outputs": [],
   "source": [
    "article_data=pd.DataFrame({'article_head':article_head,'author_name':author_name,'publish_data':publish_data,'links':link8,})"
   ]
  },
  {
   "cell_type": "code",
   "execution_count": 780,
   "id": "2c21192e",
   "metadata": {},
   "outputs": [
    {
     "data": {
      "text/html": [
       "<div>\n",
       "<style scoped>\n",
       "    .dataframe tbody tr th:only-of-type {\n",
       "        vertical-align: middle;\n",
       "    }\n",
       "\n",
       "    .dataframe tbody tr th {\n",
       "        vertical-align: top;\n",
       "    }\n",
       "\n",
       "    .dataframe thead th {\n",
       "        text-align: right;\n",
       "    }\n",
       "</style>\n",
       "<table border=\"1\" class=\"dataframe\">\n",
       "  <thead>\n",
       "    <tr style=\"text-align: right;\">\n",
       "      <th></th>\n",
       "      <th>article_head</th>\n",
       "      <th>author_name</th>\n",
       "      <th>publish_data</th>\n",
       "      <th>links</th>\n",
       "    </tr>\n",
       "  </thead>\n",
       "  <tbody>\n",
       "    <tr>\n",
       "      <th>0</th>\n",
       "      <td>Reward is enough</td>\n",
       "      <td>Silver, David, Singh, Satinder, Precup, Doina,...</td>\n",
       "      <td>October 2021</td>\n",
       "      <td>https://www.sciencedirect.com/science/article/...</td>\n",
       "    </tr>\n",
       "    <tr>\n",
       "      <th>1</th>\n",
       "      <td>Making sense of raw input</td>\n",
       "      <td>Evans, Richard, Bošnjak, Matko and 5 more</td>\n",
       "      <td>October 2021</td>\n",
       "      <td>https://www.sciencedirect.com/science/article/...</td>\n",
       "    </tr>\n",
       "    <tr>\n",
       "      <th>2</th>\n",
       "      <td>Law and logic: A review from an argumentation ...</td>\n",
       "      <td>Prakken, Henry, Sartor, Giovanni</td>\n",
       "      <td>October 2015</td>\n",
       "      <td>https://www.sciencedirect.com/science/article/...</td>\n",
       "    </tr>\n",
       "    <tr>\n",
       "      <th>3</th>\n",
       "      <td>Creativity and artificial intelligence</td>\n",
       "      <td>Boden, Margaret A.</td>\n",
       "      <td>August 1998</td>\n",
       "      <td>https://www.sciencedirect.com/science/article/...</td>\n",
       "    </tr>\n",
       "    <tr>\n",
       "      <th>4</th>\n",
       "      <td>Artificial cognition for social human–robot in...</td>\n",
       "      <td>Lemaignan, Séverin, Warnier, Mathieu and 3 more</td>\n",
       "      <td>June 2017</td>\n",
       "      <td>https://www.sciencedirect.com/science/article/...</td>\n",
       "    </tr>\n",
       "    <tr>\n",
       "      <th>5</th>\n",
       "      <td>Explanation in artificial intelligence: Insigh...</td>\n",
       "      <td>Miller, Tim</td>\n",
       "      <td>February 2019</td>\n",
       "      <td>https://www.sciencedirect.com/science/article/...</td>\n",
       "    </tr>\n",
       "    <tr>\n",
       "      <th>6</th>\n",
       "      <td>Making sense of sensory input</td>\n",
       "      <td>Evans, Richard, Hernández-Orallo, José and 3 more</td>\n",
       "      <td>April 2021</td>\n",
       "      <td>https://www.sciencedirect.com/science/article/...</td>\n",
       "    </tr>\n",
       "    <tr>\n",
       "      <th>7</th>\n",
       "      <td>Conflict-based search for optimal multi-agent ...</td>\n",
       "      <td>Sharon, Guni, Stern, Roni, Felner, Ariel, Stur...</td>\n",
       "      <td>February 2015</td>\n",
       "      <td>https://www.sciencedirect.com/science/article/...</td>\n",
       "    </tr>\n",
       "    <tr>\n",
       "      <th>8</th>\n",
       "      <td>Between MDPs and semi-MDPs: A framework for te...</td>\n",
       "      <td>Sutton, Richard S., Precup, Doina, Singh, Sati...</td>\n",
       "      <td>August 1999</td>\n",
       "      <td>https://www.sciencedirect.com/science/article/...</td>\n",
       "    </tr>\n",
       "    <tr>\n",
       "      <th>9</th>\n",
       "      <td>The Hanabi challenge: A new frontier for AI re...</td>\n",
       "      <td>Bard, Nolan, Foerster, Jakob N. and 13 more</td>\n",
       "      <td>March 2020</td>\n",
       "      <td>https://www.sciencedirect.com/science/article/...</td>\n",
       "    </tr>\n",
       "    <tr>\n",
       "      <th>10</th>\n",
       "      <td>Evaluating XAI: A comparison of rule-based and...</td>\n",
       "      <td>van der Waa, Jasper, Nieuwburg, Elisabeth, Cre...</td>\n",
       "      <td>February 2021</td>\n",
       "      <td>https://www.sciencedirect.com/science/article/...</td>\n",
       "    </tr>\n",
       "    <tr>\n",
       "      <th>11</th>\n",
       "      <td>Argumentation in artificial intelligence</td>\n",
       "      <td>Bench-Capon, T.J.M., Dunne, Paul E.</td>\n",
       "      <td>October 2007</td>\n",
       "      <td>https://www.sciencedirect.com/science/article/...</td>\n",
       "    </tr>\n",
       "    <tr>\n",
       "      <th>12</th>\n",
       "      <td>Algorithms for computing strategies in two-pla...</td>\n",
       "      <td>Bošanský, Branislav, Lisý, Viliam and 3 more</td>\n",
       "      <td>August 2016</td>\n",
       "      <td>https://www.sciencedirect.com/science/article/...</td>\n",
       "    </tr>\n",
       "    <tr>\n",
       "      <th>13</th>\n",
       "      <td>Multiple object tracking: A literature review</td>\n",
       "      <td>Luo, Wenhan, Xing, Junliang and 4 more</td>\n",
       "      <td>April 2021</td>\n",
       "      <td>https://www.sciencedirect.com/science/article/...</td>\n",
       "    </tr>\n",
       "    <tr>\n",
       "      <th>14</th>\n",
       "      <td>Selection of relevant features and examples in...</td>\n",
       "      <td>Blum, Avrim L., Langley, Pat</td>\n",
       "      <td>December 1997</td>\n",
       "      <td>https://www.sciencedirect.com/science/article/...</td>\n",
       "    </tr>\n",
       "    <tr>\n",
       "      <th>15</th>\n",
       "      <td>A survey of inverse reinforcement learning: Ch...</td>\n",
       "      <td>Arora, Saurabh, Doshi, Prashant</td>\n",
       "      <td>August 2021</td>\n",
       "      <td>https://www.sciencedirect.com/science/article/...</td>\n",
       "    </tr>\n",
       "    <tr>\n",
       "      <th>16</th>\n",
       "      <td>Explaining individual predictions when feature...</td>\n",
       "      <td>Aas, Kjersti, Jullum, Martin, Løland, Anders</td>\n",
       "      <td>September 2021</td>\n",
       "      <td>https://www.sciencedirect.com/science/article/...</td>\n",
       "    </tr>\n",
       "    <tr>\n",
       "      <th>17</th>\n",
       "      <td>A review of possible effects of cognitive bias...</td>\n",
       "      <td>Kliegr, Tomáš, Bahník, Štěpán, Fürnkranz, Joha...</td>\n",
       "      <td>June 2021</td>\n",
       "      <td>https://www.sciencedirect.com/science/article/...</td>\n",
       "    </tr>\n",
       "    <tr>\n",
       "      <th>18</th>\n",
       "      <td>Integrating social power into the decision-mak...</td>\n",
       "      <td>Pereira, Gonçalo, Prada, Rui, Santos, Pedro A.</td>\n",
       "      <td>December 2016</td>\n",
       "      <td>https://www.sciencedirect.com/science/article/...</td>\n",
       "    </tr>\n",
       "    <tr>\n",
       "      <th>19</th>\n",
       "      <td>“That's (not) the output I expected!” On the r...</td>\n",
       "      <td>Riveiro, Maria, Thill, Serge</td>\n",
       "      <td>September 2021</td>\n",
       "      <td>https://www.sciencedirect.com/science/article/...</td>\n",
       "    </tr>\n",
       "    <tr>\n",
       "      <th>20</th>\n",
       "      <td>Explaining black-box classifiers using post-ho...</td>\n",
       "      <td>Kenny, Eoin M., Ford, Courtney, Quinn, Molly, ...</td>\n",
       "      <td>May 2021</td>\n",
       "      <td>https://www.sciencedirect.com/science/article/...</td>\n",
       "    </tr>\n",
       "    <tr>\n",
       "      <th>21</th>\n",
       "      <td>Algorithm runtime prediction: Methods &amp; evalua...</td>\n",
       "      <td>Hutter, Frank, Xu, Lin, Hoos, Holger H., Leyto...</td>\n",
       "      <td>January 2014</td>\n",
       "      <td>https://www.sciencedirect.com/science/article/...</td>\n",
       "    </tr>\n",
       "    <tr>\n",
       "      <th>22</th>\n",
       "      <td>Wrappers for feature subset selection</td>\n",
       "      <td>Kohavi, Ron, John, George H.</td>\n",
       "      <td>December 1997</td>\n",
       "      <td>https://www.sciencedirect.com/science/article/...</td>\n",
       "    </tr>\n",
       "    <tr>\n",
       "      <th>23</th>\n",
       "      <td>Commonsense visual sensemaking for autonomous ...</td>\n",
       "      <td>Suchan, Jakob, Bhatt, Mehul, Varadarajan, Srik...</td>\n",
       "      <td>October 2021</td>\n",
       "      <td>https://www.sciencedirect.com/science/article/...</td>\n",
       "    </tr>\n",
       "    <tr>\n",
       "      <th>24</th>\n",
       "      <td>Quantum computation, quantum theory and AI</td>\n",
       "      <td>Ying, Mingsheng</td>\n",
       "      <td>February 2010</td>\n",
       "      <td>https://www.sciencedirect.com/science/article/...</td>\n",
       "    </tr>\n",
       "  </tbody>\n",
       "</table>\n",
       "</div>"
      ],
      "text/plain": [
       "                                         article_head  \\\n",
       "0                                    Reward is enough   \n",
       "1                           Making sense of raw input   \n",
       "2   Law and logic: A review from an argumentation ...   \n",
       "3              Creativity and artificial intelligence   \n",
       "4   Artificial cognition for social human–robot in...   \n",
       "5   Explanation in artificial intelligence: Insigh...   \n",
       "6                       Making sense of sensory input   \n",
       "7   Conflict-based search for optimal multi-agent ...   \n",
       "8   Between MDPs and semi-MDPs: A framework for te...   \n",
       "9   The Hanabi challenge: A new frontier for AI re...   \n",
       "10  Evaluating XAI: A comparison of rule-based and...   \n",
       "11           Argumentation in artificial intelligence   \n",
       "12  Algorithms for computing strategies in two-pla...   \n",
       "13      Multiple object tracking: A literature review   \n",
       "14  Selection of relevant features and examples in...   \n",
       "15  A survey of inverse reinforcement learning: Ch...   \n",
       "16  Explaining individual predictions when feature...   \n",
       "17  A review of possible effects of cognitive bias...   \n",
       "18  Integrating social power into the decision-mak...   \n",
       "19  “That's (not) the output I expected!” On the r...   \n",
       "20  Explaining black-box classifiers using post-ho...   \n",
       "21  Algorithm runtime prediction: Methods & evalua...   \n",
       "22              Wrappers for feature subset selection   \n",
       "23  Commonsense visual sensemaking for autonomous ...   \n",
       "24         Quantum computation, quantum theory and AI   \n",
       "\n",
       "                                          author_name    publish_data  \\\n",
       "0   Silver, David, Singh, Satinder, Precup, Doina,...    October 2021   \n",
       "1           Evans, Richard, Bošnjak, Matko and 5 more    October 2021   \n",
       "2                   Prakken, Henry, Sartor, Giovanni     October 2015   \n",
       "3                                 Boden, Margaret A.      August 1998   \n",
       "4     Lemaignan, Séverin, Warnier, Mathieu and 3 more       June 2017   \n",
       "5                                        Miller, Tim    February 2019   \n",
       "6   Evans, Richard, Hernández-Orallo, José and 3 more      April 2021   \n",
       "7   Sharon, Guni, Stern, Roni, Felner, Ariel, Stur...   February 2015   \n",
       "8   Sutton, Richard S., Precup, Doina, Singh, Sati...     August 1999   \n",
       "9         Bard, Nolan, Foerster, Jakob N. and 13 more      March 2020   \n",
       "10  van der Waa, Jasper, Nieuwburg, Elisabeth, Cre...   February 2021   \n",
       "11               Bench-Capon, T.J.M., Dunne, Paul E.     October 2007   \n",
       "12       Bošanský, Branislav, Lisý, Viliam and 3 more     August 2016   \n",
       "13             Luo, Wenhan, Xing, Junliang and 4 more      April 2021   \n",
       "14                      Blum, Avrim L., Langley, Pat    December 1997   \n",
       "15                   Arora, Saurabh, Doshi, Prashant      August 2021   \n",
       "16      Aas, Kjersti, Jullum, Martin, Løland, Anders   September 2021   \n",
       "17  Kliegr, Tomáš, Bahník, Štěpán, Fürnkranz, Joha...       June 2021   \n",
       "18    Pereira, Gonçalo, Prada, Rui, Santos, Pedro A.    December 2016   \n",
       "19                      Riveiro, Maria, Thill, Serge   September 2021   \n",
       "20  Kenny, Eoin M., Ford, Courtney, Quinn, Molly, ...        May 2021   \n",
       "21  Hutter, Frank, Xu, Lin, Hoos, Holger H., Leyto...    January 2014   \n",
       "22                      Kohavi, Ron, John, George H.    December 1997   \n",
       "23  Suchan, Jakob, Bhatt, Mehul, Varadarajan, Srik...    October 2021   \n",
       "24                                   Ying, Mingsheng    February 2010   \n",
       "\n",
       "                                                links  \n",
       "0   https://www.sciencedirect.com/science/article/...  \n",
       "1   https://www.sciencedirect.com/science/article/...  \n",
       "2   https://www.sciencedirect.com/science/article/...  \n",
       "3   https://www.sciencedirect.com/science/article/...  \n",
       "4   https://www.sciencedirect.com/science/article/...  \n",
       "5   https://www.sciencedirect.com/science/article/...  \n",
       "6   https://www.sciencedirect.com/science/article/...  \n",
       "7   https://www.sciencedirect.com/science/article/...  \n",
       "8   https://www.sciencedirect.com/science/article/...  \n",
       "9   https://www.sciencedirect.com/science/article/...  \n",
       "10  https://www.sciencedirect.com/science/article/...  \n",
       "11  https://www.sciencedirect.com/science/article/...  \n",
       "12  https://www.sciencedirect.com/science/article/...  \n",
       "13  https://www.sciencedirect.com/science/article/...  \n",
       "14  https://www.sciencedirect.com/science/article/...  \n",
       "15  https://www.sciencedirect.com/science/article/...  \n",
       "16  https://www.sciencedirect.com/science/article/...  \n",
       "17  https://www.sciencedirect.com/science/article/...  \n",
       "18  https://www.sciencedirect.com/science/article/...  \n",
       "19  https://www.sciencedirect.com/science/article/...  \n",
       "20  https://www.sciencedirect.com/science/article/...  \n",
       "21  https://www.sciencedirect.com/science/article/...  \n",
       "22  https://www.sciencedirect.com/science/article/...  \n",
       "23  https://www.sciencedirect.com/science/article/...  \n",
       "24  https://www.sciencedirect.com/science/article/...  "
      ]
     },
     "execution_count": 780,
     "metadata": {},
     "output_type": "execute_result"
    }
   ],
   "source": [
    "article_data"
   ]
  },
  {
   "cell_type": "markdown",
   "id": "48029953",
   "metadata": {},
   "source": [
    "# Question-9"
   ]
  },
  {
   "cell_type": "code",
   "execution_count": 782,
   "id": "59c2d94a",
   "metadata": {},
   "outputs": [
    {
     "data": {
      "text/plain": [
       "<Response [200]>"
      ]
     },
     "execution_count": 782,
     "metadata": {},
     "output_type": "execute_result"
    }
   ],
   "source": [
    "url9=\"https://www.dineout.co.in/delhi-restaurants/buffet-special\"\n",
    "response9=requests.get(url9)\n",
    "response9"
   ]
  },
  {
   "cell_type": "code",
   "execution_count": 783,
   "id": "c9ff790a",
   "metadata": {},
   "outputs": [],
   "source": [
    "restaurant_name=[]\n",
    "img=[]\n",
    "location=[]\n",
    "price=[]"
   ]
  },
  {
   "cell_type": "code",
   "execution_count": 792,
   "id": "c07f64c6",
   "metadata": {},
   "outputs": [],
   "source": [
    "soup9= BeautifulSoup(response9.text,'html.parser')\n"
   ]
  },
  {
   "cell_type": "code",
   "execution_count": 793,
   "id": "3f6ef41d",
   "metadata": {},
   "outputs": [],
   "source": [
    "rest=[]\n",
    "d=soup9.find_all('a',class_=\"restnt-name ellipsis\")\n",
    "for r in d:\n",
    "    f=r.text\n",
    "    rest.append(f)\n",
    "    "
   ]
  },
  {
   "cell_type": "code",
   "execution_count": 794,
   "id": "8776fbaf",
   "metadata": {},
   "outputs": [],
   "source": [
    "image=[]\n",
    "for i in soup9.find_all('img',class_=\"no-img\"):\n",
    "    x=i['data-src']\n",
    "    image.append(x)\n",
    "\n",
    "    "
   ]
  },
  {
   "cell_type": "code",
   "execution_count": 795,
   "id": "3b015b9b",
   "metadata": {},
   "outputs": [],
   "source": [
    "for u in soup9.findAll('div',class_=\"restnt-loc ellipsis\"):\n",
    "    r=u.text\n",
    "    location.append(r)"
   ]
  },
  {
   "cell_type": "code",
   "execution_count": 796,
   "id": "5a92ed8c",
   "metadata": {},
   "outputs": [],
   "source": [
    "o_price=[]\n",
    "\n",
    "for f in soup9.findAll('span',class_=\"double-line-ellipsis\"):\n",
    "    c=f.text.split()\n",
    "    o_price.append(c)\n",
    "    \n"
   ]
  },
  {
   "cell_type": "code",
   "execution_count": 797,
   "id": "4ca26c36",
   "metadata": {},
   "outputs": [],
   "source": [
    "rating9=[]\n",
    "for r in soup9.find_all('div',class_=\"restnt-rating rating-4\"):\n",
    "    f=r.text\n",
    "    rating9.append(f)\n",
    "    \n",
    "    "
   ]
  },
  {
   "cell_type": "code",
   "execution_count": 798,
   "id": "9a559637",
   "metadata": {},
   "outputs": [],
   "source": [
    "dineout_data=pd.DataFrame({'Resturent':rest,'Location':location,'price & cuisinies':o_price,'rating':rating9,'image_url':image})"
   ]
  },
  {
   "cell_type": "code",
   "execution_count": 799,
   "id": "f78d72e9",
   "metadata": {},
   "outputs": [
    {
     "data": {
      "text/html": [
       "<div>\n",
       "<style scoped>\n",
       "    .dataframe tbody tr th:only-of-type {\n",
       "        vertical-align: middle;\n",
       "    }\n",
       "\n",
       "    .dataframe tbody tr th {\n",
       "        vertical-align: top;\n",
       "    }\n",
       "\n",
       "    .dataframe thead th {\n",
       "        text-align: right;\n",
       "    }\n",
       "</style>\n",
       "<table border=\"1\" class=\"dataframe\">\n",
       "  <thead>\n",
       "    <tr style=\"text-align: right;\">\n",
       "      <th></th>\n",
       "      <th>Resturent</th>\n",
       "      <th>Location</th>\n",
       "      <th>price &amp; cuisinies</th>\n",
       "      <th>rating</th>\n",
       "      <th>image_url</th>\n",
       "    </tr>\n",
       "  </thead>\n",
       "  <tbody>\n",
       "    <tr>\n",
       "      <th>0</th>\n",
       "      <td>Castle Barbeque</td>\n",
       "      <td>Connaught Place, Central Delhi</td>\n",
       "      <td>[₹, 2,000, for, 2, (approx), |, North, Indian,...</td>\n",
       "      <td>3.5</td>\n",
       "      <td>https://im1.dineout.co.in/images/uploads/resta...</td>\n",
       "    </tr>\n",
       "    <tr>\n",
       "      <th>1</th>\n",
       "      <td>Jungle Jamboree</td>\n",
       "      <td>3CS Mall,Lajpat Nagar - 3, South Delhi</td>\n",
       "      <td>[₹, 1,400, for, 2, (approx), |, North, Indian,...</td>\n",
       "      <td>3.9</td>\n",
       "      <td>https://im1.dineout.co.in/images/uploads/resta...</td>\n",
       "    </tr>\n",
       "    <tr>\n",
       "      <th>2</th>\n",
       "      <td>Castle Barbeque</td>\n",
       "      <td>Pacific Mall,Tagore Garden, West Delhi</td>\n",
       "      <td>[₹, 2,000, for, 2, (approx), |, Chinese,, Nort...</td>\n",
       "      <td>3.9</td>\n",
       "      <td>https://im1.dineout.co.in/images/uploads/resta...</td>\n",
       "    </tr>\n",
       "    <tr>\n",
       "      <th>3</th>\n",
       "      <td>Cafe Knosh</td>\n",
       "      <td>The Leela Ambience Convention Hotel,Shahdara, ...</td>\n",
       "      <td>[₹, 3,000, for, 2, (approx), |, Italian,, Cont...</td>\n",
       "      <td>4.3</td>\n",
       "      <td>https://im1.dineout.co.in/images/uploads/resta...</td>\n",
       "    </tr>\n",
       "    <tr>\n",
       "      <th>4</th>\n",
       "      <td>The Barbeque Company</td>\n",
       "      <td>Gardens Galleria,Sector 38A, Noida</td>\n",
       "      <td>[₹, 1,700, for, 2, (approx), |, North, Indian,...</td>\n",
       "      <td>4</td>\n",
       "      <td>https://im1.dineout.co.in/images/uploads/resta...</td>\n",
       "    </tr>\n",
       "    <tr>\n",
       "      <th>5</th>\n",
       "      <td>India Grill</td>\n",
       "      <td>Hilton Garden Inn,Saket, South Delhi</td>\n",
       "      <td>[₹, 2,400, for, 2, (approx), |, North, Indian,...</td>\n",
       "      <td>3.9</td>\n",
       "      <td>https://im1.dineout.co.in/images/uploads/resta...</td>\n",
       "    </tr>\n",
       "    <tr>\n",
       "      <th>6</th>\n",
       "      <td>Delhi Barbeque</td>\n",
       "      <td>Taurus Sarovar Portico,Mahipalpur, South Delhi</td>\n",
       "      <td>[₹, 1,800, for, 2, (approx), |, North, Indian]</td>\n",
       "      <td>3.7</td>\n",
       "      <td>https://im1.dineout.co.in/images/uploads/resta...</td>\n",
       "    </tr>\n",
       "    <tr>\n",
       "      <th>7</th>\n",
       "      <td>The Monarch - Bar Be Que Village</td>\n",
       "      <td>Indirapuram Habitat Centre,Indirapuram, Ghaziabad</td>\n",
       "      <td>[₹, 1,900, for, 2, (approx), |, North, Indian]</td>\n",
       "      <td>3.8</td>\n",
       "      <td>https://im1.dineout.co.in/images/uploads/resta...</td>\n",
       "    </tr>\n",
       "    <tr>\n",
       "      <th>8</th>\n",
       "      <td>World Cafe</td>\n",
       "      <td>Vibe by The Lalit Traveller,Sector 35, Faridabad</td>\n",
       "      <td>[₹, 2,400, for, 2, (approx), |, North, Indian,...</td>\n",
       "      <td>4.3</td>\n",
       "      <td>https://im1.dineout.co.in/images/uploads/resta...</td>\n",
       "    </tr>\n",
       "    <tr>\n",
       "      <th>9</th>\n",
       "      <td>Indian Grill Room</td>\n",
       "      <td>Suncity Business Tower,Golf Course Road, Gurgaon</td>\n",
       "      <td>[₹, 2,200, for, 2, (approx), |, North, Indian,...</td>\n",
       "      <td>4.3</td>\n",
       "      <td>https://im1.dineout.co.in/images/uploads/resta...</td>\n",
       "    </tr>\n",
       "    <tr>\n",
       "      <th>10</th>\n",
       "      <td>Mad 4 Bar B Que</td>\n",
       "      <td>Sector 29, Faridabad</td>\n",
       "      <td>[₹, 800, for, 2, (approx), |, North, Indian]</td>\n",
       "      <td>3.6</td>\n",
       "      <td>https://im1.dineout.co.in/images/uploads/resta...</td>\n",
       "    </tr>\n",
       "    <tr>\n",
       "      <th>11</th>\n",
       "      <td>Barbeque 29</td>\n",
       "      <td>NIT, Faridabad</td>\n",
       "      <td>[₹, 1,500, for, 2, (approx), |, North, Indian,...</td>\n",
       "      <td>4.2</td>\n",
       "      <td>https://im1.dineout.co.in/images/uploads/resta...</td>\n",
       "    </tr>\n",
       "    <tr>\n",
       "      <th>12</th>\n",
       "      <td>Glasshouse</td>\n",
       "      <td>DoubleTree By Hilton Gurugram Baani Square,Sec...</td>\n",
       "      <td>[₹, 3,400, for, 2, (approx), |, European,, Ita...</td>\n",
       "      <td>4</td>\n",
       "      <td>https://im1.dineout.co.in/images/uploads/resta...</td>\n",
       "    </tr>\n",
       "  </tbody>\n",
       "</table>\n",
       "</div>"
      ],
      "text/plain": [
       "                           Resturent  \\\n",
       "0                    Castle Barbeque   \n",
       "1                    Jungle Jamboree   \n",
       "2                    Castle Barbeque   \n",
       "3                         Cafe Knosh   \n",
       "4               The Barbeque Company   \n",
       "5                        India Grill   \n",
       "6                     Delhi Barbeque   \n",
       "7   The Monarch - Bar Be Que Village   \n",
       "8                         World Cafe   \n",
       "9                  Indian Grill Room   \n",
       "10                   Mad 4 Bar B Que   \n",
       "11                       Barbeque 29   \n",
       "12                        Glasshouse   \n",
       "\n",
       "                                             Location  \\\n",
       "0                      Connaught Place, Central Delhi   \n",
       "1              3CS Mall,Lajpat Nagar - 3, South Delhi   \n",
       "2              Pacific Mall,Tagore Garden, West Delhi   \n",
       "3   The Leela Ambience Convention Hotel,Shahdara, ...   \n",
       "4                  Gardens Galleria,Sector 38A, Noida   \n",
       "5                Hilton Garden Inn,Saket, South Delhi   \n",
       "6      Taurus Sarovar Portico,Mahipalpur, South Delhi   \n",
       "7   Indirapuram Habitat Centre,Indirapuram, Ghaziabad   \n",
       "8    Vibe by The Lalit Traveller,Sector 35, Faridabad   \n",
       "9    Suncity Business Tower,Golf Course Road, Gurgaon   \n",
       "10                               Sector 29, Faridabad   \n",
       "11                                     NIT, Faridabad   \n",
       "12  DoubleTree By Hilton Gurugram Baani Square,Sec...   \n",
       "\n",
       "                                    price & cuisinies rating  \\\n",
       "0   [₹, 2,000, for, 2, (approx), |, North, Indian,...    3.5   \n",
       "1   [₹, 1,400, for, 2, (approx), |, North, Indian,...    3.9   \n",
       "2   [₹, 2,000, for, 2, (approx), |, Chinese,, Nort...    3.9   \n",
       "3   [₹, 3,000, for, 2, (approx), |, Italian,, Cont...    4.3   \n",
       "4   [₹, 1,700, for, 2, (approx), |, North, Indian,...      4   \n",
       "5   [₹, 2,400, for, 2, (approx), |, North, Indian,...    3.9   \n",
       "6      [₹, 1,800, for, 2, (approx), |, North, Indian]    3.7   \n",
       "7      [₹, 1,900, for, 2, (approx), |, North, Indian]    3.8   \n",
       "8   [₹, 2,400, for, 2, (approx), |, North, Indian,...    4.3   \n",
       "9   [₹, 2,200, for, 2, (approx), |, North, Indian,...    4.3   \n",
       "10       [₹, 800, for, 2, (approx), |, North, Indian]    3.6   \n",
       "11  [₹, 1,500, for, 2, (approx), |, North, Indian,...    4.2   \n",
       "12  [₹, 3,400, for, 2, (approx), |, European,, Ita...      4   \n",
       "\n",
       "                                            image_url  \n",
       "0   https://im1.dineout.co.in/images/uploads/resta...  \n",
       "1   https://im1.dineout.co.in/images/uploads/resta...  \n",
       "2   https://im1.dineout.co.in/images/uploads/resta...  \n",
       "3   https://im1.dineout.co.in/images/uploads/resta...  \n",
       "4   https://im1.dineout.co.in/images/uploads/resta...  \n",
       "5   https://im1.dineout.co.in/images/uploads/resta...  \n",
       "6   https://im1.dineout.co.in/images/uploads/resta...  \n",
       "7   https://im1.dineout.co.in/images/uploads/resta...  \n",
       "8   https://im1.dineout.co.in/images/uploads/resta...  \n",
       "9   https://im1.dineout.co.in/images/uploads/resta...  \n",
       "10  https://im1.dineout.co.in/images/uploads/resta...  \n",
       "11  https://im1.dineout.co.in/images/uploads/resta...  \n",
       "12  https://im1.dineout.co.in/images/uploads/resta...  "
      ]
     },
     "execution_count": 799,
     "metadata": {},
     "output_type": "execute_result"
    }
   ],
   "source": [
    "dineout_data"
   ]
  },
  {
   "cell_type": "markdown",
   "id": "affaacd0",
   "metadata": {},
   "source": [
    "# Question -10"
   ]
  },
  {
   "cell_type": "code",
   "execution_count": null,
   "id": "cea90e66",
   "metadata": {},
   "outputs": [],
   "source": []
  },
  {
   "cell_type": "code",
   "execution_count": 801,
   "id": "021d2426",
   "metadata": {},
   "outputs": [],
   "source": [
    "url10=\"https://scholar.google.com/citations?view_op=top_venues&hl=en\"\n",
    "response10=requests.get(url10)\n"
   ]
  },
  {
   "cell_type": "code",
   "execution_count": 802,
   "id": "cb3a13f1",
   "metadata": {},
   "outputs": [],
   "source": [
    "soup10=BeautifulSoup(response10.content,'html.parser')\n",
    "\n",
    "publi=[]\n",
    "rank=[]\n",
    "h5_index=[]\n",
    "h5_median=[]"
   ]
  },
  {
   "cell_type": "code",
   "execution_count": 803,
   "id": "9fafa25d",
   "metadata": {},
   "outputs": [],
   "source": [
    "c=soup10.find_all('id',attrs={'id':\"gsc_mvt_table\",'class':\"gsc_mp_table\"})"
   ]
  },
  {
   "cell_type": "code",
   "execution_count": 804,
   "id": "76294ea0",
   "metadata": {},
   "outputs": [],
   "source": [
    "d=soup10.find_all('td',class_=\"gsc_mvt_t\")\n",
    "for f in d:\n",
    "    c=f.text\n",
    "    publi.append(c)"
   ]
  },
  {
   "cell_type": "code",
   "execution_count": 805,
   "id": "dc33fd08",
   "metadata": {},
   "outputs": [],
   "source": [
    "m=soup10.find_all('td',class_=\"gsc_mvt_p\")\n",
    "for g in m:\n",
    "    j=g.text\n",
    "    rank.append(j)"
   ]
  },
  {
   "cell_type": "code",
   "execution_count": 806,
   "id": "f723bfaf",
   "metadata": {},
   "outputs": [],
   "source": [
    "u=soup10.find_all('a',class_=\"gs_ibl gsc_mp_anchor\")\n",
    "for r in u:\n",
    "    m=r.text\n",
    "    h5_index.append(m)\n",
    "    "
   ]
  },
  {
   "cell_type": "code",
   "execution_count": 807,
   "id": "44285837",
   "metadata": {},
   "outputs": [],
   "source": [
    "o=soup10.find_all('span',class_=\"gs_ibl gsc_mp_anchor\")\n",
    "for t in o:\n",
    "    g=t.text\n",
    "    h5_median.append(g)"
   ]
  },
  {
   "cell_type": "code",
   "execution_count": 808,
   "id": "7020f713",
   "metadata": {},
   "outputs": [],
   "source": [
    "Data_schlor=pd.DataFrame({'rank':rank,'publication':publi,'h5_index':h5_index,'h5_median':h5_median})"
   ]
  },
  {
   "cell_type": "code",
   "execution_count": 809,
   "id": "b8ab6cca",
   "metadata": {},
   "outputs": [
    {
     "data": {
      "text/html": [
       "<div>\n",
       "<style scoped>\n",
       "    .dataframe tbody tr th:only-of-type {\n",
       "        vertical-align: middle;\n",
       "    }\n",
       "\n",
       "    .dataframe tbody tr th {\n",
       "        vertical-align: top;\n",
       "    }\n",
       "\n",
       "    .dataframe thead th {\n",
       "        text-align: right;\n",
       "    }\n",
       "</style>\n",
       "<table border=\"1\" class=\"dataframe\">\n",
       "  <thead>\n",
       "    <tr style=\"text-align: right;\">\n",
       "      <th></th>\n",
       "      <th>rank</th>\n",
       "      <th>publication</th>\n",
       "      <th>h5_index</th>\n",
       "      <th>h5_median</th>\n",
       "    </tr>\n",
       "  </thead>\n",
       "  <tbody>\n",
       "    <tr>\n",
       "      <th>0</th>\n",
       "      <td>1.</td>\n",
       "      <td>Nature</td>\n",
       "      <td>444</td>\n",
       "      <td>667</td>\n",
       "    </tr>\n",
       "    <tr>\n",
       "      <th>1</th>\n",
       "      <td>2.</td>\n",
       "      <td>The New England Journal of Medicine</td>\n",
       "      <td>432</td>\n",
       "      <td>780</td>\n",
       "    </tr>\n",
       "    <tr>\n",
       "      <th>2</th>\n",
       "      <td>3.</td>\n",
       "      <td>Science</td>\n",
       "      <td>401</td>\n",
       "      <td>614</td>\n",
       "    </tr>\n",
       "    <tr>\n",
       "      <th>3</th>\n",
       "      <td>4.</td>\n",
       "      <td>IEEE/CVF Conference on Computer Vision and Pat...</td>\n",
       "      <td>389</td>\n",
       "      <td>627</td>\n",
       "    </tr>\n",
       "    <tr>\n",
       "      <th>4</th>\n",
       "      <td>5.</td>\n",
       "      <td>The Lancet</td>\n",
       "      <td>354</td>\n",
       "      <td>635</td>\n",
       "    </tr>\n",
       "    <tr>\n",
       "      <th>...</th>\n",
       "      <td>...</td>\n",
       "      <td>...</td>\n",
       "      <td>...</td>\n",
       "      <td>...</td>\n",
       "    </tr>\n",
       "    <tr>\n",
       "      <th>95</th>\n",
       "      <td>96.</td>\n",
       "      <td>Journal of Business Research</td>\n",
       "      <td>145</td>\n",
       "      <td>233</td>\n",
       "    </tr>\n",
       "    <tr>\n",
       "      <th>96</th>\n",
       "      <td>97.</td>\n",
       "      <td>Molecular Cancer</td>\n",
       "      <td>145</td>\n",
       "      <td>209</td>\n",
       "    </tr>\n",
       "    <tr>\n",
       "      <th>97</th>\n",
       "      <td>98.</td>\n",
       "      <td>Sensors</td>\n",
       "      <td>145</td>\n",
       "      <td>201</td>\n",
       "    </tr>\n",
       "    <tr>\n",
       "      <th>98</th>\n",
       "      <td>99.</td>\n",
       "      <td>Nature Climate Change</td>\n",
       "      <td>144</td>\n",
       "      <td>228</td>\n",
       "    </tr>\n",
       "    <tr>\n",
       "      <th>99</th>\n",
       "      <td>100.</td>\n",
       "      <td>IEEE Internet of Things Journal</td>\n",
       "      <td>144</td>\n",
       "      <td>212</td>\n",
       "    </tr>\n",
       "  </tbody>\n",
       "</table>\n",
       "<p>100 rows × 4 columns</p>\n",
       "</div>"
      ],
      "text/plain": [
       "    rank                                        publication h5_index h5_median\n",
       "0     1.                                             Nature      444       667\n",
       "1     2.                The New England Journal of Medicine      432       780\n",
       "2     3.                                            Science      401       614\n",
       "3     4.  IEEE/CVF Conference on Computer Vision and Pat...      389       627\n",
       "4     5.                                         The Lancet      354       635\n",
       "..   ...                                                ...      ...       ...\n",
       "95   96.                       Journal of Business Research      145       233\n",
       "96   97.                                   Molecular Cancer      145       209\n",
       "97   98.                                            Sensors      145       201\n",
       "98   99.                              Nature Climate Change      144       228\n",
       "99  100.                    IEEE Internet of Things Journal      144       212\n",
       "\n",
       "[100 rows x 4 columns]"
      ]
     },
     "execution_count": 809,
     "metadata": {},
     "output_type": "execute_result"
    }
   ],
   "source": [
    "Data_schlor"
   ]
  }
 ],
 "metadata": {
  "kernelspec": {
   "display_name": "Python 3 (ipykernel)",
   "language": "python",
   "name": "python3"
  },
  "language_info": {
   "codemirror_mode": {
    "name": "ipython",
    "version": 3
   },
   "file_extension": ".py",
   "mimetype": "text/x-python",
   "name": "python",
   "nbconvert_exporter": "python",
   "pygments_lexer": "ipython3",
   "version": "3.9.12"
  },
  "varInspector": {
   "cols": {
    "lenName": 16,
    "lenType": 16,
    "lenVar": 40
   },
   "kernels_config": {
    "python": {
     "delete_cmd_postfix": "",
     "delete_cmd_prefix": "del ",
     "library": "var_list.py",
     "varRefreshCmd": "print(var_dic_list())"
    },
    "r": {
     "delete_cmd_postfix": ") ",
     "delete_cmd_prefix": "rm(",
     "library": "var_list.r",
     "varRefreshCmd": "cat(var_dic_list()) "
    }
   },
   "types_to_exclude": [
    "module",
    "function",
    "builtin_function_or_method",
    "instance",
    "_Feature"
   ],
   "window_display": false
  }
 },
 "nbformat": 4,
 "nbformat_minor": 5
}
