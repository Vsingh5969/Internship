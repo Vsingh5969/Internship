{
 "cells": [
  {
   "cell_type": "code",
   "execution_count": 91,
   "id": "b9f05040",
   "metadata": {},
   "outputs": [],
   "source": [
    "# Write a python program to display IMDB’s Top rated 100 movies’ data (i.e. name, rating, year of release) & make Dataframe\n",
    "\n",
    "\n",
    "import pandas as pd \n",
    "import numpy as np\n",
    "import requests\n",
    "from bs4 import BeautifulSoup"
   ]
  },
  {
   "cell_type": "code",
   "execution_count": 92,
   "id": "62642a34",
   "metadata": {},
   "outputs": [],
   "source": [
    "url=\"https://www.imdb.com/search/title/?count=100&groups=top_1000&sort=user_rating\"\n",
    "response=requests.get(url)\n",
    "soup=BeautifulSoup(response.content,'html.parser')"
   ]
  },
  {
   "cell_type": "code",
   "execution_count": 93,
   "id": "5664d264",
   "metadata": {},
   "outputs": [],
   "source": [
    "## creating empty list\n",
    "name=[]\n",
    "rating=[]\n",
    "year=[]\n",
    "time=[]\n"
   ]
  },
  {
   "cell_type": "code",
   "execution_count": 94,
   "id": "0f1c8e3b",
   "metadata": {},
   "outputs": [],
   "source": [
    "movie_data=soup.find_all('div',attrs={'class':'lister-item mode-advanced'})"
   ]
  },
  {
   "cell_type": "code",
   "execution_count": 95,
   "id": "f790530b",
   "metadata": {},
   "outputs": [],
   "source": [
    "for store in movie_data:\n",
    "    nam=store.h3.a.text\n",
    "    name.append(nam)\n",
    "    \n",
    "    \n",
    "    rate=store.find('div',class_='inline-block ratings-imdb-rating').text.replace('\\n','')\n",
    "    rating.append(rate)\n",
    "    \n",
    "    at_year=store.find('span',class_='lister-item-year text-muted unbold').text.replace('(','').replace(')','')\n",
    "    year.append(at_year)\n",
    "    \n",
    "    rt_time=store.p.find('span',class_='runtime').text.replace('min','').replace(' ','')\n",
    "    time.append(rt_time)"
   ]
  },
  {
   "cell_type": "code",
   "execution_count": 98,
   "id": "e7b4a884",
   "metadata": {},
   "outputs": [],
   "source": [
    "idmi_movie_data=pd.DataFrame({'name':name,'rating':rating,'year':year,'time':time})"
   ]
  },
  {
   "cell_type": "code",
   "execution_count": 100,
   "id": "44ba7080",
   "metadata": {},
   "outputs": [
    {
     "data": {
      "text/html": [
       "<div>\n",
       "<style scoped>\n",
       "    .dataframe tbody tr th:only-of-type {\n",
       "        vertical-align: middle;\n",
       "    }\n",
       "\n",
       "    .dataframe tbody tr th {\n",
       "        vertical-align: top;\n",
       "    }\n",
       "\n",
       "    .dataframe thead th {\n",
       "        text-align: right;\n",
       "    }\n",
       "</style>\n",
       "<table border=\"1\" class=\"dataframe\">\n",
       "  <thead>\n",
       "    <tr style=\"text-align: right;\">\n",
       "      <th></th>\n",
       "      <th>name</th>\n",
       "      <th>rating</th>\n",
       "      <th>year</th>\n",
       "      <th>time</th>\n",
       "    </tr>\n",
       "  </thead>\n",
       "  <tbody>\n",
       "    <tr>\n",
       "      <th>0</th>\n",
       "      <td>The Shawshank Redemption</td>\n",
       "      <td>9.3</td>\n",
       "      <td>1994</td>\n",
       "      <td>142</td>\n",
       "    </tr>\n",
       "    <tr>\n",
       "      <th>1</th>\n",
       "      <td>The Godfather</td>\n",
       "      <td>9.2</td>\n",
       "      <td>1972</td>\n",
       "      <td>175</td>\n",
       "    </tr>\n",
       "    <tr>\n",
       "      <th>2</th>\n",
       "      <td>The Dark Knight</td>\n",
       "      <td>9.0</td>\n",
       "      <td>2008</td>\n",
       "      <td>152</td>\n",
       "    </tr>\n",
       "    <tr>\n",
       "      <th>3</th>\n",
       "      <td>The Lord of the Rings: The Return of the King</td>\n",
       "      <td>9.0</td>\n",
       "      <td>2003</td>\n",
       "      <td>201</td>\n",
       "    </tr>\n",
       "    <tr>\n",
       "      <th>4</th>\n",
       "      <td>Schindler's List</td>\n",
       "      <td>9.0</td>\n",
       "      <td>1993</td>\n",
       "      <td>195</td>\n",
       "    </tr>\n",
       "    <tr>\n",
       "      <th>...</th>\n",
       "      <td>...</td>\n",
       "      <td>...</td>\n",
       "      <td>...</td>\n",
       "      <td>...</td>\n",
       "    </tr>\n",
       "    <tr>\n",
       "      <th>95</th>\n",
       "      <td>Dangal</td>\n",
       "      <td>8.3</td>\n",
       "      <td>2016</td>\n",
       "      <td>161</td>\n",
       "    </tr>\n",
       "    <tr>\n",
       "      <th>96</th>\n",
       "      <td>Drishyam</td>\n",
       "      <td>8.3</td>\n",
       "      <td>2013</td>\n",
       "      <td>160</td>\n",
       "    </tr>\n",
       "    <tr>\n",
       "      <th>97</th>\n",
       "      <td>Jagten</td>\n",
       "      <td>8.3</td>\n",
       "      <td>2012</td>\n",
       "      <td>115</td>\n",
       "    </tr>\n",
       "    <tr>\n",
       "      <th>98</th>\n",
       "      <td>Jodaeiye Nader az Simin</td>\n",
       "      <td>8.3</td>\n",
       "      <td>2011</td>\n",
       "      <td>123</td>\n",
       "    </tr>\n",
       "    <tr>\n",
       "      <th>99</th>\n",
       "      <td>Incendies</td>\n",
       "      <td>8.3</td>\n",
       "      <td>2010</td>\n",
       "      <td>131</td>\n",
       "    </tr>\n",
       "  </tbody>\n",
       "</table>\n",
       "<p>100 rows × 4 columns</p>\n",
       "</div>"
      ],
      "text/plain": [
       "                                             name rating  year time\n",
       "0                        The Shawshank Redemption    9.3  1994  142\n",
       "1                                   The Godfather    9.2  1972  175\n",
       "2                                 The Dark Knight    9.0  2008  152\n",
       "3   The Lord of the Rings: The Return of the King    9.0  2003  201\n",
       "4                                Schindler's List    9.0  1993  195\n",
       "..                                            ...    ...   ...  ...\n",
       "95                                         Dangal    8.3  2016  161\n",
       "96                                       Drishyam    8.3  2013  160\n",
       "97                                         Jagten    8.3  2012  115\n",
       "98                        Jodaeiye Nader az Simin    8.3  2011  123\n",
       "99                                      Incendies    8.3  2010  131\n",
       "\n",
       "[100 rows x 4 columns]"
      ]
     },
     "execution_count": 100,
     "metadata": {},
     "output_type": "execute_result"
    }
   ],
   "source": [
    "idmi_movie_data"
   ]
  }
 ],
 "metadata": {
  "kernelspec": {
   "display_name": "Python 3 (ipykernel)",
   "language": "python",
   "name": "python3"
  },
  "language_info": {
   "codemirror_mode": {
    "name": "ipython",
    "version": 3
   },
   "file_extension": ".py",
   "mimetype": "text/x-python",
   "name": "python",
   "nbconvert_exporter": "python",
   "pygments_lexer": "ipython3",
   "version": "3.9.12"
  },
  "varInspector": {
   "cols": {
    "lenName": 16,
    "lenType": 16,
    "lenVar": 40
   },
   "kernels_config": {
    "python": {
     "delete_cmd_postfix": "",
     "delete_cmd_prefix": "del ",
     "library": "var_list.py",
     "varRefreshCmd": "print(var_dic_list())"
    },
    "r": {
     "delete_cmd_postfix": ") ",
     "delete_cmd_prefix": "rm(",
     "library": "var_list.r",
     "varRefreshCmd": "cat(var_dic_list()) "
    }
   },
   "types_to_exclude": [
    "module",
    "function",
    "builtin_function_or_method",
    "instance",
    "_Feature"
   ],
   "window_display": false
  }
 },
 "nbformat": 4,
 "nbformat_minor": 5
}
