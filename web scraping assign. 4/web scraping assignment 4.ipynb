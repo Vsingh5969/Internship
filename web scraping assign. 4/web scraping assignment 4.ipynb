{
 "cells": [
  {
   "cell_type": "code",
   "execution_count": 3,
   "id": "4c8d9742",
   "metadata": {},
   "outputs": [],
   "source": [
    "import selenium\n",
    "import pandas as pd \n",
    "from bs4 import BeautifulSoup\n",
    "import time\n",
    "import numpy as np\n",
    "\n",
    "from selenium import webdriver\n",
    "from selenium.common.exceptions import NoSuchElementException,StaleElementReferenceException\n",
    "import requests\n",
    "import re\n",
    "from selenium.webdriver.common.by import By"
   ]
  },
  {
   "cell_type": "code",
   "execution_count": 131,
   "id": "8af81894",
   "metadata": {},
   "outputs": [
    {
     "name": "stderr",
     "output_type": "stream",
     "text": [
      "<ipython-input-131-ad03ffb848c1>:1: DeprecationWarning: executable_path has been deprecated, please pass in a Service object\n",
      "  driver= webdriver.Chrome('chromedriver.exe')\n"
     ]
    }
   ],
   "source": [
    "driver= webdriver.Chrome('chromedriver.exe')\n",
    "driver.get(' https://www.bcci.tv/.')"
   ]
  },
  {
   "cell_type": "code",
   "execution_count": 132,
   "id": "d7b2a405",
   "metadata": {},
   "outputs": [],
   "source": [
    "match_url=[]"
   ]
  },
  {
   "cell_type": "code",
   "execution_count": 133,
   "id": "cf119439",
   "metadata": {},
   "outputs": [],
   "source": [
    "international=driver.find_element(By.XPATH,'/html/body/nav/div[1]/div[2]/ul[1]/li[2]')\n",
    "international.click()"
   ]
  },
  {
   "cell_type": "code",
   "execution_count": 152,
   "id": "a035992f",
   "metadata": {},
   "outputs": [
    {
     "data": {
      "text/plain": [
       "['https://www.bcci.tv/events/77/india-tour-of-zimbabwe-odi-series-2022/match/618/1st-odi',\n",
       " 'https://www.bcci.tv/events/77/india-tour-of-zimbabwe-odi-series-2022/match/619/2nd-odi',\n",
       " 'https://www.bcci.tv/events/77/india-tour-of-zimbabwe-odi-series-2022/match/620/3rd-odi']"
      ]
     },
     "execution_count": 152,
     "metadata": {},
     "output_type": "execute_result"
    }
   ],
   "source": [
    "url"
   ]
  },
  {
   "cell_type": "code",
   "execution_count": 151,
   "id": "70e63de0",
   "metadata": {},
   "outputs": [],
   "source": [
    "link=driver.find_elements(By.XPATH,'//a[@class=\"match-center-btn ng-scope\"]')\n",
    "for l in link:\n",
    "    c=l.get_attribute('href')\n",
    "    url.append(c)"
   ]
  },
  {
   "cell_type": "code",
   "execution_count": 162,
   "id": "02dc9e1c",
   "metadata": {},
   "outputs": [],
   "source": [
    "for i in url:\n",
    "    driver.get(i)\n",
    "    time.sleep(4)\n",
    "    try :\n",
    "        tornament_link=driver.find_elements(By.XPATH,'/html/body/div[2]/div/div[1]/div[3]/div[6]/div[4]/div[2]/div[2]/div/div/ul/li[1]/span[2]')\n",
    "        for t in tornament_link:\n",
    "            c=t.text\n",
    "            tournament.append(c)\n",
    "    except NoSuchElementException :\n",
    "        tournament.append('not present')"
   ]
  },
  {
   "cell_type": "code",
   "execution_count": 171,
   "id": "b0a622ba",
   "metadata": {},
   "outputs": [],
   "source": [
    "tournment=tournament[57:]"
   ]
  },
  {
   "cell_type": "code",
   "execution_count": 248,
   "id": "7ff3f59d",
   "metadata": {},
   "outputs": [],
   "source": [
    "\n",
    "match=[]\n",
    "venue=[]\n",
    "date=[]"
   ]
  },
  {
   "cell_type": "code",
   "execution_count": 249,
   "id": "2eab9054",
   "metadata": {},
   "outputs": [],
   "source": [
    "for p in url:\n",
    "    driver.get(p)\n",
    "    time.sleep(4)\n",
    "    try :\n",
    "        match_link=driver.find_element(By.XPATH,'/html/body/div[2]/div/div[1]/div[3]/div[6]/div[4]/div[2]/div[2]/div/div/ul/li[2]')\n",
    "        venue_link=driver.find_element(By.XPATH,'/html/body/div[2]/div/div[1]/div[3]/div[6]/div[4]/div[2]/div[2]/div/div/ul/li[3]')\n",
    "        date_link=driver.find_element(By.XPATH,'/html/body/div[2]/div/div[1]/div[3]/div[6]/div[3]/div/div[1]/div/div[2]/div[3]/div[2]')\n",
    "        \n",
    "        match.append(match_link.text)\n",
    "        venue.append(venue_link.text)\n",
    "        date.append(date_link.text)\n",
    "    except NoSuchElementException :\n",
    "        match.append('not present')\n",
    "        venue.append('not present')\n",
    "        date.append('not present')"
   ]
  },
  {
   "cell_type": "code",
   "execution_count": 250,
   "id": "f035b82c",
   "metadata": {},
   "outputs": [
    {
     "data": {
      "text/plain": [
       "(3, 3, 3)"
      ]
     },
     "execution_count": 250,
     "metadata": {},
     "output_type": "execute_result"
    }
   ],
   "source": [
    "len(match), len(venue),len(date)"
   ]
  },
  {
   "cell_type": "code",
   "execution_count": 259,
   "id": "86e900f5",
   "metadata": {},
   "outputs": [],
   "source": [
    "odi_match=pd.DataFrame({'Tournament':tournment,'match':match,'venue':venue,'date':date})\n",
    "odi_match.to_csv(r'C:\\Users\\Baibhav kumar Singh\\Desktop\\scrap_data\\odi_match.csv')"
   ]
  },
  {
   "cell_type": "code",
   "execution_count": null,
   "id": "bd487769",
   "metadata": {},
   "outputs": [],
   "source": []
  },
  {
   "cell_type": "code",
   "execution_count": 260,
   "id": "c625d843",
   "metadata": {},
   "outputs": [
    {
     "name": "stderr",
     "output_type": "stream",
     "text": [
      "<ipython-input-260-6af28f4eba18>:1: DeprecationWarning: executable_path has been deprecated, please pass in a Service object\n",
      "  driver= webdriver.Chrome('chromedriver.exe')\n"
     ]
    }
   ],
   "source": [
    "driver= webdriver.Chrome('chromedriver.exe')\n",
    "driver.get('https://www.guru99.com/')"
   ]
  },
  {
   "cell_type": "code",
   "execution_count": 281,
   "id": "d6db3017",
   "metadata": {},
   "outputs": [],
   "source": [
    "input_keys=driver.find_element(By.XPATH,'/html/body/div[1]/div/div/div/main/div/article/div/div[1]/div[1]/div[2]/div/div[1]/div/div/div/form/table/tbody/tr/td[1]/div/table/tbody/tr/td[1]/input')\n",
    "input_keys.send_keys('selenium exception handling ')\n",
    "search_button=driver.find_element(By.XPATH,'/html/body/div[1]/div/div/div/main/div/article/div/div[1]/div[1]/div[2]/div/div[1]/div/div/div/form/table/tbody/tr/td[2]/button')\n",
    "search_button.click()"
   ]
  },
  {
   "cell_type": "code",
   "execution_count": 312,
   "id": "e132bb9b",
   "metadata": {},
   "outputs": [
    {
     "data": {
      "text/plain": [
       "[<selenium.webdriver.remote.webelement.WebElement (session=\"9cf85c646831aad370d448c7afe6ada4\", element=\"eb3186a6-b7b1-4d26-935d-ee623e4b2864\")>]"
      ]
     },
     "execution_count": 312,
     "metadata": {},
     "output_type": "execute_result"
    }
   ],
   "source": [
    "to_open=driver.find_elements(By.XPATH,'/html/body/div[1]/div/div/div/main/div/article/div/div[1]/div[1]/div[2]/div/div[1]/div/div/div/div[1]/div[6]/div[2]/div/div/div[1]/div[1]/div[1]/div[2]/div[3]')\n",
    "to_open"
   ]
  },
  {
   "cell_type": "code",
   "execution_count": 338,
   "id": "0df03f7d",
   "metadata": {},
   "outputs": [
    {
     "data": {
      "text/plain": [
       "['https://www.google.com/url?client=internal-element-cse&cx=005996710952209167719:cqkoqomazkc&q=https://www.guru99.com/exception-handling-selenium.html&sa=U&ved=2ahUKEwjDna2yobb5AhXawjgGHVH6BYAQFnoECAAQAg&usg=AOvVaw3WS-73Znr_xvLHSfG5MHii']"
      ]
     },
     "execution_count": 338,
     "metadata": {},
     "output_type": "execute_result"
    }
   ],
   "source": [
    "selenium=driver.find_element(By.XPATH,'//a[@class=\"gs-title\"]')\n",
    "l=selenium.get_attribute('href')\n",
    "link.append(l)\n",
    "link"
   ]
  },
  {
   "cell_type": "code",
   "execution_count": 351,
   "id": "d5a10c59",
   "metadata": {},
   "outputs": [],
   "source": [
    "for i in link:\n",
    "    driver.get(i)\n",
    "    time.sleep(4)\n",
    "    \n",
    "    try:\n",
    "        des_link=driver.find_elements(By.TAG_NAME,'td')\n",
    "        for d in des_link:\n",
    "            c=d.text\n",
    "            excep_name.append(c)\n",
    "    except NoSuchElementException:\n",
    "        excep_name.append('element not present')"
   ]
  },
  {
   "cell_type": "code",
   "execution_count": 365,
   "id": "78901b66",
   "metadata": {},
   "outputs": [
    {
     "data": {
      "text/plain": [
       "['This type of Selenium exception occurs when an existing element in DOM has a feature set as hidden.',\n",
       " 'This Selenium exception occurs when an element is presented in the DOM, but you can be able to select. Therefore, it is not possible to interact.',\n",
       " 'This Exception occurs if an element could not be found.',\n",
       " 'This Exception occurs if the frame target to be switched to does not exist.',\n",
       " 'This Exception occurs when you switch to no presented alert.',\n",
       " 'This Exception occurs if the window target to be switch does not exist.',\n",
       " 'This Selenium exception occurs happens when the web element is detached from the current DOM.',\n",
       " 'The WebDriver is acting after you quit the browser.',\n",
       " 'Thrown when there is not enough time for a command to be completed. For Example, the element searched wasn’t found in the specified time.',\n",
       " 'This Exception takes place when the WebDriver is acting right after you close the browser.',\n",
       " 'This type of Exception takes place when there is a disconnection in the driver.',\n",
       " 'The command may not be completed as the element receiving the events is concealing the element which was requested clicked.',\n",
       " 'This Selenium exception is thrown when any element is presented in the DOM. However, it is impossible to interact with such an element.',\n",
       " 'This happens while interacting with the Firefox extension or the remote driver server.',\n",
       " 'Exception is used as a placeholder in case if the server returns an error without a stack trace.',\n",
       " 'This expectation will occur when IME engine activation has failed.',\n",
       " 'It takes place when IME support is unavailable.',\n",
       " 'Navigation made the user agent to hit a certificate warning. This can cause by an invalid or expired TLS certificate.',\n",
       " 'It occurs when an argument does not belong to the expected type.',\n",
       " 'This happens when you try to add a cookie under a different domain instead of current URL.',\n",
       " 'This type of Exception matches an interacting operation that is not valid.',\n",
       " 'It occurs when command can’t be finished when the element is invalid.',\n",
       " 'This Exception took place when the given session ID is not included in the list of active sessions. It means the session does not exist or is inactive either.',\n",
       " 'This occurs when the frame or window target to be switched does not exist.',\n",
       " 'This issue occurs while executing JavaScript given by the user.',\n",
       " 'It occurs when you afford to get the session when the session is not created.',\n",
       " 'This kind of Exception occurs when the attribute of an element could not be found.',\n",
       " 'It takes place if the target provided to the ActionChains move() methodology is not valid. For Example, out of the document.',\n",
       " 'ContextAware does mobile device testing.',\n",
       " 'This Exception occurs when no cookie matching with the given pathname found for all the associated cookies of the currently browsing document.',\n",
       " 'This Exception is a subclass of WebDriverException. This will occur when an element on the DOM does not exist.',\n",
       " 'This Selenium exception is thrown when the server is not responding because of the problem that the capabilities described are not proper.',\n",
       " 'It is not possible to capture a screen.',\n",
       " 'It happens when a new session could not be successfully created.',\n",
       " 'This occurs if a driver is unable to set a cookie.',\n",
       " 'Happens if a support class did not get a web element as expected.',\n",
       " 'This expectation occurs when there is an alert, but WebDriver is not able to perform Alert operation.',\n",
       " 'It occurs when there is the appearance of an unexpected alert.',\n",
       " 'This Exception happens when the requested command matches with a known URL but and not matching with a methodology for a specific URL.',\n",
       " 'This Exception occurs only when the browser is not able to be opened or crashed because of some reason.',\n",
       " 'This occurs when remote WebDriver does n’t send valid commands as expected.']"
      ]
     },
     "execution_count": 365,
     "metadata": {},
     "output_type": "execute_result"
    }
   ],
   "source": [
    "name=excep_name[1: :2]\n",
    "description=excep_name[2: :2]\n",
    "description\n"
   ]
  },
  {
   "cell_type": "code",
   "execution_count": 369,
   "id": "4c0e95b1",
   "metadata": {},
   "outputs": [],
   "source": [
    "exception_handling=pd.DataFrame({'exception_name':name,'Description':description})\n",
    "exception_handling.to_csv(r'C:\\Users\\Baibhav kumar Singh\\Desktop\\scrap_data\\exception handling.csv')"
   ]
  },
  {
   "cell_type": "code",
   "execution_count": null,
   "id": "d7e13452",
   "metadata": {},
   "outputs": [],
   "source": []
  },
  {
   "cell_type": "code",
   "execution_count": 95,
   "id": "d301dd06",
   "metadata": {},
   "outputs": [],
   "source": [
    "num=[]"
   ]
  },
  {
   "cell_type": "code",
   "execution_count": 5,
   "id": "13068a95",
   "metadata": {},
   "outputs": [
    {
     "name": "stderr",
     "output_type": "stream",
     "text": [
      "<ipython-input-5-8900f56bfa6a>:1: DeprecationWarning: executable_path has been deprecated, please pass in a Service object\n",
      "  driver= webdriver.Chrome('chromedriver.exe')\n"
     ]
    }
   ],
   "source": [
    "driver= webdriver.Chrome('chromedriver.exe')\n",
    "driver.get('http://statisticstimes.com')"
   ]
  },
  {
   "cell_type": "code",
   "execution_count": 12,
   "id": "f419fb62",
   "metadata": {},
   "outputs": [],
   "source": [
    "economic=driver.find_element(By.XPATH,'/html/body/div[2]/div[1]/div[2]/div[2]')\n",
    "economic.click()\n",
    "indian_gdp=driver.find_element(By.XPATH,'/html/body/div[2]/div[1]/div[2]/div[2]/div/a[3]')\n",
    "indian_gdp.click()\n",
    "indian_state_gdp=driver.find_element(By.XPATH,'/html/body/div[2]/div[2]/div[2]/ul/li[1]/a')\n",
    "indian_state_gdp.click()"
   ]
  },
  {
   "cell_type": "code",
   "execution_count": 152,
   "id": "8c4c4826",
   "metadata": {},
   "outputs": [],
   "source": [
    "data=driver.find_elements(By.XPATH,'//tr[@role=\"row\"]')\n",
    "for d in data:\n",
    "    c=d.text.split(' ')[-6:-1]\n",
    "    gdp.append(c)"
   ]
  },
  {
   "cell_type": "code",
   "execution_count": 160,
   "id": "cef57476",
   "metadata": {
    "scrolled": false
   },
   "outputs": [
    {
     "data": {
      "text/plain": [
       "33"
      ]
     },
     "execution_count": 160,
     "metadata": {},
     "output_type": "execute_result"
    }
   ],
   "source": [
    "gf=gdp[2:35]\n",
    "len(gf)\n"
   ]
  },
  {
   "cell_type": "code",
   "execution_count": 162,
   "id": "11b5d5ff",
   "metadata": {},
   "outputs": [],
   "source": [
    "df1=pd.DataFrame(gf)"
   ]
  },
  {
   "cell_type": "code",
   "execution_count": 166,
   "id": "4e8249d2",
   "metadata": {},
   "outputs": [],
   "source": [
    "name=[]"
   ]
  },
  {
   "cell_type": "code",
   "execution_count": 246,
   "id": "b4874bf9",
   "metadata": {},
   "outputs": [],
   "source": [
    "data_link=driver.find_elements(By.XPATH,'//td[@class=\"name\"]')\n",
    "for d in data_link:\n",
    "    c=d.text\n",
    "    \n",
    "    "
   ]
  },
  {
   "cell_type": "code",
   "execution_count": 172,
   "id": "fd3b4664",
   "metadata": {},
   "outputs": [],
   "source": [
    "n=name[0:33]\n",
    "df2=pd.DataFrame(n)"
   ]
  },
  {
   "cell_type": "code",
   "execution_count": 248,
   "id": "020170f5",
   "metadata": {},
   "outputs": [],
   "source": [
    "data_link=driver.find_elements(By.XPATH,'//tr[@role=\"row\"]')\n",
    "for d in data_link:\n",
    "    c=d.text.split(' ')"
   ]
  },
  {
   "cell_type": "code",
   "execution_count": 243,
   "id": "63e0d378",
   "metadata": {},
   "outputs": [],
   "source": [
    "df=pd.concat([df2,df1,df3],axis=1,join='inner')"
   ]
  },
  {
   "cell_type": "code",
   "execution_count": 254,
   "id": "ce42b530",
   "metadata": {},
   "outputs": [],
   "source": [
    "df.columns=['name','gdps 19-20','gdps 18-19','share 18-19','gdp(billion)','gdps at-(2011-12) 19-20','18-19']"
   ]
  },
  {
   "cell_type": "code",
   "execution_count": 256,
   "id": "dcbeda9e",
   "metadata": {},
   "outputs": [],
   "source": [
    "df.to_csv(r'C:\\Users\\Baibhav kumar Singh\\Desktop\\scrap_data\\gdp.csv')"
   ]
  },
  {
   "cell_type": "code",
   "execution_count": null,
   "id": "99c81264",
   "metadata": {},
   "outputs": [],
   "source": [
    "# 5"
   ]
  },
  {
   "cell_type": "code",
   "execution_count": 257,
   "id": "467dc084",
   "metadata": {},
   "outputs": [
    {
     "name": "stderr",
     "output_type": "stream",
     "text": [
      "<ipython-input-257-bc09a1c8801a>:1: DeprecationWarning: executable_path has been deprecated, please pass in a Service object\n",
      "  driver= webdriver.Chrome('chromedriver.exe')\n"
     ]
    }
   ],
   "source": [
    "driver= webdriver.Chrome('chromedriver.exe')\n",
    "driver.get('https://github.com/')"
   ]
  },
  {
   "cell_type": "code",
   "execution_count": 267,
   "id": "8cca5cb9",
   "metadata": {},
   "outputs": [],
   "source": [
    "input_item=driver.find_element(By.XPATH,'/html/body/div[1]/header/div/div[2]/div[2]/div[1]/div/div/form/label/input[1]')\n",
    "input_item.send_keys('trending')"
   ]
  },
  {
   "cell_type": "code",
   "execution_count": 269,
   "id": "5ec4f19f",
   "metadata": {},
   "outputs": [],
   "source": [
    "enter=driver.find_element(By.XPATH,'/html/body/div[1]/header/div/div[2]/div[2]/div[1]/div/div/form/label/div')\n",
    "enter.click()"
   ]
  },
  {
   "cell_type": "code",
   "execution_count": 275,
   "id": "0f73c363",
   "metadata": {},
   "outputs": [],
   "source": [
    "trending=driver.find_element(By.XPATH,'/html/body/div[4]/main/div/div[3]/div/ul/li[1]/div[2]/div[1]/div[1]/a')\n",
    "trending.click()\n"
   ]
  },
  {
   "cell_type": "code",
   "execution_count": 283,
   "id": "85536705",
   "metadata": {},
   "outputs": [],
   "source": [
    "in_profile=driver.find_element(By.XPATH,'/html/body/div[4]/div/main/div/div[1]/div/div/span[1]/a')\n",
    "in_profile.click()\n"
   ]
  },
  {
   "cell_type": "code",
   "execution_count": 285,
   "id": "9672b4b0",
   "metadata": {},
   "outputs": [],
   "source": [
    "repositery=driver.find_element(By.XPATH,'/html/body/div[4]/main/div[1]/div/div/div[2]/div/nav/a[2]')\n",
    "repositery.click()"
   ]
  },
  {
   "cell_type": "code",
   "execution_count": 300,
   "id": "7391a570",
   "metadata": {},
   "outputs": [],
   "source": [
    "url=[]"
   ]
  },
  {
   "cell_type": "code",
   "execution_count": 301,
   "id": "1a59e40a",
   "metadata": {},
   "outputs": [],
   "source": [
    "name_link=driver.find_elements(By.XPATH,'//a[@itemprop=\"name codeRepository\"]')\n",
    "for i in name_link:\n",
    "    \n",
    "    if i.get_attribute('href') and 'https://github.com/' in i.get_attribute('href'):\n",
    "                url.append(i.get_attribute('href'))\n"
   ]
  },
  {
   "cell_type": "code",
   "execution_count": 316,
   "id": "b9fecb08",
   "metadata": {},
   "outputs": [],
   "source": [
    "=[]"
   ]
  },
  {
   "cell_type": "code",
   "execution_count": 313,
   "id": "7b48991e",
   "metadata": {},
   "outputs": [],
   "source": [
    "for i in url:\n",
    "    driver.get(i)\n",
    "    time.sleep(4)\n",
    "    try:\n",
    "        name_l=driver.find_element(By.XPATH,'//a[@data-pjax=\"#repo-content-pjax-container\"]')\n",
    "        \n",
    "        name.append(name_l.text)\n",
    "       \n",
    "    except NoSuchElementException:\n",
    "        name_l.append('not present')\n",
    "        "
   ]
  },
  {
   "cell_type": "code",
   "execution_count": 310,
   "id": "4508e8d7",
   "metadata": {},
   "outputs": [],
   "source": [
    "for i in url:\n",
    "    driver.get(i)\n",
    "    time.sleep(4)\n",
    "    try:\n",
    "        language_l=driver.find_element(By.XPATH,'//li[@class=\"d-inline\"]')\n",
    "        language.append(language_l.text)\n",
    "    except NoSuchElementException :\n",
    "        language.append('not_present')\n",
    "    "
   ]
  },
  {
   "cell_type": "code",
   "execution_count": 317,
   "id": "bcc8b10c",
   "metadata": {},
   "outputs": [],
   "source": [
    "for i in url:\n",
    "    driver.get(i)\n",
    "    time.sleep(4)\n",
    "    try:\n",
    "        des_l=driver.find_element(By.XPATH,'//p[@class=\"f4 my-3\"]')\n",
    "        des.append(des_l.text)\n",
    "    except NoSuchElementException :\n",
    "        des.append('not_present')\n",
    "    "
   ]
  },
  {
   "cell_type": "code",
   "execution_count": 319,
   "id": "7342c2e0",
   "metadata": {},
   "outputs": [],
   "source": [
    "for i in url:\n",
    "    driver.get(i)\n",
    "    time.sleep(4)\n",
    "    try:\n",
    "        count_l=driver.find_element(By.XPATH,'//span[@class=\"Counter\"]')\n",
    "        count.append(count_l.text)\n",
    "    except NoSuchElementException :\n",
    "        count.append('not_present')\n",
    "    "
   ]
  },
  {
   "cell_type": "code",
   "execution_count": 327,
   "id": "295da39d",
   "metadata": {},
   "outputs": [],
   "source": [
    "k={'repositery':name_github,'language_used':language_github,'Description':des,'contribution':count}"
   ]
  },
  {
   "cell_type": "code",
   "execution_count": 329,
   "id": "30f2a89b",
   "metadata": {},
   "outputs": [
    {
     "data": {
      "text/html": [
       "<div>\n",
       "<style scoped>\n",
       "    .dataframe tbody tr th:only-of-type {\n",
       "        vertical-align: middle;\n",
       "    }\n",
       "\n",
       "    .dataframe tbody tr th {\n",
       "        vertical-align: top;\n",
       "    }\n",
       "\n",
       "    .dataframe thead th {\n",
       "        text-align: right;\n",
       "    }\n",
       "</style>\n",
       "<table border=\"1\" class=\"dataframe\">\n",
       "  <thead>\n",
       "    <tr style=\"text-align: right;\">\n",
       "      <th></th>\n",
       "      <th>repositery</th>\n",
       "      <th>language_used</th>\n",
       "      <th>Description</th>\n",
       "      <th>contribution</th>\n",
       "    </tr>\n",
       "  </thead>\n",
       "  <tbody>\n",
       "    <tr>\n",
       "      <th>0</th>\n",
       "      <td>Parked</td>\n",
       "      <td>JavaScript\\n100.0%</td>\n",
       "      <td>App developed for INDENG 85 - Amazoogle Challe...</td>\n",
       "      <td>0</td>\n",
       "    </tr>\n",
       "    <tr>\n",
       "      <th>1</th>\n",
       "      <td>GiveMeAttention</td>\n",
       "      <td>JavaScript\\n82.4%</td>\n",
       "      <td>Give</td>\n",
       "      <td>0</td>\n",
       "    </tr>\n",
       "    <tr>\n",
       "      <th>2</th>\n",
       "      <td>BIT</td>\n",
       "      <td>Jupyter Notebook\\n44.3%</td>\n",
       "      <td>Measuring Human Perseverance</td>\n",
       "      <td>2</td>\n",
       "    </tr>\n",
       "    <tr>\n",
       "      <th>3</th>\n",
       "      <td>Parked</td>\n",
       "      <td>JavaScript\\n100.0%</td>\n",
       "      <td>Personal Docs site</td>\n",
       "      <td>0</td>\n",
       "    </tr>\n",
       "    <tr>\n",
       "      <th>4</th>\n",
       "      <td>GiveMeAttention</td>\n",
       "      <td>JavaScript\\n82.4%</td>\n",
       "      <td>Fetch currently trending stocks on Reddit</td>\n",
       "      <td>204</td>\n",
       "    </tr>\n",
       "    <tr>\n",
       "      <th>5</th>\n",
       "      <td>BIT</td>\n",
       "      <td>Jupyter Notebook\\n44.3%</td>\n",
       "      <td>Collection of React Styled Components created ...</td>\n",
       "      <td>12</td>\n",
       "    </tr>\n",
       "    <tr>\n",
       "      <th>6</th>\n",
       "      <td>Docs</td>\n",
       "      <td>not_present</td>\n",
       "      <td>Machine Learning Algorithms implemented in var...</td>\n",
       "      <td>34</td>\n",
       "    </tr>\n",
       "    <tr>\n",
       "      <th>7</th>\n",
       "      <td>Reddit-Stock-Trends</td>\n",
       "      <td>Python\\n43.5%</td>\n",
       "      <td>The fundamental package for scientific computi...</td>\n",
       "      <td>7.2k</td>\n",
       "    </tr>\n",
       "    <tr>\n",
       "      <th>8</th>\n",
       "      <td>React-Community-Elements</td>\n",
       "      <td>JavaScript\\n100.0%</td>\n",
       "      <td>💻 Algorithms that you must know as computer sc...</td>\n",
       "      <td>383</td>\n",
       "    </tr>\n",
       "    <tr>\n",
       "      <th>9</th>\n",
       "      <td>ML-FromScratch</td>\n",
       "      <td>Jupyter Notebook\\n89.5%</td>\n",
       "      <td>not_present</td>\n",
       "      <td>0</td>\n",
       "    </tr>\n",
       "    <tr>\n",
       "      <th>10</th>\n",
       "      <td>numpy</td>\n",
       "      <td>Python\\n63.3%</td>\n",
       "      <td>A public directory built for covid-19 related ...</td>\n",
       "      <td>0</td>\n",
       "    </tr>\n",
       "    <tr>\n",
       "      <th>11</th>\n",
       "      <td>cs-algorithms</td>\n",
       "      <td>C++\\n55.1%</td>\n",
       "      <td>A web application to explore currently hyped s...</td>\n",
       "      <td>34</td>\n",
       "    </tr>\n",
       "    <tr>\n",
       "      <th>12</th>\n",
       "      <td>iam-abbas</td>\n",
       "      <td>not_present</td>\n",
       "      <td>not_present</td>\n",
       "      <td>0</td>\n",
       "    </tr>\n",
       "    <tr>\n",
       "      <th>13</th>\n",
       "      <td>NeedCovidHelp</td>\n",
       "      <td>CSS\\n54.1%</td>\n",
       "      <td>Write ups for PicoCTF 2021 challenges that I c...</td>\n",
       "      <td>0</td>\n",
       "    </tr>\n",
       "    <tr>\n",
       "      <th>14</th>\n",
       "      <td>reddit-hyped-stocks</td>\n",
       "      <td>JavaScript\\n68.1%</td>\n",
       "      <td>A barebones flask appliction using Redis queue...</td>\n",
       "      <td>0</td>\n",
       "    </tr>\n",
       "    <tr>\n",
       "      <th>15</th>\n",
       "      <td>LOTGaming-Web</td>\n",
       "      <td>CSS\\n63.5%</td>\n",
       "      <td>not_present</td>\n",
       "      <td>0</td>\n",
       "    </tr>\n",
       "    <tr>\n",
       "      <th>16</th>\n",
       "      <td>PicoCTF-2021</td>\n",
       "      <td>not_present</td>\n",
       "      <td>A computer algebra system written in pure Python</td>\n",
       "      <td>3.7k</td>\n",
       "    </tr>\n",
       "    <tr>\n",
       "      <th>17</th>\n",
       "      <td>Redis-Docker-Example</td>\n",
       "      <td>Python\\n91.8%</td>\n",
       "      <td>Show currently trending crypto currencies in R...</td>\n",
       "      <td>0</td>\n",
       "    </tr>\n",
       "    <tr>\n",
       "      <th>18</th>\n",
       "      <td>vercel</td>\n",
       "      <td>Jupyter Notebook\\n45.3%</td>\n",
       "      <td>A collection of awesome readme templates to di...</td>\n",
       "      <td>6.5k</td>\n",
       "    </tr>\n",
       "    <tr>\n",
       "      <th>19</th>\n",
       "      <td>sympy</td>\n",
       "      <td>Python\\n98.8%</td>\n",
       "      <td>A quick URL shortner built using Flask + MySQL...</td>\n",
       "      <td>0</td>\n",
       "    </tr>\n",
       "    <tr>\n",
       "      <th>20</th>\n",
       "      <td>Reddit-Crypto-Trends</td>\n",
       "      <td>not_present</td>\n",
       "      <td>Generating horror stories using GPT-2</td>\n",
       "      <td>0</td>\n",
       "    </tr>\n",
       "    <tr>\n",
       "      <th>21</th>\n",
       "      <td>Awesome-Profile-README-templates</td>\n",
       "      <td>JavaScript\\n100.0%</td>\n",
       "      <td>A Software that matches volunteers and caretak...</td>\n",
       "      <td>0</td>\n",
       "    </tr>\n",
       "    <tr>\n",
       "      <th>22</th>\n",
       "      <td>URL-Shortener</td>\n",
       "      <td>VBA\\n99.2%</td>\n",
       "      <td>APP Built using React Native</td>\n",
       "      <td>0</td>\n",
       "    </tr>\n",
       "    <tr>\n",
       "      <th>23</th>\n",
       "      <td>Transformer-Stories</td>\n",
       "      <td>Jupyter Notebook\\n100.0%</td>\n",
       "      <td>Demo for Wrangler JS</td>\n",
       "      <td>0</td>\n",
       "    </tr>\n",
       "    <tr>\n",
       "      <th>24</th>\n",
       "      <td>Caretaker-Matching</td>\n",
       "      <td>Python\\n100.0%</td>\n",
       "      <td>LAB problems in JAVA for CS301 course</td>\n",
       "      <td>0</td>\n",
       "    </tr>\n",
       "    <tr>\n",
       "      <th>25</th>\n",
       "      <td>Projekt-20</td>\n",
       "      <td>JavaScript\\n66.3%</td>\n",
       "      <td>Visual Studio Code</td>\n",
       "      <td>23.1k</td>\n",
       "    </tr>\n",
       "    <tr>\n",
       "      <th>26</th>\n",
       "      <td>WranglerJs-Demo</td>\n",
       "      <td>JavaScript\\n100.0%</td>\n",
       "      <td>A declarative, efficient, and flexible JavaScr...</td>\n",
       "      <td>39.8k</td>\n",
       "    </tr>\n",
       "    <tr>\n",
       "      <th>27</th>\n",
       "      <td>OOP-Java-CS301-Lab</td>\n",
       "      <td>Java\\n100.0%</td>\n",
       "      <td>not_present</td>\n",
       "      <td>0</td>\n",
       "    </tr>\n",
       "    <tr>\n",
       "      <th>28</th>\n",
       "      <td>vscode</td>\n",
       "      <td>TypeScript\\n94.5%</td>\n",
       "      <td>not_present</td>\n",
       "      <td>0</td>\n",
       "    </tr>\n",
       "    <tr>\n",
       "      <th>29</th>\n",
       "      <td>react</td>\n",
       "      <td>JavaScript\\n95.0%</td>\n",
       "      <td>Pepper is React Template for Developer Portfolio</td>\n",
       "      <td>2</td>\n",
       "    </tr>\n",
       "  </tbody>\n",
       "</table>\n",
       "</div>"
      ],
      "text/plain": [
       "                          repositery             language_used  \\\n",
       "0                             Parked        JavaScript\\n100.0%   \n",
       "1                    GiveMeAttention         JavaScript\\n82.4%   \n",
       "2                                BIT   Jupyter Notebook\\n44.3%   \n",
       "3                             Parked        JavaScript\\n100.0%   \n",
       "4                    GiveMeAttention         JavaScript\\n82.4%   \n",
       "5                                BIT   Jupyter Notebook\\n44.3%   \n",
       "6                               Docs               not_present   \n",
       "7                Reddit-Stock-Trends             Python\\n43.5%   \n",
       "8           React-Community-Elements        JavaScript\\n100.0%   \n",
       "9                     ML-FromScratch   Jupyter Notebook\\n89.5%   \n",
       "10                             numpy             Python\\n63.3%   \n",
       "11                     cs-algorithms                C++\\n55.1%   \n",
       "12                         iam-abbas               not_present   \n",
       "13                     NeedCovidHelp                CSS\\n54.1%   \n",
       "14               reddit-hyped-stocks         JavaScript\\n68.1%   \n",
       "15                     LOTGaming-Web                CSS\\n63.5%   \n",
       "16                      PicoCTF-2021               not_present   \n",
       "17              Redis-Docker-Example             Python\\n91.8%   \n",
       "18                            vercel   Jupyter Notebook\\n45.3%   \n",
       "19                             sympy             Python\\n98.8%   \n",
       "20              Reddit-Crypto-Trends               not_present   \n",
       "21  Awesome-Profile-README-templates        JavaScript\\n100.0%   \n",
       "22                     URL-Shortener                VBA\\n99.2%   \n",
       "23               Transformer-Stories  Jupyter Notebook\\n100.0%   \n",
       "24                Caretaker-Matching            Python\\n100.0%   \n",
       "25                        Projekt-20         JavaScript\\n66.3%   \n",
       "26                   WranglerJs-Demo        JavaScript\\n100.0%   \n",
       "27                OOP-Java-CS301-Lab              Java\\n100.0%   \n",
       "28                            vscode         TypeScript\\n94.5%   \n",
       "29                             react         JavaScript\\n95.0%   \n",
       "\n",
       "                                          Description contribution  \n",
       "0   App developed for INDENG 85 - Amazoogle Challe...            0  \n",
       "1                                                Give            0  \n",
       "2                        Measuring Human Perseverance            2  \n",
       "3                                  Personal Docs site            0  \n",
       "4           Fetch currently trending stocks on Reddit          204  \n",
       "5   Collection of React Styled Components created ...           12  \n",
       "6   Machine Learning Algorithms implemented in var...           34  \n",
       "7   The fundamental package for scientific computi...         7.2k  \n",
       "8   💻 Algorithms that you must know as computer sc...          383  \n",
       "9                                         not_present            0  \n",
       "10  A public directory built for covid-19 related ...            0  \n",
       "11  A web application to explore currently hyped s...           34  \n",
       "12                                        not_present            0  \n",
       "13  Write ups for PicoCTF 2021 challenges that I c...            0  \n",
       "14  A barebones flask appliction using Redis queue...            0  \n",
       "15                                        not_present            0  \n",
       "16   A computer algebra system written in pure Python         3.7k  \n",
       "17  Show currently trending crypto currencies in R...            0  \n",
       "18  A collection of awesome readme templates to di...         6.5k  \n",
       "19  A quick URL shortner built using Flask + MySQL...            0  \n",
       "20              Generating horror stories using GPT-2            0  \n",
       "21  A Software that matches volunteers and caretak...            0  \n",
       "22                       APP Built using React Native            0  \n",
       "23                               Demo for Wrangler JS            0  \n",
       "24              LAB problems in JAVA for CS301 course            0  \n",
       "25                                 Visual Studio Code        23.1k  \n",
       "26  A declarative, efficient, and flexible JavaScr...        39.8k  \n",
       "27                                        not_present            0  \n",
       "28                                        not_present            0  \n",
       "29   Pepper is React Template for Developer Portfolio            2  "
      ]
     },
     "execution_count": 329,
     "metadata": {},
     "output_type": "execute_result"
    }
   ],
   "source": [
    "df_github=pd.DataFrame(k)\n",
    "df_github"
   ]
  },
  {
   "cell_type": "code",
   "execution_count": 331,
   "id": "9a9ffe46",
   "metadata": {},
   "outputs": [],
   "source": [
    "df_github.to_csv(r'C:\\Users\\Baibhav kumar Singh\\Desktop\\scrap_data\\github.repositery.csv')\n"
   ]
  },
  {
   "cell_type": "code",
   "execution_count": 349,
   "id": "9469fab9",
   "metadata": {},
   "outputs": [],
   "source": [
    "##6"
   ]
  },
  {
   "cell_type": "code",
   "execution_count": 333,
   "id": "13731c00",
   "metadata": {},
   "outputs": [
    {
     "name": "stderr",
     "output_type": "stream",
     "text": [
      "<ipython-input-333-acf4bfc25034>:1: DeprecationWarning: executable_path has been deprecated, please pass in a Service object\n",
      "  driver= webdriver.Chrome('chromedriver.exe')\n"
     ]
    }
   ],
   "source": [
    "driver= webdriver.Chrome('chromedriver.exe')\n",
    "driver.get(' https:/www.billboard.com/')"
   ]
  },
  {
   "cell_type": "code",
   "execution_count": 336,
   "id": "60786ab2",
   "metadata": {},
   "outputs": [],
   "source": [
    "economic=driver.find_element(By.XPATH,'/html/body/div[3]/div[6]/div/div/div/ul/li[1]/ul/li[2]/a')\n",
    "economic.click()"
   ]
  },
  {
   "cell_type": "code",
   "execution_count": 352,
   "id": "7648ba1f",
   "metadata": {},
   "outputs": [],
   "source": [
    "t=driver.find_elements(By.XPATH,'//li[@class=\"lrv-u-width-100p\"]')\n",
    "for t in t:\n",
    "    c=t.text.split('\\n')\n",
    "    songs.append(c)"
   ]
  },
  {
   "cell_type": "code",
   "execution_count": 359,
   "id": "3de5c15f",
   "metadata": {
    "scrolled": false
   },
   "outputs": [],
   "source": [
    "top_100_billboardsongs=pd.DataFrame(songs)\n",
    "top_100_billboardsongs.columns=[['Song name','Artist name',\n",
    "'Last week rank','Peak rank','Weeks on board']]"
   ]
  },
  {
   "cell_type": "code",
   "execution_count": 361,
   "id": "02d4f42c",
   "metadata": {},
   "outputs": [],
   "source": [
    "top_100_billboardsongs.to_csv(r'C:\\Users\\Baibhav kumar Singh\\Desktop\\scrap_data\\top_100_billboard_songs.csv')"
   ]
  },
  {
   "cell_type": "code",
   "execution_count": null,
   "id": "f07d64ee",
   "metadata": {},
   "outputs": [],
   "source": []
  },
  {
   "cell_type": "code",
   "execution_count": 373,
   "id": "a09baaf0",
   "metadata": {},
   "outputs": [],
   "source": [
    "#### 7"
   ]
  },
  {
   "cell_type": "code",
   "execution_count": 363,
   "id": "9018632b",
   "metadata": {},
   "outputs": [
    {
     "name": "stderr",
     "output_type": "stream",
     "text": [
      "<ipython-input-363-b9fd04c042cd>:1: DeprecationWarning: executable_path has been deprecated, please pass in a Service object\n",
      "  driver= webdriver.Chrome('chromedriver.exe')\n"
     ]
    }
   ],
   "source": [
    "driver= webdriver.Chrome('chromedriver.exe')\n",
    "driver.get('https://www.naukri.com/hr-recruiters-consultants')"
   ]
  },
  {
   "cell_type": "code",
   "execution_count": 364,
   "id": "0d7ee97b",
   "metadata": {},
   "outputs": [],
   "source": [
    "search_item=driver.find_element(By.XPATH,'/html/body/div[2]/div[2]/div[1]/div[1]/form/div[1]/div/div[1]/div[1]/div[2]/input')\n",
    "search_item.send_keys('Data science')"
   ]
  },
  {
   "cell_type": "code",
   "execution_count": 365,
   "id": "441e8658",
   "metadata": {},
   "outputs": [],
   "source": [
    "search_button=driver.find_element(By.XPATH,'/html/body/div[2]/div[2]/div[1]/div[1]/form/div[1]/button')\n",
    "search_button.click()"
   ]
  },
  {
   "cell_type": "code",
   "execution_count": 394,
   "id": "c3596880",
   "metadata": {},
   "outputs": [],
   "source": [
    "r=driver.find_elements(By.XPATH,'//div[@class=\"recInfo\"]')\n",
    "for r in r:\n",
    "    c=r.text.split('\\n')\n",
    "    hr_recureter.append(c)"
   ]
  },
  {
   "cell_type": "code",
   "execution_count": 379,
   "id": "0b034529",
   "metadata": {
    "scrolled": false
   },
   "outputs": [],
   "source": [
    "hr_recruiters=pd.DataFrame(hr_recureter)\n",
    "hr_recruiters.columns=[['Name',\n",
    "'Designation',\n",
    "'Company',\n",
    "'Location','4','Skills they hire for','6']]"
   ]
  },
  {
   "cell_type": "code",
   "execution_count": 381,
   "id": "691e2c88",
   "metadata": {
    "scrolled": false
   },
   "outputs": [
    {
     "name": "stderr",
     "output_type": "stream",
     "text": [
      "B:\\i new\\lib\\site-packages\\pandas\\core\\generic.py:4153: PerformanceWarning: dropping on a non-lexsorted multi-index without a level parameter may impact performance.\n",
      "  obj = obj._drop_axis(labels, axis, level=level, errors=errors)\n"
     ]
    }
   ],
   "source": [
    "hr_recruiters.drop(['4','6'],axis=1,inplace=True)"
   ]
  },
  {
   "cell_type": "code",
   "execution_count": 383,
   "id": "65ed168d",
   "metadata": {
    "scrolled": false
   },
   "outputs": [],
   "source": [
    "hr_recruiters.to_csv(r'C:\\Users\\Baibhav kumar Singh\\Desktop\\scrap_data\\hr_recruiter.csv')"
   ]
  },
  {
   "cell_type": "code",
   "execution_count": 422,
   "id": "c0ed4e42",
   "metadata": {},
   "outputs": [],
   "source": [
    "###8\n"
   ]
  },
  {
   "cell_type": "code",
   "execution_count": 384,
   "id": "96555677",
   "metadata": {},
   "outputs": [
    {
     "name": "stderr",
     "output_type": "stream",
     "text": [
      "<ipython-input-384-7c4b8eeb7450>:1: DeprecationWarning: executable_path has been deprecated, please pass in a Service object\n",
      "  driver= webdriver.Chrome('chromedriver.exe')\n"
     ]
    }
   ],
   "source": [
    "driver= webdriver.Chrome('chromedriver.exe')\n",
    "driver.get(' https://www.theguardian.com/news/datablog/2012/aug/09/best-selling-books-all-time-fifty-shades-grey-compare')"
   ]
  },
  {
   "cell_type": "code",
   "execution_count": 461,
   "id": "f175832e",
   "metadata": {},
   "outputs": [],
   "source": [
    "k=driver.find_elements(By.XPATH,'/html/body/div/div[2]/div[2]/div/div[2]/div/table/tbody')"
   ]
  },
  {
   "cell_type": "code",
   "execution_count": 470,
   "id": "a8037dd7",
   "metadata": {},
   "outputs": [],
   "source": [
    "for i in k:\n",
    "    c=i.text.split('\\n')\n",
    "    rv.append(c)"
   ]
  },
  {
   "cell_type": "code",
   "execution_count": 480,
   "id": "911f237d",
   "metadata": {},
   "outputs": [
    {
     "data": {
      "text/plain": [
       "[['1 Da Vinci Code,The Brown, Dan 5,094,805 Transworld Crime, Thriller & Adventure',\n",
       "  \"2 Harry Potter and the Deathly Hallows Rowling, J.K. 4,475,152 Bloomsbury Children's Fiction\",\n",
       "  \"3 Harry Potter and the Philosopher's Stone Rowling, J.K. 4,200,654 Bloomsbury Children's Fiction\",\n",
       "  \"4 Harry Potter and the Order of the Phoenix Rowling, J.K. 4,179,479 Bloomsbury Children's Fiction\",\n",
       "  '5 Fifty Shades of Grey James, E. L. 3,758,936 Random House Romance & Sagas',\n",
       "  \"6 Harry Potter and the Goblet of Fire Rowling, J.K. 3,583,215 Bloomsbury Children's Fiction\",\n",
       "  \"7 Harry Potter and the Chamber of Secrets Rowling, J.K. 3,484,047 Bloomsbury Children's Fiction\",\n",
       "  \"8 Harry Potter and the Prisoner of Azkaban Rowling, J.K. 3,377,906 Bloomsbury Children's Fiction\",\n",
       "  '9 Angels and Demons Brown, Dan 3,193,946 Transworld Crime, Thriller & Adventure',\n",
       "  \"10 Harry Potter and the Half-blood Prince:Children's Edition Rowling, J.K. 2,950,264 Bloomsbury Children's Fiction\",\n",
       "  '11 Fifty Shades Darker James, E. L. 2,479,784 Random House Romance & Sagas',\n",
       "  '12 Twilight Meyer, Stephenie 2,315,405 Little, Brown Book Young Adult Fiction',\n",
       "  '13 Girl with the Dragon Tattoo,The:Millennium Trilogy Larsson, Stieg 2,233,570 Quercus Crime, Thriller & Adventure',\n",
       "  '14 Fifty Shades Freed James, E. L. 2,193,928 Random House Romance & Sagas',\n",
       "  '15 Lost Symbol,The Brown, Dan 2,183,031 Transworld Crime, Thriller & Adventure',\n",
       "  '16 New Moon Meyer, Stephenie 2,152,737 Little, Brown Book Young Adult Fiction',\n",
       "  '17 Deception Point Brown, Dan 2,062,145 Transworld Crime, Thriller & Adventure',\n",
       "  '18 Eclipse Meyer, Stephenie 2,052,876 Little, Brown Book Young Adult Fiction',\n",
       "  '19 Lovely Bones,The Sebold, Alice 2,005,598 Pan Macmillan General & Literary Fiction',\n",
       "  '20 Curious Incident of the Dog in the Night-time,The Haddon, Mark 1,979,552 Random House General & Literary Fiction',\n",
       "  '21 Digital Fortress Brown, Dan 1,928,900 Transworld Crime, Thriller & Adventure',\n",
       "  '22 Short History of Nearly Everything,A Bryson, Bill 1,852,919 Transworld Popular Science',\n",
       "  '23 Girl Who Played with Fire,The:Millennium Trilogy Larsson, Stieg 1,814,784 Quercus Crime, Thriller & Adventure',\n",
       "  '24 Breaking Dawn Meyer, Stephenie 1,787,118 Little, Brown Book Young Adult Fiction',\n",
       "  '25 Very Hungry Caterpillar,The:The Very Hungry Caterpillar Carle, Eric 1,783,535 Penguin Picture Books',\n",
       "  '26 Gruffalo,The Donaldson, Julia 1,781,269 Pan Macmillan Picture Books',\n",
       "  \"27 Jamie's 30-Minute Meals Oliver, Jamie 1,743,266 Penguin Food & Drink: General\",\n",
       "  '28 Kite Runner,The Hosseini, Khaled 1,629,119 Bloomsbury General & Literary Fiction',\n",
       "  '29 One Day Nicholls, David 1,616,068 Hodder & Stoughton General & Literary Fiction',\n",
       "  '30 Thousand Splendid Suns,A Hosseini, Khaled 1,583,992 Bloomsbury General & Literary Fiction',\n",
       "  \"31 Girl Who Kicked the Hornets' Nest,The:Millennium Trilogy Larsson, Stieg 1,555,135 Quercus Crime, Thriller & Adventure\",\n",
       "  \"32 Time Traveler's Wife,The Niffenegger, Audrey 1,546,886 Random House General & Literary Fiction\",\n",
       "  '33 Atonement McEwan, Ian 1,539,428 Random House General & Literary Fiction',\n",
       "  \"34 Bridget Jones's Diary:A Novel Fielding, Helen 1,508,205 Pan Macmillan General & Literary Fiction\",\n",
       "  '35 World According to Clarkson,The Clarkson, Jeremy 1,489,403 Penguin Humour: Collections & General',\n",
       "  \"36 Captain Corelli's Mandolin Bernieres, Louis de 1,352,318 Random House General & Literary Fiction\",\n",
       "  '37 Sound of Laughter,The Kay, Peter 1,310,207 Random House Autobiography: General',\n",
       "  '38 Life of Pi Martel, Yann 1,310,176 Canongate General & Literary Fiction',\n",
       "  '39 Billy Connolly Stephenson, Pamela 1,231,957 HarperCollins Biography: The Arts',\n",
       "  '40 Child Called It,A Pelzer, Dave 1,217,712 Orion Autobiography: General',\n",
       "  \"41 Gruffalo's Child,The Donaldson, Julia 1,208,711 Pan Macmillan Picture Books\",\n",
       "  \"42 Angela's Ashes:A Memoir of a Childhood McCourt, Frank 1,204,058 HarperCollins Autobiography: General\",\n",
       "  '43 Birdsong Faulks, Sebastian 1,184,967 Random House General & Literary Fiction',\n",
       "  '44 Northern Lights:His Dark Materials S. Pullman, Philip 1,181,503 Scholastic Ltd. Young Adult Fiction',\n",
       "  '45 Labyrinth Mosse, Kate 1,181,093 Orion General & Literary Fiction',\n",
       "  '46 Harry Potter and the Half-blood Prince Rowling, J.K. 1,153,181 Bloomsbury Science Fiction & Fantasy',\n",
       "  '47 Help,The Stockett, Kathryn 1,132,336 Penguin General & Literary Fiction',\n",
       "  '48 Man and Boy Parsons, Tony 1,130,802 HarperCollins General & Literary Fiction',\n",
       "  '49 Memoirs of a Geisha Golden, Arthur 1,126,337 Random House General & Literary Fiction',\n",
       "  \"50 No.1 Ladies' Detective Agency,The:No.1 Ladies' Detective Agency S. McCall Smith, Alexander 1,115,549 Little, Brown Book Crime, Thriller & Adventure\",\n",
       "  '51 Island,The Hislop, Victoria 1,108,328 Headline General & Literary Fiction',\n",
       "  '52 PS, I Love You Ahern, Cecelia 1,107,379 HarperCollins General & Literary Fiction',\n",
       "  '53 You are What You Eat:The Plan That Will Change Your Life McKeith, Gillian 1,104,403 Penguin Fitness & Diet',\n",
       "  '54 Shadow of the Wind,The Zafon, Carlos Ruiz 1,092,349 Orion General & Literary Fiction',\n",
       "  \"55 Tales of Beedle the Bard,The Rowling, J.K. 1,090,847 Bloomsbury Children's Fiction\",\n",
       "  '56 Broker,The Grisham, John 1,087,262 Random House Crime, Thriller & Adventure',\n",
       "  \"57 Dr. Atkins' New Diet Revolution:The No-hunger, Luxurious Weight Loss P Atkins, Robert C. 1,054,196 Random House Fitness & Diet\",\n",
       "  '58 Subtle Knife,The:His Dark Materials S. Pullman, Philip 1,037,160 Scholastic Ltd. Young Adult Fiction',\n",
       "  '59 Eats, Shoots and Leaves:The Zero Tolerance Approach to Punctuation Truss, Lynne 1,023,688 Profile Books Group Usage & Writing Guides',\n",
       "  \"60 Delia's How to Cook:(Bk.1) Smith, Delia 1,015,956 Random House Food & Drink: General\",\n",
       "  '61 Chocolat Harris, Joanne 1,009,873 Transworld General & Literary Fiction',\n",
       "  '62 Boy in the Striped Pyjamas,The Boyne, John 1,004,414 Random House Childrens Books G Young Adult Fiction',\n",
       "  \"63 My Sister's Keeper Picoult, Jodi 1,003,780 Hodder & Stoughton General & Literary Fiction\",\n",
       "  '64 Amber Spyglass,The:His Dark Materials S. Pullman, Philip 1,002,314 Scholastic Ltd. Young Adult Fiction',\n",
       "  '65 To Kill a Mockingbird Lee, Harper 998,213 Random House General & Literary Fiction',\n",
       "  '66 Men are from Mars, Women are from Venus:A Practical Guide for Improvin Gray, John 992,846 HarperCollins Popular Culture & Media: General Interest',\n",
       "  '67 Dear Fatty French, Dawn 986,753 Random House Autobiography: The Arts',\n",
       "  '68 Short History of Tractors in Ukrainian,A Lewycka, Marina 986,115 Penguin General & Literary Fiction',\n",
       "  '69 Hannibal Harris, Thomas 970,509 Random House Crime, Thriller & Adventure',\n",
       "  '70 Lord of the Rings,The Tolkien, J. R. R. 967,466 HarperCollins Science Fiction & Fantasy',\n",
       "  '71 Stupid White Men:...and Other Sorry Excuses for the State of the Natio Moore, Michael 963,353 Penguin Current Affairs & Issues',\n",
       "  '72 Interpretation of Murder,The Rubenfeld, Jed 962,515 Headline Crime, Thriller & Adventure',\n",
       "  '73 Sharon Osbourne Extreme:My Autobiography Osbourne, Sharon 959,496 Little, Brown Book Autobiography: The Arts',\n",
       "  '74 Alchemist,The:A Fable About Following Your Dream Coelho, Paulo 956,114 HarperCollins General & Literary Fiction',\n",
       "  \"75 At My Mother's Knee ...:and Other Low Joints O'Grady, Paul 945,640 Transworld Autobiography: The Arts\",\n",
       "  '76 Notes from a Small Island Bryson, Bill 931,312 Transworld Travel Writing',\n",
       "  '77 Return of the Naked Chef,The Oliver, Jamie 925,425 Penguin Food & Drink: General',\n",
       "  '78 Bridget Jones: The Edge of Reason Fielding, Helen 924,695 Pan Macmillan General & Literary Fiction',\n",
       "  \"79 Jamie's Italy Oliver, Jamie 906,968 Penguin National & Regional Cuisine\",\n",
       "  '80 I Can Make You Thin McKenna, Paul 905,086 Transworld Fitness & Diet',\n",
       "  '81 Down Under Bryson, Bill 890,847 Transworld Travel Writing',\n",
       "  '82 Summons,The Grisham, John 869,671 Random House Crime, Thriller & Adventure',\n",
       "  '83 Small Island Levy, Andrea 869,659 Headline General & Literary Fiction',\n",
       "  '84 Nigella Express Lawson, Nigella 862,602 Random House Food & Drink: General',\n",
       "  '85 Brick Lane Ali, Monica 856,540 Transworld General & Literary Fiction',\n",
       "  \"86 Memory Keeper's Daughter,The Edwards, Kim 845,858 Penguin General & Literary Fiction\",\n",
       "  '87 Room on the Broom Donaldson, Julia 842,535 Pan Macmillan Picture Books',\n",
       "  '88 About a Boy Hornby, Nick 828,215 Penguin General & Literary Fiction',\n",
       "  '89 My Booky Wook Brand, Russell 820,563 Hodder & Stoughton Autobiography: The Arts',\n",
       "  '90 God Delusion,The Dawkins, Richard 816,907 Transworld Popular Science',\n",
       "  '91 \"Beano\" Annual,The 0 816,585 D.C. Thomson Children\\'s Annuals',\n",
       "  '92 White Teeth Smith, Zadie 815,586 Penguin General & Literary Fiction',\n",
       "  '93 House at Riverton,The Morton, Kate 814,370 Pan Macmillan General & Literary Fiction',\n",
       "  '94 Book Thief,The Zusak, Markus 809,641 Transworld General & Literary Fiction',\n",
       "  '95 Nights of Rain and Stars Binchy, Maeve 808,900 Orion General & Literary Fiction',\n",
       "  '96 Ghost,The Harris, Robert 807,311 Random House General & Literary Fiction',\n",
       "  '97 Happy Days with the Naked Chef Oliver, Jamie 794,201 Penguin Food & Drink: General',\n",
       "  '98 Hunger Games,The:Hunger Games Trilogy Collins, Suzanne 792,187 Scholastic Ltd. Young Adult Fiction',\n",
       "  \"99 Lost Boy,The:A Foster Child's Search for the Love of a Family Pelzer, Dave 791,507 Orion Biography: General\",\n",
       "  \"100 Jamie's Ministry of Food:Anyone Can Learn to Cook in 24 Hours Oliver, Jamie 791,095 Penguin Food & Drink: General\"]]"
      ]
     },
     "execution_count": 480,
     "metadata": {},
     "output_type": "execute_result"
    }
   ],
   "source": [
    "rv"
   ]
  },
  {
   "cell_type": "code",
   "execution_count": null,
   "id": "5a38beee",
   "metadata": {},
   "outputs": [],
   "source": [
    "##9"
   ]
  },
  {
   "cell_type": "code",
   "execution_count": 481,
   "id": "9609a47c",
   "metadata": {},
   "outputs": [
    {
     "name": "stderr",
     "output_type": "stream",
     "text": [
      "<ipython-input-481-39d87d1389fa>:1: DeprecationWarning: executable_path has been deprecated, please pass in a Service object\n",
      "  driver= webdriver.Chrome('chromedriver.exe')\n"
     ]
    }
   ],
   "source": [
    "driver= webdriver.Chrome('chromedriver.exe')\n",
    "driver.get('https://www.imdb.com/list/ls095964455/')"
   ]
  },
  {
   "cell_type": "code",
   "execution_count": 484,
   "id": "bf84c10e",
   "metadata": {},
   "outputs": [],
   "source": [
    "tv_serise=driver.find_elements(By.XPATH,'//div[@class=\"lister-item-content\"]')"
   ]
  },
  {
   "cell_type": "code",
   "execution_count": 491,
   "id": "09a3de7a",
   "metadata": {},
   "outputs": [],
   "source": [
    "for t in tv_serise:\n",
    "    c=t.text.split('\\n')\n",
    "    tv.append(c)"
   ]
  },
  {
   "cell_type": "code",
   "execution_count": 496,
   "id": "380bcae4",
   "metadata": {
    "scrolled": false
   },
   "outputs": [],
   "source": [
    "data_9=pd.DataFrame(tv)\n",
    "data_9.to_csv(r'C:\\Users\\Baibhav kumar Singh\\Desktop\\scrap_data\\tv-series.csv')"
   ]
  },
  {
   "cell_type": "code",
   "execution_count": null,
   "id": "37cf84d1",
   "metadata": {},
   "outputs": [],
   "source": []
  },
  {
   "cell_type": "code",
   "execution_count": null,
   "id": "af77033e",
   "metadata": {},
   "outputs": [],
   "source": [
    "#### 10"
   ]
  },
  {
   "cell_type": "code",
   "execution_count": null,
   "id": "1db9519e",
   "metadata": {},
   "outputs": [],
   "source": []
  },
  {
   "cell_type": "code",
   "execution_count": 497,
   "id": "94c73b4c",
   "metadata": {},
   "outputs": [
    {
     "name": "stderr",
     "output_type": "stream",
     "text": [
      "<ipython-input-497-5723502fa8e3>:1: DeprecationWarning: executable_path has been deprecated, please pass in a Service object\n",
      "  driver= webdriver.Chrome('chromedriver.exe')\n"
     ]
    }
   ],
   "source": [
    "driver= webdriver.Chrome('chromedriver.exe')\n",
    "driver.get('https://archive.ics.uci.edu/')"
   ]
  },
  {
   "cell_type": "code",
   "execution_count": 498,
   "id": "b8c3d49f",
   "metadata": {},
   "outputs": [],
   "source": [
    "view_all_dataset=driver.find_element(By.XPATH,'/html/body/table[2]/tbody/tr/td/span/b/a')\n",
    "view_all_dataset.click()"
   ]
  },
  {
   "cell_type": "code",
   "execution_count": 525,
   "id": "6b35f0d6",
   "metadata": {},
   "outputs": [],
   "source": [
    "data_ie=[]"
   ]
  },
  {
   "cell_type": "code",
   "execution_count": 531,
   "id": "e4be7031",
   "metadata": {},
   "outputs": [],
   "source": [
    "link=driver.find_elements(By.XPATH,'//p[@class=\"normal\"]')\n",
    "\n",
    "for i in link:\n",
    "    \n",
    "    if i.get_attribute('href') and 'https://archive.ics.uci.edu/ml/' in i.get_attribute('href'):\n",
    "                url.append(i.get_attribute('href'))\n"
   ]
  },
  {
   "cell_type": "code",
   "execution_count": 526,
   "id": "42335e6f",
   "metadata": {
    "scrolled": false
   },
   "outputs": [],
   "source": [
    "k=driver.find_elements(By.XPATH,'/html/body/table[2]/tbody/tr/td[2]/table[2]/tbody')\n",
    "for i in k:\n",
    "    c=i.text.split('\\n')\n",
    "    data_ie.append(c)"
   ]
  },
  {
   "cell_type": "code",
   "execution_count": 533,
   "id": "c6518fb7",
   "metadata": {
    "scrolled": false
   },
   "outputs": [
    {
     "data": {
      "text/plain": [
       "['https://archive.ics.uci.edu/ml/datasets/Abalone']"
      ]
     },
     "execution_count": 533,
     "metadata": {},
     "output_type": "execute_result"
    }
   ],
   "source": [
    "url"
   ]
  }
 ],
 "metadata": {
  "kernelspec": {
   "display_name": "Python 3",
   "language": "python",
   "name": "python3"
  },
  "language_info": {
   "codemirror_mode": {
    "name": "ipython",
    "version": 3
   },
   "file_extension": ".py",
   "mimetype": "text/x-python",
   "name": "python",
   "nbconvert_exporter": "python",
   "pygments_lexer": "ipython3",
   "version": "3.8.8"
  },
  "varInspector": {
   "cols": {
    "lenName": 16,
    "lenType": 16,
    "lenVar": 40
   },
   "kernels_config": {
    "python": {
     "delete_cmd_postfix": "",
     "delete_cmd_prefix": "del ",
     "library": "var_list.py",
     "varRefreshCmd": "print(var_dic_list())"
    },
    "r": {
     "delete_cmd_postfix": ") ",
     "delete_cmd_prefix": "rm(",
     "library": "var_list.r",
     "varRefreshCmd": "cat(var_dic_list()) "
    }
   },
   "types_to_exclude": [
    "module",
    "function",
    "builtin_function_or_method",
    "instance",
    "_Feature"
   ],
   "window_display": false
  }
 },
 "nbformat": 4,
 "nbformat_minor": 5
}
