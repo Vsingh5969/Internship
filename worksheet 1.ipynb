{
 "cells": [
  {
   "cell_type": "code",
   "execution_count": 90,
   "id": "cd75d9a2",
   "metadata": {},
   "outputs": [
    {
     "name": "stdout",
     "output_type": "stream",
     "text": [
      "input12\n",
      "Factorial of 12 is 479001600\n"
     ]
    }
   ],
   "source": [
    "# 11 Write a python program to find the factorial of a number?\n",
    "\n",
    "import math\n",
    "\n",
    "def factorial(n):\n",
    "    return(math.factorial(n))\n",
    "\n",
    "n = int(input('input'))\n",
    "print(\"Factorial of\", n, \"is\",\n",
    "     factorial(n))\n",
    "        "
   ]
  },
  {
   "cell_type": "code",
   "execution_count": 91,
   "id": "55cd09b9",
   "metadata": {},
   "outputs": [
    {
     "name": "stdout",
     "output_type": "stream",
     "text": [
      "Enter any number: 12\n",
      "12 is not a prime number\n"
     ]
    }
   ],
   "source": [
    "## 12 Write a python program to find whether a number is prime or composite ?\n",
    "\n",
    "number = int(input(\"Enter any number: \"))\n",
    "\n",
    "if number > 1:\n",
    "    for i in range(2, number):\n",
    "        if (number % i) == 0:\n",
    "            print(number, \"is not a prime number\")\n",
    "            break\n",
    "    else:\n",
    "        print(number, \"is a prime number\")\n",
    "else:\n",
    "    print(number, \"is not a prime number\")"
   ]
  },
  {
   "cell_type": "code",
   "execution_count": 75,
   "id": "cc4d0df9",
   "metadata": {},
   "outputs": [
    {
     "name": "stdout",
     "output_type": "stream",
     "text": [
      "Enter string:madam\n",
      "The string is a palindrome\n"
     ]
    }
   ],
   "source": [
    "## 13 Write a python program to check whether a given string is palindrome or not ?\n",
    "\n",
    "string = input(\"Enter string:\")\n",
    "if(string==string[::-1]):\n",
    "    print(\"The string is a palindrome\")\n",
    "      \n",
    "else:\n",
    "      print(\"The string isn't a palindrome\")"
   ]
  },
  {
   "cell_type": "code",
   "execution_count": 89,
   "id": "6f93a979",
   "metadata": {},
   "outputs": [
    {
     "name": "stdout",
     "output_type": "stream",
     "text": [
      "Enter first side: 10\n",
      "Enter second side: 23\n",
      "Enter third side: 21\n",
      "The area of the triangle is 104.95713410721541\n"
     ]
    }
   ],
   "source": [
    "# 14 Write a Python program to get the third side of right-angled triangle from two given sides?\n",
    "\n",
    "\n",
    "a = float(input('Enter first side: '))\n",
    "b = float(input('Enter second side: '))\n",
    "c = float(input('Enter third side: '))\n",
    "\n",
    "\n",
    "s = (a + b + c) / 2\n",
    "\n",
    "# calculate the area\n",
    "area = (s*(s-a)*(s-b)*(s-c)) ** 0.5\n",
    "print('The area of the triangle is',area)"
   ]
  },
  {
   "cell_type": "code",
   "execution_count": 92,
   "id": "1f0faa98",
   "metadata": {},
   "outputs": [
    {
     "name": "stdout",
     "output_type": "stream",
     "text": [
      "enter_string_value:\n",
      "Frequency_of_string Counter()\n"
     ]
    }
   ],
   "source": [
    "## 15 Write a python program to print the frequency of each of the characters present in a given string\n",
    "\n",
    "from collections import Counter\n",
    "\n",
    "test= str(input('enter_string_value:'))\n",
    "ferq=Counter(test)\n",
    "print('Frequency_of_string',str(ferq))"
   ]
  },
  {
   "cell_type": "code",
   "execution_count": 112,
   "id": "02ea0200",
   "metadata": {},
   "outputs": [
    {
     "data": {
      "text/plain": [
       "24"
      ]
     },
     "execution_count": 112,
     "metadata": {},
     "output_type": "execute_result"
    }
   ],
   "source": []
  },
  {
   "cell_type": "code",
   "execution_count": null,
   "id": "d63f194a",
   "metadata": {},
   "outputs": [],
   "source": []
  },
  {
   "cell_type": "code",
   "execution_count": null,
   "id": "d278007b",
   "metadata": {},
   "outputs": [],
   "source": []
  }
 ],
 "metadata": {
  "kernelspec": {
   "display_name": "Python 3 (ipykernel)",
   "language": "python",
   "name": "python3"
  },
  "language_info": {
   "codemirror_mode": {
    "name": "ipython",
    "version": 3
   },
   "file_extension": ".py",
   "mimetype": "text/x-python",
   "name": "python",
   "nbconvert_exporter": "python",
   "pygments_lexer": "ipython3",
   "version": "3.9.12"
  },
  "varInspector": {
   "cols": {
    "lenName": 16,
    "lenType": 16,
    "lenVar": 40
   },
   "kernels_config": {
    "python": {
     "delete_cmd_postfix": "",
     "delete_cmd_prefix": "del ",
     "library": "var_list.py",
     "varRefreshCmd": "print(var_dic_list())"
    },
    "r": {
     "delete_cmd_postfix": ") ",
     "delete_cmd_prefix": "rm(",
     "library": "var_list.r",
     "varRefreshCmd": "cat(var_dic_list()) "
    }
   },
   "types_to_exclude": [
    "module",
    "function",
    "builtin_function_or_method",
    "instance",
    "_Feature"
   ],
   "window_display": false
  }
 },
 "nbformat": 4,
 "nbformat_minor": 5
}
